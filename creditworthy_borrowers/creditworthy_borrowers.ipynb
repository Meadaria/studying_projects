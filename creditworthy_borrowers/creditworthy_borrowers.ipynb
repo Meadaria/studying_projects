{
 "cells": [
  {
   "cell_type": "markdown",
   "metadata": {},
   "source": [
    "## Получение данных"
   ]
  },
  {
   "cell_type": "markdown",
   "metadata": {},
   "source": [
    "### Импорт библиотек"
   ]
  },
  {
   "cell_type": "code",
   "execution_count": 1,
   "metadata": {},
   "outputs": [],
   "source": [
    "import pandas as pd # <импорт библиотеки pandas>\n",
    "from pymystem3 import Mystem"
   ]
  },
  {
   "cell_type": "markdown",
   "metadata": {},
   "source": [
    "    Прочитаем файл music_project.csv и сохраним его в переменной df."
   ]
  },
  {
   "cell_type": "code",
   "execution_count": 2,
   "metadata": {},
   "outputs": [],
   "source": [
    "df = pd.read_csv('/datasets/data.csv')# <чтение файла с данными с сохранением в df>"
   ]
  },
  {
   "cell_type": "markdown",
   "metadata": {},
   "source": [
    "    Получение первых 10 строк таблицы."
   ]
  },
  {
   "cell_type": "code",
   "execution_count": 3,
   "metadata": {},
   "outputs": [
    {
     "data": {
      "text/html": [
       "<div>\n",
       "<style scoped>\n",
       "    .dataframe tbody tr th:only-of-type {\n",
       "        vertical-align: middle;\n",
       "    }\n",
       "\n",
       "    .dataframe tbody tr th {\n",
       "        vertical-align: top;\n",
       "    }\n",
       "\n",
       "    .dataframe thead th {\n",
       "        text-align: right;\n",
       "    }\n",
       "</style>\n",
       "<table border=\"1\" class=\"dataframe\">\n",
       "  <thead>\n",
       "    <tr style=\"text-align: right;\">\n",
       "      <th></th>\n",
       "      <th>children</th>\n",
       "      <th>days_employed</th>\n",
       "      <th>dob_years</th>\n",
       "      <th>education</th>\n",
       "      <th>education_id</th>\n",
       "      <th>family_status</th>\n",
       "      <th>family_status_id</th>\n",
       "      <th>gender</th>\n",
       "      <th>income_type</th>\n",
       "      <th>debt</th>\n",
       "      <th>total_income</th>\n",
       "      <th>purpose</th>\n",
       "    </tr>\n",
       "  </thead>\n",
       "  <tbody>\n",
       "    <tr>\n",
       "      <td>0</td>\n",
       "      <td>1</td>\n",
       "      <td>-8437.673028</td>\n",
       "      <td>42</td>\n",
       "      <td>высшее</td>\n",
       "      <td>0</td>\n",
       "      <td>женат / замужем</td>\n",
       "      <td>0</td>\n",
       "      <td>F</td>\n",
       "      <td>сотрудник</td>\n",
       "      <td>0</td>\n",
       "      <td>253875.639453</td>\n",
       "      <td>покупка жилья</td>\n",
       "    </tr>\n",
       "    <tr>\n",
       "      <td>1</td>\n",
       "      <td>1</td>\n",
       "      <td>-4024.803754</td>\n",
       "      <td>36</td>\n",
       "      <td>среднее</td>\n",
       "      <td>1</td>\n",
       "      <td>женат / замужем</td>\n",
       "      <td>0</td>\n",
       "      <td>F</td>\n",
       "      <td>сотрудник</td>\n",
       "      <td>0</td>\n",
       "      <td>112080.014102</td>\n",
       "      <td>приобретение автомобиля</td>\n",
       "    </tr>\n",
       "    <tr>\n",
       "      <td>2</td>\n",
       "      <td>0</td>\n",
       "      <td>-5623.422610</td>\n",
       "      <td>33</td>\n",
       "      <td>Среднее</td>\n",
       "      <td>1</td>\n",
       "      <td>женат / замужем</td>\n",
       "      <td>0</td>\n",
       "      <td>M</td>\n",
       "      <td>сотрудник</td>\n",
       "      <td>0</td>\n",
       "      <td>145885.952297</td>\n",
       "      <td>покупка жилья</td>\n",
       "    </tr>\n",
       "    <tr>\n",
       "      <td>3</td>\n",
       "      <td>3</td>\n",
       "      <td>-4124.747207</td>\n",
       "      <td>32</td>\n",
       "      <td>среднее</td>\n",
       "      <td>1</td>\n",
       "      <td>женат / замужем</td>\n",
       "      <td>0</td>\n",
       "      <td>M</td>\n",
       "      <td>сотрудник</td>\n",
       "      <td>0</td>\n",
       "      <td>267628.550329</td>\n",
       "      <td>дополнительное образование</td>\n",
       "    </tr>\n",
       "    <tr>\n",
       "      <td>4</td>\n",
       "      <td>0</td>\n",
       "      <td>340266.072047</td>\n",
       "      <td>53</td>\n",
       "      <td>среднее</td>\n",
       "      <td>1</td>\n",
       "      <td>гражданский брак</td>\n",
       "      <td>1</td>\n",
       "      <td>F</td>\n",
       "      <td>пенсионер</td>\n",
       "      <td>0</td>\n",
       "      <td>158616.077870</td>\n",
       "      <td>сыграть свадьбу</td>\n",
       "    </tr>\n",
       "    <tr>\n",
       "      <td>5</td>\n",
       "      <td>0</td>\n",
       "      <td>-926.185831</td>\n",
       "      <td>27</td>\n",
       "      <td>высшее</td>\n",
       "      <td>0</td>\n",
       "      <td>гражданский брак</td>\n",
       "      <td>1</td>\n",
       "      <td>M</td>\n",
       "      <td>компаньон</td>\n",
       "      <td>0</td>\n",
       "      <td>255763.565419</td>\n",
       "      <td>покупка жилья</td>\n",
       "    </tr>\n",
       "    <tr>\n",
       "      <td>6</td>\n",
       "      <td>0</td>\n",
       "      <td>-2879.202052</td>\n",
       "      <td>43</td>\n",
       "      <td>высшее</td>\n",
       "      <td>0</td>\n",
       "      <td>женат / замужем</td>\n",
       "      <td>0</td>\n",
       "      <td>F</td>\n",
       "      <td>компаньон</td>\n",
       "      <td>0</td>\n",
       "      <td>240525.971920</td>\n",
       "      <td>операции с жильем</td>\n",
       "    </tr>\n",
       "    <tr>\n",
       "      <td>7</td>\n",
       "      <td>0</td>\n",
       "      <td>-152.779569</td>\n",
       "      <td>50</td>\n",
       "      <td>СРЕДНЕЕ</td>\n",
       "      <td>1</td>\n",
       "      <td>женат / замужем</td>\n",
       "      <td>0</td>\n",
       "      <td>M</td>\n",
       "      <td>сотрудник</td>\n",
       "      <td>0</td>\n",
       "      <td>135823.934197</td>\n",
       "      <td>образование</td>\n",
       "    </tr>\n",
       "    <tr>\n",
       "      <td>8</td>\n",
       "      <td>2</td>\n",
       "      <td>-6929.865299</td>\n",
       "      <td>35</td>\n",
       "      <td>ВЫСШЕЕ</td>\n",
       "      <td>0</td>\n",
       "      <td>гражданский брак</td>\n",
       "      <td>1</td>\n",
       "      <td>F</td>\n",
       "      <td>сотрудник</td>\n",
       "      <td>0</td>\n",
       "      <td>95856.832424</td>\n",
       "      <td>на проведение свадьбы</td>\n",
       "    </tr>\n",
       "    <tr>\n",
       "      <td>9</td>\n",
       "      <td>0</td>\n",
       "      <td>-2188.756445</td>\n",
       "      <td>41</td>\n",
       "      <td>среднее</td>\n",
       "      <td>1</td>\n",
       "      <td>женат / замужем</td>\n",
       "      <td>0</td>\n",
       "      <td>M</td>\n",
       "      <td>сотрудник</td>\n",
       "      <td>0</td>\n",
       "      <td>144425.938277</td>\n",
       "      <td>покупка жилья для семьи</td>\n",
       "    </tr>\n",
       "  </tbody>\n",
       "</table>\n",
       "</div>"
      ],
      "text/plain": [
       "   children  days_employed  dob_years education  education_id  \\\n",
       "0         1   -8437.673028         42    высшее             0   \n",
       "1         1   -4024.803754         36   среднее             1   \n",
       "2         0   -5623.422610         33   Среднее             1   \n",
       "3         3   -4124.747207         32   среднее             1   \n",
       "4         0  340266.072047         53   среднее             1   \n",
       "5         0    -926.185831         27    высшее             0   \n",
       "6         0   -2879.202052         43    высшее             0   \n",
       "7         0    -152.779569         50   СРЕДНЕЕ             1   \n",
       "8         2   -6929.865299         35    ВЫСШЕЕ             0   \n",
       "9         0   -2188.756445         41   среднее             1   \n",
       "\n",
       "      family_status  family_status_id gender income_type  debt   total_income  \\\n",
       "0   женат / замужем                 0      F   сотрудник     0  253875.639453   \n",
       "1   женат / замужем                 0      F   сотрудник     0  112080.014102   \n",
       "2   женат / замужем                 0      M   сотрудник     0  145885.952297   \n",
       "3   женат / замужем                 0      M   сотрудник     0  267628.550329   \n",
       "4  гражданский брак                 1      F   пенсионер     0  158616.077870   \n",
       "5  гражданский брак                 1      M   компаньон     0  255763.565419   \n",
       "6   женат / замужем                 0      F   компаньон     0  240525.971920   \n",
       "7   женат / замужем                 0      M   сотрудник     0  135823.934197   \n",
       "8  гражданский брак                 1      F   сотрудник     0   95856.832424   \n",
       "9   женат / замужем                 0      M   сотрудник     0  144425.938277   \n",
       "\n",
       "                      purpose  \n",
       "0               покупка жилья  \n",
       "1     приобретение автомобиля  \n",
       "2               покупка жилья  \n",
       "3  дополнительное образование  \n",
       "4             сыграть свадьбу  \n",
       "5               покупка жилья  \n",
       "6           операции с жильем  \n",
       "7                 образование  \n",
       "8       на проведение свадьбы  \n",
       "9     покупка жилья для семьи  "
      ]
     },
     "execution_count": 3,
     "metadata": {},
     "output_type": "execute_result"
    }
   ],
   "source": [
    "df.head(10) # <получение первых 10 строк таблицы df>"
   ]
  },
  {
   "cell_type": "markdown",
   "metadata": {},
   "source": [
    "    Общая информация о данных таблицы df."
   ]
  },
  {
   "cell_type": "code",
   "execution_count": 4,
   "metadata": {},
   "outputs": [
    {
     "name": "stdout",
     "output_type": "stream",
     "text": [
      "<class 'pandas.core.frame.DataFrame'>\n",
      "RangeIndex: 21525 entries, 0 to 21524\n",
      "Data columns (total 12 columns):\n",
      "children            21525 non-null int64\n",
      "days_employed       19351 non-null float64\n",
      "dob_years           21525 non-null int64\n",
      "education           21525 non-null object\n",
      "education_id        21525 non-null int64\n",
      "family_status       21525 non-null object\n",
      "family_status_id    21525 non-null int64\n",
      "gender              21525 non-null object\n",
      "income_type         21525 non-null object\n",
      "debt                21525 non-null int64\n",
      "total_income        19351 non-null float64\n",
      "purpose             21525 non-null object\n",
      "dtypes: float64(2), int64(5), object(5)\n",
      "memory usage: 2.0+ MB\n"
     ]
    }
   ],
   "source": [
    "df.info()# <получение общей информации о данных в таблице df>"
   ]
  },
  {
   "cell_type": "code",
   "execution_count": 5,
   "metadata": {},
   "outputs": [
    {
     "data": {
      "text/html": [
       "<div>\n",
       "<style scoped>\n",
       "    .dataframe tbody tr th:only-of-type {\n",
       "        vertical-align: middle;\n",
       "    }\n",
       "\n",
       "    .dataframe tbody tr th {\n",
       "        vertical-align: top;\n",
       "    }\n",
       "\n",
       "    .dataframe thead th {\n",
       "        text-align: right;\n",
       "    }\n",
       "</style>\n",
       "<table border=\"1\" class=\"dataframe\">\n",
       "  <thead>\n",
       "    <tr style=\"text-align: right;\">\n",
       "      <th></th>\n",
       "      <th>children</th>\n",
       "      <th>days_employed</th>\n",
       "      <th>dob_years</th>\n",
       "      <th>education_id</th>\n",
       "      <th>family_status_id</th>\n",
       "      <th>debt</th>\n",
       "      <th>total_income</th>\n",
       "    </tr>\n",
       "  </thead>\n",
       "  <tbody>\n",
       "    <tr>\n",
       "      <td>count</td>\n",
       "      <td>21525.000000</td>\n",
       "      <td>19351.000000</td>\n",
       "      <td>21525.000000</td>\n",
       "      <td>21525.000000</td>\n",
       "      <td>21525.000000</td>\n",
       "      <td>21525.000000</td>\n",
       "      <td>1.935100e+04</td>\n",
       "    </tr>\n",
       "    <tr>\n",
       "      <td>mean</td>\n",
       "      <td>0.538908</td>\n",
       "      <td>63046.497661</td>\n",
       "      <td>43.293380</td>\n",
       "      <td>0.817236</td>\n",
       "      <td>0.972544</td>\n",
       "      <td>0.080883</td>\n",
       "      <td>1.674223e+05</td>\n",
       "    </tr>\n",
       "    <tr>\n",
       "      <td>std</td>\n",
       "      <td>1.381587</td>\n",
       "      <td>140827.311974</td>\n",
       "      <td>12.574584</td>\n",
       "      <td>0.548138</td>\n",
       "      <td>1.420324</td>\n",
       "      <td>0.272661</td>\n",
       "      <td>1.029716e+05</td>\n",
       "    </tr>\n",
       "    <tr>\n",
       "      <td>min</td>\n",
       "      <td>-1.000000</td>\n",
       "      <td>-18388.949901</td>\n",
       "      <td>0.000000</td>\n",
       "      <td>0.000000</td>\n",
       "      <td>0.000000</td>\n",
       "      <td>0.000000</td>\n",
       "      <td>2.066726e+04</td>\n",
       "    </tr>\n",
       "    <tr>\n",
       "      <td>25%</td>\n",
       "      <td>0.000000</td>\n",
       "      <td>-2747.423625</td>\n",
       "      <td>33.000000</td>\n",
       "      <td>1.000000</td>\n",
       "      <td>0.000000</td>\n",
       "      <td>0.000000</td>\n",
       "      <td>1.030532e+05</td>\n",
       "    </tr>\n",
       "    <tr>\n",
       "      <td>50%</td>\n",
       "      <td>0.000000</td>\n",
       "      <td>-1203.369529</td>\n",
       "      <td>42.000000</td>\n",
       "      <td>1.000000</td>\n",
       "      <td>0.000000</td>\n",
       "      <td>0.000000</td>\n",
       "      <td>1.450179e+05</td>\n",
       "    </tr>\n",
       "    <tr>\n",
       "      <td>75%</td>\n",
       "      <td>1.000000</td>\n",
       "      <td>-291.095954</td>\n",
       "      <td>53.000000</td>\n",
       "      <td>1.000000</td>\n",
       "      <td>1.000000</td>\n",
       "      <td>0.000000</td>\n",
       "      <td>2.034351e+05</td>\n",
       "    </tr>\n",
       "    <tr>\n",
       "      <td>max</td>\n",
       "      <td>20.000000</td>\n",
       "      <td>401755.400475</td>\n",
       "      <td>75.000000</td>\n",
       "      <td>4.000000</td>\n",
       "      <td>4.000000</td>\n",
       "      <td>1.000000</td>\n",
       "      <td>2.265604e+06</td>\n",
       "    </tr>\n",
       "  </tbody>\n",
       "</table>\n",
       "</div>"
      ],
      "text/plain": [
       "           children  days_employed     dob_years  education_id  \\\n",
       "count  21525.000000   19351.000000  21525.000000  21525.000000   \n",
       "mean       0.538908   63046.497661     43.293380      0.817236   \n",
       "std        1.381587  140827.311974     12.574584      0.548138   \n",
       "min       -1.000000  -18388.949901      0.000000      0.000000   \n",
       "25%        0.000000   -2747.423625     33.000000      1.000000   \n",
       "50%        0.000000   -1203.369529     42.000000      1.000000   \n",
       "75%        1.000000    -291.095954     53.000000      1.000000   \n",
       "max       20.000000  401755.400475     75.000000      4.000000   \n",
       "\n",
       "       family_status_id          debt  total_income  \n",
       "count      21525.000000  21525.000000  1.935100e+04  \n",
       "mean           0.972544      0.080883  1.674223e+05  \n",
       "std            1.420324      0.272661  1.029716e+05  \n",
       "min            0.000000      0.000000  2.066726e+04  \n",
       "25%            0.000000      0.000000  1.030532e+05  \n",
       "50%            0.000000      0.000000  1.450179e+05  \n",
       "75%            1.000000      0.000000  2.034351e+05  \n",
       "max            4.000000      1.000000  2.265604e+06  "
      ]
     },
     "execution_count": 5,
     "metadata": {},
     "output_type": "execute_result"
    }
   ],
   "source": [
    "df.describe()"
   ]
  },
  {
   "cell_type": "markdown",
   "metadata": {},
   "source": [
    "**Вывод**"
   ]
  },
  {
   "cell_type": "markdown",
   "metadata": {},
   "source": [
    "Всего в таблице 12 столбцов, тип данных у каждого столбца - float64(2), int64(5), object(5).\n",
    "Количество значений в столбцах различается. Это говорит о том, что в данных есть пропущенные значения.\n",
    "Каждая строка таблицы содержит информацию о кредиторе: наличие детей, трудовой стаж и статус, возраст, семейный статус, пол, ежемесячный доход, образование, есть ли долг по кредиту и его цель. Обнаружены сл. проблемы: пропущенные значения в столбцах трудового стажа и дохода, разные регистры в столбце про образование.\n",
    "При статистическом осмотре через describe() былы выявлены пробдемы с отрицательными занчениями в кол-ве детей и трудовом стаже. Также значения в трудовом стаже слишком большие для подсчета в днях. В столбце с возрастом есть нуливые значения.\n",
    "Для анализа потребуются столбцы \"children\", \"family_status\", \"debt\", \"total_income\", \"purpose\"."
   ]
  },
  {
   "cell_type": "markdown",
   "metadata": {},
   "source": [
    "## Предобработка данных"
   ]
  },
  {
   "cell_type": "markdown",
   "metadata": {},
   "source": [
    "### Обработка пропусков"
   ]
  },
  {
   "cell_type": "code",
   "execution_count": 6,
   "metadata": {},
   "outputs": [
    {
     "data": {
      "text/html": [
       "<div>\n",
       "<style scoped>\n",
       "    .dataframe tbody tr th:only-of-type {\n",
       "        vertical-align: middle;\n",
       "    }\n",
       "\n",
       "    .dataframe tbody tr th {\n",
       "        vertical-align: top;\n",
       "    }\n",
       "\n",
       "    .dataframe thead th {\n",
       "        text-align: right;\n",
       "    }\n",
       "</style>\n",
       "<table border=\"1\" class=\"dataframe\">\n",
       "  <thead>\n",
       "    <tr style=\"text-align: right;\">\n",
       "      <th></th>\n",
       "      <th>children</th>\n",
       "      <th>days_employed</th>\n",
       "      <th>dob_years</th>\n",
       "      <th>education</th>\n",
       "      <th>education_id</th>\n",
       "      <th>family_status</th>\n",
       "      <th>family_status_id</th>\n",
       "      <th>gender</th>\n",
       "      <th>income_type</th>\n",
       "      <th>debt</th>\n",
       "      <th>total_income</th>\n",
       "      <th>purpose</th>\n",
       "    </tr>\n",
       "  </thead>\n",
       "  <tbody>\n",
       "    <tr>\n",
       "      <td>0</td>\n",
       "      <td>1</td>\n",
       "      <td>8437.673028</td>\n",
       "      <td>42</td>\n",
       "      <td>высшее</td>\n",
       "      <td>0</td>\n",
       "      <td>женат / замужем</td>\n",
       "      <td>0</td>\n",
       "      <td>F</td>\n",
       "      <td>сотрудник</td>\n",
       "      <td>0</td>\n",
       "      <td>253875.639453</td>\n",
       "      <td>покупка жилья</td>\n",
       "    </tr>\n",
       "    <tr>\n",
       "      <td>1</td>\n",
       "      <td>1</td>\n",
       "      <td>4024.803754</td>\n",
       "      <td>36</td>\n",
       "      <td>среднее</td>\n",
       "      <td>1</td>\n",
       "      <td>женат / замужем</td>\n",
       "      <td>0</td>\n",
       "      <td>F</td>\n",
       "      <td>сотрудник</td>\n",
       "      <td>0</td>\n",
       "      <td>112080.014102</td>\n",
       "      <td>приобретение автомобиля</td>\n",
       "    </tr>\n",
       "    <tr>\n",
       "      <td>2</td>\n",
       "      <td>0</td>\n",
       "      <td>5623.422610</td>\n",
       "      <td>33</td>\n",
       "      <td>Среднее</td>\n",
       "      <td>1</td>\n",
       "      <td>женат / замужем</td>\n",
       "      <td>0</td>\n",
       "      <td>M</td>\n",
       "      <td>сотрудник</td>\n",
       "      <td>0</td>\n",
       "      <td>145885.952297</td>\n",
       "      <td>покупка жилья</td>\n",
       "    </tr>\n",
       "    <tr>\n",
       "      <td>3</td>\n",
       "      <td>3</td>\n",
       "      <td>4124.747207</td>\n",
       "      <td>32</td>\n",
       "      <td>среднее</td>\n",
       "      <td>1</td>\n",
       "      <td>женат / замужем</td>\n",
       "      <td>0</td>\n",
       "      <td>M</td>\n",
       "      <td>сотрудник</td>\n",
       "      <td>0</td>\n",
       "      <td>267628.550329</td>\n",
       "      <td>дополнительное образование</td>\n",
       "    </tr>\n",
       "    <tr>\n",
       "      <td>4</td>\n",
       "      <td>0</td>\n",
       "      <td>340266.072047</td>\n",
       "      <td>53</td>\n",
       "      <td>среднее</td>\n",
       "      <td>1</td>\n",
       "      <td>гражданский брак</td>\n",
       "      <td>1</td>\n",
       "      <td>F</td>\n",
       "      <td>пенсионер</td>\n",
       "      <td>0</td>\n",
       "      <td>158616.077870</td>\n",
       "      <td>сыграть свадьбу</td>\n",
       "    </tr>\n",
       "    <tr>\n",
       "      <td>5</td>\n",
       "      <td>0</td>\n",
       "      <td>926.185831</td>\n",
       "      <td>27</td>\n",
       "      <td>высшее</td>\n",
       "      <td>0</td>\n",
       "      <td>гражданский брак</td>\n",
       "      <td>1</td>\n",
       "      <td>M</td>\n",
       "      <td>компаньон</td>\n",
       "      <td>0</td>\n",
       "      <td>255763.565419</td>\n",
       "      <td>покупка жилья</td>\n",
       "    </tr>\n",
       "    <tr>\n",
       "      <td>6</td>\n",
       "      <td>0</td>\n",
       "      <td>2879.202052</td>\n",
       "      <td>43</td>\n",
       "      <td>высшее</td>\n",
       "      <td>0</td>\n",
       "      <td>женат / замужем</td>\n",
       "      <td>0</td>\n",
       "      <td>F</td>\n",
       "      <td>компаньон</td>\n",
       "      <td>0</td>\n",
       "      <td>240525.971920</td>\n",
       "      <td>операции с жильем</td>\n",
       "    </tr>\n",
       "    <tr>\n",
       "      <td>7</td>\n",
       "      <td>0</td>\n",
       "      <td>152.779569</td>\n",
       "      <td>50</td>\n",
       "      <td>СРЕДНЕЕ</td>\n",
       "      <td>1</td>\n",
       "      <td>женат / замужем</td>\n",
       "      <td>0</td>\n",
       "      <td>M</td>\n",
       "      <td>сотрудник</td>\n",
       "      <td>0</td>\n",
       "      <td>135823.934197</td>\n",
       "      <td>образование</td>\n",
       "    </tr>\n",
       "    <tr>\n",
       "      <td>8</td>\n",
       "      <td>2</td>\n",
       "      <td>6929.865299</td>\n",
       "      <td>35</td>\n",
       "      <td>ВЫСШЕЕ</td>\n",
       "      <td>0</td>\n",
       "      <td>гражданский брак</td>\n",
       "      <td>1</td>\n",
       "      <td>F</td>\n",
       "      <td>сотрудник</td>\n",
       "      <td>0</td>\n",
       "      <td>95856.832424</td>\n",
       "      <td>на проведение свадьбы</td>\n",
       "    </tr>\n",
       "    <tr>\n",
       "      <td>9</td>\n",
       "      <td>0</td>\n",
       "      <td>2188.756445</td>\n",
       "      <td>41</td>\n",
       "      <td>среднее</td>\n",
       "      <td>1</td>\n",
       "      <td>женат / замужем</td>\n",
       "      <td>0</td>\n",
       "      <td>M</td>\n",
       "      <td>сотрудник</td>\n",
       "      <td>0</td>\n",
       "      <td>144425.938277</td>\n",
       "      <td>покупка жилья для семьи</td>\n",
       "    </tr>\n",
       "  </tbody>\n",
       "</table>\n",
       "</div>"
      ],
      "text/plain": [
       "   children  days_employed  dob_years education  education_id  \\\n",
       "0         1    8437.673028         42    высшее             0   \n",
       "1         1    4024.803754         36   среднее             1   \n",
       "2         0    5623.422610         33   Среднее             1   \n",
       "3         3    4124.747207         32   среднее             1   \n",
       "4         0  340266.072047         53   среднее             1   \n",
       "5         0     926.185831         27    высшее             0   \n",
       "6         0    2879.202052         43    высшее             0   \n",
       "7         0     152.779569         50   СРЕДНЕЕ             1   \n",
       "8         2    6929.865299         35    ВЫСШЕЕ             0   \n",
       "9         0    2188.756445         41   среднее             1   \n",
       "\n",
       "      family_status  family_status_id gender income_type  debt   total_income  \\\n",
       "0   женат / замужем                 0      F   сотрудник     0  253875.639453   \n",
       "1   женат / замужем                 0      F   сотрудник     0  112080.014102   \n",
       "2   женат / замужем                 0      M   сотрудник     0  145885.952297   \n",
       "3   женат / замужем                 0      M   сотрудник     0  267628.550329   \n",
       "4  гражданский брак                 1      F   пенсионер     0  158616.077870   \n",
       "5  гражданский брак                 1      M   компаньон     0  255763.565419   \n",
       "6   женат / замужем                 0      F   компаньон     0  240525.971920   \n",
       "7   женат / замужем                 0      M   сотрудник     0  135823.934197   \n",
       "8  гражданский брак                 1      F   сотрудник     0   95856.832424   \n",
       "9   женат / замужем                 0      M   сотрудник     0  144425.938277   \n",
       "\n",
       "                      purpose  \n",
       "0               покупка жилья  \n",
       "1     приобретение автомобиля  \n",
       "2               покупка жилья  \n",
       "3  дополнительное образование  \n",
       "4             сыграть свадьбу  \n",
       "5               покупка жилья  \n",
       "6           операции с жильем  \n",
       "7                 образование  \n",
       "8       на проведение свадьбы  \n",
       "9     покупка жилья для семьи  "
      ]
     },
     "execution_count": 6,
     "metadata": {},
     "output_type": "execute_result"
    }
   ],
   "source": [
    "df.isnull().sum() # <суммарное количество пропусков, выявленных методом isnull() в таблице df\n",
    "\n",
    "df['gender'].value_counts() #проверка уникальных значений \n",
    "df['gender'] = df['gender'].replace('XNA', 'F') #замена на наиболее популярный пол\n",
    "\n",
    "df['total_income'] = df['total_income'].fillna(df.groupby('income_type')['total_income'].transform('mean'))\n",
    "\n",
    "df['dob_years'] = df.groupby('family_status')['dob_years'].transform(lambda x: x.replace(0, int(x.median())))\n",
    "\n",
    "df['days_employed'] = abs(df['days_employed']) #приведение значений к абсолютному\n",
    "\n",
    "med_days_employed = df.groupby('dob_years')['days_employed'].transform('median') # переменные по медиане возраста\n",
    "df['days_employed'] = df['days_employed'].fillna(med_days_employed) #заменяем пропуски медианой по каждой группе\n",
    "df.isnull().sum()\n",
    "df.head(10)\n"
   ]
  },
  {
   "cell_type": "markdown",
   "metadata": {},
   "source": [
    "**Вывод**"
   ]
  },
  {
   "cell_type": "markdown",
   "metadata": {},
   "source": [
    "Данные в столбцах \"days_employed\" и \"total_income\" могли быть пропущены как из-за технических ошибок, так и из-за человеческих факторов. Причем данных нет в одних и тех же строках в разных столбцах. Так как из столбца \"days_employed\" видно, что выгрузка была из разных источников, могло быть такое, что в каком-то из них изначально не было информации о стаже и доходах. \n",
    "В столбце с данными о поле некорректные занчения были заменены на наиболее популярный пол. \n",
    "Нулевые значения в столбце \"dob_years\" были заполнены на медианные, сгруппрированной по семейному статусу.\n",
    "Пропущенные значения в доходах заменены на медианный доход, основываясь на типе занятости.\n",
    "Отрицательные значения в трудовом стаже быои вощвращены в абсолютное значение по модулю abs(). "
   ]
  },
  {
   "cell_type": "markdown",
   "metadata": {},
   "source": [
    "### Замена типа данных"
   ]
  },
  {
   "cell_type": "code",
   "execution_count": 8,
   "metadata": {},
   "outputs": [
    {
     "name": "stdout",
     "output_type": "stream",
     "text": [
      "<class 'pandas.core.frame.DataFrame'>\n",
      "RangeIndex: 21525 entries, 0 to 21524\n",
      "Data columns (total 12 columns):\n",
      "children            21525 non-null int64\n",
      "days_employed       21525 non-null int64\n",
      "dob_years           21525 non-null int64\n",
      "education           21525 non-null object\n",
      "education_id        21525 non-null int64\n",
      "family_status       21525 non-null object\n",
      "family_status_id    21525 non-null int64\n",
      "gender              21525 non-null object\n",
      "income_type         21525 non-null object\n",
      "debt                21525 non-null int64\n",
      "total_income        21525 non-null int64\n",
      "purpose             21525 non-null object\n",
      "dtypes: int64(7), object(5)\n",
      "memory usage: 2.0+ MB\n"
     ]
    },
    {
     "data": {
      "text/html": [
       "<div>\n",
       "<style scoped>\n",
       "    .dataframe tbody tr th:only-of-type {\n",
       "        vertical-align: middle;\n",
       "    }\n",
       "\n",
       "    .dataframe tbody tr th {\n",
       "        vertical-align: top;\n",
       "    }\n",
       "\n",
       "    .dataframe thead th {\n",
       "        text-align: right;\n",
       "    }\n",
       "</style>\n",
       "<table border=\"1\" class=\"dataframe\">\n",
       "  <thead>\n",
       "    <tr style=\"text-align: right;\">\n",
       "      <th></th>\n",
       "      <th>children</th>\n",
       "      <th>days_employed</th>\n",
       "      <th>dob_years</th>\n",
       "      <th>education</th>\n",
       "      <th>education_id</th>\n",
       "      <th>family_status</th>\n",
       "      <th>family_status_id</th>\n",
       "      <th>gender</th>\n",
       "      <th>income_type</th>\n",
       "      <th>debt</th>\n",
       "      <th>total_income</th>\n",
       "      <th>purpose</th>\n",
       "    </tr>\n",
       "  </thead>\n",
       "  <tbody>\n",
       "    <tr>\n",
       "      <td>0</td>\n",
       "      <td>1</td>\n",
       "      <td>8437</td>\n",
       "      <td>42</td>\n",
       "      <td>высшее</td>\n",
       "      <td>0</td>\n",
       "      <td>женат / замужем</td>\n",
       "      <td>0</td>\n",
       "      <td>F</td>\n",
       "      <td>сотрудник</td>\n",
       "      <td>0</td>\n",
       "      <td>253875</td>\n",
       "      <td>покупка жилья</td>\n",
       "    </tr>\n",
       "    <tr>\n",
       "      <td>1</td>\n",
       "      <td>1</td>\n",
       "      <td>4024</td>\n",
       "      <td>36</td>\n",
       "      <td>среднее</td>\n",
       "      <td>1</td>\n",
       "      <td>женат / замужем</td>\n",
       "      <td>0</td>\n",
       "      <td>F</td>\n",
       "      <td>сотрудник</td>\n",
       "      <td>0</td>\n",
       "      <td>112080</td>\n",
       "      <td>приобретение автомобиля</td>\n",
       "    </tr>\n",
       "    <tr>\n",
       "      <td>2</td>\n",
       "      <td>0</td>\n",
       "      <td>5623</td>\n",
       "      <td>33</td>\n",
       "      <td>Среднее</td>\n",
       "      <td>1</td>\n",
       "      <td>женат / замужем</td>\n",
       "      <td>0</td>\n",
       "      <td>M</td>\n",
       "      <td>сотрудник</td>\n",
       "      <td>0</td>\n",
       "      <td>145885</td>\n",
       "      <td>покупка жилья</td>\n",
       "    </tr>\n",
       "    <tr>\n",
       "      <td>3</td>\n",
       "      <td>3</td>\n",
       "      <td>4124</td>\n",
       "      <td>32</td>\n",
       "      <td>среднее</td>\n",
       "      <td>1</td>\n",
       "      <td>женат / замужем</td>\n",
       "      <td>0</td>\n",
       "      <td>M</td>\n",
       "      <td>сотрудник</td>\n",
       "      <td>0</td>\n",
       "      <td>267628</td>\n",
       "      <td>дополнительное образование</td>\n",
       "    </tr>\n",
       "    <tr>\n",
       "      <td>4</td>\n",
       "      <td>0</td>\n",
       "      <td>340266</td>\n",
       "      <td>53</td>\n",
       "      <td>среднее</td>\n",
       "      <td>1</td>\n",
       "      <td>гражданский брак</td>\n",
       "      <td>1</td>\n",
       "      <td>F</td>\n",
       "      <td>пенсионер</td>\n",
       "      <td>0</td>\n",
       "      <td>158616</td>\n",
       "      <td>сыграть свадьбу</td>\n",
       "    </tr>\n",
       "  </tbody>\n",
       "</table>\n",
       "</div>"
      ],
      "text/plain": [
       "   children  days_employed  dob_years education  education_id  \\\n",
       "0         1           8437         42    высшее             0   \n",
       "1         1           4024         36   среднее             1   \n",
       "2         0           5623         33   Среднее             1   \n",
       "3         3           4124         32   среднее             1   \n",
       "4         0         340266         53   среднее             1   \n",
       "\n",
       "      family_status  family_status_id gender income_type  debt  total_income  \\\n",
       "0   женат / замужем                 0      F   сотрудник     0        253875   \n",
       "1   женат / замужем                 0      F   сотрудник     0        112080   \n",
       "2   женат / замужем                 0      M   сотрудник     0        145885   \n",
       "3   женат / замужем                 0      M   сотрудник     0        267628   \n",
       "4  гражданский брак                 1      F   пенсионер     0        158616   \n",
       "\n",
       "                      purpose  \n",
       "0               покупка жилья  \n",
       "1     приобретение автомобиля  \n",
       "2               покупка жилья  \n",
       "3  дополнительное образование  \n",
       "4             сыграть свадьбу  "
      ]
     },
     "execution_count": 8,
     "metadata": {},
     "output_type": "execute_result"
    }
   ],
   "source": [
    "erorr=0\n",
    "try:\n",
    "    df['total_income'] = df['total_income'].astype('int') # замена типа данных на целостной\n",
    "    df['days_employed'] = df['days_employed'].astype('int')\n",
    "except:\n",
    "    erorr+=1\n",
    "df.info()\n",
    "df.head()"
   ]
  },
  {
   "cell_type": "markdown",
   "metadata": {},
   "source": [
    "**Вывод**"
   ]
  },
  {
   "cell_type": "markdown",
   "metadata": {},
   "source": [
    "Данные в столбце \"total_income\" были переведены в целые числа при помощи astype(), т.к. при измерении ежемесячного дохода копейками можно пренебречь. Данные были преобразованы с использованием конструкции try-except и метода astype(), т.к. метод to_numeric() преобразовывает данные в float."
   ]
  },
  {
   "cell_type": "markdown",
   "metadata": {},
   "source": [
    "### Обработка дубликатов"
   ]
  },
  {
   "cell_type": "code",
   "execution_count": 9,
   "metadata": {},
   "outputs": [],
   "source": [
    "df.duplicated().sum() # получение суммарного количества дубликатов в таблице df\n",
    "df = df.drop_duplicates().reset_index(drop=True)  # удаление всех дубликатов из таблицы df специальным методом\n",
    "#df.duplicated().sum()# проверка на отсутствие полных дублей\n",
    "\n",
    "df['children'].value_counts() #поиск уникальных значений в столбце 'children'\n",
    "df['children'] = df['children'].replace(-1, 1) #замена значения -1 на 1 \n",
    "df = df[df['children'] != 20] #удаление строк, где 20 детей\n",
    "#df['children'].value_counts() #проверка результата\n",
    "\n",
    "df['education'].value_counts() #поиск уникальных значений в столбце 'education'\n",
    "df['education'] = df['education'].str.lower() #приведение к нижнему регистру\n",
    "#df['education'].value_counts()#проверка результата\n",
    "\n",
    "df['family_status'].value_counts() #поиск уникальных значений в столбце 'family_status'\n",
    "df['family_status'] = df['family_status'].str.lower() #приведение к нижнему регистру\n",
    "#df['family_status'].value_counts()#проверка результата\n",
    "\n",
    "df['purpose'].unique() #выделение основных причин взятия кредита\n",
    "df['purpose'] = df['purpose'].replace(43, 'другое')\n",
    "df['purpose'] = df['purpose'].replace(46, 'другое')\n",
    "df['purpose'] = df['purpose'].replace(36, 'другое')\n",
    "df['purpose'] = df['purpose'].replace(58, 'другое')\n",
    "df['purpose'] = df['purpose'].replace(41, 'другое')\n",
    "df['purpose'].unique()\n",
    "\n",
    "df.duplicated().sum() # получение суммарного количества дубликатов в таблице df\n",
    "df = df.drop_duplicates().reset_index(drop=True)  # удаление всех дубликатов из таблицы df специальным методом"
   ]
  },
  {
   "cell_type": "markdown",
   "metadata": {},
   "source": [
    "**Вывод**"
   ]
  },
  {
   "cell_type": "markdown",
   "metadata": {},
   "source": [
    "Обнаружены полные дубликаты, которые могли появиться как вследствие сбоя в записи данных, так и из-за того, что данные были собраны из разных источников. Использовался метод duplicated() для удаления полных дублей. Методом value_counts() были найдены значения в столбцах 'children', 'family_status' и 'education'. В столбце 'children' были найдены артефакты: отрицательное кол-во детей и люди с 20 детьми. Отрицательное кол-во детей было заменено на положительное методом replace(), т.к. это техническая ошибка при выгрузке. Строки, где указано 20 детей были удалены, т.к. нет четкой информации, что там должно стоять \"0\", \"2\" или \"20\". Все значения в столбце с информацией об образовании и семейном статусе были приведены к нижнему регистру методом str.lower(). Были заменены числовые значения в столбце с целями кредита на \"другое\"."
   ]
  },
  {
   "cell_type": "markdown",
   "metadata": {},
   "source": [
    "### Лемматизация"
   ]
  },
  {
   "cell_type": "code",
   "execution_count": 10,
   "metadata": {},
   "outputs": [
    {
     "data": {
      "text/html": [
       "<div>\n",
       "<style scoped>\n",
       "    .dataframe tbody tr th:only-of-type {\n",
       "        vertical-align: middle;\n",
       "    }\n",
       "\n",
       "    .dataframe tbody tr th {\n",
       "        vertical-align: top;\n",
       "    }\n",
       "\n",
       "    .dataframe thead th {\n",
       "        text-align: right;\n",
       "    }\n",
       "</style>\n",
       "<table border=\"1\" class=\"dataframe\">\n",
       "  <thead>\n",
       "    <tr style=\"text-align: right;\">\n",
       "      <th></th>\n",
       "      <th>children</th>\n",
       "      <th>days_employed</th>\n",
       "      <th>dob_years</th>\n",
       "      <th>education</th>\n",
       "      <th>education_id</th>\n",
       "      <th>family_status</th>\n",
       "      <th>family_status_id</th>\n",
       "      <th>gender</th>\n",
       "      <th>income_type</th>\n",
       "      <th>debt</th>\n",
       "      <th>total_income</th>\n",
       "      <th>purpose</th>\n",
       "      <th>lem_purpose</th>\n",
       "    </tr>\n",
       "  </thead>\n",
       "  <tbody>\n",
       "    <tr>\n",
       "      <td>0</td>\n",
       "      <td>1</td>\n",
       "      <td>8437</td>\n",
       "      <td>42</td>\n",
       "      <td>высшее</td>\n",
       "      <td>0</td>\n",
       "      <td>женат / замужем</td>\n",
       "      <td>0</td>\n",
       "      <td>F</td>\n",
       "      <td>сотрудник</td>\n",
       "      <td>0</td>\n",
       "      <td>253875</td>\n",
       "      <td>покупка жилья</td>\n",
       "      <td>недвижимость</td>\n",
       "    </tr>\n",
       "    <tr>\n",
       "      <td>1</td>\n",
       "      <td>1</td>\n",
       "      <td>4024</td>\n",
       "      <td>36</td>\n",
       "      <td>среднее</td>\n",
       "      <td>1</td>\n",
       "      <td>женат / замужем</td>\n",
       "      <td>0</td>\n",
       "      <td>F</td>\n",
       "      <td>сотрудник</td>\n",
       "      <td>0</td>\n",
       "      <td>112080</td>\n",
       "      <td>приобретение автомобиля</td>\n",
       "      <td>автомобиль</td>\n",
       "    </tr>\n",
       "    <tr>\n",
       "      <td>2</td>\n",
       "      <td>0</td>\n",
       "      <td>5623</td>\n",
       "      <td>33</td>\n",
       "      <td>среднее</td>\n",
       "      <td>1</td>\n",
       "      <td>женат / замужем</td>\n",
       "      <td>0</td>\n",
       "      <td>M</td>\n",
       "      <td>сотрудник</td>\n",
       "      <td>0</td>\n",
       "      <td>145885</td>\n",
       "      <td>покупка жилья</td>\n",
       "      <td>недвижимость</td>\n",
       "    </tr>\n",
       "    <tr>\n",
       "      <td>3</td>\n",
       "      <td>3</td>\n",
       "      <td>4124</td>\n",
       "      <td>32</td>\n",
       "      <td>среднее</td>\n",
       "      <td>1</td>\n",
       "      <td>женат / замужем</td>\n",
       "      <td>0</td>\n",
       "      <td>M</td>\n",
       "      <td>сотрудник</td>\n",
       "      <td>0</td>\n",
       "      <td>267628</td>\n",
       "      <td>дополнительное образование</td>\n",
       "      <td>образование</td>\n",
       "    </tr>\n",
       "    <tr>\n",
       "      <td>4</td>\n",
       "      <td>0</td>\n",
       "      <td>340266</td>\n",
       "      <td>53</td>\n",
       "      <td>среднее</td>\n",
       "      <td>1</td>\n",
       "      <td>гражданский брак</td>\n",
       "      <td>1</td>\n",
       "      <td>F</td>\n",
       "      <td>пенсионер</td>\n",
       "      <td>0</td>\n",
       "      <td>158616</td>\n",
       "      <td>сыграть свадьбу</td>\n",
       "      <td>свадьба</td>\n",
       "    </tr>\n",
       "    <tr>\n",
       "      <td>5</td>\n",
       "      <td>0</td>\n",
       "      <td>926</td>\n",
       "      <td>27</td>\n",
       "      <td>высшее</td>\n",
       "      <td>0</td>\n",
       "      <td>гражданский брак</td>\n",
       "      <td>1</td>\n",
       "      <td>M</td>\n",
       "      <td>компаньон</td>\n",
       "      <td>0</td>\n",
       "      <td>255763</td>\n",
       "      <td>покупка жилья</td>\n",
       "      <td>недвижимость</td>\n",
       "    </tr>\n",
       "    <tr>\n",
       "      <td>6</td>\n",
       "      <td>0</td>\n",
       "      <td>2879</td>\n",
       "      <td>43</td>\n",
       "      <td>высшее</td>\n",
       "      <td>0</td>\n",
       "      <td>женат / замужем</td>\n",
       "      <td>0</td>\n",
       "      <td>F</td>\n",
       "      <td>компаньон</td>\n",
       "      <td>0</td>\n",
       "      <td>240525</td>\n",
       "      <td>операции с жильем</td>\n",
       "      <td>недвижимость</td>\n",
       "    </tr>\n",
       "    <tr>\n",
       "      <td>7</td>\n",
       "      <td>0</td>\n",
       "      <td>152</td>\n",
       "      <td>50</td>\n",
       "      <td>среднее</td>\n",
       "      <td>1</td>\n",
       "      <td>женат / замужем</td>\n",
       "      <td>0</td>\n",
       "      <td>M</td>\n",
       "      <td>сотрудник</td>\n",
       "      <td>0</td>\n",
       "      <td>135823</td>\n",
       "      <td>образование</td>\n",
       "      <td>образование</td>\n",
       "    </tr>\n",
       "    <tr>\n",
       "      <td>8</td>\n",
       "      <td>2</td>\n",
       "      <td>6929</td>\n",
       "      <td>35</td>\n",
       "      <td>высшее</td>\n",
       "      <td>0</td>\n",
       "      <td>гражданский брак</td>\n",
       "      <td>1</td>\n",
       "      <td>F</td>\n",
       "      <td>сотрудник</td>\n",
       "      <td>0</td>\n",
       "      <td>95856</td>\n",
       "      <td>на проведение свадьбы</td>\n",
       "      <td>свадьба</td>\n",
       "    </tr>\n",
       "    <tr>\n",
       "      <td>9</td>\n",
       "      <td>0</td>\n",
       "      <td>2188</td>\n",
       "      <td>41</td>\n",
       "      <td>среднее</td>\n",
       "      <td>1</td>\n",
       "      <td>женат / замужем</td>\n",
       "      <td>0</td>\n",
       "      <td>M</td>\n",
       "      <td>сотрудник</td>\n",
       "      <td>0</td>\n",
       "      <td>144425</td>\n",
       "      <td>покупка жилья для семьи</td>\n",
       "      <td>недвижимость</td>\n",
       "    </tr>\n",
       "  </tbody>\n",
       "</table>\n",
       "</div>"
      ],
      "text/plain": [
       "   children  days_employed  dob_years education  education_id  \\\n",
       "0         1           8437         42    высшее             0   \n",
       "1         1           4024         36   среднее             1   \n",
       "2         0           5623         33   среднее             1   \n",
       "3         3           4124         32   среднее             1   \n",
       "4         0         340266         53   среднее             1   \n",
       "5         0            926         27    высшее             0   \n",
       "6         0           2879         43    высшее             0   \n",
       "7         0            152         50   среднее             1   \n",
       "8         2           6929         35    высшее             0   \n",
       "9         0           2188         41   среднее             1   \n",
       "\n",
       "      family_status  family_status_id gender income_type  debt  total_income  \\\n",
       "0   женат / замужем                 0      F   сотрудник     0        253875   \n",
       "1   женат / замужем                 0      F   сотрудник     0        112080   \n",
       "2   женат / замужем                 0      M   сотрудник     0        145885   \n",
       "3   женат / замужем                 0      M   сотрудник     0        267628   \n",
       "4  гражданский брак                 1      F   пенсионер     0        158616   \n",
       "5  гражданский брак                 1      M   компаньон     0        255763   \n",
       "6   женат / замужем                 0      F   компаньон     0        240525   \n",
       "7   женат / замужем                 0      M   сотрудник     0        135823   \n",
       "8  гражданский брак                 1      F   сотрудник     0         95856   \n",
       "9   женат / замужем                 0      M   сотрудник     0        144425   \n",
       "\n",
       "                      purpose   lem_purpose  \n",
       "0               покупка жилья  недвижимость  \n",
       "1     приобретение автомобиля    автомобиль  \n",
       "2               покупка жилья  недвижимость  \n",
       "3  дополнительное образование   образование  \n",
       "4             сыграть свадьбу       свадьба  \n",
       "5               покупка жилья  недвижимость  \n",
       "6           операции с жильем  недвижимость  \n",
       "7                 образование   образование  \n",
       "8       на проведение свадьбы       свадьба  \n",
       "9     покупка жилья для семьи  недвижимость  "
      ]
     },
     "execution_count": 10,
     "metadata": {},
     "output_type": "execute_result"
    }
   ],
   "source": [
    "df['purpose'].unique() #выделение основных причин взятия кредита\n",
    "\n",
    "\n",
    "m = Mystem()\n",
    "def create_category_purpose(row): \n",
    "''' постороение функции для лемматизации столбца \"purpose\"\n",
    "\n",
    "в качестве аргусента принимает название столбца, в котором нужно сделать лемматищацию,\n",
    "а выдает новый столбец, разделенный на новые категории\n",
    "'''\n",
    "    lem_purpose = m.lemmatize(row['purpose'])\n",
    "    if 'недвижимость' in lem_purpose:\n",
    "        return 'недвижимость'\n",
    "    if 'образование' in lem_purpose:\n",
    "        return 'образование'\n",
    "    if 'жилье'  in lem_purpose:\n",
    "        return 'недвижимость'\n",
    "    if 'автомобиль'  in lem_purpose:\n",
    "        return 'автомобиль'\n",
    "    if 'свадьба'  in lem_purpose:\n",
    "        return 'свадьба'\n",
    "    if 'другое'  in lem_purpose:\n",
    "        return 'другое'\n",
    "        \n",
    "df['lem_purpose'] = df.apply(create_category_purpose, axis=1) #применение функции к данным\n",
    "df.head(10)"
   ]
  },
  {
   "cell_type": "markdown",
   "metadata": {},
   "source": [
    "**Вывод**"
   ]
  },
  {
   "cell_type": "markdown",
   "metadata": {},
   "source": [
    "Сначала методом unique() были найдены уникальные значения для столбца 'purpose'. Цели кредита были лемматизированыи и распределены по сл. категориям:недвижимость, образование, недвижимость, автомобиль и свадьба. Использовалась библиотека  pymystem3. Для удобства была создана функция, которая прописывала одну из категорий в зависимости от леммы."
   ]
  },
  {
   "cell_type": "markdown",
   "metadata": {},
   "source": [
    "### Категоризация данных"
   ]
  },
  {
   "cell_type": "code",
   "execution_count": 11,
   "metadata": {},
   "outputs": [],
   "source": [
    "\n",
    "def children_group(children):\n",
    "    if children == 0:\n",
    "        return 'бездетный/ая'\n",
    "    if 1<= children <= 2:\n",
    "        return 'малодетный/ая'\n",
    "    return 'многодетный/ая'\n",
    "\n",
    "df['income_group'] = pd.qcut(df['total_income'], q = 4, labels = ['низкий', 'средний', 'выше среднего', 'высокий'])\n",
    "\n",
    "\n",
    "df['children_group'] = df['children'].apply(children_group)\n",
    "df_family_status = df[['family_status', 'debt']]\n",
    "df_children = df[['children_group', 'debt']]\n",
    "df_income = df[['income_group', 'debt']]\n",
    "df_purpose = df[['lem_purpose', 'debt']]"
   ]
  },
  {
   "cell_type": "markdown",
   "metadata": {},
   "source": [
    "**Вывод**"
   ]
  },
  {
   "cell_type": "raw",
   "metadata": {},
   "source": [
    "Данные в столбцах 'children' и 'income_group' были классифицированы на группы. Столбец 'children' - на сл. категории 'бездетный/ая', 'малодетный/ая' и 'многодетный/ая'. Доход был классифицирован опираться на квартили распределения: до 1 квартиля (25%) — низкий доход, между 1 и мединой(2 квартиль) тоже будет 25% — средний доход, от медианы до 3 квартиля (25%) — выше среднего, а все что дальше 3 квартиля — высокий доход.\n",
    "Далее были созданы словари df_family_status, df_children, df_income, df_purpose. "
   ]
  },
  {
   "cell_type": "markdown",
   "metadata": {},
   "source": [
    "## Ответьте на вопросы"
   ]
  },
  {
   "cell_type": "markdown",
   "metadata": {},
   "source": [
    "### Есть ли зависимость между наличием детей и возвратом кредита в срок?"
   ]
  },
  {
   "cell_type": "code",
   "execution_count": 12,
   "metadata": {},
   "outputs": [
    {
     "data": {
      "text/html": [
       "<div>\n",
       "<style scoped>\n",
       "    .dataframe tbody tr th:only-of-type {\n",
       "        vertical-align: middle;\n",
       "    }\n",
       "\n",
       "    .dataframe tbody tr th {\n",
       "        vertical-align: top;\n",
       "    }\n",
       "\n",
       "    .dataframe thead tr th {\n",
       "        text-align: left;\n",
       "    }\n",
       "\n",
       "    .dataframe thead tr:last-of-type th {\n",
       "        text-align: right;\n",
       "    }\n",
       "</style>\n",
       "<table border=\"1\" class=\"dataframe\">\n",
       "  <thead>\n",
       "    <tr>\n",
       "      <th></th>\n",
       "      <th colspan=\"2\" halign=\"left\">debt</th>\n",
       "      <th>children_result</th>\n",
       "    </tr>\n",
       "    <tr>\n",
       "      <th></th>\n",
       "      <th>count</th>\n",
       "      <th>sum</th>\n",
       "      <th></th>\n",
       "    </tr>\n",
       "    <tr>\n",
       "      <th>children_group</th>\n",
       "      <th></th>\n",
       "      <th></th>\n",
       "      <th></th>\n",
       "    </tr>\n",
       "  </thead>\n",
       "  <tbody>\n",
       "    <tr>\n",
       "      <td>бездетный/ая</td>\n",
       "      <td>14090</td>\n",
       "      <td>1063</td>\n",
       "      <td>0.075444</td>\n",
       "    </tr>\n",
       "    <tr>\n",
       "      <td>малодетный/ая</td>\n",
       "      <td>6907</td>\n",
       "      <td>639</td>\n",
       "      <td>0.092515</td>\n",
       "    </tr>\n",
       "    <tr>\n",
       "      <td>многодетный/ая</td>\n",
       "      <td>380</td>\n",
       "      <td>31</td>\n",
       "      <td>0.081579</td>\n",
       "    </tr>\n",
       "  </tbody>\n",
       "</table>\n",
       "</div>"
      ],
      "text/plain": [
       "                 debt       children_result\n",
       "                count   sum                \n",
       "children_group                             \n",
       "бездетный/ая    14090  1063        0.075444\n",
       "малодетный/ая    6907   639        0.092515\n",
       "многодетный/ая    380    31        0.081579"
      ]
     },
     "execution_count": 12,
     "metadata": {},
     "output_type": "execute_result"
    }
   ],
   "source": [
    "df_children = df_children.groupby(['children_group']).agg({'debt':['count','sum']})\n",
    "df_children['children_result'] = df_children['debt']['sum'] / df_children['debt']['count']\n",
    "df_children.head()"
   ]
  },
  {
   "cell_type": "markdown",
   "metadata": {},
   "source": [
    "**Вывод**"
   ]
  },
  {
   "cell_type": "markdown",
   "metadata": {},
   "source": [
    "Наблюдается определенная зависимость между наличием детей и выплатой кредита в срок. Люди без детей и многодетные имеют примерно одинаковый процент должников  - 8% и 7% соответственно. Между тем люди с одним или двумя детьми хуже закрывают кредиты, у них этот процент равен 9%."
   ]
  },
  {
   "cell_type": "markdown",
   "metadata": {},
   "source": [
    "### Есть ли зависимость между семейным положением и возвратом кредита в срок?"
   ]
  },
  {
   "cell_type": "code",
   "execution_count": 13,
   "metadata": {},
   "outputs": [
    {
     "data": {
      "text/html": [
       "<div>\n",
       "<style scoped>\n",
       "    .dataframe tbody tr th:only-of-type {\n",
       "        vertical-align: middle;\n",
       "    }\n",
       "\n",
       "    .dataframe tbody tr th {\n",
       "        vertical-align: top;\n",
       "    }\n",
       "\n",
       "    .dataframe thead tr th {\n",
       "        text-align: left;\n",
       "    }\n",
       "\n",
       "    .dataframe thead tr:last-of-type th {\n",
       "        text-align: right;\n",
       "    }\n",
       "</style>\n",
       "<table border=\"1\" class=\"dataframe\">\n",
       "  <thead>\n",
       "    <tr>\n",
       "      <th></th>\n",
       "      <th colspan=\"2\" halign=\"left\">debt</th>\n",
       "      <th>family_result</th>\n",
       "    </tr>\n",
       "    <tr>\n",
       "      <th></th>\n",
       "      <th>count</th>\n",
       "      <th>sum</th>\n",
       "      <th></th>\n",
       "    </tr>\n",
       "    <tr>\n",
       "      <th>family_status</th>\n",
       "      <th></th>\n",
       "      <th></th>\n",
       "      <th></th>\n",
       "    </tr>\n",
       "  </thead>\n",
       "  <tbody>\n",
       "    <tr>\n",
       "      <td>в разводе</td>\n",
       "      <td>1193</td>\n",
       "      <td>84</td>\n",
       "      <td>0.070411</td>\n",
       "    </tr>\n",
       "    <tr>\n",
       "      <td>вдовец / вдова</td>\n",
       "      <td>955</td>\n",
       "      <td>63</td>\n",
       "      <td>0.065969</td>\n",
       "    </tr>\n",
       "    <tr>\n",
       "      <td>гражданский брак</td>\n",
       "      <td>4138</td>\n",
       "      <td>385</td>\n",
       "      <td>0.093040</td>\n",
       "    </tr>\n",
       "    <tr>\n",
       "      <td>женат / замужем</td>\n",
       "      <td>12290</td>\n",
       "      <td>928</td>\n",
       "      <td>0.075509</td>\n",
       "    </tr>\n",
       "    <tr>\n",
       "      <td>не женат / не замужем</td>\n",
       "      <td>2801</td>\n",
       "      <td>273</td>\n",
       "      <td>0.097465</td>\n",
       "    </tr>\n",
       "  </tbody>\n",
       "</table>\n",
       "</div>"
      ],
      "text/plain": [
       "                        debt      family_result\n",
       "                       count  sum              \n",
       "family_status                                  \n",
       "в разводе               1193   84      0.070411\n",
       "вдовец / вдова           955   63      0.065969\n",
       "гражданский брак        4138  385      0.093040\n",
       "женат / замужем        12290  928      0.075509\n",
       "не женат / не замужем   2801  273      0.097465"
      ]
     },
     "execution_count": 13,
     "metadata": {},
     "output_type": "execute_result"
    }
   ],
   "source": [
    "df_family_status = df_family_status.groupby(['family_status']).agg({'debt':['count','sum']})\n",
    "df_family_status['family_result'] = df_family_status['debt']['sum'] / df_family_status['debt']['count']\n",
    "df_family_status.head()"
   ]
  },
  {
   "cell_type": "markdown",
   "metadata": {},
   "source": [
    "**Вывод**"
   ]
  },
  {
   "cell_type": "markdown",
   "metadata": {},
   "source": [
    "Хуже всего с выплатой кредита у людей которые не состоят в браке - 10 % из них имеют долги. Далее идут люди состоящие в гражданском браке с 9%, женатые/замужние имеют проблемы с выплатой кредита в 6% случаев. Лучше всего выплачивают люди в разводе или вдовцы/вдовы."
   ]
  },
  {
   "cell_type": "markdown",
   "metadata": {},
   "source": [
    "### Есть ли зависимость между уровнем дохода и возвратом кредита в срок?"
   ]
  },
  {
   "cell_type": "code",
   "execution_count": 14,
   "metadata": {},
   "outputs": [
    {
     "data": {
      "text/html": [
       "<div>\n",
       "<style scoped>\n",
       "    .dataframe tbody tr th:only-of-type {\n",
       "        vertical-align: middle;\n",
       "    }\n",
       "\n",
       "    .dataframe tbody tr th {\n",
       "        vertical-align: top;\n",
       "    }\n",
       "\n",
       "    .dataframe thead tr th {\n",
       "        text-align: left;\n",
       "    }\n",
       "\n",
       "    .dataframe thead tr:last-of-type th {\n",
       "        text-align: right;\n",
       "    }\n",
       "</style>\n",
       "<table border=\"1\" class=\"dataframe\">\n",
       "  <thead>\n",
       "    <tr>\n",
       "      <th></th>\n",
       "      <th colspan=\"2\" halign=\"left\">debt</th>\n",
       "      <th>income_result</th>\n",
       "    </tr>\n",
       "    <tr>\n",
       "      <th></th>\n",
       "      <th>count</th>\n",
       "      <th>sum</th>\n",
       "      <th></th>\n",
       "    </tr>\n",
       "    <tr>\n",
       "      <th>income_group</th>\n",
       "      <th></th>\n",
       "      <th></th>\n",
       "      <th></th>\n",
       "    </tr>\n",
       "  </thead>\n",
       "  <tbody>\n",
       "    <tr>\n",
       "      <td>низкий</td>\n",
       "      <td>5345</td>\n",
       "      <td>427</td>\n",
       "      <td>0.079888</td>\n",
       "    </tr>\n",
       "    <tr>\n",
       "      <td>средний</td>\n",
       "      <td>5345</td>\n",
       "      <td>471</td>\n",
       "      <td>0.088120</td>\n",
       "    </tr>\n",
       "    <tr>\n",
       "      <td>выше среднего</td>\n",
       "      <td>5797</td>\n",
       "      <td>492</td>\n",
       "      <td>0.084871</td>\n",
       "    </tr>\n",
       "    <tr>\n",
       "      <td>высокий</td>\n",
       "      <td>4890</td>\n",
       "      <td>343</td>\n",
       "      <td>0.070143</td>\n",
       "    </tr>\n",
       "  </tbody>\n",
       "</table>\n",
       "</div>"
      ],
      "text/plain": [
       "               debt      income_result\n",
       "              count  sum              \n",
       "income_group                          \n",
       "низкий         5345  427      0.079888\n",
       "средний        5345  471      0.088120\n",
       "выше среднего  5797  492      0.084871\n",
       "высокий        4890  343      0.070143"
      ]
     },
     "execution_count": 14,
     "metadata": {},
     "output_type": "execute_result"
    }
   ],
   "source": [
    "df_income = df_income.groupby(['income_group']).agg({'debt':['count','sum']})\n",
    "df_income['income_result'] = df_income['debt']['sum'] / df_income['debt']['count']\n",
    "df_income.head()"
   ]
  },
  {
   "cell_type": "markdown",
   "metadata": {},
   "source": [
    "**Вывод**"
   ]
  },
  {
   "cell_type": "markdown",
   "metadata": {},
   "source": [
    "Уровень дохода влияет на возврат в срок кредита следующим образом: больше всего проблем у группы людей - 12%, которые которые имеют низкий доход, что кажется логичным. Люди со средним доходом и доходом выше среднего имеют следующие проценты должников - 9% и 8% соответственно. Люди с высоким доходом лучше всех возвращают кредит, только 7% имеют долги. Получается, чем больше доход у кредитора, тем лучше он погашает кредит."
   ]
  },
  {
   "cell_type": "markdown",
   "metadata": {},
   "source": [
    "### Как разные цели кредита влияют на его возврат в срок?"
   ]
  },
  {
   "cell_type": "code",
   "execution_count": 15,
   "metadata": {},
   "outputs": [
    {
     "data": {
      "text/html": [
       "<div>\n",
       "<style scoped>\n",
       "    .dataframe tbody tr th:only-of-type {\n",
       "        vertical-align: middle;\n",
       "    }\n",
       "\n",
       "    .dataframe tbody tr th {\n",
       "        vertical-align: top;\n",
       "    }\n",
       "\n",
       "    .dataframe thead tr th {\n",
       "        text-align: left;\n",
       "    }\n",
       "\n",
       "    .dataframe thead tr:last-of-type th {\n",
       "        text-align: right;\n",
       "    }\n",
       "</style>\n",
       "<table border=\"1\" class=\"dataframe\">\n",
       "  <thead>\n",
       "    <tr>\n",
       "      <th></th>\n",
       "      <th colspan=\"2\" halign=\"left\">debt</th>\n",
       "      <th>purpose_result</th>\n",
       "    </tr>\n",
       "    <tr>\n",
       "      <th></th>\n",
       "      <th>count</th>\n",
       "      <th>sum</th>\n",
       "      <th></th>\n",
       "    </tr>\n",
       "    <tr>\n",
       "      <th>lem_purpose</th>\n",
       "      <th></th>\n",
       "      <th></th>\n",
       "      <th></th>\n",
       "    </tr>\n",
       "  </thead>\n",
       "  <tbody>\n",
       "    <tr>\n",
       "      <td>автомобиль</td>\n",
       "      <td>4290</td>\n",
       "      <td>401</td>\n",
       "      <td>0.093473</td>\n",
       "    </tr>\n",
       "    <tr>\n",
       "      <td>недвижимость</td>\n",
       "      <td>10775</td>\n",
       "      <td>780</td>\n",
       "      <td>0.072390</td>\n",
       "    </tr>\n",
       "    <tr>\n",
       "      <td>образование</td>\n",
       "      <td>3998</td>\n",
       "      <td>369</td>\n",
       "      <td>0.092296</td>\n",
       "    </tr>\n",
       "    <tr>\n",
       "      <td>свадьба</td>\n",
       "      <td>2314</td>\n",
       "      <td>183</td>\n",
       "      <td>0.079084</td>\n",
       "    </tr>\n",
       "  </tbody>\n",
       "</table>\n",
       "</div>"
      ],
      "text/plain": [
       "               debt      purpose_result\n",
       "              count  sum               \n",
       "lem_purpose                            \n",
       "автомобиль     4290  401       0.093473\n",
       "недвижимость  10775  780       0.072390\n",
       "образование    3998  369       0.092296\n",
       "свадьба        2314  183       0.079084"
      ]
     },
     "execution_count": 15,
     "metadata": {},
     "output_type": "execute_result"
    }
   ],
   "source": [
    "df_purpose = df_purpose.groupby(['lem_purpose']).agg({'debt':['count','sum']})\n",
    "df_purpose['purpose_result'] = df_purpose['debt']['sum'] / df_purpose['debt']['count']\n",
    "df_purpose.head()"
   ]
  },
  {
   "cell_type": "markdown",
   "metadata": {},
   "source": [
    "**Вывод**"
   ]
  },
  {
   "cell_type": "markdown",
   "metadata": {},
   "source": [
    "Одинаковый процент людей испытывает проблемы с выплатой кредита за автомобиль и образование - 9% . За свадьбу и недвижимость 7% не могут погасить кредит вовремя."
   ]
  },
  {
   "cell_type": "markdown",
   "metadata": {},
   "source": [
    "## Общий вывод"
   ]
  },
  {
   "cell_type": "markdown",
   "metadata": {},
   "source": [
    "Наличие детей влияет на способность вернуть кредит вовремя Бездетные лучше всего возвращают кредит, люди с 3я и более детьми склонны возвращать деньги чаще, чем с 1 или 2 детьми. Люди, которые не состоят в отношениях или состоят в неофициальных хуже возвращают кредит, чем замужние.Лучше всего с выплатами у людей в разводе или овдовевших. Чем выше доход, тем больше шансов, что кредит вернут вовремя. Кредит за свадьбу и недвижимость отдают лучше, чем за образоване и автомобиль."
   ]
  }
 ],
 "metadata": {
  "ExecuteTimeLog": [
   {
    "duration": 145,
    "start_time": "2021-08-26T13:27:02.127Z"
   },
   {
    "duration": 862,
    "start_time": "2021-08-26T13:27:12.714Z"
   },
   {
    "duration": 50,
    "start_time": "2021-08-26T13:27:14.443Z"
   },
   {
    "duration": 76,
    "start_time": "2021-08-26T13:28:12.143Z"
   },
   {
    "duration": 456,
    "start_time": "2021-08-26T13:39:53.806Z"
   },
   {
    "duration": 95,
    "start_time": "2021-08-26T14:01:53.037Z"
   },
   {
    "duration": 281,
    "start_time": "2021-08-26T14:04:06.824Z"
   },
   {
    "duration": 11,
    "start_time": "2021-08-26T14:04:55.037Z"
   },
   {
    "duration": 15,
    "start_time": "2021-08-26T14:07:38.418Z"
   },
   {
    "duration": 14,
    "start_time": "2021-08-26T14:07:44.181Z"
   },
   {
    "duration": 366,
    "start_time": "2021-08-26T14:07:58.925Z"
   },
   {
    "duration": 13,
    "start_time": "2021-08-26T14:08:03.189Z"
   },
   {
    "duration": 10,
    "start_time": "2021-08-26T14:08:27.349Z"
   },
   {
    "duration": 9,
    "start_time": "2021-08-26T14:08:33.637Z"
   },
   {
    "duration": 10,
    "start_time": "2021-08-26T14:08:35.661Z"
   },
   {
    "duration": 118,
    "start_time": "2021-08-26T14:11:17.942Z"
   },
   {
    "duration": 20,
    "start_time": "2021-08-26T14:11:26.589Z"
   },
   {
    "duration": 11,
    "start_time": "2021-08-26T14:12:14.620Z"
   },
   {
    "duration": 369,
    "start_time": "2021-08-26T14:23:56.107Z"
   },
   {
    "duration": 12,
    "start_time": "2021-08-26T14:24:04.412Z"
   },
   {
    "duration": 13,
    "start_time": "2021-08-26T14:25:14.997Z"
   },
   {
    "duration": 13,
    "start_time": "2021-08-26T14:27:24.905Z"
   },
   {
    "duration": 369,
    "start_time": "2021-08-26T14:34:02.797Z"
   },
   {
    "duration": 7,
    "start_time": "2021-08-26T14:34:15.109Z"
   },
   {
    "duration": 7,
    "start_time": "2021-08-26T14:34:40.428Z"
   },
   {
    "duration": 9,
    "start_time": "2021-08-26T14:35:37.325Z"
   },
   {
    "duration": 9,
    "start_time": "2021-08-26T14:36:25.287Z"
   },
   {
    "duration": 39,
    "start_time": "2021-08-26T14:41:31.228Z"
   },
   {
    "duration": 18,
    "start_time": "2021-08-26T14:41:40.437Z"
   },
   {
    "duration": 91,
    "start_time": "2021-08-26T14:43:39.196Z"
   },
   {
    "duration": 88,
    "start_time": "2021-08-26T14:47:52.756Z"
   },
   {
    "duration": 91,
    "start_time": "2021-08-26T14:48:00.933Z"
   },
   {
    "duration": 409,
    "start_time": "2021-08-26T14:48:29.819Z"
   },
   {
    "duration": 414,
    "start_time": "2021-08-26T14:48:49.900Z"
   },
   {
    "duration": 39,
    "start_time": "2021-08-26T14:49:49.452Z"
   },
   {
    "duration": 19,
    "start_time": "2021-08-26T14:50:11.552Z"
   },
   {
    "duration": 79,
    "start_time": "2021-08-26T14:52:22.300Z"
   },
   {
    "duration": 13,
    "start_time": "2021-08-26T14:53:50.280Z"
   },
   {
    "duration": 19,
    "start_time": "2021-08-26T14:55:23.363Z"
   },
   {
    "duration": 21,
    "start_time": "2021-08-26T14:55:25.482Z"
   },
   {
    "duration": 27,
    "start_time": "2021-08-26T14:56:07.682Z"
   },
   {
    "duration": 54,
    "start_time": "2021-08-26T15:12:30.954Z"
   },
   {
    "duration": 65,
    "start_time": "2021-08-26T15:13:01.386Z"
   },
   {
    "duration": 64,
    "start_time": "2021-08-26T15:13:03.201Z"
   },
   {
    "duration": 97,
    "start_time": "2021-08-26T15:13:20.890Z"
   },
   {
    "duration": 33,
    "start_time": "2021-08-26T15:15:32.659Z"
   },
   {
    "duration": 32,
    "start_time": "2021-08-26T15:15:43.696Z"
   },
   {
    "duration": 446,
    "start_time": "2021-08-26T15:16:51.858Z"
   },
   {
    "duration": 600,
    "start_time": "2021-08-26T15:21:07.942Z"
   },
   {
    "duration": 608,
    "start_time": "2021-08-26T15:21:25.317Z"
   },
   {
    "duration": 803,
    "start_time": "2021-08-26T15:21:32.492Z"
   },
   {
    "duration": 45,
    "start_time": "2021-08-26T15:21:36.573Z"
   },
   {
    "duration": 554,
    "start_time": "2021-08-26T15:21:40.090Z"
   },
   {
    "duration": 81,
    "start_time": "2021-08-26T15:21:45.946Z"
   },
   {
    "duration": 91,
    "start_time": "2021-08-26T15:28:25.338Z"
   },
   {
    "duration": 89,
    "start_time": "2021-08-26T15:28:28.906Z"
   },
   {
    "duration": 90,
    "start_time": "2021-08-26T15:30:45.427Z"
   },
   {
    "duration": 1529,
    "start_time": "2021-08-26T15:40:21.089Z"
   },
   {
    "duration": 1542,
    "start_time": "2021-08-26T15:40:33.842Z"
   },
   {
    "duration": 1487,
    "start_time": "2021-08-26T15:40:35.727Z"
   },
   {
    "duration": 1567,
    "start_time": "2021-08-26T15:43:09.498Z"
   },
   {
    "duration": 1699,
    "start_time": "2021-08-26T15:43:11.208Z"
   },
   {
    "duration": 35,
    "start_time": "2021-08-26T15:46:16.314Z"
   },
   {
    "duration": 1588,
    "start_time": "2021-08-26T15:46:35.906Z"
   },
   {
    "duration": 1496,
    "start_time": "2021-08-26T15:46:38.668Z"
   },
   {
    "duration": 794,
    "start_time": "2021-08-26T15:46:54.200Z"
   },
   {
    "duration": 38,
    "start_time": "2021-08-26T15:46:58.066Z"
   },
   {
    "duration": 22,
    "start_time": "2021-08-26T15:47:02.461Z"
   },
   {
    "duration": 310,
    "start_time": "2021-08-27T08:31:43.733Z"
   },
   {
    "duration": 648,
    "start_time": "2021-08-27T08:31:56.433Z"
   },
   {
    "duration": 27,
    "start_time": "2021-08-27T08:32:00.436Z"
   },
   {
    "duration": 56,
    "start_time": "2021-08-27T08:42:23.013Z"
   },
   {
    "duration": -33,
    "start_time": "2021-08-27T09:03:46.384Z"
   },
   {
    "duration": 52,
    "start_time": "2021-08-27T09:04:10.186Z"
   },
   {
    "duration": 26,
    "start_time": "2021-08-27T09:04:12.628Z"
   },
   {
    "duration": -21,
    "start_time": "2021-08-27T09:04:20.597Z"
   },
   {
    "duration": 66,
    "start_time": "2021-08-27T09:05:01.936Z"
   },
   {
    "duration": 10,
    "start_time": "2021-08-27T09:15:33.721Z"
   },
   {
    "duration": 12,
    "start_time": "2021-08-27T09:15:36.001Z"
   },
   {
    "duration": 61,
    "start_time": "2021-08-27T09:15:39.258Z"
   },
   {
    "duration": 10,
    "start_time": "2021-08-27T09:15:41.528Z"
   },
   {
    "duration": 303,
    "start_time": "2021-08-27T09:16:42.672Z"
   },
   {
    "duration": 290,
    "start_time": "2021-08-27T09:17:01.160Z"
   },
   {
    "duration": 11,
    "start_time": "2021-08-27T09:17:19.696Z"
   },
   {
    "duration": 293,
    "start_time": "2021-08-27T09:39:36.704Z"
   },
   {
    "duration": 303,
    "start_time": "2021-08-27T09:39:38.736Z"
   },
   {
    "duration": 19,
    "start_time": "2021-08-27T09:40:10.963Z"
   },
   {
    "duration": 319,
    "start_time": "2021-08-27T11:36:12.189Z"
   },
   {
    "duration": 61,
    "start_time": "2021-08-27T11:36:26.462Z"
   },
   {
    "duration": 66,
    "start_time": "2021-08-27T11:37:48.266Z"
   },
   {
    "duration": 66,
    "start_time": "2021-08-27T11:38:28.753Z"
   },
   {
    "duration": 70,
    "start_time": "2021-08-27T11:38:52.361Z"
   },
   {
    "duration": 68,
    "start_time": "2021-08-27T11:39:47.097Z"
   },
   {
    "duration": 291,
    "start_time": "2021-08-27T12:42:02.541Z"
   },
   {
    "duration": 286,
    "start_time": "2021-08-27T12:42:31.561Z"
   },
   {
    "duration": 17,
    "start_time": "2021-08-27T12:43:22.585Z"
   },
   {
    "duration": 302,
    "start_time": "2021-08-27T12:43:44.829Z"
   },
   {
    "duration": 300,
    "start_time": "2021-08-27T12:44:12.523Z"
   },
   {
    "duration": 310,
    "start_time": "2021-08-27T12:44:29.058Z"
   },
   {
    "duration": 286,
    "start_time": "2021-08-27T12:50:33.643Z"
   },
   {
    "duration": 622,
    "start_time": "2021-08-27T13:07:42.594Z"
   },
   {
    "duration": 297,
    "start_time": "2021-08-27T13:07:54.034Z"
   },
   {
    "duration": 25,
    "start_time": "2021-08-27T13:08:36.328Z"
   },
   {
    "duration": 715,
    "start_time": "2021-08-27T13:08:49.328Z"
   },
   {
    "duration": 37,
    "start_time": "2021-08-27T13:08:52.469Z"
   },
   {
    "duration": 656,
    "start_time": "2021-08-27T13:10:29.076Z"
   },
   {
    "duration": 114,
    "start_time": "2021-08-27T13:10:40.659Z"
   },
   {
    "duration": 72,
    "start_time": "2021-08-27T13:10:46.572Z"
   },
   {
    "duration": 286,
    "start_time": "2021-08-27T13:12:40.174Z"
   },
   {
    "duration": 283,
    "start_time": "2021-08-27T13:12:51.365Z"
   },
   {
    "duration": 32,
    "start_time": "2021-08-27T13:13:00.845Z"
   },
   {
    "duration": 22,
    "start_time": "2021-08-27T13:13:36.211Z"
   },
   {
    "duration": 28,
    "start_time": "2021-08-27T13:21:38.876Z"
   },
   {
    "duration": 50,
    "start_time": "2021-08-27T13:24:06.407Z"
   },
   {
    "duration": 415,
    "start_time": "2021-08-27T13:26:12.697Z"
   },
   {
    "duration": 6,
    "start_time": "2021-08-27T13:42:49.560Z"
   },
   {
    "duration": 95,
    "start_time": "2021-08-27T13:45:55.302Z"
   },
   {
    "duration": 6,
    "start_time": "2021-08-27T13:46:03.916Z"
   },
   {
    "duration": 6,
    "start_time": "2021-08-27T13:46:05.565Z"
   },
   {
    "duration": 6,
    "start_time": "2021-08-27T13:46:07.421Z"
   },
   {
    "duration": 15,
    "start_time": "2021-08-27T13:46:19.004Z"
   },
   {
    "duration": 16,
    "start_time": "2021-08-27T13:46:28.707Z"
   },
   {
    "duration": -8,
    "start_time": "2021-08-27T13:48:05.012Z"
   },
   {
    "duration": -17,
    "start_time": "2021-08-27T13:48:14.668Z"
   },
   {
    "duration": 62,
    "start_time": "2021-08-27T13:48:26.807Z"
   },
   {
    "duration": 29,
    "start_time": "2021-08-27T13:48:26.871Z"
   },
   {
    "duration": 54,
    "start_time": "2021-08-27T13:48:26.902Z"
   },
   {
    "duration": 4152,
    "start_time": "2021-08-27T13:48:26.958Z"
   },
   {
    "duration": 64,
    "start_time": "2021-08-27T13:49:02.185Z"
   },
   {
    "duration": 28,
    "start_time": "2021-08-27T13:49:02.251Z"
   },
   {
    "duration": 63,
    "start_time": "2021-08-27T13:49:02.281Z"
   },
   {
    "duration": 4159,
    "start_time": "2021-08-27T13:49:02.346Z"
   },
   {
    "duration": 50,
    "start_time": "2021-08-27T13:49:42.938Z"
   },
   {
    "duration": 62,
    "start_time": "2021-08-27T13:52:20.559Z"
   },
   {
    "duration": 28,
    "start_time": "2021-08-27T13:52:20.623Z"
   },
   {
    "duration": 46,
    "start_time": "2021-08-27T13:52:20.652Z"
   },
   {
    "duration": 4210,
    "start_time": "2021-08-27T13:52:28.793Z"
   },
   {
    "duration": 551,
    "start_time": "2021-08-28T19:28:37.186Z"
   },
   {
    "duration": 560,
    "start_time": "2021-08-28T19:28:45.422Z"
   },
   {
    "duration": 641,
    "start_time": "2021-08-28T19:28:53.534Z"
   },
   {
    "duration": 3,
    "start_time": "2021-08-28T19:29:03.835Z"
   },
   {
    "duration": 3,
    "start_time": "2021-08-28T19:29:06.964Z"
   },
   {
    "duration": 376,
    "start_time": "2021-08-28T19:29:17.139Z"
   },
   {
    "duration": 820,
    "start_time": "2021-08-28T19:29:41.313Z"
   },
   {
    "duration": 36,
    "start_time": "2021-08-28T19:29:42.135Z"
   },
   {
    "duration": 677,
    "start_time": "2021-08-28T19:29:42.176Z"
   },
   {
    "duration": 258,
    "start_time": "2021-08-28T19:29:42.597Z"
   },
   {
    "duration": 254,
    "start_time": "2021-08-28T19:29:42.602Z"
   },
   {
    "duration": 591,
    "start_time": "2021-08-28T19:29:54.488Z"
   },
   {
    "duration": 11,
    "start_time": "2021-08-28T19:29:59.642Z"
   },
   {
    "duration": 19,
    "start_time": "2021-08-28T19:32:51.381Z"
   },
   {
    "duration": 29,
    "start_time": "2021-08-28T19:32:57.144Z"
   },
   {
    "duration": 7,
    "start_time": "2021-08-28T19:33:45.953Z"
   },
   {
    "duration": 5,
    "start_time": "2021-08-28T20:00:34.054Z"
   },
   {
    "duration": 5,
    "start_time": "2021-08-28T20:00:36.393Z"
   },
   {
    "duration": 66,
    "start_time": "2021-08-28T20:05:57.737Z"
   },
   {
    "duration": 67,
    "start_time": "2021-08-28T20:06:25.162Z"
   },
   {
    "duration": 24,
    "start_time": "2021-08-28T20:06:25.231Z"
   },
   {
    "duration": 19,
    "start_time": "2021-08-28T20:06:25.257Z"
   },
   {
    "duration": 43,
    "start_time": "2021-08-28T20:06:25.278Z"
   },
   {
    "duration": 3754,
    "start_time": "2021-08-28T20:06:25.323Z"
   },
   {
    "duration": 5,
    "start_time": "2021-08-28T20:07:15.962Z"
   },
   {
    "duration": 14,
    "start_time": "2021-08-28T20:07:27.565Z"
   },
   {
    "duration": 20,
    "start_time": "2021-08-28T20:07:43.118Z"
   },
   {
    "duration": 23,
    "start_time": "2021-08-28T20:10:33.061Z"
   },
   {
    "duration": 24,
    "start_time": "2021-08-28T20:10:40.214Z"
   },
   {
    "duration": 24,
    "start_time": "2021-08-28T20:11:08.818Z"
   },
   {
    "duration": 51,
    "start_time": "2021-08-28T20:17:07.819Z"
   },
   {
    "duration": 745,
    "start_time": "2021-08-28T20:17:26.844Z"
   },
   {
    "duration": 30,
    "start_time": "2021-08-28T20:17:27.592Z"
   },
   {
    "duration": 22,
    "start_time": "2021-08-28T20:17:27.628Z"
   },
   {
    "duration": 62,
    "start_time": "2021-08-28T20:17:27.651Z"
   },
   {
    "duration": 3763,
    "start_time": "2021-08-28T20:17:27.715Z"
   },
   {
    "duration": 386,
    "start_time": "2021-08-29T08:25:47.980Z"
   },
   {
    "duration": 832,
    "start_time": "2021-08-29T08:25:58.791Z"
   },
   {
    "duration": 44,
    "start_time": "2021-08-29T08:25:59.626Z"
   },
   {
    "duration": 31,
    "start_time": "2021-08-29T08:25:59.673Z"
   },
   {
    "duration": 100,
    "start_time": "2021-08-29T08:25:59.707Z"
   },
   {
    "duration": 5808,
    "start_time": "2021-08-29T08:25:59.809Z"
   },
   {
    "duration": 41,
    "start_time": "2021-08-29T08:26:36.696Z"
   },
   {
    "duration": 469,
    "start_time": "2021-08-29T08:28:35.958Z"
   },
   {
    "duration": 341,
    "start_time": "2021-08-29T08:28:50.023Z"
   },
   {
    "duration": 358,
    "start_time": "2021-08-29T08:29:26.555Z"
   },
   {
    "duration": 136,
    "start_time": "2021-08-29T08:31:47.821Z"
   },
   {
    "duration": 94,
    "start_time": "2021-08-29T08:31:59.876Z"
   },
   {
    "duration": 91,
    "start_time": "2021-08-29T08:32:08.779Z"
   },
   {
    "duration": 91,
    "start_time": "2021-08-29T08:33:28.932Z"
   },
   {
    "duration": 5,
    "start_time": "2021-08-29T08:39:10.676Z"
   },
   {
    "duration": 5,
    "start_time": "2021-08-29T08:39:13.433Z"
   },
   {
    "duration": 4,
    "start_time": "2021-08-29T08:40:44.448Z"
   },
   {
    "duration": 4,
    "start_time": "2021-08-29T08:40:51.138Z"
   },
   {
    "duration": 18,
    "start_time": "2021-08-29T08:44:50.247Z"
   },
   {
    "duration": 13,
    "start_time": "2021-08-29T08:55:34.632Z"
   },
   {
    "duration": 28,
    "start_time": "2021-08-29T08:55:46.323Z"
   },
   {
    "duration": 173,
    "start_time": "2021-08-29T08:58:28.174Z"
   },
   {
    "duration": 119,
    "start_time": "2021-08-29T09:03:21.936Z"
   },
   {
    "duration": 131,
    "start_time": "2021-08-29T09:30:47.489Z"
   },
   {
    "duration": 135,
    "start_time": "2021-08-29T09:30:59.223Z"
   },
   {
    "duration": 141,
    "start_time": "2021-08-29T09:31:16.317Z"
   },
   {
    "duration": 128,
    "start_time": "2021-08-29T09:31:24.544Z"
   },
   {
    "duration": 124,
    "start_time": "2021-08-29T09:31:42.510Z"
   },
   {
    "duration": -674,
    "start_time": "2021-08-29T09:32:44.766Z"
   },
   {
    "duration": -733,
    "start_time": "2021-08-29T09:32:53.500Z"
   },
   {
    "duration": 848,
    "start_time": "2021-08-29T09:33:01.723Z"
   },
   {
    "duration": 41,
    "start_time": "2021-08-29T09:33:02.574Z"
   },
   {
    "duration": 51,
    "start_time": "2021-08-29T09:33:02.618Z"
   },
   {
    "duration": 127,
    "start_time": "2021-08-29T09:33:02.673Z"
   },
   {
    "duration": 5028,
    "start_time": "2021-08-29T09:33:02.803Z"
   },
   {
    "duration": 351,
    "start_time": "2021-08-29T09:33:07.834Z"
   },
   {
    "duration": -682,
    "start_time": "2021-08-29T09:33:46.328Z"
   },
   {
    "duration": 7192,
    "start_time": "2021-08-29T09:33:53.613Z"
   },
   {
    "duration": 6756,
    "start_time": "2021-08-29T09:34:16.245Z"
   },
   {
    "duration": 25,
    "start_time": "2021-08-29T09:34:41.788Z"
   },
   {
    "duration": 29,
    "start_time": "2021-08-29T09:35:09.995Z"
   },
   {
    "duration": 21,
    "start_time": "2021-08-29T09:44:24.990Z"
   },
   {
    "duration": 31,
    "start_time": "2021-08-29T09:44:33.614Z"
   },
   {
    "duration": 21,
    "start_time": "2021-08-29T09:44:48.342Z"
   },
   {
    "duration": 29,
    "start_time": "2021-08-29T09:44:58.502Z"
   },
   {
    "duration": 25,
    "start_time": "2021-08-29T09:46:59.306Z"
   },
   {
    "duration": 44,
    "start_time": "2021-08-29T10:06:51.414Z"
   },
   {
    "duration": 9,
    "start_time": "2021-08-29T10:43:17.735Z"
   },
   {
    "duration": 598,
    "start_time": "2021-08-29T10:43:40.720Z"
   },
   {
    "duration": 450,
    "start_time": "2021-08-29T10:43:58.200Z"
   },
   {
    "duration": 994,
    "start_time": "2021-08-29T10:44:06.062Z"
   },
   {
    "duration": 40,
    "start_time": "2021-08-29T10:44:07.059Z"
   },
   {
    "duration": 67,
    "start_time": "2021-08-29T10:44:07.102Z"
   },
   {
    "duration": 124,
    "start_time": "2021-08-29T10:44:07.172Z"
   },
   {
    "duration": 5398,
    "start_time": "2021-08-29T10:44:07.299Z"
   },
   {
    "duration": 23,
    "start_time": "2021-08-29T10:44:12.700Z"
   },
   {
    "duration": 29,
    "start_time": "2021-08-29T10:44:12.726Z"
   },
   {
    "duration": 409,
    "start_time": "2021-08-29T10:45:46.081Z"
   },
   {
    "duration": 18,
    "start_time": "2021-08-29T10:45:55.235Z"
   },
   {
    "duration": 10,
    "start_time": "2021-08-29T10:45:57.936Z"
   },
   {
    "duration": 307,
    "start_time": "2021-08-29T10:49:24.730Z"
   },
   {
    "duration": 18,
    "start_time": "2021-08-29T10:50:33.127Z"
   },
   {
    "duration": 31,
    "start_time": "2021-08-29T10:50:36.466Z"
   },
   {
    "duration": 30,
    "start_time": "2021-08-29T10:52:47.499Z"
   },
   {
    "duration": 10,
    "start_time": "2021-08-29T10:56:03.471Z"
   },
   {
    "duration": 9,
    "start_time": "2021-08-29T10:59:52.134Z"
   },
   {
    "duration": 9,
    "start_time": "2021-08-29T10:59:54.639Z"
   },
   {
    "duration": 940,
    "start_time": "2021-08-29T11:00:04.528Z"
   },
   {
    "duration": 40,
    "start_time": "2021-08-29T11:00:05.471Z"
   },
   {
    "duration": 73,
    "start_time": "2021-08-29T11:00:05.516Z"
   },
   {
    "duration": 187,
    "start_time": "2021-08-29T11:00:05.593Z"
   },
   {
    "duration": 5173,
    "start_time": "2021-08-29T11:00:05.783Z"
   },
   {
    "duration": 24,
    "start_time": "2021-08-29T11:00:10.959Z"
   },
   {
    "duration": 24,
    "start_time": "2021-08-29T11:00:10.985Z"
   },
   {
    "duration": 43,
    "start_time": "2021-08-29T11:00:12.526Z"
   },
   {
    "duration": 24,
    "start_time": "2021-08-29T11:00:54.536Z"
   },
   {
    "duration": 12,
    "start_time": "2021-08-29T11:01:12.917Z"
   },
   {
    "duration": 11,
    "start_time": "2021-08-29T11:01:38.482Z"
   },
   {
    "duration": 368,
    "start_time": "2021-08-29T11:03:21.010Z"
   },
   {
    "duration": 880,
    "start_time": "2021-08-29T11:03:46.949Z"
   },
   {
    "duration": 52,
    "start_time": "2021-08-29T11:03:47.832Z"
   },
   {
    "duration": 34,
    "start_time": "2021-08-29T11:03:47.888Z"
   },
   {
    "duration": 113,
    "start_time": "2021-08-29T11:03:47.956Z"
   },
   {
    "duration": 5092,
    "start_time": "2021-08-29T11:03:48.071Z"
   },
   {
    "duration": 22,
    "start_time": "2021-08-29T11:03:53.166Z"
   },
   {
    "duration": 431,
    "start_time": "2021-08-29T11:03:53.191Z"
   },
   {
    "duration": 275,
    "start_time": "2021-08-29T11:04:14.825Z"
   },
   {
    "duration": 308,
    "start_time": "2021-08-29T11:05:52.729Z"
   },
   {
    "duration": 320,
    "start_time": "2021-08-29T11:06:09.419Z"
   },
   {
    "duration": 118,
    "start_time": "2021-08-29T11:11:14.370Z"
   },
   {
    "duration": 97,
    "start_time": "2021-08-29T11:11:20.491Z"
   },
   {
    "duration": 90,
    "start_time": "2021-08-29T11:11:26.672Z"
   },
   {
    "duration": 22,
    "start_time": "2021-08-29T11:11:38.714Z"
   },
   {
    "duration": 24,
    "start_time": "2021-08-29T11:11:58.747Z"
   },
   {
    "duration": 84,
    "start_time": "2021-08-29T11:17:58.012Z"
   },
   {
    "duration": 19,
    "start_time": "2021-08-29T11:19:24.763Z"
   },
   {
    "duration": 6897,
    "start_time": "2021-08-29T11:20:58.496Z"
   },
   {
    "duration": 1085,
    "start_time": "2021-08-29T11:22:53.370Z"
   },
   {
    "duration": 42,
    "start_time": "2021-08-29T11:22:54.457Z"
   },
   {
    "duration": 69,
    "start_time": "2021-08-29T11:22:54.502Z"
   },
   {
    "duration": 130,
    "start_time": "2021-08-29T11:22:54.574Z"
   },
   {
    "duration": 5522,
    "start_time": "2021-08-29T11:22:54.707Z"
   },
   {
    "duration": 31,
    "start_time": "2021-08-29T11:23:00.232Z"
   },
   {
    "duration": -698,
    "start_time": "2021-08-29T11:23:07.551Z"
   },
   {
    "duration": 6713,
    "start_time": "2021-08-29T11:23:33.665Z"
   },
   {
    "duration": 6696,
    "start_time": "2021-08-29T11:25:33.633Z"
   },
   {
    "duration": 3645,
    "start_time": "2021-08-29T11:26:12.954Z"
   },
   {
    "duration": 7047,
    "start_time": "2021-08-29T11:29:41.694Z"
   },
   {
    "duration": 14531,
    "start_time": "2021-08-29T11:30:42.098Z"
   },
   {
    "duration": 8830,
    "start_time": "2021-08-29T11:32:32.927Z"
   },
   {
    "duration": 18,
    "start_time": "2021-08-29T11:34:24.107Z"
   },
   {
    "duration": 25,
    "start_time": "2021-08-29T11:34:26.549Z"
   },
   {
    "duration": 30,
    "start_time": "2021-08-29T11:37:55.299Z"
   },
   {
    "duration": 28,
    "start_time": "2021-08-29T11:39:07.423Z"
   },
   {
    "duration": 8284,
    "start_time": "2021-08-29T11:55:36.448Z"
   },
   {
    "duration": 806,
    "start_time": "2021-08-29T11:57:14.487Z"
   },
   {
    "duration": 38,
    "start_time": "2021-08-29T11:57:15.295Z"
   },
   {
    "duration": 49,
    "start_time": "2021-08-29T11:57:15.336Z"
   },
   {
    "duration": 128,
    "start_time": "2021-08-29T11:57:15.388Z"
   },
   {
    "duration": 5046,
    "start_time": "2021-08-29T11:57:15.518Z"
   },
   {
    "duration": 5,
    "start_time": "2021-08-29T11:57:20.567Z"
   },
   {
    "duration": -1183,
    "start_time": "2021-08-29T11:57:21.758Z"
   },
   {
    "duration": -1187,
    "start_time": "2021-08-29T11:57:21.763Z"
   },
   {
    "duration": -1188,
    "start_time": "2021-08-29T11:57:21.766Z"
   },
   {
    "duration": 124,
    "start_time": "2021-08-29T11:57:52.003Z"
   },
   {
    "duration": 33,
    "start_time": "2021-08-29T11:58:12.326Z"
   },
   {
    "duration": 5,
    "start_time": "2021-08-29T11:58:26.500Z"
   },
   {
    "duration": 26,
    "start_time": "2021-08-29T11:58:32.133Z"
   },
   {
    "duration": 26,
    "start_time": "2021-08-29T11:58:38.881Z"
   },
   {
    "duration": 37,
    "start_time": "2021-08-29T11:58:43.503Z"
   },
   {
    "duration": 23,
    "start_time": "2021-08-29T11:59:02.118Z"
   },
   {
    "duration": 8587,
    "start_time": "2021-08-29T11:59:20.303Z"
   },
   {
    "duration": 26,
    "start_time": "2021-08-29T11:59:37.833Z"
   },
   {
    "duration": 50,
    "start_time": "2021-08-29T11:59:50.034Z"
   },
   {
    "duration": 22,
    "start_time": "2021-08-29T12:00:02.826Z"
   },
   {
    "duration": 30,
    "start_time": "2021-08-29T12:00:26.676Z"
   },
   {
    "duration": 22,
    "start_time": "2021-08-29T12:00:32.258Z"
   },
   {
    "duration": 28,
    "start_time": "2021-08-29T12:01:33.451Z"
   },
   {
    "duration": 27,
    "start_time": "2021-08-29T12:02:41.528Z"
   },
   {
    "duration": 25,
    "start_time": "2021-08-29T12:02:47.168Z"
   },
   {
    "duration": 90,
    "start_time": "2021-08-29T12:06:28.015Z"
   },
   {
    "duration": 30,
    "start_time": "2021-08-29T12:06:37.030Z"
   },
   {
    "duration": 24,
    "start_time": "2021-08-29T12:06:44.424Z"
   },
   {
    "duration": 25,
    "start_time": "2021-08-29T12:08:48.526Z"
   },
   {
    "duration": 27,
    "start_time": "2021-08-29T12:08:52.837Z"
   },
   {
    "duration": -723,
    "start_time": "2021-08-29T12:09:08.258Z"
   },
   {
    "duration": 7935,
    "start_time": "2021-08-29T12:09:16.781Z"
   },
   {
    "duration": 29,
    "start_time": "2021-08-29T12:09:33.172Z"
   },
   {
    "duration": 24,
    "start_time": "2021-08-29T12:09:39.874Z"
   },
   {
    "duration": 22,
    "start_time": "2021-08-29T12:10:42.055Z"
   },
   {
    "duration": 311,
    "start_time": "2021-08-30T08:23:52.008Z"
   },
   {
    "duration": 682,
    "start_time": "2021-08-30T08:24:01.669Z"
   },
   {
    "duration": 27,
    "start_time": "2021-08-30T08:24:02.353Z"
   },
   {
    "duration": 27,
    "start_time": "2021-08-30T08:24:02.382Z"
   },
   {
    "duration": 82,
    "start_time": "2021-08-30T08:24:02.411Z"
   },
   {
    "duration": 3566,
    "start_time": "2021-08-30T08:24:02.495Z"
   },
   {
    "duration": 36,
    "start_time": "2021-08-30T08:24:06.062Z"
   },
   {
    "duration": 16,
    "start_time": "2021-08-30T08:24:06.100Z"
   },
   {
    "duration": 18,
    "start_time": "2021-08-30T08:24:06.118Z"
   },
   {
    "duration": 14,
    "start_time": "2021-08-30T08:24:06.139Z"
   },
   {
    "duration": 39,
    "start_time": "2021-08-30T08:24:06.155Z"
   },
   {
    "duration": 32,
    "start_time": "2021-08-30T08:24:10.361Z"
   },
   {
    "duration": 312,
    "start_time": "2021-08-30T08:33:15.045Z"
   },
   {
    "duration": 12,
    "start_time": "2021-08-30T08:33:25.901Z"
   },
   {
    "duration": 11,
    "start_time": "2021-08-30T08:34:32.782Z"
   },
   {
    "duration": 12,
    "start_time": "2021-08-30T08:35:19.424Z"
   },
   {
    "duration": 18,
    "start_time": "2021-08-30T08:35:24.306Z"
   },
   {
    "duration": 1435,
    "start_time": "2021-08-30T12:38:45.930Z"
   },
   {
    "duration": 23,
    "start_time": "2021-08-30T12:38:56.082Z"
   },
   {
    "duration": 21,
    "start_time": "2021-08-30T12:39:14.473Z"
   },
   {
    "duration": 22,
    "start_time": "2021-08-30T12:39:24.468Z"
   },
   {
    "duration": 817,
    "start_time": "2021-08-31T07:39:09.116Z"
   },
   {
    "duration": 38,
    "start_time": "2021-08-31T07:39:09.935Z"
   },
   {
    "duration": 32,
    "start_time": "2021-08-31T07:39:09.977Z"
   },
   {
    "duration": 118,
    "start_time": "2021-08-31T07:39:10.012Z"
   },
   {
    "duration": 5398,
    "start_time": "2021-08-31T07:39:10.133Z"
   },
   {
    "duration": 49,
    "start_time": "2021-08-31T07:39:15.534Z"
   },
   {
    "duration": 30,
    "start_time": "2021-08-31T07:39:15.586Z"
   },
   {
    "duration": 344,
    "start_time": "2021-08-31T07:39:15.619Z"
   },
   {
    "duration": -54,
    "start_time": "2021-08-31T07:39:16.020Z"
   },
   {
    "duration": -60,
    "start_time": "2021-08-31T07:39:16.028Z"
   },
   {
    "duration": 70,
    "start_time": "2021-08-31T07:41:25.782Z"
   },
   {
    "duration": 27,
    "start_time": "2021-08-31T07:41:38.620Z"
   },
   {
    "duration": 23,
    "start_time": "2021-08-31T07:42:06.870Z"
   },
   {
    "duration": 22,
    "start_time": "2021-08-31T07:43:46.904Z"
   },
   {
    "duration": -46,
    "start_time": "2021-08-31T07:47:04.971Z"
   },
   {
    "duration": 7185,
    "start_time": "2021-08-31T08:47:59.733Z"
   },
   {
    "duration": 32,
    "start_time": "2021-08-31T08:48:16.124Z"
   },
   {
    "duration": 24,
    "start_time": "2021-08-31T08:48:18.413Z"
   },
   {
    "duration": 853,
    "start_time": "2021-08-31T19:54:34.242Z"
   },
   {
    "duration": 46,
    "start_time": "2021-08-31T19:54:35.099Z"
   },
   {
    "duration": 50,
    "start_time": "2021-08-31T19:54:35.164Z"
   },
   {
    "duration": 118,
    "start_time": "2021-08-31T19:54:35.218Z"
   },
   {
    "duration": 5797,
    "start_time": "2021-08-31T19:54:35.338Z"
   },
   {
    "duration": 51,
    "start_time": "2021-08-31T19:54:41.138Z"
   },
   {
    "duration": 29,
    "start_time": "2021-08-31T19:54:41.192Z"
   },
   {
    "duration": 47,
    "start_time": "2021-08-31T19:54:41.224Z"
   },
   {
    "duration": 22,
    "start_time": "2021-08-31T19:54:41.273Z"
   },
   {
    "duration": 23,
    "start_time": "2021-08-31T19:54:41.297Z"
   },
   {
    "duration": 742,
    "start_time": "2021-09-01T16:33:28.968Z"
   },
   {
    "duration": 22,
    "start_time": "2021-09-01T16:33:29.712Z"
   },
   {
    "duration": 33,
    "start_time": "2021-09-01T16:33:29.736Z"
   },
   {
    "duration": 67,
    "start_time": "2021-09-01T16:33:29.771Z"
   },
   {
    "duration": 4302,
    "start_time": "2021-09-01T16:33:29.840Z"
   },
   {
    "duration": 24,
    "start_time": "2021-09-01T16:33:34.144Z"
   },
   {
    "duration": 7,
    "start_time": "2021-09-01T16:34:42.378Z"
   },
   {
    "duration": 670,
    "start_time": "2021-09-01T17:46:04.469Z"
   },
   {
    "duration": 80,
    "start_time": "2021-09-01T17:46:21.255Z"
   },
   {
    "duration": 629,
    "start_time": "2021-09-01T17:46:49.319Z"
   },
   {
    "duration": 81,
    "start_time": "2021-09-01T17:47:14.443Z"
   },
   {
    "duration": 80,
    "start_time": "2021-09-01T17:50:29.805Z"
   },
   {
    "duration": 83,
    "start_time": "2021-09-01T17:53:09.512Z"
   },
   {
    "duration": 12,
    "start_time": "2021-09-01T18:09:42.392Z"
   },
   {
    "duration": 1139,
    "start_time": "2021-09-01T18:11:07.544Z"
   },
   {
    "duration": 16,
    "start_time": "2021-09-01T18:11:29.573Z"
   },
   {
    "duration": 15,
    "start_time": "2021-09-01T18:12:48.255Z"
   },
   {
    "duration": 16,
    "start_time": "2021-09-01T18:17:12.783Z"
   },
   {
    "duration": 17,
    "start_time": "2021-09-01T18:17:34.939Z"
   },
   {
    "duration": 27,
    "start_time": "2021-09-01T18:17:40.874Z"
   },
   {
    "duration": 44,
    "start_time": "2021-09-01T18:21:44.485Z"
   },
   {
    "duration": 32,
    "start_time": "2021-09-01T18:21:55.841Z"
   },
   {
    "duration": 107,
    "start_time": "2021-09-01T18:28:14.234Z"
   },
   {
    "duration": 102,
    "start_time": "2021-09-01T18:28:24.580Z"
   },
   {
    "duration": 96,
    "start_time": "2021-09-01T18:28:57.507Z"
   },
   {
    "duration": 103,
    "start_time": "2021-09-01T18:29:12.099Z"
   },
   {
    "duration": 97,
    "start_time": "2021-09-01T18:29:29.558Z"
   },
   {
    "duration": 110,
    "start_time": "2021-09-01T18:29:56.322Z"
   },
   {
    "duration": 102,
    "start_time": "2021-09-01T18:32:01.559Z"
   },
   {
    "duration": 82,
    "start_time": "2021-09-01T18:32:25.567Z"
   },
   {
    "duration": 103,
    "start_time": "2021-09-01T18:32:30.915Z"
   },
   {
    "duration": 676,
    "start_time": "2021-09-01T18:32:40.981Z"
   },
   {
    "duration": 104,
    "start_time": "2021-09-01T18:32:41.659Z"
   },
   {
    "duration": 322,
    "start_time": "2021-09-01T18:32:41.443Z"
   },
   {
    "duration": 319,
    "start_time": "2021-09-01T18:32:41.447Z"
   },
   {
    "duration": 318,
    "start_time": "2021-09-01T18:32:41.450Z"
   },
   {
    "duration": 316,
    "start_time": "2021-09-01T18:32:41.453Z"
   },
   {
    "duration": 314,
    "start_time": "2021-09-01T18:32:41.457Z"
   },
   {
    "duration": 292,
    "start_time": "2021-09-01T18:32:41.480Z"
   },
   {
    "duration": 290,
    "start_time": "2021-09-01T18:32:41.484Z"
   },
   {
    "duration": 285,
    "start_time": "2021-09-01T18:32:41.490Z"
   },
   {
    "duration": 282,
    "start_time": "2021-09-01T18:32:41.495Z"
   },
   {
    "duration": 96,
    "start_time": "2021-09-01T18:33:05.939Z"
   },
   {
    "duration": 7908,
    "start_time": "2021-09-01T18:34:32.732Z"
   },
   {
    "duration": 81,
    "start_time": "2021-09-01T18:34:51.476Z"
   },
   {
    "duration": 8972,
    "start_time": "2021-09-01T18:34:56.656Z"
   },
   {
    "duration": 8032,
    "start_time": "2021-09-01T18:35:34.083Z"
   },
   {
    "duration": 8369,
    "start_time": "2021-09-01T18:36:43.465Z"
   },
   {
    "duration": 8199,
    "start_time": "2021-09-01T18:37:06.278Z"
   },
   {
    "duration": 16,
    "start_time": "2021-09-01T18:37:24.125Z"
   },
   {
    "duration": 17,
    "start_time": "2021-09-01T18:37:45.495Z"
   },
   {
    "duration": 20,
    "start_time": "2021-09-01T18:45:21.856Z"
   },
   {
    "duration": 330,
    "start_time": "2021-09-01T18:46:06.770Z"
   },
   {
    "duration": 37,
    "start_time": "2021-09-01T18:46:14.672Z"
   },
   {
    "duration": 45,
    "start_time": "2021-09-01T18:46:59.206Z"
   },
   {
    "duration": 315,
    "start_time": "2021-09-01T18:52:02.972Z"
   },
   {
    "duration": 330,
    "start_time": "2021-09-01T18:53:25.843Z"
   },
   {
    "duration": 50,
    "start_time": "2021-09-01T19:11:41.970Z"
   },
   {
    "duration": 337,
    "start_time": "2021-09-01T19:12:35.166Z"
   },
   {
    "duration": 82,
    "start_time": "2021-09-01T19:13:37.958Z"
   },
   {
    "duration": 107,
    "start_time": "2021-09-01T19:14:17.138Z"
   },
   {
    "duration": 111,
    "start_time": "2021-09-01T19:28:45.035Z"
   },
   {
    "duration": 393,
    "start_time": "2021-09-01T19:30:46.526Z"
   },
   {
    "duration": 773,
    "start_time": "2021-09-01T19:34:11.209Z"
   },
   {
    "duration": 111,
    "start_time": "2021-09-01T19:39:51.080Z"
   },
   {
    "duration": 208,
    "start_time": "2021-09-01T19:43:09.591Z"
   },
   {
    "duration": 112,
    "start_time": "2021-09-01T19:48:50.264Z"
   },
   {
    "duration": 103,
    "start_time": "2021-09-01T19:50:18.038Z"
   },
   {
    "duration": 97,
    "start_time": "2021-09-01T19:50:24.256Z"
   },
   {
    "duration": 128,
    "start_time": "2021-09-01T19:50:25.100Z"
   },
   {
    "duration": 67,
    "start_time": "2021-09-01T19:52:56.495Z"
   },
   {
    "duration": 77,
    "start_time": "2021-09-01T19:53:09.420Z"
   },
   {
    "duration": 628,
    "start_time": "2021-09-01T19:53:46.916Z"
   },
   {
    "duration": 91,
    "start_time": "2021-09-01T19:53:47.546Z"
   },
   {
    "duration": 19,
    "start_time": "2021-09-01T19:53:47.639Z"
   },
   {
    "duration": 88,
    "start_time": "2021-09-01T19:53:47.660Z"
   },
   {
    "duration": 1256,
    "start_time": "2021-09-01T19:53:47.749Z"
   },
   {
    "duration": -185,
    "start_time": "2021-09-01T19:53:49.193Z"
   },
   {
    "duration": -189,
    "start_time": "2021-09-01T19:53:49.198Z"
   },
   {
    "duration": -200,
    "start_time": "2021-09-01T19:53:49.209Z"
   },
   {
    "duration": -203,
    "start_time": "2021-09-01T19:53:49.213Z"
   },
   {
    "duration": -215,
    "start_time": "2021-09-01T19:53:49.226Z"
   },
   {
    "duration": -218,
    "start_time": "2021-09-01T19:53:49.230Z"
   },
   {
    "duration": 78,
    "start_time": "2021-09-01T19:54:21.431Z"
   },
   {
    "duration": 1157,
    "start_time": "2021-09-01T19:54:27.441Z"
   },
   {
    "duration": 650,
    "start_time": "2021-09-01T19:55:11.002Z"
   },
   {
    "duration": 83,
    "start_time": "2021-09-01T19:55:17.602Z"
   },
   {
    "duration": 20,
    "start_time": "2021-09-01T19:55:26.105Z"
   },
   {
    "duration": 475,
    "start_time": "2021-09-01T19:55:46.122Z"
   },
   {
    "duration": 85,
    "start_time": "2021-09-01T19:55:57.823Z"
   },
   {
    "duration": 377,
    "start_time": "2021-09-01T19:56:02.757Z"
   },
   {
    "duration": 660,
    "start_time": "2021-09-01T19:56:40.486Z"
   },
   {
    "duration": 80,
    "start_time": "2021-09-01T19:56:46.427Z"
   },
   {
    "duration": 20,
    "start_time": "2021-09-01T19:56:55.086Z"
   },
   {
    "duration": 76,
    "start_time": "2021-09-01T19:57:02.449Z"
   },
   {
    "duration": 1212,
    "start_time": "2021-09-01T19:57:25.797Z"
   },
   {
    "duration": 1199,
    "start_time": "2021-09-01T19:57:36.891Z"
   },
   {
    "duration": 659,
    "start_time": "2021-09-01T19:59:36.410Z"
   },
   {
    "duration": 674,
    "start_time": "2021-09-01T20:00:07.812Z"
   },
   {
    "duration": 8568,
    "start_time": "2021-09-01T20:00:45.457Z"
   },
   {
    "duration": 1489,
    "start_time": "2021-09-01T20:01:24.163Z"
   },
   {
    "duration": 671,
    "start_time": "2021-09-01T20:01:35.567Z"
   },
   {
    "duration": 683,
    "start_time": "2021-09-01T20:02:30.880Z"
   },
   {
    "duration": 666,
    "start_time": "2021-09-01T20:04:33.722Z"
   },
   {
    "duration": 681,
    "start_time": "2021-09-01T20:06:31.231Z"
   },
   {
    "duration": 697,
    "start_time": "2021-09-01T20:08:57.326Z"
   },
   {
    "duration": 675,
    "start_time": "2021-09-01T20:09:14.730Z"
   },
   {
    "duration": 675,
    "start_time": "2021-09-01T20:09:33.200Z"
   },
   {
    "duration": 86,
    "start_time": "2021-09-01T20:09:41.286Z"
   },
   {
    "duration": 19,
    "start_time": "2021-09-01T20:09:57.102Z"
   },
   {
    "duration": 77,
    "start_time": "2021-09-01T20:10:07.694Z"
   },
   {
    "duration": 676,
    "start_time": "2021-09-01T20:10:21.228Z"
   },
   {
    "duration": 384,
    "start_time": "2021-09-01T20:10:39.781Z"
   },
   {
    "duration": 7,
    "start_time": "2021-09-01T20:11:00.541Z"
   },
   {
    "duration": 308,
    "start_time": "2021-09-01T20:11:16.544Z"
   },
   {
    "duration": 679,
    "start_time": "2021-09-01T20:11:25.569Z"
   },
   {
    "duration": 321,
    "start_time": "2021-09-01T20:11:32.127Z"
   },
   {
    "duration": 943,
    "start_time": "2021-09-02T07:54:33.886Z"
   },
   {
    "duration": 96,
    "start_time": "2021-09-02T07:54:38.420Z"
   },
   {
    "duration": 137,
    "start_time": "2021-09-02T07:54:51.654Z"
   },
   {
    "duration": 25,
    "start_time": "2021-09-02T07:55:54.799Z"
   },
   {
    "duration": 85,
    "start_time": "2021-09-02T07:55:59.089Z"
   },
   {
    "duration": 744,
    "start_time": "2021-09-02T07:56:03.178Z"
   },
   {
    "duration": 753,
    "start_time": "2021-09-02T07:56:20.222Z"
   },
   {
    "duration": 24203,
    "start_time": "2021-09-02T07:56:49.278Z"
   },
   {
    "duration": 19725,
    "start_time": "2021-09-02T07:58:21.305Z"
   },
   {
    "duration": 779,
    "start_time": "2021-09-02T07:58:59.158Z"
   },
   {
    "duration": 5,
    "start_time": "2021-09-02T07:59:43.537Z"
   },
   {
    "duration": 203,
    "start_time": "2021-09-02T08:04:00.015Z"
   },
   {
    "duration": 869,
    "start_time": "2021-09-02T08:04:06.048Z"
   },
   {
    "duration": 6,
    "start_time": "2021-09-02T08:04:26.159Z"
   },
   {
    "duration": 9,
    "start_time": "2021-09-02T08:04:33.405Z"
   },
   {
    "duration": 249,
    "start_time": "2021-09-02T08:05:06.149Z"
   },
   {
    "duration": 2993,
    "start_time": "2021-09-02T08:07:42.379Z"
   },
   {
    "duration": 2974,
    "start_time": "2021-09-02T08:08:05.503Z"
   },
   {
    "duration": 33061,
    "start_time": "2021-09-02T08:09:05.662Z"
   },
   {
    "duration": 1287,
    "start_time": "2021-09-02T08:10:52.083Z"
   },
   {
    "duration": 100,
    "start_time": "2021-09-02T08:10:55.900Z"
   },
   {
    "duration": 30,
    "start_time": "2021-09-02T08:10:59.497Z"
   },
   {
    "duration": 93,
    "start_time": "2021-09-02T08:11:02.167Z"
   },
   {
    "duration": 2449,
    "start_time": "2021-09-02T08:11:06.131Z"
   },
   {
    "duration": 10,
    "start_time": "2021-09-02T08:11:38.137Z"
   },
   {
    "duration": 10,
    "start_time": "2021-09-02T08:13:35.066Z"
   },
   {
    "duration": 831,
    "start_time": "2021-09-02T08:18:46.746Z"
   },
   {
    "duration": 672,
    "start_time": "2021-09-02T08:19:28.227Z"
   },
   {
    "duration": 822,
    "start_time": "2021-09-02T08:19:37.227Z"
   },
   {
    "duration": 101,
    "start_time": "2021-09-02T08:26:32.617Z"
   },
   {
    "duration": 95,
    "start_time": "2021-09-02T08:26:35.370Z"
   },
   {
    "duration": 22,
    "start_time": "2021-09-02T08:26:39.193Z"
   },
   {
    "duration": 87,
    "start_time": "2021-09-02T08:26:41.976Z"
   },
   {
    "duration": 951,
    "start_time": "2021-09-02T08:26:45.173Z"
   },
   {
    "duration": 933,
    "start_time": "2021-09-02T08:27:24.409Z"
   },
   {
    "duration": 6,
    "start_time": "2021-09-02T08:27:40.483Z"
   },
   {
    "duration": 1780,
    "start_time": "2021-09-02T08:29:21.498Z"
   },
   {
    "duration": -52,
    "start_time": "2021-09-02T08:31:19.812Z"
   },
   {
    "duration": 753,
    "start_time": "2021-09-02T08:31:45.118Z"
   },
   {
    "duration": 99,
    "start_time": "2021-09-02T08:31:48.459Z"
   },
   {
    "duration": 20,
    "start_time": "2021-09-02T08:31:52.524Z"
   },
   {
    "duration": 83,
    "start_time": "2021-09-02T08:31:54.931Z"
   },
   {
    "duration": 24137,
    "start_time": "2021-09-02T08:32:00.395Z"
   },
   {
    "duration": 7,
    "start_time": "2021-09-02T08:35:19.980Z"
   },
   {
    "duration": 7,
    "start_time": "2021-09-02T08:35:38.741Z"
   },
   {
    "duration": 6,
    "start_time": "2021-09-02T08:36:20.709Z"
   },
   {
    "duration": 8,
    "start_time": "2021-09-02T08:36:30.171Z"
   },
   {
    "duration": 2098,
    "start_time": "2021-09-02T08:36:43.828Z"
   },
   {
    "duration": 3008,
    "start_time": "2021-09-02T08:37:04.527Z"
   },
   {
    "duration": 2724,
    "start_time": "2021-09-02T08:37:19.178Z"
   },
   {
    "duration": 3164,
    "start_time": "2021-09-02T08:37:34.659Z"
   },
   {
    "duration": 3976,
    "start_time": "2021-09-02T08:37:51.397Z"
   },
   {
    "duration": 26,
    "start_time": "2021-09-02T08:38:22.604Z"
   },
   {
    "duration": 15,
    "start_time": "2021-09-02T08:46:06.259Z"
   },
   {
    "duration": 37,
    "start_time": "2021-09-02T08:48:46.357Z"
   },
   {
    "duration": 10,
    "start_time": "2021-09-02T08:49:04.026Z"
   },
   {
    "duration": 24,
    "start_time": "2021-09-02T08:49:23.739Z"
   },
   {
    "duration": 205,
    "start_time": "2021-09-02T09:31:05.427Z"
   },
   {
    "duration": 126,
    "start_time": "2021-09-02T09:31:18.675Z"
   },
   {
    "duration": 141,
    "start_time": "2021-09-02T09:31:47.586Z"
   },
   {
    "duration": 139,
    "start_time": "2021-09-02T09:32:00.087Z"
   },
   {
    "duration": 171,
    "start_time": "2021-09-02T09:32:11.357Z"
   },
   {
    "duration": 125,
    "start_time": "2021-09-02T09:33:08.923Z"
   },
   {
    "duration": 1054,
    "start_time": "2021-09-02T09:33:18.931Z"
   },
   {
    "duration": 102,
    "start_time": "2021-09-02T09:33:23.395Z"
   },
   {
    "duration": 301,
    "start_time": "2021-09-02T09:52:59.478Z"
   },
   {
    "duration": 242,
    "start_time": "2021-09-02T09:54:34.529Z"
   },
   {
    "duration": 210,
    "start_time": "2021-09-02T09:54:44.088Z"
   },
   {
    "duration": 1343,
    "start_time": "2021-09-02T09:55:18.363Z"
   },
   {
    "duration": 1670,
    "start_time": "2021-09-02T09:55:28.540Z"
   },
   {
    "duration": 1317,
    "start_time": "2021-09-02T09:55:40.684Z"
   },
   {
    "duration": 1682,
    "start_time": "2021-09-02T10:00:04.508Z"
   },
   {
    "duration": 132,
    "start_time": "2021-09-02T12:27:40.784Z"
   },
   {
    "duration": 127,
    "start_time": "2021-09-02T12:29:16.684Z"
   },
   {
    "duration": 135,
    "start_time": "2021-09-02T12:29:21.721Z"
   },
   {
    "duration": 4397,
    "start_time": "2021-09-02T12:35:22.138Z"
   },
   {
    "duration": 7227,
    "start_time": "2021-09-02T12:35:37.026Z"
   },
   {
    "duration": 6348,
    "start_time": "2021-09-02T12:40:14.001Z"
   },
   {
    "duration": 505,
    "start_time": "2021-09-02T12:41:11.850Z"
   },
   {
    "duration": 5005,
    "start_time": "2021-09-02T12:41:52.411Z"
   },
   {
    "duration": 7276,
    "start_time": "2021-09-02T12:42:35.226Z"
   },
   {
    "duration": 1019,
    "start_time": "2021-09-02T12:45:30.913Z"
   },
   {
    "duration": 86,
    "start_time": "2021-09-02T12:45:44.534Z"
   },
   {
    "duration": 97,
    "start_time": "2021-09-02T12:45:47.770Z"
   },
   {
    "duration": 21,
    "start_time": "2021-09-02T13:00:00.975Z"
   },
   {
    "duration": 1207,
    "start_time": "2021-09-02T13:00:20.783Z"
   },
   {
    "duration": 881,
    "start_time": "2021-09-02T13:00:29.056Z"
   },
   {
    "duration": 21,
    "start_time": "2021-09-02T13:00:36.100Z"
   },
   {
    "duration": 101,
    "start_time": "2021-09-02T13:00:40.540Z"
   },
   {
    "duration": 82,
    "start_time": "2021-09-02T13:00:49.519Z"
   },
   {
    "duration": 4208,
    "start_time": "2021-09-02T13:00:52.357Z"
   },
   {
    "duration": 28,
    "start_time": "2021-09-02T13:01:12.551Z"
   },
   {
    "duration": 17,
    "start_time": "2021-09-02T13:03:36.688Z"
   },
   {
    "duration": 74,
    "start_time": "2021-09-02T13:04:53.809Z"
   },
   {
    "duration": 105,
    "start_time": "2021-09-02T13:04:53.885Z"
   },
   {
    "duration": 4250,
    "start_time": "2021-09-02T13:04:54.107Z"
   },
   {
    "duration": 41,
    "start_time": "2021-09-02T13:04:58.360Z"
   },
   {
    "duration": 18,
    "start_time": "2021-09-02T13:05:02.262Z"
   },
   {
    "duration": 17,
    "start_time": "2021-09-02T13:06:39.735Z"
   },
   {
    "duration": 23,
    "start_time": "2021-09-02T13:06:46.618Z"
   },
   {
    "duration": 24,
    "start_time": "2021-09-02T13:07:03.931Z"
   },
   {
    "duration": 4215,
    "start_time": "2021-09-02T13:10:12.271Z"
   },
   {
    "duration": 4331,
    "start_time": "2021-09-02T13:57:45.155Z"
   },
   {
    "duration": 3830,
    "start_time": "2021-09-02T14:20:32.221Z"
   },
   {
    "duration": 3748,
    "start_time": "2021-09-02T14:20:43.546Z"
   },
   {
    "duration": 129,
    "start_time": "2021-09-02T14:25:01.743Z"
   },
   {
    "duration": 815,
    "start_time": "2021-09-02T14:25:18.271Z"
   },
   {
    "duration": 110,
    "start_time": "2021-09-02T14:25:19.088Z"
   },
   {
    "duration": 21,
    "start_time": "2021-09-02T14:25:19.200Z"
   },
   {
    "duration": 89,
    "start_time": "2021-09-02T14:25:19.223Z"
   },
   {
    "duration": 2155,
    "start_time": "2021-09-02T14:25:19.314Z"
   },
   {
    "duration": -27,
    "start_time": "2021-09-02T14:25:21.498Z"
   },
   {
    "duration": -35,
    "start_time": "2021-09-02T14:25:21.507Z"
   },
   {
    "duration": -39,
    "start_time": "2021-09-02T14:25:21.512Z"
   },
   {
    "duration": -41,
    "start_time": "2021-09-02T14:25:21.514Z"
   },
   {
    "duration": -44,
    "start_time": "2021-09-02T14:25:21.518Z"
   },
   {
    "duration": -46,
    "start_time": "2021-09-02T14:25:21.521Z"
   },
   {
    "duration": 1934,
    "start_time": "2021-09-02T14:28:01.440Z"
   },
   {
    "duration": 1888,
    "start_time": "2021-09-02T14:28:22.904Z"
   },
   {
    "duration": 5,
    "start_time": "2021-09-02T14:28:36.776Z"
   },
   {
    "duration": 84,
    "start_time": "2021-09-02T14:31:03.661Z"
   },
   {
    "duration": 78,
    "start_time": "2021-09-02T14:31:28.280Z"
   },
   {
    "duration": 88,
    "start_time": "2021-09-02T14:32:29.231Z"
   },
   {
    "duration": 3779,
    "start_time": "2021-09-02T14:32:35.696Z"
   },
   {
    "duration": 29,
    "start_time": "2021-09-02T14:32:56.295Z"
   },
   {
    "duration": 16,
    "start_time": "2021-09-02T14:32:59.223Z"
   },
   {
    "duration": 17,
    "start_time": "2021-09-02T14:33:05.776Z"
   },
   {
    "duration": 16,
    "start_time": "2021-09-02T14:33:10.160Z"
   },
   {
    "duration": 17,
    "start_time": "2021-09-02T14:33:29.175Z"
   },
   {
    "duration": 3686,
    "start_time": "2021-09-02T14:33:56.400Z"
   },
   {
    "duration": 32514,
    "start_time": "2021-09-02T14:36:28.272Z"
   },
   {
    "duration": 180,
    "start_time": "2021-09-02T14:38:59.863Z"
   },
   {
    "duration": 2186,
    "start_time": "2021-09-02T14:39:17.112Z"
   },
   {
    "duration": 163,
    "start_time": "2021-09-02T14:39:44.158Z"
   },
   {
    "duration": 103,
    "start_time": "2021-09-02T15:04:38.343Z"
   },
   {
    "duration": 1257,
    "start_time": "2021-09-02T15:04:45.271Z"
   },
   {
    "duration": 858,
    "start_time": "2021-09-02T15:04:57.209Z"
   },
   {
    "duration": 96,
    "start_time": "2021-09-02T15:04:58.070Z"
   },
   {
    "duration": 22,
    "start_time": "2021-09-02T15:04:58.168Z"
   },
   {
    "duration": 73,
    "start_time": "2021-09-02T15:04:58.191Z"
   },
   {
    "duration": 1986,
    "start_time": "2021-09-02T15:04:58.265Z"
   },
   {
    "duration": -32,
    "start_time": "2021-09-02T15:05:00.286Z"
   },
   {
    "duration": -35,
    "start_time": "2021-09-02T15:05:00.290Z"
   },
   {
    "duration": -36,
    "start_time": "2021-09-02T15:05:00.292Z"
   },
   {
    "duration": -37,
    "start_time": "2021-09-02T15:05:00.294Z"
   },
   {
    "duration": -38,
    "start_time": "2021-09-02T15:05:00.296Z"
   },
   {
    "duration": -39,
    "start_time": "2021-09-02T15:05:00.298Z"
   },
   {
    "duration": 59,
    "start_time": "2021-09-02T15:08:32.819Z"
   },
   {
    "duration": 59,
    "start_time": "2021-09-02T15:15:35.074Z"
   },
   {
    "duration": 64,
    "start_time": "2021-09-02T15:16:12.892Z"
   },
   {
    "duration": 68,
    "start_time": "2021-09-02T15:16:47.309Z"
   },
   {
    "duration": 89,
    "start_time": "2021-09-02T15:16:59.787Z"
   },
   {
    "duration": 3975,
    "start_time": "2021-09-02T15:17:26.533Z"
   },
   {
    "duration": 36,
    "start_time": "2021-09-02T15:17:35.515Z"
   },
   {
    "duration": 17,
    "start_time": "2021-09-02T15:17:40.382Z"
   },
   {
    "duration": 18,
    "start_time": "2021-09-02T15:17:42.914Z"
   },
   {
    "duration": 16,
    "start_time": "2021-09-02T15:17:45.192Z"
   },
   {
    "duration": 16,
    "start_time": "2021-09-02T15:17:47.884Z"
   },
   {
    "duration": 738,
    "start_time": "2021-09-02T15:18:11.836Z"
   },
   {
    "duration": 97,
    "start_time": "2021-09-02T15:18:12.577Z"
   },
   {
    "duration": 27,
    "start_time": "2021-09-02T15:18:12.676Z"
   },
   {
    "duration": 108,
    "start_time": "2021-09-02T15:18:12.705Z"
   },
   {
    "duration": 3961,
    "start_time": "2021-09-02T15:18:12.815Z"
   },
   {
    "duration": 30,
    "start_time": "2021-09-02T15:18:16.785Z"
   },
   {
    "duration": 6,
    "start_time": "2021-09-02T15:18:16.816Z"
   },
   {
    "duration": 21,
    "start_time": "2021-09-02T15:18:16.824Z"
   },
   {
    "duration": 15,
    "start_time": "2021-09-02T15:18:16.847Z"
   },
   {
    "duration": 35,
    "start_time": "2021-09-02T15:18:16.863Z"
   },
   {
    "duration": 13,
    "start_time": "2021-09-02T15:18:16.899Z"
   },
   {
    "duration": 85,
    "start_time": "2021-09-02T15:18:18.578Z"
   },
   {
    "duration": 105,
    "start_time": "2021-09-02T15:18:18.665Z"
   },
   {
    "duration": 27,
    "start_time": "2021-09-02T15:18:18.772Z"
   },
   {
    "duration": 89,
    "start_time": "2021-09-02T15:18:18.801Z"
   },
   {
    "duration": 3924,
    "start_time": "2021-09-02T15:18:18.892Z"
   },
   {
    "duration": 32,
    "start_time": "2021-09-02T15:18:22.818Z"
   },
   {
    "duration": 7,
    "start_time": "2021-09-02T15:18:22.851Z"
   },
   {
    "duration": 33,
    "start_time": "2021-09-02T15:18:22.861Z"
   },
   {
    "duration": 17,
    "start_time": "2021-09-02T15:18:22.896Z"
   },
   {
    "duration": 15,
    "start_time": "2021-09-02T15:18:22.915Z"
   },
   {
    "duration": 17,
    "start_time": "2021-09-02T15:18:22.931Z"
   },
   {
    "duration": 3825,
    "start_time": "2021-09-02T15:20:12.350Z"
   },
   {
    "duration": 3911,
    "start_time": "2021-09-02T15:27:11.253Z"
   },
   {
    "duration": 755,
    "start_time": "2021-09-02T15:28:26.944Z"
   },
   {
    "duration": 115,
    "start_time": "2021-09-02T15:28:27.702Z"
   },
   {
    "duration": 22,
    "start_time": "2021-09-02T15:28:27.819Z"
   },
   {
    "duration": 106,
    "start_time": "2021-09-02T15:28:27.843Z"
   },
   {
    "duration": 86,
    "start_time": "2021-09-02T15:28:32.584Z"
   },
   {
    "duration": 100,
    "start_time": "2021-09-02T15:28:32.672Z"
   },
   {
    "duration": 25,
    "start_time": "2021-09-02T15:28:32.773Z"
   },
   {
    "duration": 101,
    "start_time": "2021-09-02T15:28:32.800Z"
   },
   {
    "duration": 4229,
    "start_time": "2021-09-02T15:28:32.903Z"
   },
   {
    "duration": 31,
    "start_time": "2021-09-02T15:28:37.134Z"
   },
   {
    "duration": 20,
    "start_time": "2021-09-02T15:28:37.166Z"
   },
   {
    "duration": 17,
    "start_time": "2021-09-02T15:28:37.188Z"
   },
   {
    "duration": 20,
    "start_time": "2021-09-02T15:28:37.207Z"
   },
   {
    "duration": 22,
    "start_time": "2021-09-02T15:28:37.229Z"
   },
   {
    "duration": 46,
    "start_time": "2021-09-02T15:28:37.254Z"
   },
   {
    "duration": 651,
    "start_time": "2021-09-03T07:37:06.571Z"
   },
   {
    "duration": 111,
    "start_time": "2021-09-03T07:37:07.224Z"
   },
   {
    "duration": 21,
    "start_time": "2021-09-03T07:37:07.337Z"
   },
   {
    "duration": 10,
    "start_time": "2021-09-03T07:37:07.359Z"
   },
   {
    "duration": 83,
    "start_time": "2021-09-03T07:40:36.561Z"
   },
   {
    "duration": 110,
    "start_time": "2021-09-03T07:40:36.646Z"
   },
   {
    "duration": 29,
    "start_time": "2021-09-03T07:40:36.758Z"
   },
   {
    "duration": 85,
    "start_time": "2021-09-03T07:40:36.789Z"
   },
   {
    "duration": 3744,
    "start_time": "2021-09-03T07:40:36.885Z"
   },
   {
    "duration": 259,
    "start_time": "2021-09-03T07:40:40.631Z"
   },
   {
    "duration": -1348,
    "start_time": "2021-09-03T07:40:42.240Z"
   },
   {
    "duration": 21,
    "start_time": "2021-09-03T07:40:46.780Z"
   },
   {
    "duration": 7,
    "start_time": "2021-09-03T07:40:49.010Z"
   },
   {
    "duration": 19,
    "start_time": "2021-09-03T07:41:25.098Z"
   },
   {
    "duration": 16,
    "start_time": "2021-09-03T07:41:25.119Z"
   },
   {
    "duration": 14,
    "start_time": "2021-09-03T07:41:25.137Z"
   },
   {
    "duration": 14,
    "start_time": "2021-09-03T07:41:25.153Z"
   },
   {
    "duration": 8,
    "start_time": "2021-09-03T07:44:27.907Z"
   },
   {
    "duration": 86,
    "start_time": "2021-09-03T07:44:43.799Z"
   },
   {
    "duration": 7,
    "start_time": "2021-09-03T07:44:43.886Z"
   },
   {
    "duration": 83,
    "start_time": "2021-09-03T07:45:29.354Z"
   },
   {
    "duration": 6,
    "start_time": "2021-09-03T07:45:29.439Z"
   },
   {
    "duration": 116,
    "start_time": "2021-09-03T07:45:29.447Z"
   },
   {
    "duration": 6,
    "start_time": "2021-09-03T07:45:29.565Z"
   },
   {
    "duration": 616,
    "start_time": "2021-09-03T07:46:33.004Z"
   },
   {
    "duration": 8,
    "start_time": "2021-09-03T07:46:33.622Z"
   },
   {
    "duration": 107,
    "start_time": "2021-09-03T07:46:33.633Z"
   },
   {
    "duration": 8,
    "start_time": "2021-09-03T07:46:33.742Z"
   },
   {
    "duration": 7,
    "start_time": "2021-09-03T07:46:51.222Z"
   },
   {
    "duration": 128,
    "start_time": "2021-09-03T07:47:09.122Z"
   },
   {
    "duration": 7,
    "start_time": "2021-09-03T07:47:10.462Z"
   },
   {
    "duration": 7,
    "start_time": "2021-09-03T07:47:15.815Z"
   },
   {
    "duration": 126,
    "start_time": "2021-09-03T07:47:21.759Z"
   },
   {
    "duration": 5,
    "start_time": "2021-09-03T07:47:49.821Z"
   },
   {
    "duration": 82,
    "start_time": "2021-09-03T07:49:46.773Z"
   },
   {
    "duration": 7,
    "start_time": "2021-09-03T07:49:46.857Z"
   },
   {
    "duration": 41,
    "start_time": "2021-09-03T07:49:46.866Z"
   },
   {
    "duration": 4,
    "start_time": "2021-09-03T07:49:46.908Z"
   },
   {
    "duration": 7,
    "start_time": "2021-09-03T07:49:46.913Z"
   },
   {
    "duration": 17,
    "start_time": "2021-09-03T07:50:28.008Z"
   },
   {
    "duration": 7,
    "start_time": "2021-09-03T07:50:29.135Z"
   },
   {
    "duration": 9,
    "start_time": "2021-09-03T07:50:29.993Z"
   },
   {
    "duration": 23,
    "start_time": "2021-09-03T07:50:38.467Z"
   },
   {
    "duration": 97,
    "start_time": "2021-09-03T07:50:38.491Z"
   },
   {
    "duration": 3801,
    "start_time": "2021-09-03T07:50:38.590Z"
   },
   {
    "duration": 19,
    "start_time": "2021-09-03T07:50:42.393Z"
   },
   {
    "duration": 6,
    "start_time": "2021-09-03T07:50:42.414Z"
   },
   {
    "duration": 21,
    "start_time": "2021-09-03T07:50:42.422Z"
   },
   {
    "duration": 15,
    "start_time": "2021-09-03T07:50:42.444Z"
   },
   {
    "duration": 36,
    "start_time": "2021-09-03T07:50:42.460Z"
   },
   {
    "duration": 13,
    "start_time": "2021-09-03T07:50:42.497Z"
   },
   {
    "duration": 1143,
    "start_time": "2021-09-03T07:55:01.293Z"
   },
   {
    "duration": 4,
    "start_time": "2021-09-03T07:55:17.926Z"
   },
   {
    "duration": 4385,
    "start_time": "2021-09-03T07:55:37.484Z"
   },
   {
    "duration": 837,
    "start_time": "2021-09-03T07:56:20.202Z"
   },
   {
    "duration": 3,
    "start_time": "2021-09-03T07:56:39.812Z"
   },
   {
    "duration": 176,
    "start_time": "2021-09-03T07:56:55.261Z"
   },
   {
    "duration": 736,
    "start_time": "2021-09-03T07:57:32.222Z"
   },
   {
    "duration": 692,
    "start_time": "2021-09-03T07:57:51.801Z"
   },
   {
    "duration": 12,
    "start_time": "2021-09-03T07:58:01.718Z"
   },
   {
    "duration": 274,
    "start_time": "2021-09-03T07:58:24.116Z"
   },
   {
    "duration": 4852,
    "start_time": "2021-09-03T07:58:48.393Z"
   },
   {
    "duration": 55,
    "start_time": "2021-09-03T08:02:27.128Z"
   },
   {
    "duration": 794,
    "start_time": "2022-03-01T18:03:46.235Z"
   },
   {
    "duration": 61,
    "start_time": "2022-03-01T18:03:47.032Z"
   },
   {
    "duration": 31,
    "start_time": "2022-03-01T18:03:47.097Z"
   },
   {
    "duration": 16,
    "start_time": "2022-03-01T18:03:47.131Z"
   },
   {
    "duration": 76,
    "start_time": "2022-03-01T18:03:47.149Z"
   },
   {
    "duration": 94,
    "start_time": "2022-03-01T18:03:47.227Z"
   },
   {
    "duration": 3,
    "start_time": "2022-03-01T18:03:47.324Z"
   },
   {
    "duration": 52,
    "start_time": "2022-03-01T18:03:47.331Z"
   },
   {
    "duration": 167,
    "start_time": "2022-03-01T18:03:47.386Z"
   },
   {
    "duration": 7137,
    "start_time": "2022-03-01T18:03:47.556Z"
   },
   {
    "duration": 34,
    "start_time": "2022-03-01T18:03:54.697Z"
   },
   {
    "duration": 45,
    "start_time": "2022-03-01T18:03:54.734Z"
   },
   {
    "duration": 29,
    "start_time": "2022-03-01T18:03:54.782Z"
   },
   {
    "duration": 23,
    "start_time": "2022-03-01T18:03:54.814Z"
   },
   {
    "duration": 53,
    "start_time": "2022-03-01T18:03:54.840Z"
   }
  ],
  "kernelspec": {
   "display_name": "Python 3",
   "language": "python",
   "name": "python3"
  },
  "language_info": {
   "codemirror_mode": {
    "name": "ipython",
    "version": 3
   },
   "file_extension": ".py",
   "mimetype": "text/x-python",
   "name": "python",
   "nbconvert_exporter": "python",
   "pygments_lexer": "ipython3",
   "version": "3.7.8"
  },
  "toc": {
   "base_numbering": 1,
   "nav_menu": {
    "height": "186px",
    "width": "260px"
   },
   "number_sections": true,
   "sideBar": true,
   "skip_h1_title": true,
   "title_cell": "Table of Contents",
   "title_sidebar": "Contents",
   "toc_cell": false,
   "toc_position": {},
   "toc_section_display": true,
   "toc_window_display": false
  }
 },
 "nbformat": 4,
 "nbformat_minor": 2
}
