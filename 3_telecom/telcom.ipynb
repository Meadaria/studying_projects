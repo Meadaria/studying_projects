{
 "cells": [
  {
   "cell_type": "markdown",
   "metadata": {},
   "source": [
    "## Изучение данных из файла"
   ]
  },
  {
   "cell_type": "code",
   "execution_count": 1,
   "metadata": {},
   "outputs": [],
   "source": [
    "# <импорт библиотек>\n",
    "import pandas as pd \n",
    "import math\n",
    "import numpy as np \n",
    "import matplotlib.pyplot as plt\n",
    "import seaborn as sns\n",
    "from scipy import stats as st\n",
    "# <чтение файла с данными>\n",
    "calls = pd.read_csv('/datasets/calls.csv', sep=',')\n",
    "internet= pd.read_csv('/datasets/internet.csv', sep=',',index_col=0)\n",
    "tariffs= pd.read_csv('/datasets/tariffs.csv', sep=',')\n",
    "users= pd.read_csv('/datasets/users.csv', sep=',')\n",
    "messages= pd.read_csv('/datasets/messages.csv', sep=',')"
   ]
  },
  {
   "cell_type": "markdown",
   "metadata": {},
   "source": [
    "    Изучение данных в талице calls"
   ]
  },
  {
   "cell_type": "code",
   "execution_count": 2,
   "metadata": {},
   "outputs": [
    {
     "name": "stdout",
     "output_type": "stream",
     "text": [
      "<class 'pandas.core.frame.DataFrame'>\n",
      "RangeIndex: 202607 entries, 0 to 202606\n",
      "Data columns (total 4 columns):\n",
      "id           202607 non-null object\n",
      "call_date    202607 non-null object\n",
      "duration     202607 non-null float64\n",
      "user_id      202607 non-null int64\n",
      "dtypes: float64(1), int64(1), object(2)\n",
      "memory usage: 6.2+ MB\n"
     ]
    },
    {
     "data": {
      "text/html": [
       "<div>\n",
       "<style scoped>\n",
       "    .dataframe tbody tr th:only-of-type {\n",
       "        vertical-align: middle;\n",
       "    }\n",
       "\n",
       "    .dataframe tbody tr th {\n",
       "        vertical-align: top;\n",
       "    }\n",
       "\n",
       "    .dataframe thead th {\n",
       "        text-align: right;\n",
       "    }\n",
       "</style>\n",
       "<table border=\"1\" class=\"dataframe\">\n",
       "  <thead>\n",
       "    <tr style=\"text-align: right;\">\n",
       "      <th></th>\n",
       "      <th>id</th>\n",
       "      <th>call_date</th>\n",
       "      <th>duration</th>\n",
       "      <th>user_id</th>\n",
       "    </tr>\n",
       "  </thead>\n",
       "  <tbody>\n",
       "    <tr>\n",
       "      <td>0</td>\n",
       "      <td>1000_0</td>\n",
       "      <td>2018-07-25</td>\n",
       "      <td>0.00</td>\n",
       "      <td>1000</td>\n",
       "    </tr>\n",
       "    <tr>\n",
       "      <td>1</td>\n",
       "      <td>1000_1</td>\n",
       "      <td>2018-08-17</td>\n",
       "      <td>0.00</td>\n",
       "      <td>1000</td>\n",
       "    </tr>\n",
       "    <tr>\n",
       "      <td>2</td>\n",
       "      <td>1000_2</td>\n",
       "      <td>2018-06-11</td>\n",
       "      <td>2.85</td>\n",
       "      <td>1000</td>\n",
       "    </tr>\n",
       "    <tr>\n",
       "      <td>3</td>\n",
       "      <td>1000_3</td>\n",
       "      <td>2018-09-21</td>\n",
       "      <td>13.80</td>\n",
       "      <td>1000</td>\n",
       "    </tr>\n",
       "    <tr>\n",
       "      <td>4</td>\n",
       "      <td>1000_4</td>\n",
       "      <td>2018-12-15</td>\n",
       "      <td>5.18</td>\n",
       "      <td>1000</td>\n",
       "    </tr>\n",
       "  </tbody>\n",
       "</table>\n",
       "</div>"
      ],
      "text/plain": [
       "       id   call_date  duration  user_id\n",
       "0  1000_0  2018-07-25      0.00     1000\n",
       "1  1000_1  2018-08-17      0.00     1000\n",
       "2  1000_2  2018-06-11      2.85     1000\n",
       "3  1000_3  2018-09-21     13.80     1000\n",
       "4  1000_4  2018-12-15      5.18     1000"
      ]
     },
     "execution_count": 2,
     "metadata": {},
     "output_type": "execute_result"
    }
   ],
   "source": [
    "calls.info()\n",
    "calls.head()"
   ]
  },
  {
   "cell_type": "markdown",
   "metadata": {},
   "source": [
    "    Изучение данных в талице internet"
   ]
  },
  {
   "cell_type": "code",
   "execution_count": 3,
   "metadata": {},
   "outputs": [
    {
     "name": "stdout",
     "output_type": "stream",
     "text": [
      "<class 'pandas.core.frame.DataFrame'>\n",
      "Int64Index: 149396 entries, 0 to 149395\n",
      "Data columns (total 4 columns):\n",
      "id              149396 non-null object\n",
      "mb_used         149396 non-null float64\n",
      "session_date    149396 non-null object\n",
      "user_id         149396 non-null int64\n",
      "dtypes: float64(1), int64(1), object(2)\n",
      "memory usage: 5.7+ MB\n"
     ]
    },
    {
     "data": {
      "text/html": [
       "<div>\n",
       "<style scoped>\n",
       "    .dataframe tbody tr th:only-of-type {\n",
       "        vertical-align: middle;\n",
       "    }\n",
       "\n",
       "    .dataframe tbody tr th {\n",
       "        vertical-align: top;\n",
       "    }\n",
       "\n",
       "    .dataframe thead th {\n",
       "        text-align: right;\n",
       "    }\n",
       "</style>\n",
       "<table border=\"1\" class=\"dataframe\">\n",
       "  <thead>\n",
       "    <tr style=\"text-align: right;\">\n",
       "      <th></th>\n",
       "      <th>id</th>\n",
       "      <th>mb_used</th>\n",
       "      <th>session_date</th>\n",
       "      <th>user_id</th>\n",
       "    </tr>\n",
       "  </thead>\n",
       "  <tbody>\n",
       "    <tr>\n",
       "      <td>0</td>\n",
       "      <td>1000_0</td>\n",
       "      <td>112.95</td>\n",
       "      <td>2018-11-25</td>\n",
       "      <td>1000</td>\n",
       "    </tr>\n",
       "    <tr>\n",
       "      <td>1</td>\n",
       "      <td>1000_1</td>\n",
       "      <td>1052.81</td>\n",
       "      <td>2018-09-07</td>\n",
       "      <td>1000</td>\n",
       "    </tr>\n",
       "    <tr>\n",
       "      <td>2</td>\n",
       "      <td>1000_2</td>\n",
       "      <td>1197.26</td>\n",
       "      <td>2018-06-25</td>\n",
       "      <td>1000</td>\n",
       "    </tr>\n",
       "    <tr>\n",
       "      <td>3</td>\n",
       "      <td>1000_3</td>\n",
       "      <td>550.27</td>\n",
       "      <td>2018-08-22</td>\n",
       "      <td>1000</td>\n",
       "    </tr>\n",
       "    <tr>\n",
       "      <td>4</td>\n",
       "      <td>1000_4</td>\n",
       "      <td>302.56</td>\n",
       "      <td>2018-09-24</td>\n",
       "      <td>1000</td>\n",
       "    </tr>\n",
       "  </tbody>\n",
       "</table>\n",
       "</div>"
      ],
      "text/plain": [
       "       id  mb_used session_date  user_id\n",
       "0  1000_0   112.95   2018-11-25     1000\n",
       "1  1000_1  1052.81   2018-09-07     1000\n",
       "2  1000_2  1197.26   2018-06-25     1000\n",
       "3  1000_3   550.27   2018-08-22     1000\n",
       "4  1000_4   302.56   2018-09-24     1000"
      ]
     },
     "execution_count": 3,
     "metadata": {},
     "output_type": "execute_result"
    }
   ],
   "source": [
    "internet.info()\n",
    "internet.head()"
   ]
  },
  {
   "cell_type": "markdown",
   "metadata": {},
   "source": [
    "    Изучение данных в талице tariffs"
   ]
  },
  {
   "cell_type": "code",
   "execution_count": 4,
   "metadata": {},
   "outputs": [
    {
     "name": "stdout",
     "output_type": "stream",
     "text": [
      "<class 'pandas.core.frame.DataFrame'>\n",
      "RangeIndex: 2 entries, 0 to 1\n",
      "Data columns (total 8 columns):\n",
      "messages_included        2 non-null int64\n",
      "mb_per_month_included    2 non-null int64\n",
      "minutes_included         2 non-null int64\n",
      "rub_monthly_fee          2 non-null int64\n",
      "rub_per_gb               2 non-null int64\n",
      "rub_per_message          2 non-null int64\n",
      "rub_per_minute           2 non-null int64\n",
      "tariff_name              2 non-null object\n",
      "dtypes: int64(7), object(1)\n",
      "memory usage: 256.0+ bytes\n"
     ]
    },
    {
     "data": {
      "text/html": [
       "<div>\n",
       "<style scoped>\n",
       "    .dataframe tbody tr th:only-of-type {\n",
       "        vertical-align: middle;\n",
       "    }\n",
       "\n",
       "    .dataframe tbody tr th {\n",
       "        vertical-align: top;\n",
       "    }\n",
       "\n",
       "    .dataframe thead th {\n",
       "        text-align: right;\n",
       "    }\n",
       "</style>\n",
       "<table border=\"1\" class=\"dataframe\">\n",
       "  <thead>\n",
       "    <tr style=\"text-align: right;\">\n",
       "      <th></th>\n",
       "      <th>messages_included</th>\n",
       "      <th>mb_per_month_included</th>\n",
       "      <th>minutes_included</th>\n",
       "      <th>rub_monthly_fee</th>\n",
       "      <th>rub_per_gb</th>\n",
       "      <th>rub_per_message</th>\n",
       "      <th>rub_per_minute</th>\n",
       "      <th>tariff_name</th>\n",
       "    </tr>\n",
       "  </thead>\n",
       "  <tbody>\n",
       "    <tr>\n",
       "      <td>0</td>\n",
       "      <td>50</td>\n",
       "      <td>15360</td>\n",
       "      <td>500</td>\n",
       "      <td>550</td>\n",
       "      <td>200</td>\n",
       "      <td>3</td>\n",
       "      <td>3</td>\n",
       "      <td>smart</td>\n",
       "    </tr>\n",
       "    <tr>\n",
       "      <td>1</td>\n",
       "      <td>1000</td>\n",
       "      <td>30720</td>\n",
       "      <td>3000</td>\n",
       "      <td>1950</td>\n",
       "      <td>150</td>\n",
       "      <td>1</td>\n",
       "      <td>1</td>\n",
       "      <td>ultra</td>\n",
       "    </tr>\n",
       "  </tbody>\n",
       "</table>\n",
       "</div>"
      ],
      "text/plain": [
       "   messages_included  mb_per_month_included  minutes_included  \\\n",
       "0                 50                  15360               500   \n",
       "1               1000                  30720              3000   \n",
       "\n",
       "   rub_monthly_fee  rub_per_gb  rub_per_message  rub_per_minute tariff_name  \n",
       "0              550         200                3               3       smart  \n",
       "1             1950         150                1               1       ultra  "
      ]
     },
     "execution_count": 4,
     "metadata": {},
     "output_type": "execute_result"
    }
   ],
   "source": [
    "tariffs.info()\n",
    "tariffs.head()"
   ]
  },
  {
   "cell_type": "markdown",
   "metadata": {},
   "source": [
    "    Изучение данных  в талице users"
   ]
  },
  {
   "cell_type": "code",
   "execution_count": 5,
   "metadata": {},
   "outputs": [
    {
     "name": "stdout",
     "output_type": "stream",
     "text": [
      "<class 'pandas.core.frame.DataFrame'>\n",
      "RangeIndex: 500 entries, 0 to 499\n",
      "Data columns (total 8 columns):\n",
      "user_id       500 non-null int64\n",
      "age           500 non-null int64\n",
      "churn_date    38 non-null object\n",
      "city          500 non-null object\n",
      "first_name    500 non-null object\n",
      "last_name     500 non-null object\n",
      "reg_date      500 non-null object\n",
      "tariff        500 non-null object\n",
      "dtypes: int64(2), object(6)\n",
      "memory usage: 31.4+ KB\n"
     ]
    },
    {
     "data": {
      "text/html": [
       "<div>\n",
       "<style scoped>\n",
       "    .dataframe tbody tr th:only-of-type {\n",
       "        vertical-align: middle;\n",
       "    }\n",
       "\n",
       "    .dataframe tbody tr th {\n",
       "        vertical-align: top;\n",
       "    }\n",
       "\n",
       "    .dataframe thead th {\n",
       "        text-align: right;\n",
       "    }\n",
       "</style>\n",
       "<table border=\"1\" class=\"dataframe\">\n",
       "  <thead>\n",
       "    <tr style=\"text-align: right;\">\n",
       "      <th></th>\n",
       "      <th>user_id</th>\n",
       "      <th>age</th>\n",
       "      <th>churn_date</th>\n",
       "      <th>city</th>\n",
       "      <th>first_name</th>\n",
       "      <th>last_name</th>\n",
       "      <th>reg_date</th>\n",
       "      <th>tariff</th>\n",
       "    </tr>\n",
       "  </thead>\n",
       "  <tbody>\n",
       "    <tr>\n",
       "      <td>0</td>\n",
       "      <td>1000</td>\n",
       "      <td>52</td>\n",
       "      <td>NaN</td>\n",
       "      <td>Краснодар</td>\n",
       "      <td>Рафаил</td>\n",
       "      <td>Верещагин</td>\n",
       "      <td>2018-05-25</td>\n",
       "      <td>ultra</td>\n",
       "    </tr>\n",
       "    <tr>\n",
       "      <td>1</td>\n",
       "      <td>1001</td>\n",
       "      <td>41</td>\n",
       "      <td>NaN</td>\n",
       "      <td>Москва</td>\n",
       "      <td>Иван</td>\n",
       "      <td>Ежов</td>\n",
       "      <td>2018-11-01</td>\n",
       "      <td>smart</td>\n",
       "    </tr>\n",
       "    <tr>\n",
       "      <td>2</td>\n",
       "      <td>1002</td>\n",
       "      <td>59</td>\n",
       "      <td>NaN</td>\n",
       "      <td>Стерлитамак</td>\n",
       "      <td>Евгений</td>\n",
       "      <td>Абрамович</td>\n",
       "      <td>2018-06-17</td>\n",
       "      <td>smart</td>\n",
       "    </tr>\n",
       "    <tr>\n",
       "      <td>3</td>\n",
       "      <td>1003</td>\n",
       "      <td>23</td>\n",
       "      <td>NaN</td>\n",
       "      <td>Москва</td>\n",
       "      <td>Белла</td>\n",
       "      <td>Белякова</td>\n",
       "      <td>2018-08-17</td>\n",
       "      <td>ultra</td>\n",
       "    </tr>\n",
       "    <tr>\n",
       "      <td>4</td>\n",
       "      <td>1004</td>\n",
       "      <td>68</td>\n",
       "      <td>NaN</td>\n",
       "      <td>Новокузнецк</td>\n",
       "      <td>Татьяна</td>\n",
       "      <td>Авдеенко</td>\n",
       "      <td>2018-05-14</td>\n",
       "      <td>ultra</td>\n",
       "    </tr>\n",
       "  </tbody>\n",
       "</table>\n",
       "</div>"
      ],
      "text/plain": [
       "   user_id  age churn_date         city first_name  last_name    reg_date  \\\n",
       "0     1000   52        NaN    Краснодар     Рафаил  Верещагин  2018-05-25   \n",
       "1     1001   41        NaN       Москва       Иван       Ежов  2018-11-01   \n",
       "2     1002   59        NaN  Стерлитамак    Евгений  Абрамович  2018-06-17   \n",
       "3     1003   23        NaN       Москва      Белла   Белякова  2018-08-17   \n",
       "4     1004   68        NaN  Новокузнецк    Татьяна   Авдеенко  2018-05-14   \n",
       "\n",
       "  tariff  \n",
       "0  ultra  \n",
       "1  smart  \n",
       "2  smart  \n",
       "3  ultra  \n",
       "4  ultra  "
      ]
     },
     "execution_count": 5,
     "metadata": {},
     "output_type": "execute_result"
    }
   ],
   "source": [
    "users.info()\n",
    "users.head()"
   ]
  },
  {
   "cell_type": "markdown",
   "metadata": {},
   "source": [
    "Изучение данных в талице messages"
   ]
  },
  {
   "cell_type": "code",
   "execution_count": 6,
   "metadata": {},
   "outputs": [
    {
     "name": "stdout",
     "output_type": "stream",
     "text": [
      "<class 'pandas.core.frame.DataFrame'>\n",
      "RangeIndex: 123036 entries, 0 to 123035\n",
      "Data columns (total 3 columns):\n",
      "id              123036 non-null object\n",
      "message_date    123036 non-null object\n",
      "user_id         123036 non-null int64\n",
      "dtypes: int64(1), object(2)\n",
      "memory usage: 2.8+ MB\n"
     ]
    },
    {
     "data": {
      "text/html": [
       "<div>\n",
       "<style scoped>\n",
       "    .dataframe tbody tr th:only-of-type {\n",
       "        vertical-align: middle;\n",
       "    }\n",
       "\n",
       "    .dataframe tbody tr th {\n",
       "        vertical-align: top;\n",
       "    }\n",
       "\n",
       "    .dataframe thead th {\n",
       "        text-align: right;\n",
       "    }\n",
       "</style>\n",
       "<table border=\"1\" class=\"dataframe\">\n",
       "  <thead>\n",
       "    <tr style=\"text-align: right;\">\n",
       "      <th></th>\n",
       "      <th>id</th>\n",
       "      <th>message_date</th>\n",
       "      <th>user_id</th>\n",
       "    </tr>\n",
       "  </thead>\n",
       "  <tbody>\n",
       "    <tr>\n",
       "      <td>0</td>\n",
       "      <td>1000_0</td>\n",
       "      <td>2018-06-27</td>\n",
       "      <td>1000</td>\n",
       "    </tr>\n",
       "    <tr>\n",
       "      <td>1</td>\n",
       "      <td>1000_1</td>\n",
       "      <td>2018-10-08</td>\n",
       "      <td>1000</td>\n",
       "    </tr>\n",
       "    <tr>\n",
       "      <td>2</td>\n",
       "      <td>1000_2</td>\n",
       "      <td>2018-08-04</td>\n",
       "      <td>1000</td>\n",
       "    </tr>\n",
       "    <tr>\n",
       "      <td>3</td>\n",
       "      <td>1000_3</td>\n",
       "      <td>2018-06-16</td>\n",
       "      <td>1000</td>\n",
       "    </tr>\n",
       "    <tr>\n",
       "      <td>4</td>\n",
       "      <td>1000_4</td>\n",
       "      <td>2018-12-05</td>\n",
       "      <td>1000</td>\n",
       "    </tr>\n",
       "  </tbody>\n",
       "</table>\n",
       "</div>"
      ],
      "text/plain": [
       "       id message_date  user_id\n",
       "0  1000_0   2018-06-27     1000\n",
       "1  1000_1   2018-10-08     1000\n",
       "2  1000_2   2018-08-04     1000\n",
       "3  1000_3   2018-06-16     1000\n",
       "4  1000_4   2018-12-05     1000"
      ]
     },
     "execution_count": 6,
     "metadata": {},
     "output_type": "execute_result"
    }
   ],
   "source": [
    "messages.info()\n",
    "messages.head()"
   ]
  },
  {
   "cell_type": "markdown",
   "metadata": {},
   "source": [
    "**Вывод**"
   ]
  },
  {
   "cell_type": "markdown",
   "metadata": {},
   "source": [
    "В таблицах преведена информация о звонках, о интернет-сессиях, о тарифах, о сообщениях и о пользователях. Некоторые данные приведены неправильных форматах. "
   ]
  },
  {
   "cell_type": "markdown",
   "metadata": {},
   "source": [
    "## Подготовка данных"
   ]
  },
  {
   "cell_type": "code",
   "execution_count": 7,
   "metadata": {},
   "outputs": [
    {
     "name": "stdout",
     "output_type": "stream",
     "text": [
      "id           0\n",
      "call_date    0\n",
      "duration     0\n",
      "user_id      0\n",
      "dtype: int64\n",
      "id              0\n",
      "mb_used         0\n",
      "session_date    0\n",
      "user_id         0\n",
      "dtype: int64\n",
      "user_id         0\n",
      "age             0\n",
      "churn_date    462\n",
      "city            0\n",
      "first_name      0\n",
      "last_name       0\n",
      "reg_date        0\n",
      "tariff          0\n",
      "dtype: int64\n",
      "id              0\n",
      "message_date    0\n",
      "user_id         0\n",
      "dtype: int64\n",
      "messages_included        0\n",
      "mb_per_month_included    0\n",
      "minutes_included         0\n",
      "rub_monthly_fee          0\n",
      "rub_per_gb               0\n",
      "rub_per_message          0\n",
      "rub_per_minute           0\n",
      "tariff_name              0\n",
      "dtype: int64\n",
      "0\n",
      "0\n",
      "0\n",
      "0\n",
      "0\n"
     ]
    }
   ],
   "source": [
    "# преобразование в формат даты и привеление к нижнему регистру\n",
    "calls['call_date']= pd.to_datetime(calls['call_date'], format='%Y-%m-%d')\n",
    "internet['session_date']= pd.to_datetime(internet['session_date'], format='%Y-%m-%d')\n",
    "users['churn_date']= pd.to_datetime(users['churn_date'], format='%Y-%m-%d')\n",
    "users['reg_date']= pd.to_datetime(users['reg_date'], format='%Y-%m-%d')\n",
    "messages['message_date']= pd.to_datetime(messages['message_date'], format='%Y-%m-%d')\n",
    "users['city']=users['city'].str.lower()\n",
    "\n",
    "# проверка данных на пропуски\n",
    "print(calls.isnull().sum())\n",
    "print(internet.isnull().sum())\n",
    "print(users.isnull().sum())\n",
    "print(messages.isnull().sum())\n",
    "print(tariffs.isnull().sum())\n",
    "\n",
    "# проверка данных на дубли\n",
    "print(calls.duplicated().sum())\n",
    "print(internet.duplicated().sum())\n",
    "print(users.duplicated().sum())\n",
    "print(tariffs.duplicated().sum())\n",
    "print(messages.duplicated().sum())"
   ]
  },
  {
   "cell_type": "markdown",
   "metadata": {},
   "source": [
    "    Так как первичная проверка не выявила аномалиц в данных, далее илет проверка значений."
   ]
  },
  {
   "cell_type": "code",
   "execution_count": 8,
   "metadata": {},
   "outputs": [
    {
     "data": {
      "text/html": [
       "<div>\n",
       "<style scoped>\n",
       "    .dataframe tbody tr th:only-of-type {\n",
       "        vertical-align: middle;\n",
       "    }\n",
       "\n",
       "    .dataframe tbody tr th {\n",
       "        vertical-align: top;\n",
       "    }\n",
       "\n",
       "    .dataframe thead th {\n",
       "        text-align: right;\n",
       "    }\n",
       "</style>\n",
       "<table border=\"1\" class=\"dataframe\">\n",
       "  <thead>\n",
       "    <tr style=\"text-align: right;\">\n",
       "      <th></th>\n",
       "      <th>mb_used</th>\n",
       "      <th>user_id</th>\n",
       "    </tr>\n",
       "  </thead>\n",
       "  <tbody>\n",
       "    <tr>\n",
       "      <td>count</td>\n",
       "      <td>149396.000000</td>\n",
       "      <td>149396.000000</td>\n",
       "    </tr>\n",
       "    <tr>\n",
       "      <td>mean</td>\n",
       "      <td>370.192426</td>\n",
       "      <td>1252.099842</td>\n",
       "    </tr>\n",
       "    <tr>\n",
       "      <td>std</td>\n",
       "      <td>278.300951</td>\n",
       "      <td>144.050823</td>\n",
       "    </tr>\n",
       "    <tr>\n",
       "      <td>min</td>\n",
       "      <td>0.000000</td>\n",
       "      <td>1000.000000</td>\n",
       "    </tr>\n",
       "    <tr>\n",
       "      <td>25%</td>\n",
       "      <td>138.187500</td>\n",
       "      <td>1130.000000</td>\n",
       "    </tr>\n",
       "    <tr>\n",
       "      <td>50%</td>\n",
       "      <td>348.015000</td>\n",
       "      <td>1251.000000</td>\n",
       "    </tr>\n",
       "    <tr>\n",
       "      <td>75%</td>\n",
       "      <td>559.552500</td>\n",
       "      <td>1380.000000</td>\n",
       "    </tr>\n",
       "    <tr>\n",
       "      <td>max</td>\n",
       "      <td>1724.830000</td>\n",
       "      <td>1499.000000</td>\n",
       "    </tr>\n",
       "  </tbody>\n",
       "</table>\n",
       "</div>"
      ],
      "text/plain": [
       "             mb_used        user_id\n",
       "count  149396.000000  149396.000000\n",
       "mean      370.192426    1252.099842\n",
       "std       278.300951     144.050823\n",
       "min         0.000000    1000.000000\n",
       "25%       138.187500    1130.000000\n",
       "50%       348.015000    1251.000000\n",
       "75%       559.552500    1380.000000\n",
       "max      1724.830000    1499.000000"
      ]
     },
     "execution_count": 8,
     "metadata": {},
     "output_type": "execute_result"
    }
   ],
   "source": [
    "internet.describe()"
   ]
  },
  {
   "cell_type": "code",
   "execution_count": 9,
   "metadata": {},
   "outputs": [
    {
     "data": {
      "text/html": [
       "<div>\n",
       "<style scoped>\n",
       "    .dataframe tbody tr th:only-of-type {\n",
       "        vertical-align: middle;\n",
       "    }\n",
       "\n",
       "    .dataframe tbody tr th {\n",
       "        vertical-align: top;\n",
       "    }\n",
       "\n",
       "    .dataframe thead th {\n",
       "        text-align: right;\n",
       "    }\n",
       "</style>\n",
       "<table border=\"1\" class=\"dataframe\">\n",
       "  <thead>\n",
       "    <tr style=\"text-align: right;\">\n",
       "      <th></th>\n",
       "      <th>duration</th>\n",
       "      <th>user_id</th>\n",
       "    </tr>\n",
       "  </thead>\n",
       "  <tbody>\n",
       "    <tr>\n",
       "      <td>count</td>\n",
       "      <td>202607.000000</td>\n",
       "      <td>202607.000000</td>\n",
       "    </tr>\n",
       "    <tr>\n",
       "      <td>mean</td>\n",
       "      <td>6.755887</td>\n",
       "      <td>1253.940619</td>\n",
       "    </tr>\n",
       "    <tr>\n",
       "      <td>std</td>\n",
       "      <td>5.843365</td>\n",
       "      <td>144.722751</td>\n",
       "    </tr>\n",
       "    <tr>\n",
       "      <td>min</td>\n",
       "      <td>0.000000</td>\n",
       "      <td>1000.000000</td>\n",
       "    </tr>\n",
       "    <tr>\n",
       "      <td>25%</td>\n",
       "      <td>1.300000</td>\n",
       "      <td>1126.000000</td>\n",
       "    </tr>\n",
       "    <tr>\n",
       "      <td>50%</td>\n",
       "      <td>6.000000</td>\n",
       "      <td>1260.000000</td>\n",
       "    </tr>\n",
       "    <tr>\n",
       "      <td>75%</td>\n",
       "      <td>10.700000</td>\n",
       "      <td>1379.000000</td>\n",
       "    </tr>\n",
       "    <tr>\n",
       "      <td>max</td>\n",
       "      <td>38.000000</td>\n",
       "      <td>1499.000000</td>\n",
       "    </tr>\n",
       "  </tbody>\n",
       "</table>\n",
       "</div>"
      ],
      "text/plain": [
       "            duration        user_id\n",
       "count  202607.000000  202607.000000\n",
       "mean        6.755887    1253.940619\n",
       "std         5.843365     144.722751\n",
       "min         0.000000    1000.000000\n",
       "25%         1.300000    1126.000000\n",
       "50%         6.000000    1260.000000\n",
       "75%        10.700000    1379.000000\n",
       "max        38.000000    1499.000000"
      ]
     },
     "execution_count": 9,
     "metadata": {},
     "output_type": "execute_result"
    }
   ],
   "source": [
    "calls.describe()"
   ]
  },
  {
   "cell_type": "markdown",
   "metadata": {},
   "source": [
    " Вывод"
   ]
  },
  {
   "cell_type": "markdown",
   "metadata": {},
   "source": [
    "Формат в стобцах call_date, session_date, churn_date, reg_date, message_date был привелен к datetime. Значения в столбце \"city\" привелено к нижнему регистру. Ошибок не обнаружилось. Есть нулевые значения в столбцах calls и internet, в случае со звонками - это пропущенные, а в случае с интернетом - это могут быть сессии с низкой скоростью интернета, когда не звгрузилось даже 1 кб."
   ]
  },
  {
   "cell_type": "code",
   "execution_count": 10,
   "metadata": {},
   "outputs": [],
   "source": [
    "#выделение месяца в отдельный столбец\n",
    "calls['month'] = calls['call_date'].dt.month\n",
    "messages['month'] = messages['message_date'].dt.month\n",
    "internet['month'] = internet['session_date'].dt.month"
   ]
  },
  {
   "cell_type": "markdown",
   "metadata": {},
   "source": [
    "    Предварительная группировка по месяцам и окургление мин и гб."
   ]
  },
  {
   "cell_type": "code",
   "execution_count": 11,
   "metadata": {},
   "outputs": [],
   "source": [
    "# подсчет кол-ва звонков и их продолжтельность в месяц для каждого пользователя\n",
    "calls['duration']=np.ceil(calls['duration']) #уведичение в большую сторону\n",
    "calls_month=calls.pivot_table(index=['user_id','month'], values='duration', aggfunc=['count','sum'])\n",
    "calls_month.columns=['count','sum'] # замена наименований столбцов\n",
    "callsdf = pd.DataFrame(calls_month.to_records()) # преобращование в датафрейм\n",
    "\n",
    "# подсчет кол-ва смс в месяц для каждого пользователя\n",
    "message_month=messages.pivot_table(index=['user_id','month'], values='id', aggfunc='count')\n",
    "message_month.columns=['count']# замена наименований столбцов\n",
    "messagedf=pd.DataFrame(message_month.to_records())# преобращование в датафрейм \n",
    "\n",
    "# подсчет использованных мб в месяц для каждого пльзователя\n",
    "internet_month= internet.pivot_table(index=['user_id','month'], values='mb_used', aggfunc='sum')\n",
    "internet_month.columns=['sum'] # замена наименований столбцов\n",
    "internet_month['sum']=(internet_month['sum']/1024).apply(math.ceil) #преобращование в гб с увеличением в большую сторону\n",
    "internetdf=pd.DataFrame(internet_month.to_records()) # преобращование в датафрейм \n",
    "\n",
    "# ссоздание сводной таблицы\n",
    "month_resut=pd.merge(messagedf,callsdf, on=['user_id', 'month'], how='outer')\n",
    "month_resut=month_resut.merge(internetdf, on=['user_id', 'month'],  how='outer')\n",
    "month_resut.columns=['user_id', 'month','calls_count', 'calls_min', 'messages_count', 'internet_gb']"
   ]
  },
  {
   "cell_type": "markdown",
   "metadata": {},
   "source": [
    "    Так как для дальнейшего анализа нам понадобятся только 3 столбца из таблицы user, выделяю их в отдельную таблицу. Присоеденяю к каждому пользователю числовые данные по тарифам. И объединяю эту таблицу с данными пользователей по месяцам. Пропуски заменяю на 0."
   ]
  },
  {
   "cell_type": "code",
   "execution_count": 12,
   "metadata": {},
   "outputs": [],
   "source": [
    "id_tariff=users.loc[:, ['user_id', 'tariff', 'city']] #выделение нужных столбцов\n",
    "user_tariff=pd.merge(id_tariff, tariffs, left_on='tariff', right_on='tariff_name') #преобразование в сводную таблицу\n",
    "\n",
    "user_tariff_profit= pd.merge(month_resut, user_tariff, on='user_id', how='outer') #преобразование в сводную таблицу\n",
    "\n",
    "user_tariff_profit=user_tariff_profit.fillna(0) # замена всех пропусков на 0"
   ]
  },
  {
   "cell_type": "markdown",
   "metadata": {},
   "source": [
    "    Подсчитываю перерасход для каждого пользователя по всем параметрам по месяцам. С помощью функции узнаю скользо за этот перерасход пользователь заплатил. К этой сумме прибавляю плату за тариф. Оставлю только нужные столбцы в финальной таблице."
   ]
  },
  {
   "cell_type": "code",
   "execution_count": 13,
   "metadata": {},
   "outputs": [
    {
     "data": {
      "text/html": [
       "<div>\n",
       "<style scoped>\n",
       "    .dataframe tbody tr th:only-of-type {\n",
       "        vertical-align: middle;\n",
       "    }\n",
       "\n",
       "    .dataframe tbody tr th {\n",
       "        vertical-align: top;\n",
       "    }\n",
       "\n",
       "    .dataframe thead th {\n",
       "        text-align: right;\n",
       "    }\n",
       "</style>\n",
       "<table border=\"1\" class=\"dataframe\">\n",
       "  <thead>\n",
       "    <tr style=\"text-align: right;\">\n",
       "      <th></th>\n",
       "      <th>user_id</th>\n",
       "      <th>month</th>\n",
       "      <th>calls_min</th>\n",
       "      <th>messages_count</th>\n",
       "      <th>internet_gb</th>\n",
       "      <th>tariff</th>\n",
       "      <th>profit</th>\n",
       "      <th>city</th>\n",
       "    </tr>\n",
       "  </thead>\n",
       "  <tbody>\n",
       "    <tr>\n",
       "      <td>0</td>\n",
       "      <td>1000</td>\n",
       "      <td>5.0</td>\n",
       "      <td>22.0</td>\n",
       "      <td>159.0</td>\n",
       "      <td>3.0</td>\n",
       "      <td>ultra</td>\n",
       "      <td>1950.0</td>\n",
       "      <td>краснодар</td>\n",
       "    </tr>\n",
       "    <tr>\n",
       "      <td>1</td>\n",
       "      <td>1000</td>\n",
       "      <td>6.0</td>\n",
       "      <td>43.0</td>\n",
       "      <td>172.0</td>\n",
       "      <td>23.0</td>\n",
       "      <td>ultra</td>\n",
       "      <td>1950.0</td>\n",
       "      <td>краснодар</td>\n",
       "    </tr>\n",
       "    <tr>\n",
       "      <td>2</td>\n",
       "      <td>1000</td>\n",
       "      <td>7.0</td>\n",
       "      <td>47.0</td>\n",
       "      <td>340.0</td>\n",
       "      <td>14.0</td>\n",
       "      <td>ultra</td>\n",
       "      <td>1950.0</td>\n",
       "      <td>краснодар</td>\n",
       "    </tr>\n",
       "    <tr>\n",
       "      <td>3</td>\n",
       "      <td>1000</td>\n",
       "      <td>8.0</td>\n",
       "      <td>52.0</td>\n",
       "      <td>408.0</td>\n",
       "      <td>14.0</td>\n",
       "      <td>ultra</td>\n",
       "      <td>1950.0</td>\n",
       "      <td>краснодар</td>\n",
       "    </tr>\n",
       "    <tr>\n",
       "      <td>4</td>\n",
       "      <td>1000</td>\n",
       "      <td>9.0</td>\n",
       "      <td>58.0</td>\n",
       "      <td>466.0</td>\n",
       "      <td>15.0</td>\n",
       "      <td>ultra</td>\n",
       "      <td>1950.0</td>\n",
       "      <td>краснодар</td>\n",
       "    </tr>\n",
       "  </tbody>\n",
       "</table>\n",
       "</div>"
      ],
      "text/plain": [
       "   user_id  month  calls_min  messages_count  internet_gb tariff  profit  \\\n",
       "0     1000    5.0       22.0           159.0          3.0  ultra  1950.0   \n",
       "1     1000    6.0       43.0           172.0         23.0  ultra  1950.0   \n",
       "2     1000    7.0       47.0           340.0         14.0  ultra  1950.0   \n",
       "3     1000    8.0       52.0           408.0         14.0  ultra  1950.0   \n",
       "4     1000    9.0       58.0           466.0         15.0  ultra  1950.0   \n",
       "\n",
       "        city  \n",
       "0  краснодар  \n",
       "1  краснодар  \n",
       "2  краснодар  \n",
       "3  краснодар  \n",
       "4  краснодар  "
      ]
     },
     "execution_count": 13,
     "metadata": {},
     "output_type": "execute_result"
    }
   ],
   "source": [
    "# расчет перерасхода по всем показателям\n",
    "user_tariff_profit['calls_more']=user_tariff_profit['calls_min'] - user_tariff_profit['minutes_included']\n",
    "user_tariff_profit['messages_more']=user_tariff_profit['messages_count'] - user_tariff_profit['messages_included']\n",
    "user_tariff_profit['internet_more']=user_tariff_profit['internet_gb'] - user_tariff_profit['mb_per_month_included']/1024\n",
    "\n",
    "\n",
    "def get_revenue(row): # функция для расчета стоимости перерасхода для всех параметров\n",
    "    revenue_by_min = 0\n",
    "    revenue_by_messages = 0\n",
    "    revenue_mb = 0\n",
    "\n",
    "    if row['calls_more'] > 0:\n",
    "        revenue_by_min = row['calls_more'] * row['rub_per_minute']\n",
    "\n",
    "    if row['messages_more'] > 0:\n",
    "        revenue_by_messages = row['messages_more'] * row['rub_per_message']\n",
    "\n",
    "    if row['internet_more'] > 0:\n",
    "        revenue_mb = row['internet_more'] * row['rub_per_gb']\n",
    "\n",
    "    return revenue_by_min + revenue_by_messages + revenue_mb\n",
    "\n",
    "user_tariff_profit['profit_w_fee']=user_tariff_profit.apply(get_revenue, axis=1) #применение функции\n",
    "user_tariff_profit['profit']=user_tariff_profit['profit_w_fee']+user_tariff_profit['rub_monthly_fee'] # присоединение стоимости тарифа\n",
    "month_profit=user_tariff_profit.loc[:,['user_id', 'month', 'calls_min', 'messages_count','internet_gb', 'tariff','profit', 'city']] # выделение нужных данных\n",
    "month_profit=month_profit[month_profit['month']!=0] #уюираю данных с нуливым месяцем\n",
    "month_profit.describe()\n",
    "month_profit.head()"
   ]
  },
  {
   "cell_type": "markdown",
   "metadata": {},
   "source": [
    "Для каждого пользователя были подчитаны количество сделанных звонков и израсходованных минут разговора по месяцам, количество отправленных сообщений по месяцам, объем израсходованного интернет-трафика по месяцам, помесячные расходы."
   ]
  },
  {
   "cell_type": "markdown",
   "metadata": {},
   "source": [
    "## Анализ данные"
   ]
  },
  {
   "cell_type": "code",
   "execution_count": 14,
   "metadata": {},
   "outputs": [
    {
     "data": {
      "text/plain": [
       "(             mean        std          var\n",
       " tariff                                   \n",
       " smart   58.463437  25.939858   672.876243\n",
       " ultra   73.392893  43.916853  1928.689990,\n",
       "               mean         std            var\n",
       " tariff                                       \n",
       " smart   417.934948  190.313730   36219.315784\n",
       " ultra   526.623350  317.606098  100873.633397,\n",
       "              mean       std        var\n",
       " tariff                                \n",
       " smart   16.328847  5.747061  33.028705\n",
       " ultra   19.494416  9.853511  97.091686)"
      ]
     },
     "execution_count": 14,
     "metadata": {},
     "output_type": "execute_result"
    }
   ],
   "source": [
    "def func(data):\n",
    "    \"\"\" это функция для расчета среднего, дисперсии и стандартного отклонения\n",
    "\n",
    "    она принимает таблицу и выдает три таблицы по одной на каждый параметр, разделенные на тарифы \"\"\"\n",
    "    data_calls = data.pivot_table(index='tariff', values='calls_min', aggfunc={'mean', 'var', 'std'})\n",
    "    data_messages = data.pivot_table(index='tariff', values='messages_count', aggfunc={'mean', 'var', 'std'})\n",
    "    data_internet = data.pivot_table(index='tariff', values='internet_gb', aggfunc={'mean', 'var', 'std'})\n",
    "    return data_calls, data_messages, data_internet\n",
    "func(month_profit)"
   ]
  },
  {
   "cell_type": "code",
   "execution_count": 15,
   "metadata": {},
   "outputs": [
    {
     "ename": "NameError",
     "evalue": "name 'month_smart' is not defined",
     "output_type": "error",
     "traceback": [
      "\u001b[0;31m---------------------------------------------------------------------------\u001b[0m",
      "\u001b[0;31mNameError\u001b[0m                                 Traceback (most recent call last)",
      "\u001b[0;32m<ipython-input-15-35515337e9db>\u001b[0m in \u001b[0;36m<module>\u001b[0;34m\u001b[0m\n\u001b[1;32m      1\u001b[0m \u001b[0;32mwith\u001b[0m \u001b[0msns\u001b[0m\u001b[0;34m.\u001b[0m\u001b[0mplotting_context\u001b[0m\u001b[0;34m(\u001b[0m\u001b[0mfont_scale\u001b[0m\u001b[0;34m=\u001b[0m\u001b[0;36m1.5\u001b[0m\u001b[0;34m)\u001b[0m\u001b[0;34m,\u001b[0m \u001b[0msns\u001b[0m\u001b[0;34m.\u001b[0m\u001b[0maxes_style\u001b[0m\u001b[0;34m(\u001b[0m\u001b[0;34m'whitegrid'\u001b[0m\u001b[0;34m)\u001b[0m\u001b[0;34m:\u001b[0m \u001b[0;31m#гистограмма распределения минут по тарифам\u001b[0m\u001b[0;34m\u001b[0m\u001b[0;34m\u001b[0m\u001b[0m\n\u001b[1;32m      2\u001b[0m     \u001b[0mplt\u001b[0m\u001b[0;34m.\u001b[0m\u001b[0mfigure\u001b[0m\u001b[0;34m(\u001b[0m\u001b[0mfigsize\u001b[0m\u001b[0;34m=\u001b[0m\u001b[0;34m(\u001b[0m\u001b[0;36m12\u001b[0m\u001b[0;34m,\u001b[0m \u001b[0;36m8\u001b[0m\u001b[0;34m)\u001b[0m\u001b[0;34m)\u001b[0m\u001b[0;34m\u001b[0m\u001b[0;34m\u001b[0m\u001b[0m\n\u001b[0;32m----> 3\u001b[0;31m     \u001b[0mhist_calls_smart\u001b[0m\u001b[0;34m=\u001b[0m\u001b[0msns\u001b[0m\u001b[0;34m.\u001b[0m\u001b[0mdistplot\u001b[0m\u001b[0;34m(\u001b[0m\u001b[0mmonth_smart\u001b[0m\u001b[0;34m[\u001b[0m\u001b[0;34m'calls_min'\u001b[0m\u001b[0;34m]\u001b[0m\u001b[0;34m,\u001b[0m\u001b[0mlabel\u001b[0m\u001b[0;34m=\u001b[0m\u001b[0;34m'Кол-во минут, смарт'\u001b[0m\u001b[0;34m)\u001b[0m\u001b[0;34m\u001b[0m\u001b[0;34m\u001b[0m\u001b[0m\n\u001b[0m\u001b[1;32m      4\u001b[0m     \u001b[0mhist_calls_ultra\u001b[0m\u001b[0;34m=\u001b[0m\u001b[0msns\u001b[0m\u001b[0;34m.\u001b[0m\u001b[0mdistplot\u001b[0m\u001b[0;34m(\u001b[0m\u001b[0mmonth_ultra\u001b[0m\u001b[0;34m[\u001b[0m\u001b[0;34m'calls_min'\u001b[0m\u001b[0;34m]\u001b[0m\u001b[0;34m,\u001b[0m\u001b[0mlabel\u001b[0m\u001b[0;34m=\u001b[0m\u001b[0;34m'Кол-во минут, ультра'\u001b[0m \u001b[0;34m)\u001b[0m\u001b[0;34m\u001b[0m\u001b[0;34m\u001b[0m\u001b[0m\n\u001b[1;32m      5\u001b[0m     \u001b[0mplt\u001b[0m\u001b[0;34m.\u001b[0m\u001b[0mlegend\u001b[0m\u001b[0;34m(\u001b[0m\u001b[0;34m)\u001b[0m\u001b[0;34m\u001b[0m\u001b[0;34m\u001b[0m\u001b[0m\n",
      "\u001b[0;31mNameError\u001b[0m: name 'month_smart' is not defined"
     ]
    },
    {
     "data": {
      "text/plain": [
       "<Figure size 864x576 with 0 Axes>"
      ]
     },
     "metadata": {},
     "output_type": "display_data"
    }
   ],
   "source": [
    "with sns.plotting_context(font_scale=1.5), sns.axes_style('whitegrid'): #гистограмма распределения минут по тарифам\n",
    "    plt.figure(figsize=(12, 8))\n",
    "    hist_calls_smart=sns.distplot(month_smart['calls_min'],label='Кол-во минут, смарт')\n",
    "    hist_calls_ultra=sns.distplot(month_ultra['calls_min'],label='Кол-во минут, ультра' )\n",
    "    plt.legend()\n",
    "    plt.title('Израсходованно минут пользователями тарифов Smart и Ultra')\n",
    "    plt.show"
   ]
  },
  {
   "cell_type": "code",
   "execution_count": null,
   "metadata": {},
   "outputs": [],
   "source": [
    "sns.boxplot(x=month_profit['tariff'], y=month_profit['calls_min'])"
   ]
  },
  {
   "cell_type": "markdown",
   "metadata": {},
   "source": [
    "#### Вывод\n",
    "Данне по минутам тарифов смарт и ультра имеют номальное распределение со скошенностью вправо и со средним 58 мин. и 74 мин. соответственно. Не только пользователи ultra, но и smart не превышают тарифный лемит. Разброс у пользователей тарифом смарт больше почти в 2 раза."
   ]
  },
  {
   "cell_type": "code",
   "execution_count": null,
   "metadata": {},
   "outputs": [],
   "source": [
    "with sns.plotting_context(font_scale=1.5), sns.axes_style('whitegrid'): #гистограмма распреления кол-ва смс по тарифу\n",
    "    plt.figure(figsize=(12, 8))\n",
    "    hist_messeges_smart=sns.distplot(month_smart['messages_count'], label='Кол-во смс, смарт' )\n",
    "    hist_messeges_ultra=sns.distplot(month_ultra['messages_count'],label='Кол-во смс, ультра' )\n",
    "    plt.legend()\n",
    "    plt.title('Отправлено смс пользователями тарифа Smart и Ultra')\n",
    "    plt.show\n",
    "\n"
   ]
  },
  {
   "cell_type": "code",
   "execution_count": null,
   "metadata": {},
   "outputs": [],
   "source": [
    "sns.boxplot(x=month_profit['tariff'], y=month_profit['messages_count'])"
   ]
  },
  {
   "cell_type": "markdown",
   "metadata": {},
   "source": [
    "#### Вывод\n",
    "Данне по смс тарифов смарт и ультра имеют номальное распределение со скошенностью влево и со средним 417шт. и 518 шт. соответсвенно. Большая часть пользователей тарифом смарт перерасходуют смски в 10 раз. Пользователи ультар редко используют  больше 1000 смсок в месяц. Разброс в ультра все еще больше.\n"
   ]
  },
  {
   "cell_type": "code",
   "execution_count": null,
   "metadata": {},
   "outputs": [],
   "source": [
    "with sns.plotting_context(font_scale=1.5), sns.axes_style('whitegrid'): #гистограмма распределения мб по тарифам\n",
    "    plt.figure(figsize=(12, 8))\n",
    "    hist_internet_smart=sns.distplot(month_smart['internet_gb'], label='гб использовано, смарт' )\n",
    "    hist_internet_ultra=sns.distplot(month_ultra['internet_gb'],label='гб использовано, ультра' )\n",
    "    plt.legend()\n",
    "    plt.title('Использованно мб пользователями тарифов Smart и Ultra')\n",
    "    plt.show\n"
   ]
  },
  {
   "cell_type": "code",
   "execution_count": null,
   "metadata": {},
   "outputs": [],
   "source": [
    "sns.boxplot(x=month_profit['tariff'], y=month_profit['internet_gb'])"
   ]
  },
  {
   "cell_type": "markdown",
   "metadata": {},
   "source": [
    "#### Вывод"
   ]
  },
  {
   "cell_type": "markdown",
   "metadata": {},
   "source": [
    "Данне по интернету тарифов смарт и ультра имеют номальное распределение со средним 16гб. и 19гб. соответсвенно. Пользователи обоих тариыов часто пользуются данной услугой. Разрос больше все еще в тариые ультра, но не настолько как в других случаях.\n",
    "\n",
    "\n",
    "По графикам видно, что в среднем минут, смс, и гб больше расхродуют пользователи с тарифонм ultra. Пользователей тарифа ультра меньше, чем пользователей тарифа смарт."
   ]
  },
  {
   "cell_type": "markdown",
   "metadata": {},
   "source": [
    "## Проверка гипотезы"
   ]
  },
  {
   "cell_type": "markdown",
   "metadata": {},
   "source": [
    "H0: средняя выручка пользователей тарифов «Ультра» и «Смарт» одинакова\n",
    "\n",
    "H1: средняя выручка пользователей тарифа «Ультра» больше среднй выручки пользователей тарифа «Ультра»"
   ]
  },
  {
   "cell_type": "markdown",
   "metadata": {},
   "source": [
    "    Выбрана односторонняя альтернативная гипотиза, так как предполагаю, что в среднем догох по тариыу ультра больше. Для этого мы берем p-value только с одной стороны, отвергаем нулевую гипотезу, если наблюдаемое значение меньше предполагаемого; разница между величинами статистически значима."
   ]
  },
  {
   "cell_type": "code",
   "execution_count": null,
   "metadata": {},
   "outputs": [],
   "source": [
    "alpha = .05 # критический уровень статистической значимости\n",
    "\n",
    "results_tariff = st.stats.ttest_ind( #проведение ttest для сравнения средних двух выборок\n",
    "    month_smart['profit'], \n",
    "    month_ultra['profit'],\n",
    "    equal_var=False)\n",
    "\n",
    "# тест односторонний: p-value будет в два раза меньше\n",
    "print('p-значение: ', results_tariff.pvalue / 2)\n",
    "\n",
    "# тест односторонний вправо:\n",
    "if (results_tariff.pvalue / 2 < alpha) and (month_smart['profit'].mean() >  month_ultra['profit'].mean()):\n",
    "    print(\"Отвергаем нулевую гипотезу\")\n",
    "else:\n",
    "    print(\"Не получилось отвергнуть нулевую гипотезу\") \n",
    "    \n"
   ]
  },
  {
   "cell_type": "markdown",
   "metadata": {},
   "source": [
    "### Вывод"
   ]
  },
  {
   "cell_type": "markdown",
   "metadata": {},
   "source": [
    "Нульевой гипотезй была выбрана гипотиза о равенстве средних двух выборок, а альтернотиыной гипотиза о том, что пользователи тарифа ультра приносят больше выручки, так как их тариф дороже и они используют больше минут, смс и гб.\n",
    "В результате получилось отвергнуть нулевую гипотезу."
   ]
  },
  {
   "cell_type": "markdown",
   "metadata": {},
   "source": [
    "H0:средняя выручка пользователей из Москвы равна выручки пользователей из других регионов\n",
    "\n",
    "H1:средняя выручка пользователей из Москвы не равна выручки пользователей из других регионов"
   ]
  },
  {
   "cell_type": "code",
   "execution_count": null,
   "metadata": {},
   "outputs": [],
   "source": [
    "profit_moscow=month_profit[month_profit['city']=='москва']\n",
    "profit_country=month_profit[month_profit['city']!='москва']\n",
    "\n",
    "mean_profit_moscow=profit_moscow['profit'].mean()\n",
    "mean_profit_country=profit_country['profit'].mean()\n",
    "\n",
    "alpha = .05 # критический уровень статистической значимости\n",
    "results_city = st.stats.ttest_ind( #проведение ttest для сравнения средних двух выборок\n",
    "    profit_country['profit'], \n",
    "    profit_moscow['profit'], equal_var=False)\n",
    "\n",
    "# тест односторонний: p-value будет в два раза меньше\n",
    "print('p-значение: ', results_city.pvalue )\n",
    "\n",
    "# тест односторонний вправо:\n",
    "if (results_city.pvalue < alpha):\n",
    "    print(\"Отвергаем нулевую гипотезу\")\n",
    "else:\n",
    "    print(\"Не получилось отвергнуть нулевую гипотезу\") \n",
    "    \n",
    "print('Средняя выручка по Москве:',mean_profit_moscow)\n",
    "print('Средняя выручка по регионам:',mean_profit_country)"
   ]
  },
  {
   "cell_type": "markdown",
   "metadata": {},
   "source": [
    "### Вывод"
   ]
  },
  {
   "cell_type": "markdown",
   "metadata": {},
   "source": [
    "Нульевой гипотезй была выбрана гипотиза о равенстве средних двух выборок, а альтернативной гипотиза о том, что выручка в Москве и регионах не отличается. В результате не получилось отвергнуть нулевую гипотезу."
   ]
  },
  {
   "cell_type": "markdown",
   "metadata": {},
   "source": [
    "## Вывод"
   ]
  },
  {
   "cell_type": "markdown",
   "metadata": {},
   "source": [
    "Таким образом, мы видим, что при тарифе Ultra пользователи используют больше минут, смс и гб интернета. Мы смогли отвергнуть гипотизы о том, что в среднем выручка с двух тарифов не отличается, и не смогли о том, что регионы и Москва приносят одинковую выручку\n",
    "Получается, что с точки зрения, пользоатель с каким тарифом принесет больше выручки лучше человек с ultra. "
   ]
  }
 ],
 "metadata": {
  "ExecuteTimeLog": [
   {
    "duration": 1222,
    "start_time": "2021-09-24T09:48:10.302Z"
   },
   {
    "duration": 859,
    "start_time": "2021-09-24T09:49:20.274Z"
   },
   {
    "duration": 447,
    "start_time": "2021-09-24T09:49:29.636Z"
   },
   {
    "duration": 1023,
    "start_time": "2021-09-26T15:49:45.934Z"
   },
   {
    "duration": 528,
    "start_time": "2021-09-26T15:58:47.771Z"
   },
   {
    "duration": 476,
    "start_time": "2021-09-26T15:59:03.485Z"
   },
   {
    "duration": 507,
    "start_time": "2021-09-26T16:00:30.003Z"
   },
   {
    "duration": 520,
    "start_time": "2021-09-26T16:03:55.507Z"
   },
   {
    "duration": 504,
    "start_time": "2021-09-26T16:04:05.374Z"
   },
   {
    "duration": 510,
    "start_time": "2021-09-26T16:04:22.616Z"
   },
   {
    "duration": 527,
    "start_time": "2021-09-26T16:04:33.194Z"
   },
   {
    "duration": 452,
    "start_time": "2021-09-26T16:06:56.317Z"
   },
   {
    "duration": 438,
    "start_time": "2021-09-26T16:11:16.810Z"
   },
   {
    "duration": 278,
    "start_time": "2021-09-26T16:37:56.361Z"
   },
   {
    "duration": 320,
    "start_time": "2021-09-26T16:40:06.531Z"
   },
   {
    "duration": 262,
    "start_time": "2021-09-26T16:40:34.235Z"
   },
   {
    "duration": 26,
    "start_time": "2021-09-26T16:44:49.875Z"
   },
   {
    "duration": 256,
    "start_time": "2021-09-26T16:52:10.751Z"
   },
   {
    "duration": 1014,
    "start_time": "2021-09-26T16:52:26.154Z"
   },
   {
    "duration": 169,
    "start_time": "2021-09-26T16:52:27.170Z"
   },
   {
    "duration": 288,
    "start_time": "2021-09-26T16:52:36.235Z"
   },
   {
    "duration": 958,
    "start_time": "2021-09-26T16:52:47.698Z"
   },
   {
    "duration": 126,
    "start_time": "2021-09-26T16:52:48.658Z"
   },
   {
    "duration": 294,
    "start_time": "2021-09-26T17:01:44.767Z"
   },
   {
    "duration": 1003,
    "start_time": "2021-09-26T17:01:59.076Z"
   },
   {
    "duration": 159,
    "start_time": "2021-09-26T17:02:00.081Z"
   },
   {
    "duration": 1024,
    "start_time": "2021-09-26T17:02:44.472Z"
   },
   {
    "duration": 164,
    "start_time": "2021-09-26T17:02:45.498Z"
   },
   {
    "duration": 298,
    "start_time": "2021-09-26T17:05:02.614Z"
   },
   {
    "duration": 1051,
    "start_time": "2021-09-26T17:05:07.620Z"
   },
   {
    "duration": 190,
    "start_time": "2021-09-26T17:05:08.673Z"
   },
   {
    "duration": 290,
    "start_time": "2021-09-26T17:05:25.271Z"
   },
   {
    "duration": 1026,
    "start_time": "2021-09-26T17:05:33.612Z"
   },
   {
    "duration": 188,
    "start_time": "2021-09-26T17:05:34.640Z"
   },
   {
    "duration": 126,
    "start_time": "2021-09-26T17:06:58.743Z"
   },
   {
    "duration": 121,
    "start_time": "2021-09-26T17:07:11.836Z"
   },
   {
    "duration": 976,
    "start_time": "2021-09-26T17:11:57.191Z"
   },
   {
    "duration": 352,
    "start_time": "2021-09-26T17:11:58.170Z"
   },
   {
    "duration": 236,
    "start_time": "2021-09-26T17:12:24.796Z"
   },
   {
    "duration": 249,
    "start_time": "2021-09-26T17:16:25.922Z"
   },
   {
    "duration": 390,
    "start_time": "2021-09-26T17:16:44.910Z"
   },
   {
    "duration": 1024,
    "start_time": "2021-09-26T17:16:54.355Z"
   },
   {
    "duration": 3025,
    "start_time": "2021-09-26T17:16:55.381Z"
   },
   {
    "duration": 228,
    "start_time": "2021-09-26T17:17:17.448Z"
   },
   {
    "duration": 431,
    "start_time": "2021-09-26T17:19:13.435Z"
   },
   {
    "duration": 813,
    "start_time": "2021-09-26T17:19:18.765Z"
   },
   {
    "duration": 391,
    "start_time": "2021-09-26T17:19:50.842Z"
   },
   {
    "duration": 406,
    "start_time": "2021-09-26T17:20:01.969Z"
   },
   {
    "duration": 409,
    "start_time": "2021-09-26T17:20:59.461Z"
   },
   {
    "duration": 173,
    "start_time": "2021-09-26T17:21:12.549Z"
   },
   {
    "duration": 78,
    "start_time": "2021-09-26T17:21:49.084Z"
   },
   {
    "duration": 989,
    "start_time": "2021-09-26T17:22:31.096Z"
   },
   {
    "duration": 351,
    "start_time": "2021-09-26T17:24:19.167Z"
   },
   {
    "duration": 1298,
    "start_time": "2021-09-26T17:24:41.666Z"
   },
   {
    "duration": 468,
    "start_time": "2021-09-26T17:24:42.966Z"
   },
   {
    "duration": 358,
    "start_time": "2021-09-26T17:25:22.680Z"
   },
   {
    "duration": 426,
    "start_time": "2021-09-26T17:31:02.972Z"
   },
   {
    "duration": 77,
    "start_time": "2021-09-26T17:31:21.448Z"
   },
   {
    "duration": 111,
    "start_time": "2021-09-26T17:34:15.031Z"
   },
   {
    "duration": 74,
    "start_time": "2021-09-26T17:34:22.352Z"
   },
   {
    "duration": 75,
    "start_time": "2021-09-26T17:34:28.628Z"
   },
   {
    "duration": 75,
    "start_time": "2021-09-26T17:34:44.150Z"
   },
   {
    "duration": 104,
    "start_time": "2021-09-26T17:34:49.624Z"
   },
   {
    "duration": 253,
    "start_time": "2021-09-26T17:35:19.947Z"
   },
   {
    "duration": 1109,
    "start_time": "2021-09-26T17:35:30.229Z"
   },
   {
    "duration": 239,
    "start_time": "2021-09-26T17:35:31.343Z"
   },
   {
    "duration": 708,
    "start_time": "2021-09-26T17:36:30.359Z"
   },
   {
    "duration": 168,
    "start_time": "2021-09-26T17:36:51.187Z"
   },
   {
    "duration": 1035,
    "start_time": "2021-09-26T17:38:03.371Z"
   },
   {
    "duration": 996,
    "start_time": "2021-09-26T17:40:03.086Z"
   },
   {
    "duration": 203,
    "start_time": "2021-09-26T17:40:04.083Z"
   },
   {
    "duration": 131,
    "start_time": "2021-09-26T17:41:59.891Z"
   },
   {
    "duration": 110,
    "start_time": "2021-09-26T17:43:42.530Z"
   },
   {
    "duration": 115,
    "start_time": "2021-09-26T17:48:02.751Z"
   },
   {
    "duration": 112,
    "start_time": "2021-09-26T17:48:11.525Z"
   },
   {
    "duration": 76,
    "start_time": "2021-09-26T17:48:44.809Z"
   },
   {
    "duration": 77,
    "start_time": "2021-09-26T17:48:54.710Z"
   },
   {
    "duration": 1086,
    "start_time": "2021-09-26T17:49:04.002Z"
   },
   {
    "duration": 76,
    "start_time": "2021-09-26T17:49:05.089Z"
   },
   {
    "duration": 73,
    "start_time": "2021-09-26T17:49:12.008Z"
   },
   {
    "duration": 1010,
    "start_time": "2021-09-26T17:49:17.101Z"
   },
   {
    "duration": 78,
    "start_time": "2021-09-26T17:49:18.114Z"
   },
   {
    "duration": 454,
    "start_time": "2021-09-26T17:49:59.843Z"
   },
   {
    "duration": 329,
    "start_time": "2021-09-26T17:50:43.743Z"
   },
   {
    "duration": 110,
    "start_time": "2021-09-26T17:54:47.105Z"
   },
   {
    "duration": 119,
    "start_time": "2021-09-26T17:55:17.878Z"
   },
   {
    "duration": 124,
    "start_time": "2021-09-26T17:55:47.110Z"
   },
   {
    "duration": 1012,
    "start_time": "2021-09-26T17:55:56.786Z"
   },
   {
    "duration": 195,
    "start_time": "2021-09-26T17:55:57.800Z"
   },
   {
    "duration": 119,
    "start_time": "2021-09-26T17:56:12.974Z"
   },
   {
    "duration": 128,
    "start_time": "2021-09-26T17:57:29.794Z"
   },
   {
    "duration": 134,
    "start_time": "2021-09-26T17:57:41.615Z"
   },
   {
    "duration": 134,
    "start_time": "2021-09-26T17:57:48.581Z"
   },
   {
    "duration": 140,
    "start_time": "2021-09-26T17:57:52.961Z"
   },
   {
    "duration": 130,
    "start_time": "2021-09-26T17:58:22.285Z"
   },
   {
    "duration": 161,
    "start_time": "2021-09-26T18:00:29.152Z"
   },
   {
    "duration": 163,
    "start_time": "2021-09-26T18:00:36.257Z"
   },
   {
    "duration": 167,
    "start_time": "2021-09-26T18:01:05.299Z"
   },
   {
    "duration": 163,
    "start_time": "2021-09-26T18:02:19.954Z"
   },
   {
    "duration": 459,
    "start_time": "2021-09-26T18:08:47.892Z"
   },
   {
    "duration": 6830,
    "start_time": "2021-09-26T18:10:37.547Z"
   },
   {
    "duration": 7155,
    "start_time": "2021-09-26T18:11:01.299Z"
   },
   {
    "duration": 6422,
    "start_time": "2021-09-26T18:12:42.285Z"
   },
   {
    "duration": 155,
    "start_time": "2021-09-26T18:15:15.022Z"
   },
   {
    "duration": 372,
    "start_time": "2021-09-26T18:17:09.439Z"
   },
   {
    "duration": 413,
    "start_time": "2021-09-26T18:17:34.739Z"
   },
   {
    "duration": 376,
    "start_time": "2021-09-26T18:19:20.340Z"
   },
   {
    "duration": 497,
    "start_time": "2021-09-26T18:23:01.016Z"
   },
   {
    "duration": 438,
    "start_time": "2021-09-26T18:24:49.848Z"
   },
   {
    "duration": 364,
    "start_time": "2021-09-26T18:24:57.939Z"
   },
   {
    "duration": 366,
    "start_time": "2021-09-26T18:30:43.271Z"
   },
   {
    "duration": 420,
    "start_time": "2021-09-26T18:31:40.639Z"
   },
   {
    "duration": 427,
    "start_time": "2021-09-26T18:33:43.562Z"
   },
   {
    "duration": 377,
    "start_time": "2021-09-26T18:33:47.873Z"
   },
   {
    "duration": 367,
    "start_time": "2021-09-26T18:33:57.750Z"
   },
   {
    "duration": 382,
    "start_time": "2021-09-26T18:35:39.109Z"
   },
   {
    "duration": 360,
    "start_time": "2021-09-26T18:35:49.389Z"
   },
   {
    "duration": 205,
    "start_time": "2021-09-26T18:38:36.552Z"
   },
   {
    "duration": 161,
    "start_time": "2021-09-26T18:40:08.176Z"
   },
   {
    "duration": 151,
    "start_time": "2021-09-26T18:41:54.035Z"
   },
   {
    "duration": 164,
    "start_time": "2021-09-26T18:42:00.341Z"
   },
   {
    "duration": 167,
    "start_time": "2021-09-26T18:42:39.482Z"
   },
   {
    "duration": 206,
    "start_time": "2021-09-26T18:42:48.261Z"
   },
   {
    "duration": 165,
    "start_time": "2021-09-26T18:43:16.436Z"
   },
   {
    "duration": 99,
    "start_time": "2021-09-26T18:47:51.413Z"
   },
   {
    "duration": 220,
    "start_time": "2021-09-26T18:47:59.300Z"
   },
   {
    "duration": 86,
    "start_time": "2021-09-26T19:00:44.777Z"
   },
   {
    "duration": 203,
    "start_time": "2021-09-26T19:00:57.271Z"
   },
   {
    "duration": 6306,
    "start_time": "2021-09-26T19:11:42.812Z"
   },
   {
    "duration": 408,
    "start_time": "2021-09-26T19:12:52.218Z"
   },
   {
    "duration": 186,
    "start_time": "2021-09-26T19:14:02.649Z"
   },
   {
    "duration": 187,
    "start_time": "2021-09-26T19:14:34.900Z"
   },
   {
    "duration": 195,
    "start_time": "2021-09-26T19:15:02.117Z"
   },
   {
    "duration": 231,
    "start_time": "2021-09-26T19:15:19.612Z"
   },
   {
    "duration": 196,
    "start_time": "2021-09-26T19:15:30.336Z"
   },
   {
    "duration": 193,
    "start_time": "2021-09-26T19:15:45.666Z"
   },
   {
    "duration": 192,
    "start_time": "2021-09-26T19:15:51.338Z"
   },
   {
    "duration": 192,
    "start_time": "2021-09-26T19:23:47.498Z"
   },
   {
    "duration": 196,
    "start_time": "2021-09-26T19:24:03.572Z"
   },
   {
    "duration": 411,
    "start_time": "2021-09-26T19:26:02.853Z"
   },
   {
    "duration": 407,
    "start_time": "2021-09-26T19:27:15.721Z"
   },
   {
    "duration": 450,
    "start_time": "2021-09-26T19:27:48.199Z"
   },
   {
    "duration": 425,
    "start_time": "2021-09-26T19:57:10.822Z"
   },
   {
    "duration": 427,
    "start_time": "2021-09-26T19:58:01.335Z"
   },
   {
    "duration": 243,
    "start_time": "2021-09-26T19:58:54.147Z"
   },
   {
    "duration": 195,
    "start_time": "2021-09-26T19:59:15.445Z"
   },
   {
    "duration": 210,
    "start_time": "2021-09-26T19:59:24.962Z"
   },
   {
    "duration": 209,
    "start_time": "2021-09-26T19:59:39.266Z"
   },
   {
    "duration": 1061,
    "start_time": "2021-09-26T20:00:09.467Z"
   },
   {
    "duration": 1334,
    "start_time": "2021-09-26T20:00:35.827Z"
   },
   {
    "duration": 425,
    "start_time": "2021-09-26T20:01:46.780Z"
   },
   {
    "duration": 437,
    "start_time": "2021-09-26T20:02:18.521Z"
   },
   {
    "duration": 545,
    "start_time": "2021-09-26T20:02:46.657Z"
   },
   {
    "duration": 202,
    "start_time": "2021-09-26T20:03:47.676Z"
   },
   {
    "duration": 199,
    "start_time": "2021-09-26T20:04:16.408Z"
   },
   {
    "duration": 209,
    "start_time": "2021-09-26T20:04:31.136Z"
   },
   {
    "duration": 401,
    "start_time": "2021-09-26T20:12:45.408Z"
   },
   {
    "duration": 410,
    "start_time": "2021-09-26T20:14:13.408Z"
   },
   {
    "duration": 207,
    "start_time": "2021-09-26T20:15:10.922Z"
   },
   {
    "duration": 195,
    "start_time": "2021-09-26T20:16:10.217Z"
   },
   {
    "duration": 308,
    "start_time": "2021-09-26T20:16:20.152Z"
   },
   {
    "duration": 240,
    "start_time": "2021-09-26T20:16:46.585Z"
   },
   {
    "duration": 233,
    "start_time": "2021-09-26T20:17:50.544Z"
   },
   {
    "duration": 200,
    "start_time": "2021-09-26T20:19:18.030Z"
   },
   {
    "duration": 206,
    "start_time": "2021-09-26T20:19:29.612Z"
   },
   {
    "duration": 725,
    "start_time": "2021-09-26T20:28:45.029Z"
   },
   {
    "duration": 442,
    "start_time": "2021-09-26T20:32:34.366Z"
   },
   {
    "duration": 556,
    "start_time": "2021-09-26T20:32:37.191Z"
   },
   {
    "duration": 423,
    "start_time": "2021-09-26T20:34:21.203Z"
   },
   {
    "duration": 75,
    "start_time": "2021-09-26T20:34:57.870Z"
   },
   {
    "duration": 78,
    "start_time": "2021-09-26T20:35:10.501Z"
   },
   {
    "duration": 90,
    "start_time": "2021-09-26T20:35:45.788Z"
   },
   {
    "duration": 103,
    "start_time": "2021-09-26T20:36:16.733Z"
   },
   {
    "duration": 1034,
    "start_time": "2021-09-26T20:36:27.857Z"
   },
   {
    "duration": 84,
    "start_time": "2021-09-26T20:36:28.893Z"
   },
   {
    "duration": 75,
    "start_time": "2021-09-26T20:36:45.945Z"
   },
   {
    "duration": 595,
    "start_time": "2021-09-26T20:37:40.655Z"
   },
   {
    "duration": 1092,
    "start_time": "2021-09-26T20:38:03.285Z"
   },
   {
    "duration": 1099,
    "start_time": "2021-09-26T20:38:04.379Z"
   },
   {
    "duration": 399,
    "start_time": "2021-09-27T18:27:27.242Z"
   },
   {
    "duration": 987,
    "start_time": "2021-09-27T18:29:30.345Z"
   },
   {
    "duration": 609,
    "start_time": "2021-09-27T18:29:31.334Z"
   },
   {
    "duration": 573,
    "start_time": "2021-09-27T18:29:40.436Z"
   },
   {
    "duration": 515,
    "start_time": "2021-09-27T18:30:34.710Z"
   },
   {
    "duration": 507,
    "start_time": "2021-09-27T18:32:33.611Z"
   },
   {
    "duration": 564,
    "start_time": "2021-09-27T18:33:20.288Z"
   },
   {
    "duration": 808,
    "start_time": "2021-09-27T18:33:48.773Z"
   },
   {
    "duration": 508,
    "start_time": "2021-09-27T18:34:01.120Z"
   },
   {
    "duration": 530,
    "start_time": "2021-09-27T18:34:23.399Z"
   },
   {
    "duration": 537,
    "start_time": "2021-09-27T18:35:37.989Z"
   },
   {
    "duration": 1142,
    "start_time": "2021-09-27T18:38:59.440Z"
   },
   {
    "duration": 516,
    "start_time": "2021-09-27T18:39:54.268Z"
   },
   {
    "duration": 519,
    "start_time": "2021-09-27T18:41:48.895Z"
   },
   {
    "duration": 416,
    "start_time": "2021-09-27T18:42:17.273Z"
   },
   {
    "duration": 571,
    "start_time": "2021-09-27T18:43:16.282Z"
   },
   {
    "duration": 4629,
    "start_time": "2021-09-27T18:53:52.220Z"
   },
   {
    "duration": 2717,
    "start_time": "2021-09-27T18:56:27.904Z"
   },
   {
    "duration": 2703,
    "start_time": "2021-09-27T18:57:05.099Z"
   },
   {
    "duration": 3480,
    "start_time": "2021-09-27T18:58:12.349Z"
   },
   {
    "duration": 395,
    "start_time": "2021-09-27T18:59:56.758Z"
   },
   {
    "duration": 411,
    "start_time": "2021-09-27T19:00:12.435Z"
   },
   {
    "duration": 2979,
    "start_time": "2021-09-27T19:00:35.066Z"
   },
   {
    "duration": 579,
    "start_time": "2021-09-27T19:29:35.226Z"
   },
   {
    "duration": 3029,
    "start_time": "2021-09-27T19:34:13.164Z"
   },
   {
    "duration": 69,
    "start_time": "2021-09-27T19:36:40.723Z"
   },
   {
    "duration": 538,
    "start_time": "2021-09-27T19:41:43.760Z"
   },
   {
    "duration": 543,
    "start_time": "2021-09-27T20:26:06.930Z"
   },
   {
    "duration": 532,
    "start_time": "2021-09-27T20:27:37.965Z"
   },
   {
    "duration": 3002,
    "start_time": "2021-09-27T20:28:06.918Z"
   },
   {
    "duration": 782,
    "start_time": "2021-09-27T20:28:42.861Z"
   },
   {
    "duration": 62,
    "start_time": "2021-09-27T20:31:33.137Z"
   },
   {
    "duration": 958,
    "start_time": "2021-09-27T20:31:56.306Z"
   },
   {
    "duration": 219,
    "start_time": "2021-09-27T20:36:49.632Z"
   },
   {
    "duration": 3003,
    "start_time": "2021-09-27T20:43:56.747Z"
   },
   {
    "duration": 2889,
    "start_time": "2021-09-27T20:44:42.820Z"
   },
   {
    "duration": 521,
    "start_time": "2021-09-27T20:45:18.609Z"
   },
   {
    "duration": 223,
    "start_time": "2021-09-27T20:46:37.721Z"
   },
   {
    "duration": 227,
    "start_time": "2021-09-27T20:47:30.918Z"
   },
   {
    "duration": 517,
    "start_time": "2021-09-27T20:50:14.039Z"
   },
   {
    "duration": 2883,
    "start_time": "2021-09-27T21:07:15.893Z"
   },
   {
    "duration": 1438,
    "start_time": "2021-09-28T12:06:21.324Z"
   },
   {
    "duration": 5674,
    "start_time": "2021-09-28T12:06:22.764Z"
   },
   {
    "duration": 1611,
    "start_time": "2021-09-28T14:53:47.084Z"
   },
   {
    "duration": 2032,
    "start_time": "2021-09-28T14:53:48.701Z"
   },
   {
    "duration": 921,
    "start_time": "2021-09-28T14:54:46.390Z"
   },
   {
    "duration": 139,
    "start_time": "2021-09-28T14:55:11.247Z"
   },
   {
    "duration": 866,
    "start_time": "2021-09-28T14:56:12.727Z"
   },
   {
    "duration": 696,
    "start_time": "2021-09-28T14:56:21.896Z"
   },
   {
    "duration": 686,
    "start_time": "2021-09-28T15:05:43.806Z"
   },
   {
    "duration": 680,
    "start_time": "2021-09-28T15:23:42.231Z"
   },
   {
    "duration": 828,
    "start_time": "2021-09-28T15:23:53.986Z"
   },
   {
    "duration": 1274,
    "start_time": "2021-09-28T15:25:28.557Z"
   },
   {
    "duration": 121,
    "start_time": "2021-09-28T15:34:05.437Z"
   },
   {
    "duration": 115,
    "start_time": "2021-09-28T15:34:24.757Z"
   },
   {
    "duration": 116,
    "start_time": "2021-09-28T15:34:47.605Z"
   },
   {
    "duration": 303,
    "start_time": "2021-09-28T15:35:42.310Z"
   },
   {
    "duration": 300,
    "start_time": "2021-09-28T15:36:16.998Z"
   },
   {
    "duration": 6309,
    "start_time": "2021-09-28T15:36:51.485Z"
   },
   {
    "duration": 827,
    "start_time": "2021-09-28T15:38:07.102Z"
   },
   {
    "duration": 5311,
    "start_time": "2021-09-28T15:39:04.565Z"
   },
   {
    "duration": 6176,
    "start_time": "2021-09-28T15:41:12.730Z"
   },
   {
    "duration": 959,
    "start_time": "2021-09-28T15:41:38.231Z"
   },
   {
    "duration": 320,
    "start_time": "2021-09-28T18:27:45.268Z"
   },
   {
    "duration": 394,
    "start_time": "2021-09-28T18:28:33.853Z"
   },
   {
    "duration": 1153,
    "start_time": "2021-09-28T18:28:46.744Z"
   },
   {
    "duration": 5297,
    "start_time": "2021-09-28T18:28:47.899Z"
   },
   {
    "duration": 5279,
    "start_time": "2021-09-28T18:29:33.909Z"
   },
   {
    "duration": 219,
    "start_time": "2021-09-28T18:36:56.445Z"
   },
   {
    "duration": 218,
    "start_time": "2021-09-28T18:37:10.748Z"
   },
   {
    "duration": 235,
    "start_time": "2021-09-28T18:37:32.476Z"
   },
   {
    "duration": 652,
    "start_time": "2021-09-28T18:39:44.033Z"
   },
   {
    "duration": 1141,
    "start_time": "2021-09-28T18:41:04.755Z"
   },
   {
    "duration": 589,
    "start_time": "2021-09-28T18:43:44.111Z"
   },
   {
    "duration": 606,
    "start_time": "2021-09-28T18:44:29.489Z"
   },
   {
    "duration": 231,
    "start_time": "2021-09-28T18:46:01.216Z"
   },
   {
    "duration": 10443,
    "start_time": "2021-09-28T18:52:05.088Z"
   },
   {
    "duration": 2729,
    "start_time": "2021-09-28T18:52:54.071Z"
   },
   {
    "duration": 4308,
    "start_time": "2021-09-28T18:54:11.452Z"
   },
   {
    "duration": 601,
    "start_time": "2021-09-28T18:55:10.205Z"
   },
   {
    "duration": 583,
    "start_time": "2021-09-28T18:56:38.131Z"
   },
   {
    "duration": 614,
    "start_time": "2021-09-28T18:57:09.390Z"
   },
   {
    "duration": 558,
    "start_time": "2021-09-28T18:57:21.292Z"
   },
   {
    "duration": 566,
    "start_time": "2021-09-28T18:57:52.132Z"
   },
   {
    "duration": 916,
    "start_time": "2021-09-28T18:58:29.071Z"
   },
   {
    "duration": 595,
    "start_time": "2021-09-28T18:58:47.180Z"
   },
   {
    "duration": 565,
    "start_time": "2021-09-28T18:59:02.963Z"
   },
   {
    "duration": 570,
    "start_time": "2021-09-28T19:05:25.533Z"
   },
   {
    "duration": 3140,
    "start_time": "2021-09-28T19:05:57.682Z"
   },
   {
    "duration": 2617,
    "start_time": "2021-09-28T19:06:56.909Z"
   },
   {
    "duration": 2613,
    "start_time": "2021-09-28T19:07:25.884Z"
   },
   {
    "duration": 319,
    "start_time": "2021-09-28T19:07:59.586Z"
   },
   {
    "duration": 257,
    "start_time": "2021-09-28T19:08:34.604Z"
   },
   {
    "duration": 256,
    "start_time": "2021-09-28T19:09:13.295Z"
   },
   {
    "duration": 558,
    "start_time": "2021-09-28T19:18:47.597Z"
   },
   {
    "duration": 625,
    "start_time": "2021-09-28T19:19:37.265Z"
   },
   {
    "duration": 580,
    "start_time": "2021-09-28T19:20:59.204Z"
   },
   {
    "duration": 2041,
    "start_time": "2021-09-28T19:21:41.030Z"
   },
   {
    "duration": 266,
    "start_time": "2021-09-28T19:22:01.375Z"
   },
   {
    "duration": 248,
    "start_time": "2021-09-28T19:22:33.618Z"
   },
   {
    "duration": 571,
    "start_time": "2021-09-28T19:22:46.339Z"
   },
   {
    "duration": 216,
    "start_time": "2021-09-28T19:24:18.794Z"
   },
   {
    "duration": 373,
    "start_time": "2021-09-28T19:24:24.270Z"
   },
   {
    "duration": 591,
    "start_time": "2021-09-28T19:27:26.801Z"
   },
   {
    "duration": 716,
    "start_time": "2021-09-28T19:28:16.408Z"
   },
   {
    "duration": 232,
    "start_time": "2021-09-28T19:28:35.608Z"
   },
   {
    "duration": 235,
    "start_time": "2021-09-28T19:28:43.953Z"
   },
   {
    "duration": 257,
    "start_time": "2021-09-28T19:29:17.062Z"
   },
   {
    "duration": 236,
    "start_time": "2021-09-28T19:29:30.889Z"
   },
   {
    "duration": 246,
    "start_time": "2021-09-28T19:34:11.258Z"
   },
   {
    "duration": 673,
    "start_time": "2021-09-28T19:37:55.388Z"
   },
   {
    "duration": 632,
    "start_time": "2021-09-28T20:02:29.149Z"
   },
   {
    "duration": 573,
    "start_time": "2021-09-28T20:02:39.599Z"
   },
   {
    "duration": 1392,
    "start_time": "2021-09-28T20:02:53.909Z"
   },
   {
    "duration": 1327,
    "start_time": "2021-09-28T20:04:33.691Z"
   },
   {
    "duration": 1116,
    "start_time": "2021-09-28T20:06:43.715Z"
   },
   {
    "duration": 1563,
    "start_time": "2021-09-28T20:06:44.833Z"
   },
   {
    "duration": 5604,
    "start_time": "2021-09-28T20:41:39.267Z"
   },
   {
    "duration": 116,
    "start_time": "2021-09-28T20:51:43.206Z"
   },
   {
    "duration": 117,
    "start_time": "2021-09-28T20:52:14.855Z"
   },
   {
    "duration": 135,
    "start_time": "2021-09-28T20:52:22.844Z"
   },
   {
    "duration": 139,
    "start_time": "2021-09-28T20:52:44.581Z"
   },
   {
    "duration": 137,
    "start_time": "2021-09-28T20:52:52.583Z"
   },
   {
    "duration": 143,
    "start_time": "2021-09-28T20:52:57.496Z"
   },
   {
    "duration": 128,
    "start_time": "2021-09-28T20:53:20.711Z"
   },
   {
    "duration": 130,
    "start_time": "2021-09-28T20:53:29.653Z"
   },
   {
    "duration": 148,
    "start_time": "2021-09-28T20:53:34.043Z"
   },
   {
    "duration": 128,
    "start_time": "2021-09-28T20:53:46.989Z"
   },
   {
    "duration": 118,
    "start_time": "2021-09-28T20:54:08.104Z"
   },
   {
    "duration": 125,
    "start_time": "2021-09-28T20:54:15.204Z"
   },
   {
    "duration": 119,
    "start_time": "2021-09-28T20:54:36.285Z"
   },
   {
    "duration": 640,
    "start_time": "2021-09-28T20:54:55.754Z"
   },
   {
    "duration": 434,
    "start_time": "2021-09-29T09:18:45.996Z"
   },
   {
    "duration": 1433,
    "start_time": "2021-09-29T09:18:52.786Z"
   },
   {
    "duration": 9106,
    "start_time": "2021-09-29T09:18:54.221Z"
   },
   {
    "duration": 5134,
    "start_time": "2021-09-29T09:19:24.106Z"
   },
   {
    "duration": 4374,
    "start_time": "2021-09-29T09:19:58.987Z"
   },
   {
    "duration": 388,
    "start_time": "2021-09-29T09:22:07.562Z"
   },
   {
    "duration": 367,
    "start_time": "2021-09-29T09:22:21.427Z"
   },
   {
    "duration": 4398,
    "start_time": "2021-09-29T09:23:03.595Z"
   },
   {
    "duration": 738,
    "start_time": "2021-09-29T09:23:48.761Z"
   },
   {
    "duration": 627,
    "start_time": "2021-09-29T09:24:02.170Z"
   },
   {
    "duration": 4353,
    "start_time": "2021-09-29T10:24:30.301Z"
   },
   {
    "duration": 559,
    "start_time": "2021-09-29T10:25:03.498Z"
   },
   {
    "duration": 613,
    "start_time": "2021-09-29T10:26:07.980Z"
   },
   {
    "duration": 556,
    "start_time": "2021-09-29T10:26:55.970Z"
   },
   {
    "duration": 570,
    "start_time": "2021-09-29T10:27:34.643Z"
   },
   {
    "duration": 567,
    "start_time": "2021-09-29T14:12:19.764Z"
   },
   {
    "duration": 8082,
    "start_time": "2021-09-29T14:12:43.656Z"
   },
   {
    "duration": 657,
    "start_time": "2021-09-29T14:12:53.358Z"
   },
   {
    "duration": 552,
    "start_time": "2021-09-29T14:12:56.502Z"
   },
   {
    "duration": 97,
    "start_time": "2021-09-29T14:16:26.412Z"
   },
   {
    "duration": 310,
    "start_time": "2021-09-29T14:16:30.673Z"
   },
   {
    "duration": 24,
    "start_time": "2021-09-29T14:17:03.964Z"
   },
   {
    "duration": 29,
    "start_time": "2021-09-29T14:17:15.963Z"
   },
   {
    "duration": 323,
    "start_time": "2021-09-29T14:19:11.787Z"
   },
   {
    "duration": 1333,
    "start_time": "2021-09-29T14:19:18.217Z"
   },
   {
    "duration": 721,
    "start_time": "2021-09-29T14:19:19.552Z"
   },
   {
    "duration": 8426,
    "start_time": "2021-09-29T14:19:20.279Z"
   },
   {
    "duration": 332,
    "start_time": "2021-09-29T14:19:43.836Z"
   },
   {
    "duration": 28,
    "start_time": "2021-09-29T14:19:53.204Z"
   },
   {
    "duration": 6,
    "start_time": "2021-09-29T14:57:40.050Z"
   },
   {
    "duration": 9,
    "start_time": "2021-09-29T14:57:45.898Z"
   },
   {
    "duration": 11,
    "start_time": "2021-09-29T14:58:15.379Z"
   },
   {
    "duration": 53,
    "start_time": "2021-09-29T14:59:49.572Z"
   },
   {
    "duration": 67,
    "start_time": "2021-09-29T14:59:57.514Z"
   },
   {
    "duration": 61,
    "start_time": "2021-09-29T15:00:13.546Z"
   },
   {
    "duration": 296,
    "start_time": "2021-09-29T15:01:23.667Z"
   },
   {
    "duration": 113,
    "start_time": "2021-09-29T15:01:52.573Z"
   },
   {
    "duration": 368,
    "start_time": "2021-09-29T15:02:04.531Z"
   },
   {
    "duration": 308,
    "start_time": "2021-09-29T15:02:53.988Z"
   },
   {
    "duration": 6,
    "start_time": "2021-09-29T15:03:01.715Z"
   },
   {
    "duration": 6,
    "start_time": "2021-09-29T15:03:06.635Z"
   },
   {
    "duration": 6,
    "start_time": "2021-09-29T15:04:02.068Z"
   },
   {
    "duration": 9,
    "start_time": "2021-09-29T15:04:07.533Z"
   },
   {
    "duration": 7,
    "start_time": "2021-09-29T15:04:25.434Z"
   },
   {
    "duration": 8,
    "start_time": "2021-09-29T15:42:42.941Z"
   },
   {
    "duration": 566,
    "start_time": "2021-09-29T15:42:52.902Z"
   },
   {
    "duration": 13,
    "start_time": "2021-09-29T15:43:55.193Z"
   },
   {
    "duration": 14,
    "start_time": "2021-09-29T15:45:15.786Z"
   },
   {
    "duration": 303,
    "start_time": "2021-09-29T15:48:45.065Z"
   },
   {
    "duration": 295,
    "start_time": "2021-09-29T15:48:56.410Z"
   },
   {
    "duration": 286,
    "start_time": "2021-09-29T15:52:42.826Z"
   },
   {
    "duration": 298,
    "start_time": "2021-09-29T15:55:35.079Z"
   },
   {
    "duration": 352,
    "start_time": "2021-09-29T18:20:48.060Z"
   },
   {
    "duration": 1359,
    "start_time": "2021-09-29T18:21:02.972Z"
   },
   {
    "duration": 677,
    "start_time": "2021-09-29T18:21:04.334Z"
   },
   {
    "duration": 375,
    "start_time": "2021-09-29T18:21:05.013Z"
   },
   {
    "duration": 321,
    "start_time": "2021-09-29T18:21:24.598Z"
   },
   {
    "duration": 275,
    "start_time": "2021-09-29T18:21:54.566Z"
   },
   {
    "duration": 272,
    "start_time": "2021-09-29T18:22:37.846Z"
   },
   {
    "duration": 5560,
    "start_time": "2021-09-29T18:23:03.255Z"
   },
   {
    "duration": 72,
    "start_time": "2021-09-29T18:23:34.769Z"
   },
   {
    "duration": 19,
    "start_time": "2021-09-29T18:23:50.663Z"
   },
   {
    "duration": 5531,
    "start_time": "2021-09-29T18:24:04.688Z"
   },
   {
    "duration": 6259,
    "start_time": "2021-09-29T18:24:31.137Z"
   },
   {
    "duration": 5537,
    "start_time": "2021-09-29T18:25:22.966Z"
   },
   {
    "duration": 20,
    "start_time": "2021-09-29T18:25:38.996Z"
   },
   {
    "duration": 20,
    "start_time": "2021-09-29T18:26:05.428Z"
   },
   {
    "duration": 22,
    "start_time": "2021-09-29T18:26:14.920Z"
   },
   {
    "duration": 336,
    "start_time": "2021-09-29T18:26:21.797Z"
   },
   {
    "duration": 296,
    "start_time": "2021-09-29T18:32:37.702Z"
   },
   {
    "duration": 314,
    "start_time": "2021-09-29T18:32:52.545Z"
   },
   {
    "duration": 18,
    "start_time": "2021-09-29T18:33:32.995Z"
   },
   {
    "duration": 16,
    "start_time": "2021-09-29T18:33:42.912Z"
   },
   {
    "duration": 33,
    "start_time": "2021-09-29T18:34:17.007Z"
   },
   {
    "duration": 42,
    "start_time": "2021-09-29T18:36:06.383Z"
   },
   {
    "duration": 62,
    "start_time": "2021-09-29T18:36:38.127Z"
   },
   {
    "duration": 46,
    "start_time": "2021-09-29T18:47:39.043Z"
   },
   {
    "duration": 2641,
    "start_time": "2021-09-29T18:58:36.362Z"
   },
   {
    "duration": 556,
    "start_time": "2021-09-29T18:59:07.699Z"
   },
   {
    "duration": 93,
    "start_time": "2021-09-29T19:03:34.746Z"
   },
   {
    "duration": 105,
    "start_time": "2021-09-29T19:03:43.853Z"
   },
   {
    "duration": 27,
    "start_time": "2021-09-29T19:03:59.706Z"
   },
   {
    "duration": 43,
    "start_time": "2021-09-29T19:05:30.015Z"
   },
   {
    "duration": 1228,
    "start_time": "2021-09-29T19:06:56.155Z"
   },
   {
    "duration": 2741,
    "start_time": "2021-09-29T19:08:13.658Z"
   },
   {
    "duration": 947,
    "start_time": "2021-09-29T19:12:00.029Z"
   },
   {
    "duration": 43,
    "start_time": "2021-09-29T19:12:08.727Z"
   },
   {
    "duration": 542,
    "start_time": "2021-09-29T19:12:29.620Z"
   },
   {
    "duration": 43,
    "start_time": "2021-09-29T19:12:32.235Z"
   },
   {
    "duration": 167,
    "start_time": "2021-09-29T19:16:55.978Z"
   },
   {
    "duration": 26,
    "start_time": "2021-09-29T19:17:23.342Z"
   },
   {
    "duration": 279,
    "start_time": "2021-09-29T19:18:09.826Z"
   },
   {
    "duration": 33,
    "start_time": "2021-09-29T19:19:48.764Z"
   },
   {
    "duration": 1436,
    "start_time": "2021-09-29T19:20:20.730Z"
   },
   {
    "duration": 664,
    "start_time": "2021-09-29T19:20:22.169Z"
   },
   {
    "duration": 34,
    "start_time": "2021-09-29T19:20:22.836Z"
   },
   {
    "duration": 48,
    "start_time": "2021-09-29T19:20:22.872Z"
   },
   {
    "duration": 32,
    "start_time": "2021-09-29T19:21:00.911Z"
   },
   {
    "duration": 33,
    "start_time": "2021-09-29T19:21:11.853Z"
   },
   {
    "duration": 35,
    "start_time": "2021-09-29T19:21:48.897Z"
   },
   {
    "duration": 36,
    "start_time": "2021-09-29T19:21:54.126Z"
   },
   {
    "duration": 36,
    "start_time": "2021-09-29T19:22:07.434Z"
   },
   {
    "duration": 396,
    "start_time": "2021-09-29T19:33:46.966Z"
   },
   {
    "duration": 18,
    "start_time": "2021-09-29T19:42:03.358Z"
   },
   {
    "duration": 363,
    "start_time": "2021-09-29T19:44:14.051Z"
   },
   {
    "duration": 712,
    "start_time": "2021-09-29T19:44:38.728Z"
   },
   {
    "duration": 697,
    "start_time": "2021-09-29T19:45:08.328Z"
   },
   {
    "duration": 678,
    "start_time": "2021-09-29T19:47:38.051Z"
   },
   {
    "duration": 706,
    "start_time": "2021-09-29T19:47:46.380Z"
   },
   {
    "duration": 18,
    "start_time": "2021-09-29T19:48:20.904Z"
   },
   {
    "duration": 29,
    "start_time": "2021-09-29T19:48:33.767Z"
   },
   {
    "duration": 31,
    "start_time": "2021-09-29T19:49:30.269Z"
   },
   {
    "duration": 30,
    "start_time": "2021-09-29T19:49:46.367Z"
   },
   {
    "duration": 29,
    "start_time": "2021-09-29T19:52:19.435Z"
   },
   {
    "duration": 28,
    "start_time": "2021-09-29T19:52:44.946Z"
   },
   {
    "duration": 27,
    "start_time": "2021-09-29T19:52:48.499Z"
   },
   {
    "duration": 1459,
    "start_time": "2021-09-29T19:52:58.033Z"
   },
   {
    "duration": 673,
    "start_time": "2021-09-29T19:52:59.495Z"
   },
   {
    "duration": 39,
    "start_time": "2021-09-29T19:53:00.171Z"
   },
   {
    "duration": 408,
    "start_time": "2021-09-29T19:53:00.213Z"
   },
   {
    "duration": 28,
    "start_time": "2021-09-29T19:53:22.390Z"
   },
   {
    "duration": 27,
    "start_time": "2021-09-29T19:56:39.293Z"
   },
   {
    "duration": 31,
    "start_time": "2021-09-29T19:59:24.678Z"
   },
   {
    "duration": 354,
    "start_time": "2021-09-29T20:00:02.533Z"
   },
   {
    "duration": 283,
    "start_time": "2021-09-29T20:00:17.575Z"
   },
   {
    "duration": 35,
    "start_time": "2021-09-29T20:00:39.780Z"
   },
   {
    "duration": 787,
    "start_time": "2021-09-29T20:07:04.665Z"
   },
   {
    "duration": 396,
    "start_time": "2021-09-29T20:09:52.810Z"
   },
   {
    "duration": 638,
    "start_time": "2021-09-29T20:10:17.823Z"
   },
   {
    "duration": 37,
    "start_time": "2021-09-29T20:10:30.293Z"
   },
   {
    "duration": 371,
    "start_time": "2021-09-29T20:10:34.746Z"
   },
   {
    "duration": 321,
    "start_time": "2021-09-29T20:10:52.757Z"
   },
   {
    "duration": 33,
    "start_time": "2021-09-29T20:10:54.435Z"
   },
   {
    "duration": 365,
    "start_time": "2021-09-29T20:10:56.779Z"
   },
   {
    "duration": 41,
    "start_time": "2021-09-29T20:19:24.551Z"
   },
   {
    "duration": 277,
    "start_time": "2021-09-29T20:22:25.604Z"
   },
   {
    "duration": 19,
    "start_time": "2021-09-29T20:22:32.923Z"
   },
   {
    "duration": 43,
    "start_time": "2021-09-29T20:22:52.449Z"
   },
   {
    "duration": 41,
    "start_time": "2021-09-29T20:23:17.467Z"
   },
   {
    "duration": 41,
    "start_time": "2021-09-29T20:23:26.695Z"
   },
   {
    "duration": 31,
    "start_time": "2021-09-29T20:23:32.112Z"
   },
   {
    "duration": 1567,
    "start_time": "2021-09-29T20:23:39.416Z"
   },
   {
    "duration": 750,
    "start_time": "2021-09-29T20:23:40.986Z"
   },
   {
    "duration": 43,
    "start_time": "2021-09-29T20:23:41.740Z"
   },
   {
    "duration": 30,
    "start_time": "2021-09-29T20:23:41.786Z"
   },
   {
    "duration": 493,
    "start_time": "2021-09-29T20:23:41.818Z"
   },
   {
    "duration": 453,
    "start_time": "2021-09-29T20:23:42.313Z"
   },
   {
    "duration": 29,
    "start_time": "2021-09-29T20:24:22.420Z"
   },
   {
    "duration": 31,
    "start_time": "2021-09-29T20:30:23.469Z"
   },
   {
    "duration": 435,
    "start_time": "2021-09-29T20:44:59.969Z"
   },
   {
    "duration": 2088,
    "start_time": "2021-09-29T20:45:07.759Z"
   },
   {
    "duration": 663,
    "start_time": "2021-09-29T20:45:09.850Z"
   },
   {
    "duration": 50,
    "start_time": "2021-09-29T20:45:10.519Z"
   },
   {
    "duration": 31,
    "start_time": "2021-09-29T20:45:10.572Z"
   },
   {
    "duration": 797,
    "start_time": "2021-09-29T20:45:10.606Z"
   },
   {
    "duration": -10,
    "start_time": "2021-09-29T20:45:11.416Z"
   },
   {
    "duration": 468,
    "start_time": "2021-09-29T20:45:35.397Z"
   },
   {
    "duration": 439,
    "start_time": "2021-09-29T20:46:37.996Z"
   },
   {
    "duration": 443,
    "start_time": "2021-09-29T20:47:24.283Z"
   },
   {
    "duration": 371,
    "start_time": "2021-09-29T20:47:35.152Z"
   },
   {
    "duration": 351,
    "start_time": "2021-09-29T20:48:18.202Z"
   },
   {
    "duration": 314,
    "start_time": "2021-09-29T20:48:36.188Z"
   },
   {
    "duration": 278,
    "start_time": "2021-09-29T20:48:42.951Z"
   },
   {
    "duration": 2108,
    "start_time": "2021-09-29T20:52:29.375Z"
   },
   {
    "duration": 694,
    "start_time": "2021-09-29T20:52:31.485Z"
   },
   {
    "duration": 35,
    "start_time": "2021-09-29T20:52:32.182Z"
   },
   {
    "duration": 48,
    "start_time": "2021-09-29T20:52:32.220Z"
   },
   {
    "duration": 17,
    "start_time": "2021-09-29T20:52:32.270Z"
   },
   {
    "duration": 358,
    "start_time": "2021-09-29T20:52:32.289Z"
   },
   {
    "duration": 33,
    "start_time": "2021-09-29T20:55:51.390Z"
   },
   {
    "duration": 530,
    "start_time": "2021-09-29T20:56:30.083Z"
   },
   {
    "duration": 32,
    "start_time": "2021-09-29T20:57:00.684Z"
   },
   {
    "duration": 450,
    "start_time": "2021-09-29T20:57:32.704Z"
   },
   {
    "duration": 504,
    "start_time": "2021-09-29T20:58:19.169Z"
   },
   {
    "duration": 443,
    "start_time": "2021-09-29T20:58:25.296Z"
   },
   {
    "duration": 441,
    "start_time": "2021-09-29T20:58:58.309Z"
   },
   {
    "duration": 592,
    "start_time": "2021-09-29T21:01:52.156Z"
   },
   {
    "duration": 503,
    "start_time": "2021-09-29T21:02:07.009Z"
   },
   {
    "duration": 494,
    "start_time": "2021-09-29T21:03:15.220Z"
   },
   {
    "duration": 750,
    "start_time": "2021-09-29T21:03:20.146Z"
   },
   {
    "duration": 980,
    "start_time": "2021-09-29T21:03:42.208Z"
   },
   {
    "duration": 731,
    "start_time": "2021-09-29T21:03:56.369Z"
   },
   {
    "duration": 2068,
    "start_time": "2021-09-29T21:04:03.782Z"
   },
   {
    "duration": 667,
    "start_time": "2021-09-29T21:04:05.861Z"
   },
   {
    "duration": 5147,
    "start_time": "2021-09-29T21:04:06.531Z"
   },
   {
    "duration": -52,
    "start_time": "2021-09-29T21:04:11.732Z"
   },
   {
    "duration": -52,
    "start_time": "2021-09-29T21:04:11.734Z"
   },
   {
    "duration": -54,
    "start_time": "2021-09-29T21:04:11.737Z"
   },
   {
    "duration": 353,
    "start_time": "2021-09-29T21:04:21.425Z"
   },
   {
    "duration": 2219,
    "start_time": "2021-09-29T21:04:28.753Z"
   },
   {
    "duration": 676,
    "start_time": "2021-09-29T21:04:30.975Z"
   },
   {
    "duration": 4717,
    "start_time": "2021-09-29T21:04:31.654Z"
   },
   {
    "duration": -64,
    "start_time": "2021-09-29T21:04:36.438Z"
   },
   {
    "duration": -66,
    "start_time": "2021-09-29T21:04:36.442Z"
   },
   {
    "duration": -68,
    "start_time": "2021-09-29T21:04:36.445Z"
   },
   {
    "duration": 316,
    "start_time": "2021-09-29T21:04:45.896Z"
   },
   {
    "duration": 2171,
    "start_time": "2021-09-29T21:04:51.913Z"
   },
   {
    "duration": 700,
    "start_time": "2021-09-29T21:04:54.086Z"
   },
   {
    "duration": 4019,
    "start_time": "2021-09-29T21:04:54.789Z"
   },
   {
    "duration": -81,
    "start_time": "2021-09-29T21:04:58.892Z"
   },
   {
    "duration": -82,
    "start_time": "2021-09-29T21:04:58.895Z"
   },
   {
    "duration": -84,
    "start_time": "2021-09-29T21:04:58.898Z"
   },
   {
    "duration": 346,
    "start_time": "2021-09-29T21:05:04.263Z"
   },
   {
    "duration": 2209,
    "start_time": "2021-09-30T09:33:28.452Z"
   },
   {
    "duration": 700,
    "start_time": "2021-09-30T09:33:30.667Z"
   },
   {
    "duration": 3791,
    "start_time": "2021-09-30T09:33:31.371Z"
   },
   {
    "duration": -213,
    "start_time": "2021-09-30T09:33:35.379Z"
   },
   {
    "duration": -213,
    "start_time": "2021-09-30T09:33:35.381Z"
   },
   {
    "duration": -213,
    "start_time": "2021-09-30T09:33:35.383Z"
   },
   {
    "duration": 536,
    "start_time": "2021-09-30T09:34:26.621Z"
   },
   {
    "duration": 41,
    "start_time": "2021-09-30T09:34:29.026Z"
   },
   {
    "duration": 475,
    "start_time": "2021-09-30T09:34:38.956Z"
   },
   {
    "duration": 463,
    "start_time": "2021-09-30T10:11:33.869Z"
   },
   {
    "duration": 450,
    "start_time": "2021-09-30T10:56:25.783Z"
   },
   {
    "duration": 842,
    "start_time": "2021-09-30T10:56:32.833Z"
   },
   {
    "duration": 293,
    "start_time": "2021-09-30T10:56:56.666Z"
   },
   {
    "duration": 803,
    "start_time": "2021-09-30T10:57:46.097Z"
   },
   {
    "duration": 513,
    "start_time": "2021-09-30T10:58:01.075Z"
   },
   {
    "duration": 98,
    "start_time": "2021-09-30T10:58:22.034Z"
   },
   {
    "duration": 87,
    "start_time": "2021-09-30T10:58:27.792Z"
   },
   {
    "duration": 510,
    "start_time": "2021-09-30T10:58:36.619Z"
   },
   {
    "duration": 512,
    "start_time": "2021-09-30T10:58:57.927Z"
   },
   {
    "duration": 615,
    "start_time": "2021-09-30T10:59:14.412Z"
   },
   {
    "duration": 32,
    "start_time": "2021-09-30T10:59:52.948Z"
   },
   {
    "duration": 660,
    "start_time": "2021-09-30T11:00:21.620Z"
   },
   {
    "duration": 507,
    "start_time": "2021-09-30T11:15:21.444Z"
   },
   {
    "duration": 2161,
    "start_time": "2021-09-30T11:17:24.261Z"
   },
   {
    "duration": 668,
    "start_time": "2021-09-30T11:17:26.425Z"
   },
   {
    "duration": 39,
    "start_time": "2021-09-30T11:17:27.096Z"
   },
   {
    "duration": 52,
    "start_time": "2021-09-30T11:17:27.137Z"
   },
   {
    "duration": 548,
    "start_time": "2021-09-30T11:17:27.191Z"
   },
   {
    "duration": 610,
    "start_time": "2021-09-30T11:17:27.741Z"
   },
   {
    "duration": 594,
    "start_time": "2021-09-30T11:17:28.354Z"
   },
   {
    "duration": 641,
    "start_time": "2021-09-30T11:19:45.044Z"
   },
   {
    "duration": 35,
    "start_time": "2021-09-30T11:19:47.252Z"
   },
   {
    "duration": 556,
    "start_time": "2021-09-30T15:07:45.305Z"
   },
   {
    "duration": 567,
    "start_time": "2021-09-30T15:07:58.772Z"
   },
   {
    "duration": 851,
    "start_time": "2021-09-30T15:08:12.695Z"
   },
   {
    "duration": 768,
    "start_time": "2021-09-30T15:08:39.907Z"
   },
   {
    "duration": 426,
    "start_time": "2021-09-30T15:09:43.143Z"
   },
   {
    "duration": 780,
    "start_time": "2021-09-30T15:09:51.659Z"
   },
   {
    "duration": 887,
    "start_time": "2021-09-30T15:10:14.014Z"
   },
   {
    "duration": 710,
    "start_time": "2021-09-30T15:10:51.765Z"
   },
   {
    "duration": 841,
    "start_time": "2021-09-30T15:11:35.033Z"
   },
   {
    "duration": 793,
    "start_time": "2021-09-30T15:15:50.550Z"
   },
   {
    "duration": 885,
    "start_time": "2021-09-30T15:16:48.117Z"
   },
   {
    "duration": 2115,
    "start_time": "2021-10-01T11:51:27.328Z"
   },
   {
    "duration": 684,
    "start_time": "2021-10-01T11:51:29.446Z"
   },
   {
    "duration": 36,
    "start_time": "2021-10-01T11:51:30.133Z"
   },
   {
    "duration": 54,
    "start_time": "2021-10-01T11:51:30.171Z"
   },
   {
    "duration": 932,
    "start_time": "2021-10-01T11:51:30.228Z"
   },
   {
    "duration": 850,
    "start_time": "2021-10-01T11:51:31.163Z"
   },
   {
    "duration": 960,
    "start_time": "2021-10-01T11:51:32.017Z"
   },
   {
    "duration": 669,
    "start_time": "2021-10-01T12:08:42.844Z"
   },
   {
    "duration": 4,
    "start_time": "2021-10-01T12:17:48.275Z"
   },
   {
    "duration": 604,
    "start_time": "2021-10-01T12:18:15.461Z"
   },
   {
    "duration": 6,
    "start_time": "2021-10-01T12:18:53.659Z"
   },
   {
    "duration": 7,
    "start_time": "2021-10-01T12:19:53.500Z"
   },
   {
    "duration": 512,
    "start_time": "2021-10-01T14:41:13.974Z"
   },
   {
    "duration": 415,
    "start_time": "2021-10-01T14:41:28.496Z"
   },
   {
    "duration": 11,
    "start_time": "2021-10-01T14:42:11.415Z"
   },
   {
    "duration": 2157,
    "start_time": "2021-10-01T18:06:26.383Z"
   },
   {
    "duration": 690,
    "start_time": "2021-10-01T18:06:28.543Z"
   },
   {
    "duration": 35,
    "start_time": "2021-10-01T18:06:29.236Z"
   },
   {
    "duration": 51,
    "start_time": "2021-10-01T18:06:29.273Z"
   },
   {
    "duration": 809,
    "start_time": "2021-10-01T18:06:29.332Z"
   },
   {
    "duration": 792,
    "start_time": "2021-10-01T18:06:30.143Z"
   },
   {
    "duration": 911,
    "start_time": "2021-10-01T18:06:30.939Z"
   },
   {
    "duration": 15,
    "start_time": "2021-10-01T18:06:31.855Z"
   },
   {
    "duration": 17,
    "start_time": "2021-10-01T18:16:30.433Z"
   },
   {
    "duration": 13,
    "start_time": "2021-10-01T18:16:49.527Z"
   },
   {
    "duration": 15,
    "start_time": "2021-10-01T18:16:52.866Z"
   },
   {
    "duration": 568,
    "start_time": "2021-10-01T18:24:45.897Z"
   },
   {
    "duration": 570,
    "start_time": "2021-10-01T18:25:22.616Z"
   },
   {
    "duration": 414,
    "start_time": "2021-10-01T18:26:22.788Z"
   },
   {
    "duration": 446,
    "start_time": "2021-10-01T18:26:26.495Z"
   },
   {
    "duration": 20,
    "start_time": "2021-10-01T18:26:54.044Z"
   },
   {
    "duration": 997,
    "start_time": "2021-10-02T10:40:00.195Z"
   },
   {
    "duration": 2150,
    "start_time": "2021-10-02T10:40:12.391Z"
   },
   {
    "duration": 712,
    "start_time": "2021-10-02T10:40:14.544Z"
   },
   {
    "duration": 34,
    "start_time": "2021-10-02T10:40:15.260Z"
   },
   {
    "duration": 53,
    "start_time": "2021-10-02T10:40:15.296Z"
   },
   {
    "duration": 812,
    "start_time": "2021-10-02T10:40:15.352Z"
   },
   {
    "duration": 752,
    "start_time": "2021-10-02T10:40:16.166Z"
   },
   {
    "duration": 882,
    "start_time": "2021-10-02T10:40:16.924Z"
   },
   {
    "duration": 18,
    "start_time": "2021-10-02T10:40:17.809Z"
   },
   {
    "duration": 424,
    "start_time": "2021-10-02T10:40:17.830Z"
   },
   {
    "duration": 2088,
    "start_time": "2021-10-02T10:41:16.749Z"
   },
   {
    "duration": 700,
    "start_time": "2021-10-02T10:41:18.841Z"
   },
   {
    "duration": 36,
    "start_time": "2021-10-02T10:41:19.545Z"
   },
   {
    "duration": 55,
    "start_time": "2021-10-02T10:41:19.584Z"
   },
   {
    "duration": 819,
    "start_time": "2021-10-02T10:41:19.642Z"
   },
   {
    "duration": 775,
    "start_time": "2021-10-02T10:41:20.463Z"
   },
   {
    "duration": 866,
    "start_time": "2021-10-02T10:41:21.241Z"
   },
   {
    "duration": 17,
    "start_time": "2021-10-02T10:41:22.110Z"
   },
   {
    "duration": 430,
    "start_time": "2021-10-02T10:41:22.131Z"
   },
   {
    "duration": 14,
    "start_time": "2021-10-02T10:41:41.801Z"
   },
   {
    "duration": 731,
    "start_time": "2021-10-02T10:42:56.351Z"
   },
   {
    "duration": 720,
    "start_time": "2021-10-02T10:43:25.665Z"
   },
   {
    "duration": 622,
    "start_time": "2021-10-02T10:43:36.355Z"
   },
   {
    "duration": 403,
    "start_time": "2021-10-02T10:50:44.685Z"
   },
   {
    "duration": 209,
    "start_time": "2021-10-02T10:50:59.282Z"
   },
   {
    "duration": 515,
    "start_time": "2021-10-02T10:57:34.758Z"
   },
   {
    "duration": 319,
    "start_time": "2021-10-02T11:20:37.404Z"
   },
   {
    "duration": 294,
    "start_time": "2021-10-02T11:24:05.295Z"
   },
   {
    "duration": 312,
    "start_time": "2021-10-02T11:24:54.425Z"
   },
   {
    "duration": 578,
    "start_time": "2021-10-02T11:25:10.044Z"
   },
   {
    "duration": 301,
    "start_time": "2021-10-02T11:33:50.360Z"
   },
   {
    "duration": 303,
    "start_time": "2021-10-02T11:33:58.547Z"
   },
   {
    "duration": 325,
    "start_time": "2021-10-02T11:34:34.423Z"
   },
   {
    "duration": 32,
    "start_time": "2021-10-02T11:34:52.948Z"
   },
   {
    "duration": 813,
    "start_time": "2021-10-02T11:39:26.894Z"
   },
   {
    "duration": 869,
    "start_time": "2021-10-02T11:41:12.659Z"
   },
   {
    "duration": 2026,
    "start_time": "2021-10-02T16:37:32.577Z"
   },
   {
    "duration": 298,
    "start_time": "2021-10-02T16:37:34.605Z"
   },
   {
    "duration": 568,
    "start_time": "2021-10-02T16:37:34.906Z"
   },
   {
    "duration": 36,
    "start_time": "2021-10-02T16:37:35.477Z"
   },
   {
    "duration": 58,
    "start_time": "2021-10-02T16:37:35.516Z"
   },
   {
    "duration": 793,
    "start_time": "2021-10-02T16:37:35.576Z"
   },
   {
    "duration": 755,
    "start_time": "2021-10-02T16:37:36.371Z"
   },
   {
    "duration": 867,
    "start_time": "2021-10-02T16:37:37.129Z"
   },
   {
    "duration": 9,
    "start_time": "2021-10-02T16:37:37.998Z"
   },
   {
    "duration": 14,
    "start_time": "2021-10-02T16:37:38.009Z"
   },
   {
    "duration": 528,
    "start_time": "2021-10-02T16:42:08.869Z"
   },
   {
    "duration": 524,
    "start_time": "2021-10-02T16:42:13.368Z"
   },
   {
    "duration": 1074,
    "start_time": "2021-10-02T16:53:24.446Z"
   },
   {
    "duration": 2070,
    "start_time": "2021-10-02T16:53:33.603Z"
   },
   {
    "duration": 329,
    "start_time": "2021-10-02T16:53:35.676Z"
   },
   {
    "duration": 668,
    "start_time": "2021-10-02T16:53:36.008Z"
   },
   {
    "duration": 38,
    "start_time": "2021-10-02T16:53:36.678Z"
   },
   {
    "duration": 58,
    "start_time": "2021-10-02T16:53:36.719Z"
   },
   {
    "duration": 1216,
    "start_time": "2021-10-02T16:53:36.787Z"
   },
   {
    "duration": -584,
    "start_time": "2021-10-02T16:53:38.591Z"
   },
   {
    "duration": -586,
    "start_time": "2021-10-02T16:53:38.596Z"
   },
   {
    "duration": -587,
    "start_time": "2021-10-02T16:53:38.599Z"
   },
   {
    "duration": -589,
    "start_time": "2021-10-02T16:53:38.603Z"
   },
   {
    "duration": 949,
    "start_time": "2021-10-02T16:53:53.654Z"
   },
   {
    "duration": 1109,
    "start_time": "2021-10-02T16:55:10.070Z"
   },
   {
    "duration": 1045,
    "start_time": "2021-10-02T16:55:23.185Z"
   },
   {
    "duration": 807,
    "start_time": "2021-10-02T16:55:26.815Z"
   },
   {
    "duration": 793,
    "start_time": "2021-10-02T16:56:22.284Z"
   },
   {
    "duration": 729,
    "start_time": "2021-10-02T18:41:46.288Z"
   },
   {
    "duration": 779,
    "start_time": "2021-10-02T18:41:48.246Z"
   },
   {
    "duration": 331,
    "start_time": "2021-10-03T14:35:41.755Z"
   },
   {
    "duration": 1583,
    "start_time": "2021-10-03T14:35:46.647Z"
   },
   {
    "duration": 209,
    "start_time": "2021-10-03T14:35:48.232Z"
   },
   {
    "duration": 350,
    "start_time": "2021-10-03T14:35:48.445Z"
   },
   {
    "duration": 22,
    "start_time": "2021-10-03T14:35:48.797Z"
   },
   {
    "duration": 39,
    "start_time": "2021-10-03T14:35:48.820Z"
   },
   {
    "duration": 469,
    "start_time": "2021-10-03T14:35:48.860Z"
   },
   {
    "duration": 418,
    "start_time": "2021-10-03T14:35:49.331Z"
   },
   {
    "duration": 491,
    "start_time": "2021-10-03T14:35:49.751Z"
   },
   {
    "duration": 7,
    "start_time": "2021-10-03T14:35:50.243Z"
   },
   {
    "duration": 20,
    "start_time": "2021-10-03T14:35:50.251Z"
   },
   {
    "duration": 445,
    "start_time": "2021-10-03T14:38:07.150Z"
   },
   {
    "duration": 449,
    "start_time": "2021-10-03T14:39:48.100Z"
   },
   {
    "duration": 436,
    "start_time": "2021-10-03T14:40:34.403Z"
   },
   {
    "duration": 420,
    "start_time": "2021-10-03T14:41:09.607Z"
   },
   {
    "duration": 440,
    "start_time": "2021-10-03T14:45:19.010Z"
   },
   {
    "duration": 509,
    "start_time": "2021-10-03T14:46:08.898Z"
   },
   {
    "duration": 493,
    "start_time": "2021-10-03T14:46:31.980Z"
   },
   {
    "duration": 446,
    "start_time": "2021-10-03T14:48:03.318Z"
   },
   {
    "duration": 336,
    "start_time": "2021-10-03T15:01:05.672Z"
   },
   {
    "duration": 462,
    "start_time": "2021-10-03T15:04:50.907Z"
   },
   {
    "duration": 9,
    "start_time": "2021-10-03T15:05:29.981Z"
   },
   {
    "duration": 6,
    "start_time": "2021-10-03T15:06:32.449Z"
   },
   {
    "duration": 269,
    "start_time": "2021-10-03T15:08:16.428Z"
   },
   {
    "duration": 1506,
    "start_time": "2021-10-03T15:08:28.140Z"
   },
   {
    "duration": 201,
    "start_time": "2021-10-03T15:08:29.648Z"
   },
   {
    "duration": 362,
    "start_time": "2021-10-03T15:08:29.851Z"
   },
   {
    "duration": 177,
    "start_time": "2021-10-03T15:08:30.215Z"
   },
   {
    "duration": 7040,
    "start_time": "2021-10-03T15:08:30.394Z"
   },
   {
    "duration": 40,
    "start_time": "2021-10-03T15:08:37.397Z"
   },
   {
    "duration": 39,
    "start_time": "2021-10-03T15:08:37.399Z"
   },
   {
    "duration": 38,
    "start_time": "2021-10-03T15:08:37.402Z"
   },
   {
    "duration": 37,
    "start_time": "2021-10-03T15:08:37.404Z"
   },
   {
    "duration": 34,
    "start_time": "2021-10-03T15:08:37.409Z"
   },
   {
    "duration": 497,
    "start_time": "2021-10-03T15:09:47.852Z"
   },
   {
    "duration": 10,
    "start_time": "2021-10-03T15:10:04.428Z"
   },
   {
    "duration": 19,
    "start_time": "2021-10-03T15:10:48.345Z"
   },
   {
    "duration": 199,
    "start_time": "2021-10-03T15:12:22.005Z"
   },
   {
    "duration": 22,
    "start_time": "2021-10-03T15:12:40.621Z"
   },
   {
    "duration": 6723,
    "start_time": "2021-10-03T15:12:52.872Z"
   },
   {
    "duration": -91,
    "start_time": "2021-10-03T15:12:59.689Z"
   },
   {
    "duration": 528,
    "start_time": "2021-10-03T15:13:52.223Z"
   },
   {
    "duration": 429,
    "start_time": "2021-10-03T15:13:55.061Z"
   },
   {
    "duration": 439,
    "start_time": "2021-10-03T15:13:59.500Z"
   },
   {
    "duration": 6,
    "start_time": "2021-10-03T15:14:04.294Z"
   },
   {
    "duration": 10,
    "start_time": "2021-10-03T15:14:09.081Z"
   },
   {
    "duration": 217,
    "start_time": "2021-10-03T15:25:44.336Z"
   },
   {
    "duration": 2097,
    "start_time": "2021-10-03T17:46:23.774Z"
   },
   {
    "duration": 330,
    "start_time": "2021-10-03T17:46:25.873Z"
   },
   {
    "duration": 479,
    "start_time": "2021-10-03T17:46:26.205Z"
   },
   {
    "duration": -145,
    "start_time": "2021-10-03T17:46:26.832Z"
   },
   {
    "duration": -147,
    "start_time": "2021-10-03T17:46:26.835Z"
   },
   {
    "duration": -178,
    "start_time": "2021-10-03T17:46:26.868Z"
   },
   {
    "duration": -183,
    "start_time": "2021-10-03T17:46:26.874Z"
   },
   {
    "duration": -184,
    "start_time": "2021-10-03T17:46:26.877Z"
   },
   {
    "duration": -185,
    "start_time": "2021-10-03T17:46:26.879Z"
   },
   {
    "duration": -187,
    "start_time": "2021-10-03T17:46:26.882Z"
   },
   {
    "duration": 1643,
    "start_time": "2021-10-03T19:05:11.062Z"
   },
   {
    "duration": 226,
    "start_time": "2021-10-03T19:05:12.707Z"
   },
   {
    "duration": 343,
    "start_time": "2021-10-03T19:05:12.935Z"
   },
   {
    "duration": 162,
    "start_time": "2021-10-03T19:05:13.117Z"
   },
   {
    "duration": 156,
    "start_time": "2021-10-03T19:05:13.124Z"
   },
   {
    "duration": 148,
    "start_time": "2021-10-03T19:05:13.133Z"
   },
   {
    "duration": 142,
    "start_time": "2021-10-03T19:05:13.140Z"
   },
   {
    "duration": 139,
    "start_time": "2021-10-03T19:05:13.144Z"
   },
   {
    "duration": 134,
    "start_time": "2021-10-03T19:05:13.150Z"
   },
   {
    "duration": 129,
    "start_time": "2021-10-03T19:05:13.156Z"
   },
   {
    "duration": 1662,
    "start_time": "2021-10-03T19:05:30.875Z"
   },
   {
    "duration": 240,
    "start_time": "2021-10-03T19:05:32.540Z"
   },
   {
    "duration": 432,
    "start_time": "2021-10-03T19:05:32.783Z"
   },
   {
    "duration": -1908,
    "start_time": "2021-10-03T19:05:35.126Z"
   },
   {
    "duration": -1910,
    "start_time": "2021-10-03T19:05:35.129Z"
   },
   {
    "duration": -1913,
    "start_time": "2021-10-03T19:05:35.134Z"
   },
   {
    "duration": -1915,
    "start_time": "2021-10-03T19:05:35.137Z"
   },
   {
    "duration": -1918,
    "start_time": "2021-10-03T19:05:35.141Z"
   },
   {
    "duration": -1921,
    "start_time": "2021-10-03T19:05:35.146Z"
   },
   {
    "duration": -1923,
    "start_time": "2021-10-03T19:05:35.149Z"
   },
   {
    "duration": 379,
    "start_time": "2021-10-03T19:05:54.039Z"
   },
   {
    "duration": 1588,
    "start_time": "2021-10-03T19:06:07.100Z"
   },
   {
    "duration": 235,
    "start_time": "2021-10-03T19:06:08.690Z"
   },
   {
    "duration": 382,
    "start_time": "2021-10-03T19:06:08.927Z"
   },
   {
    "duration": 23,
    "start_time": "2021-10-03T19:06:09.311Z"
   },
   {
    "duration": 22,
    "start_time": "2021-10-03T19:06:09.349Z"
   },
   {
    "duration": 487,
    "start_time": "2021-10-03T19:06:09.373Z"
   },
   {
    "duration": 431,
    "start_time": "2021-10-03T19:06:09.862Z"
   },
   {
    "duration": 543,
    "start_time": "2021-10-03T19:06:10.295Z"
   },
   {
    "duration": 14,
    "start_time": "2021-10-03T19:06:10.841Z"
   },
   {
    "duration": 10,
    "start_time": "2021-10-03T19:06:10.856Z"
   },
   {
    "duration": 179,
    "start_time": "2021-10-03T19:07:53.912Z"
   },
   {
    "duration": 1609,
    "start_time": "2021-10-03T19:08:54.754Z"
   },
   {
    "duration": 243,
    "start_time": "2021-10-03T19:08:56.365Z"
   },
   {
    "duration": 376,
    "start_time": "2021-10-03T19:08:56.610Z"
   },
   {
    "duration": 22,
    "start_time": "2021-10-03T19:08:56.988Z"
   },
   {
    "duration": 37,
    "start_time": "2021-10-03T19:08:57.012Z"
   },
   {
    "duration": 460,
    "start_time": "2021-10-03T19:08:57.051Z"
   },
   {
    "duration": 438,
    "start_time": "2021-10-03T19:08:57.513Z"
   },
   {
    "duration": 588,
    "start_time": "2021-10-03T19:08:57.953Z"
   },
   {
    "duration": 8,
    "start_time": "2021-10-03T19:08:58.543Z"
   },
   {
    "duration": 9,
    "start_time": "2021-10-03T19:08:58.553Z"
   },
   {
    "duration": 1640,
    "start_time": "2021-10-03T19:11:36.123Z"
   },
   {
    "duration": 249,
    "start_time": "2021-10-03T19:11:37.765Z"
   },
   {
    "duration": 380,
    "start_time": "2021-10-03T19:11:38.017Z"
   },
   {
    "duration": 23,
    "start_time": "2021-10-03T19:11:38.400Z"
   },
   {
    "duration": 37,
    "start_time": "2021-10-03T19:11:38.426Z"
   },
   {
    "duration": 463,
    "start_time": "2021-10-03T19:11:38.465Z"
   },
   {
    "duration": 437,
    "start_time": "2021-10-03T19:11:38.930Z"
   },
   {
    "duration": 521,
    "start_time": "2021-10-03T19:11:39.370Z"
   },
   {
    "duration": 8,
    "start_time": "2021-10-03T19:11:39.893Z"
   },
   {
    "duration": 10,
    "start_time": "2021-10-03T19:11:39.903Z"
   },
   {
    "duration": 2052,
    "start_time": "2021-10-04T12:15:22.383Z"
   },
   {
    "duration": 325,
    "start_time": "2021-10-04T12:15:24.437Z"
   },
   {
    "duration": 602,
    "start_time": "2021-10-04T12:15:24.766Z"
   },
   {
    "duration": 38,
    "start_time": "2021-10-04T12:15:25.371Z"
   },
   {
    "duration": 60,
    "start_time": "2021-10-04T12:15:25.412Z"
   },
   {
    "duration": 839,
    "start_time": "2021-10-04T12:15:25.475Z"
   },
   {
    "duration": 784,
    "start_time": "2021-10-04T12:15:26.317Z"
   },
   {
    "duration": 897,
    "start_time": "2021-10-04T12:15:27.104Z"
   },
   {
    "duration": 9,
    "start_time": "2021-10-04T12:15:28.003Z"
   },
   {
    "duration": 17,
    "start_time": "2021-10-04T12:15:28.015Z"
   },
   {
    "duration": 303,
    "start_time": "2021-10-05T10:33:10.521Z"
   },
   {
    "duration": 2049,
    "start_time": "2021-10-05T10:33:42.796Z"
   },
   {
    "duration": 37,
    "start_time": "2021-10-05T10:33:49.569Z"
   },
   {
    "duration": 29,
    "start_time": "2021-10-05T10:36:29.806Z"
   },
   {
    "duration": 2219,
    "start_time": "2021-10-05T10:38:26.539Z"
   },
   {
    "duration": 74,
    "start_time": "2021-10-05T10:38:28.761Z"
   },
   {
    "duration": 48,
    "start_time": "2021-10-05T10:38:28.839Z"
   },
   {
    "duration": 53,
    "start_time": "2021-10-05T10:38:28.890Z"
   },
   {
    "duration": 28,
    "start_time": "2021-10-05T10:38:28.946Z"
   },
   {
    "duration": 72,
    "start_time": "2021-10-05T10:38:28.977Z"
   },
   {
    "duration": 355,
    "start_time": "2021-10-05T10:38:29.052Z"
   },
   {
    "duration": 586,
    "start_time": "2021-10-05T10:38:29.411Z"
   },
   {
    "duration": 51,
    "start_time": "2021-10-05T10:38:29.999Z"
   },
   {
    "duration": 32,
    "start_time": "2021-10-05T10:38:30.052Z"
   },
   {
    "duration": 817,
    "start_time": "2021-10-05T10:38:30.086Z"
   },
   {
    "duration": 960,
    "start_time": "2021-10-05T10:38:30.906Z"
   },
   {
    "duration": 853,
    "start_time": "2021-10-05T10:38:31.869Z"
   },
   {
    "duration": 9,
    "start_time": "2021-10-05T10:38:32.725Z"
   },
   {
    "duration": 17,
    "start_time": "2021-10-05T10:38:32.738Z"
   },
   {
    "duration": 40,
    "start_time": "2021-10-05T10:41:34.797Z"
   },
   {
    "duration": 41,
    "start_time": "2021-10-05T10:47:43.881Z"
   },
   {
    "duration": 387,
    "start_time": "2021-10-05T10:48:06.407Z"
   },
   {
    "duration": 26,
    "start_time": "2021-10-05T10:48:36.072Z"
   },
   {
    "duration": 298,
    "start_time": "2021-10-05T10:48:47.815Z"
   },
   {
    "duration": 535,
    "start_time": "2021-10-05T10:50:44.132Z"
   },
   {
    "duration": 2085,
    "start_time": "2021-10-05T11:04:59.987Z"
   },
   {
    "duration": 59,
    "start_time": "2021-10-05T11:05:02.075Z"
   },
   {
    "duration": 65,
    "start_time": "2021-10-05T11:05:02.138Z"
   },
   {
    "duration": 28,
    "start_time": "2021-10-05T11:05:02.206Z"
   },
   {
    "duration": 40,
    "start_time": "2021-10-05T11:05:02.237Z"
   },
   {
    "duration": 43,
    "start_time": "2021-10-05T11:05:02.280Z"
   },
   {
    "duration": 383,
    "start_time": "2021-10-05T11:05:02.326Z"
   },
   {
    "duration": 34,
    "start_time": "2021-10-05T11:05:02.725Z"
   },
   {
    "duration": 37,
    "start_time": "2021-10-05T11:05:02.762Z"
   },
   {
    "duration": 70,
    "start_time": "2021-10-05T11:05:02.824Z"
   },
   {
    "duration": 259,
    "start_time": "2021-10-05T11:05:02.897Z"
   },
   {
    "duration": 31,
    "start_time": "2021-10-05T11:05:03.159Z"
   },
   {
    "duration": 266,
    "start_time": "2021-10-05T11:05:03.193Z"
   },
   {
    "duration": 38,
    "start_time": "2021-10-05T11:05:03.463Z"
   },
   {
    "duration": 40,
    "start_time": "2021-10-05T11:05:03.522Z"
   },
   {
    "duration": 1036,
    "start_time": "2021-10-05T11:05:03.566Z"
   },
   {
    "duration": 821,
    "start_time": "2021-10-05T11:05:04.605Z"
   },
   {
    "duration": 882,
    "start_time": "2021-10-05T11:05:05.428Z"
   },
   {
    "duration": 14,
    "start_time": "2021-10-05T11:05:06.312Z"
   },
   {
    "duration": 65,
    "start_time": "2021-10-05T11:05:06.329Z"
   },
   {
    "duration": 600,
    "start_time": "2021-10-05T11:05:25.280Z"
   },
   {
    "duration": 242,
    "start_time": "2021-10-05T11:05:30.526Z"
   },
   {
    "duration": 778,
    "start_time": "2021-10-05T11:10:22.280Z"
   },
   {
    "duration": 247,
    "start_time": "2021-10-05T11:10:30.941Z"
   },
   {
    "duration": 261,
    "start_time": "2021-10-05T11:10:38.243Z"
   },
   {
    "duration": 85,
    "start_time": "2021-10-05T11:11:50.204Z"
   },
   {
    "duration": 110,
    "start_time": "2021-10-05T11:11:55.224Z"
   },
   {
    "duration": 8,
    "start_time": "2021-10-05T11:14:32.845Z"
   },
   {
    "duration": 728,
    "start_time": "2021-10-05T11:37:34.156Z"
   },
   {
    "duration": 803,
    "start_time": "2021-10-05T11:37:50.678Z"
   },
   {
    "duration": 329,
    "start_time": "2021-10-05T11:48:01.290Z"
   },
   {
    "duration": 242,
    "start_time": "2021-10-05T11:48:08.436Z"
   },
   {
    "duration": 213,
    "start_time": "2021-10-05T11:48:14.139Z"
   },
   {
    "duration": 228,
    "start_time": "2021-10-05T11:48:55.282Z"
   },
   {
    "duration": 315,
    "start_time": "2021-10-05T11:49:05.938Z"
   },
   {
    "duration": 493,
    "start_time": "2021-10-05T11:49:09.322Z"
   },
   {
    "duration": 228,
    "start_time": "2021-10-05T11:49:21.135Z"
   },
   {
    "duration": 261,
    "start_time": "2021-10-05T11:49:53.455Z"
   },
   {
    "duration": 242,
    "start_time": "2021-10-05T11:51:48.121Z"
   },
   {
    "duration": 252,
    "start_time": "2021-10-05T11:53:00.205Z"
   },
   {
    "duration": 334,
    "start_time": "2021-10-05T11:58:41.195Z"
   },
   {
    "duration": 13,
    "start_time": "2021-10-05T13:54:37.740Z"
   },
   {
    "duration": 11,
    "start_time": "2021-10-05T13:54:46.277Z"
   },
   {
    "duration": 11,
    "start_time": "2021-10-05T13:55:17.272Z"
   },
   {
    "duration": 12,
    "start_time": "2021-10-05T13:55:19.545Z"
   },
   {
    "duration": 12,
    "start_time": "2021-10-05T13:55:23.668Z"
   },
   {
    "duration": 11,
    "start_time": "2021-10-05T13:55:25.878Z"
   },
   {
    "duration": 16,
    "start_time": "2021-10-05T13:58:17.802Z"
   },
   {
    "duration": 2000,
    "start_time": "2021-10-05T13:58:55.314Z"
   },
   {
    "duration": 39,
    "start_time": "2021-10-05T13:58:57.317Z"
   },
   {
    "duration": 29,
    "start_time": "2021-10-05T13:58:57.359Z"
   },
   {
    "duration": 42,
    "start_time": "2021-10-05T13:58:57.391Z"
   },
   {
    "duration": 19,
    "start_time": "2021-10-05T13:58:57.435Z"
   },
   {
    "duration": 27,
    "start_time": "2021-10-05T13:58:57.456Z"
   },
   {
    "duration": 451,
    "start_time": "2021-10-05T13:58:57.485Z"
   },
   {
    "duration": 34,
    "start_time": "2021-10-05T13:58:57.940Z"
   },
   {
    "duration": 63,
    "start_time": "2021-10-05T13:58:57.977Z"
   },
   {
    "duration": 80,
    "start_time": "2021-10-05T13:58:58.043Z"
   },
   {
    "duration": 184,
    "start_time": "2021-10-05T13:58:58.126Z"
   },
   {
    "duration": 21,
    "start_time": "2021-10-05T13:58:58.312Z"
   },
   {
    "duration": 258,
    "start_time": "2021-10-05T13:58:58.336Z"
   },
   {
    "duration": 7,
    "start_time": "2021-10-05T13:58:58.596Z"
   },
   {
    "duration": 44,
    "start_time": "2021-10-05T13:58:58.605Z"
   },
   {
    "duration": 796,
    "start_time": "2021-10-05T13:58:58.652Z"
   },
   {
    "duration": 254,
    "start_time": "2021-10-05T13:58:59.450Z"
   },
   {
    "duration": 759,
    "start_time": "2021-10-05T13:58:59.707Z"
   },
   {
    "duration": 337,
    "start_time": "2021-10-05T13:59:00.468Z"
   },
   {
    "duration": 794,
    "start_time": "2021-10-05T13:59:00.808Z"
   },
   {
    "duration": 255,
    "start_time": "2021-10-05T13:59:01.604Z"
   },
   {
    "duration": 9,
    "start_time": "2021-10-05T13:59:01.862Z"
   },
   {
    "duration": 24,
    "start_time": "2021-10-05T13:59:01.875Z"
   },
   {
    "duration": 1551,
    "start_time": "2021-10-05T17:55:09.535Z"
   },
   {
    "duration": 28,
    "start_time": "2021-10-05T17:55:11.088Z"
   },
   {
    "duration": 35,
    "start_time": "2021-10-05T17:55:11.118Z"
   },
   {
    "duration": 10,
    "start_time": "2021-10-05T17:55:11.156Z"
   },
   {
    "duration": 14,
    "start_time": "2021-10-05T17:55:11.168Z"
   },
   {
    "duration": 29,
    "start_time": "2021-10-05T17:55:11.183Z"
   },
   {
    "duration": 365,
    "start_time": "2021-10-05T17:55:11.243Z"
   },
   {
    "duration": 38,
    "start_time": "2021-10-05T17:55:11.611Z"
   },
   {
    "duration": 28,
    "start_time": "2021-10-05T17:55:11.651Z"
   },
   {
    "duration": 67,
    "start_time": "2021-10-05T17:55:11.681Z"
   },
   {
    "duration": 127,
    "start_time": "2021-10-05T17:55:11.750Z"
   },
   {
    "duration": 15,
    "start_time": "2021-10-05T17:55:11.879Z"
   },
   {
    "duration": 163,
    "start_time": "2021-10-05T17:55:11.895Z"
   },
   {
    "duration": 5,
    "start_time": "2021-10-05T17:55:12.060Z"
   },
   {
    "duration": 19,
    "start_time": "2021-10-05T17:55:12.067Z"
   },
   {
    "duration": 473,
    "start_time": "2021-10-05T17:55:12.087Z"
   },
   {
    "duration": 151,
    "start_time": "2021-10-05T17:55:12.561Z"
   },
   {
    "duration": 444,
    "start_time": "2021-10-05T17:55:12.714Z"
   },
   {
    "duration": 219,
    "start_time": "2021-10-05T17:55:13.160Z"
   },
   {
    "duration": 474,
    "start_time": "2021-10-05T17:55:13.381Z"
   },
   {
    "duration": 148,
    "start_time": "2021-10-05T17:55:13.857Z"
   },
   {
    "duration": 6,
    "start_time": "2021-10-05T17:55:14.007Z"
   },
   {
    "duration": 9,
    "start_time": "2021-10-05T17:55:14.016Z"
   },
   {
    "duration": 1464,
    "start_time": "2021-10-05T17:55:48.347Z"
   },
   {
    "duration": 27,
    "start_time": "2021-10-05T17:55:49.813Z"
   },
   {
    "duration": 20,
    "start_time": "2021-10-05T17:55:49.842Z"
   },
   {
    "duration": 10,
    "start_time": "2021-10-05T17:55:49.864Z"
   },
   {
    "duration": 13,
    "start_time": "2021-10-05T17:55:49.876Z"
   },
   {
    "duration": 17,
    "start_time": "2021-10-05T17:55:49.891Z"
   },
   {
    "duration": 289,
    "start_time": "2021-10-05T17:55:49.910Z"
   },
   {
    "duration": 24,
    "start_time": "2021-10-05T17:55:50.201Z"
   },
   {
    "duration": 37,
    "start_time": "2021-10-05T17:55:50.226Z"
   },
   {
    "duration": 46,
    "start_time": "2021-10-05T17:55:50.265Z"
   },
   {
    "duration": 142,
    "start_time": "2021-10-05T17:55:50.313Z"
   },
   {
    "duration": 13,
    "start_time": "2021-10-05T17:55:50.456Z"
   },
   {
    "duration": 152,
    "start_time": "2021-10-05T17:55:50.471Z"
   },
   {
    "duration": 5,
    "start_time": "2021-10-05T17:55:50.624Z"
   },
   {
    "duration": 26,
    "start_time": "2021-10-05T17:55:50.630Z"
   },
   {
    "duration": 464,
    "start_time": "2021-10-05T17:55:50.658Z"
   },
   {
    "duration": 138,
    "start_time": "2021-10-05T17:55:51.123Z"
   },
   {
    "duration": 434,
    "start_time": "2021-10-05T17:55:51.263Z"
   },
   {
    "duration": 209,
    "start_time": "2021-10-05T17:55:51.699Z"
   },
   {
    "duration": 472,
    "start_time": "2021-10-05T17:55:51.910Z"
   },
   {
    "duration": 150,
    "start_time": "2021-10-05T17:55:52.384Z"
   },
   {
    "duration": 11,
    "start_time": "2021-10-05T17:55:52.536Z"
   },
   {
    "duration": 11,
    "start_time": "2021-10-05T17:55:52.550Z"
   },
   {
    "duration": 1372,
    "start_time": "2022-03-02T16:38:58.804Z"
   },
   {
    "duration": 25,
    "start_time": "2022-03-02T16:39:00.178Z"
   },
   {
    "duration": 21,
    "start_time": "2022-03-02T16:39:00.206Z"
   },
   {
    "duration": 19,
    "start_time": "2022-03-02T16:39:00.228Z"
   },
   {
    "duration": 18,
    "start_time": "2022-03-02T16:39:00.248Z"
   },
   {
    "duration": 19,
    "start_time": "2022-03-02T16:39:00.267Z"
   },
   {
    "duration": 229,
    "start_time": "2022-03-02T16:39:00.288Z"
   },
   {
    "duration": 23,
    "start_time": "2022-03-02T16:39:00.518Z"
   },
   {
    "duration": 29,
    "start_time": "2022-03-02T16:39:00.543Z"
   },
   {
    "duration": 58,
    "start_time": "2022-03-02T16:39:00.573Z"
   },
   {
    "duration": 105,
    "start_time": "2022-03-02T16:39:00.633Z"
   },
   {
    "duration": 12,
    "start_time": "2022-03-02T16:39:00.740Z"
   },
   {
    "duration": 152,
    "start_time": "2022-03-02T16:39:00.753Z"
   },
   {
    "duration": 4,
    "start_time": "2022-03-02T16:39:00.907Z"
   },
   {
    "duration": 103,
    "start_time": "2022-03-02T16:39:00.913Z"
   },
   {
    "duration": -4265,
    "start_time": "2022-03-02T16:39:05.282Z"
   },
   {
    "duration": -4268,
    "start_time": "2022-03-02T16:39:05.286Z"
   },
   {
    "duration": -4544,
    "start_time": "2022-03-02T16:39:05.563Z"
   },
   {
    "duration": -4547,
    "start_time": "2022-03-02T16:39:05.567Z"
   },
   {
    "duration": -4548,
    "start_time": "2022-03-02T16:39:05.569Z"
   },
   {
    "duration": -4550,
    "start_time": "2022-03-02T16:39:05.571Z"
   },
   {
    "duration": -4550,
    "start_time": "2022-03-02T16:39:05.572Z"
   },
   {
    "duration": -4589,
    "start_time": "2022-03-02T16:39:05.612Z"
   },
   {
    "duration": -4590,
    "start_time": "2022-03-02T16:39:05.614Z"
   },
   {
    "duration": 130,
    "start_time": "2022-03-02T16:39:27.203Z"
   },
   {
    "duration": 507,
    "start_time": "2022-03-02T16:42:30.640Z"
   },
   {
    "duration": 4,
    "start_time": "2022-03-02T16:42:36.749Z"
   },
   {
    "duration": 377,
    "start_time": "2022-03-02T16:43:10.909Z"
   },
   {
    "duration": 488,
    "start_time": "2022-03-02T16:43:36.252Z"
   },
   {
    "duration": 33,
    "start_time": "2022-03-02T16:44:26.941Z"
   },
   {
    "duration": 36,
    "start_time": "2022-03-02T16:44:51.295Z"
   },
   {
    "duration": 34,
    "start_time": "2022-03-02T16:45:22.999Z"
   },
   {
    "duration": 31,
    "start_time": "2022-03-02T16:45:39.175Z"
   },
   {
    "duration": 3018,
    "start_time": "2022-03-02T16:49:03.166Z"
   },
   {
    "duration": 27,
    "start_time": "2022-03-02T16:49:06.186Z"
   },
   {
    "duration": 18,
    "start_time": "2022-03-02T16:49:06.215Z"
   },
   {
    "duration": 10,
    "start_time": "2022-03-02T16:49:06.235Z"
   },
   {
    "duration": 14,
    "start_time": "2022-03-02T16:49:06.247Z"
   },
   {
    "duration": 43,
    "start_time": "2022-03-02T16:49:06.263Z"
   },
   {
    "duration": 242,
    "start_time": "2022-03-02T16:49:06.308Z"
   },
   {
    "duration": 24,
    "start_time": "2022-03-02T16:49:06.553Z"
   },
   {
    "duration": 36,
    "start_time": "2022-03-02T16:49:06.578Z"
   },
   {
    "duration": 45,
    "start_time": "2022-03-02T16:49:06.616Z"
   },
   {
    "duration": 126,
    "start_time": "2022-03-02T16:49:06.662Z"
   },
   {
    "duration": 11,
    "start_time": "2022-03-02T16:49:06.790Z"
   },
   {
    "duration": 136,
    "start_time": "2022-03-02T16:49:06.805Z"
   },
   {
    "duration": 124,
    "start_time": "2022-03-02T16:49:06.943Z"
   },
   {
    "duration": -4128,
    "start_time": "2022-03-02T16:49:11.197Z"
   },
   {
    "duration": -4132,
    "start_time": "2022-03-02T16:49:11.201Z"
   },
   {
    "duration": -4136,
    "start_time": "2022-03-02T16:49:11.206Z"
   },
   {
    "duration": -4137,
    "start_time": "2022-03-02T16:49:11.208Z"
   },
   {
    "duration": -4138,
    "start_time": "2022-03-02T16:49:11.210Z"
   },
   {
    "duration": -4138,
    "start_time": "2022-03-02T16:49:11.211Z"
   },
   {
    "duration": -4139,
    "start_time": "2022-03-02T16:49:11.213Z"
   },
   {
    "duration": -4140,
    "start_time": "2022-03-02T16:49:11.214Z"
   },
   {
    "duration": 90,
    "start_time": "2022-03-02T16:54:48.626Z"
   },
   {
    "duration": 358,
    "start_time": "2022-03-02T16:54:49.829Z"
   },
   {
    "duration": 33,
    "start_time": "2022-03-02T16:55:06.509Z"
   },
   {
    "duration": 1405,
    "start_time": "2022-03-02T16:55:12.314Z"
   },
   {
    "duration": 26,
    "start_time": "2022-03-02T16:55:13.721Z"
   },
   {
    "duration": 23,
    "start_time": "2022-03-02T16:55:13.749Z"
   },
   {
    "duration": 9,
    "start_time": "2022-03-02T16:55:13.774Z"
   },
   {
    "duration": 29,
    "start_time": "2022-03-02T16:55:13.785Z"
   },
   {
    "duration": 27,
    "start_time": "2022-03-02T16:55:13.816Z"
   },
   {
    "duration": 239,
    "start_time": "2022-03-02T16:55:13.844Z"
   },
   {
    "duration": 31,
    "start_time": "2022-03-02T16:55:14.085Z"
   },
   {
    "duration": 22,
    "start_time": "2022-03-02T16:55:14.118Z"
   },
   {
    "duration": 43,
    "start_time": "2022-03-02T16:55:14.142Z"
   },
   {
    "duration": 122,
    "start_time": "2022-03-02T16:55:14.186Z"
   },
   {
    "duration": 12,
    "start_time": "2022-03-02T16:55:14.310Z"
   },
   {
    "duration": 145,
    "start_time": "2022-03-02T16:55:14.323Z"
   },
   {
    "duration": 36,
    "start_time": "2022-03-02T16:55:14.470Z"
   },
   {
    "duration": 353,
    "start_time": "2022-03-02T16:55:14.507Z"
   },
   {
    "duration": -4130,
    "start_time": "2022-03-02T16:55:18.992Z"
   },
   {
    "duration": -4131,
    "start_time": "2022-03-02T16:55:18.994Z"
   },
   {
    "duration": -4132,
    "start_time": "2022-03-02T16:55:18.996Z"
   },
   {
    "duration": -4133,
    "start_time": "2022-03-02T16:55:18.997Z"
   },
   {
    "duration": -4134,
    "start_time": "2022-03-02T16:55:18.999Z"
   },
   {
    "duration": -4134,
    "start_time": "2022-03-02T16:55:19.000Z"
   },
   {
    "duration": -4136,
    "start_time": "2022-03-02T16:55:19.002Z"
   }
  ],
  "kernelspec": {
   "display_name": "Python 3",
   "language": "python",
   "name": "python3"
  },
  "language_info": {
   "codemirror_mode": {
    "name": "ipython",
    "version": 3
   },
   "file_extension": ".py",
   "mimetype": "text/x-python",
   "name": "python",
   "nbconvert_exporter": "python",
   "pygments_lexer": "ipython3",
   "version": "3.7.8"
  },
  "toc": {
   "base_numbering": 1,
   "nav_menu": {},
   "number_sections": true,
   "sideBar": true,
   "skip_h1_title": true,
   "title_cell": "Table of Contents",
   "title_sidebar": "Contents",
   "toc_cell": false,
   "toc_position": {},
   "toc_section_display": true,
   "toc_window_display": false
  }
 },
 "nbformat": 4,
 "nbformat_minor": 2
}
