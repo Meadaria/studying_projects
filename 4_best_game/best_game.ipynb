{
 "cells": [
  {
   "cell_type": "markdown",
   "metadata": {},
   "source": [
    "## Изучение данных из файла"
   ]
  },
  {
   "cell_type": "code",
   "execution_count": 1,
   "metadata": {},
   "outputs": [
    {
     "name": "stdout",
     "output_type": "stream",
     "text": [
      "<class 'pandas.core.frame.DataFrame'>\n",
      "RangeIndex: 16715 entries, 0 to 16714\n",
      "Data columns (total 11 columns):\n",
      "Name               16713 non-null object\n",
      "Platform           16715 non-null object\n",
      "Year_of_Release    16446 non-null float64\n",
      "Genre              16713 non-null object\n",
      "NA_sales           16715 non-null float64\n",
      "EU_sales           16715 non-null float64\n",
      "JP_sales           16715 non-null float64\n",
      "Other_sales        16715 non-null float64\n",
      "Critic_Score       8137 non-null float64\n",
      "User_Score         10014 non-null object\n",
      "Rating             9949 non-null object\n",
      "dtypes: float64(6), object(5)\n",
      "memory usage: 1.4+ MB\n"
     ]
    },
    {
     "data": {
      "text/html": [
       "<div>\n",
       "<style scoped>\n",
       "    .dataframe tbody tr th:only-of-type {\n",
       "        vertical-align: middle;\n",
       "    }\n",
       "\n",
       "    .dataframe tbody tr th {\n",
       "        vertical-align: top;\n",
       "    }\n",
       "\n",
       "    .dataframe thead th {\n",
       "        text-align: right;\n",
       "    }\n",
       "</style>\n",
       "<table border=\"1\" class=\"dataframe\">\n",
       "  <thead>\n",
       "    <tr style=\"text-align: right;\">\n",
       "      <th></th>\n",
       "      <th>Name</th>\n",
       "      <th>Platform</th>\n",
       "      <th>Year_of_Release</th>\n",
       "      <th>Genre</th>\n",
       "      <th>NA_sales</th>\n",
       "      <th>EU_sales</th>\n",
       "      <th>JP_sales</th>\n",
       "      <th>Other_sales</th>\n",
       "      <th>Critic_Score</th>\n",
       "      <th>User_Score</th>\n",
       "      <th>Rating</th>\n",
       "    </tr>\n",
       "  </thead>\n",
       "  <tbody>\n",
       "    <tr>\n",
       "      <td>0</td>\n",
       "      <td>Wii Sports</td>\n",
       "      <td>Wii</td>\n",
       "      <td>2006.0</td>\n",
       "      <td>Sports</td>\n",
       "      <td>41.36</td>\n",
       "      <td>28.96</td>\n",
       "      <td>3.77</td>\n",
       "      <td>8.45</td>\n",
       "      <td>76.0</td>\n",
       "      <td>8</td>\n",
       "      <td>E</td>\n",
       "    </tr>\n",
       "    <tr>\n",
       "      <td>1</td>\n",
       "      <td>Super Mario Bros.</td>\n",
       "      <td>NES</td>\n",
       "      <td>1985.0</td>\n",
       "      <td>Platform</td>\n",
       "      <td>29.08</td>\n",
       "      <td>3.58</td>\n",
       "      <td>6.81</td>\n",
       "      <td>0.77</td>\n",
       "      <td>NaN</td>\n",
       "      <td>NaN</td>\n",
       "      <td>NaN</td>\n",
       "    </tr>\n",
       "    <tr>\n",
       "      <td>2</td>\n",
       "      <td>Mario Kart Wii</td>\n",
       "      <td>Wii</td>\n",
       "      <td>2008.0</td>\n",
       "      <td>Racing</td>\n",
       "      <td>15.68</td>\n",
       "      <td>12.76</td>\n",
       "      <td>3.79</td>\n",
       "      <td>3.29</td>\n",
       "      <td>82.0</td>\n",
       "      <td>8.3</td>\n",
       "      <td>E</td>\n",
       "    </tr>\n",
       "    <tr>\n",
       "      <td>3</td>\n",
       "      <td>Wii Sports Resort</td>\n",
       "      <td>Wii</td>\n",
       "      <td>2009.0</td>\n",
       "      <td>Sports</td>\n",
       "      <td>15.61</td>\n",
       "      <td>10.93</td>\n",
       "      <td>3.28</td>\n",
       "      <td>2.95</td>\n",
       "      <td>80.0</td>\n",
       "      <td>8</td>\n",
       "      <td>E</td>\n",
       "    </tr>\n",
       "    <tr>\n",
       "      <td>4</td>\n",
       "      <td>Pokemon Red/Pokemon Blue</td>\n",
       "      <td>GB</td>\n",
       "      <td>1996.0</td>\n",
       "      <td>Role-Playing</td>\n",
       "      <td>11.27</td>\n",
       "      <td>8.89</td>\n",
       "      <td>10.22</td>\n",
       "      <td>1.00</td>\n",
       "      <td>NaN</td>\n",
       "      <td>NaN</td>\n",
       "      <td>NaN</td>\n",
       "    </tr>\n",
       "  </tbody>\n",
       "</table>\n",
       "</div>"
      ],
      "text/plain": [
       "                       Name Platform  Year_of_Release         Genre  NA_sales  \\\n",
       "0                Wii Sports      Wii           2006.0        Sports     41.36   \n",
       "1         Super Mario Bros.      NES           1985.0      Platform     29.08   \n",
       "2            Mario Kart Wii      Wii           2008.0        Racing     15.68   \n",
       "3         Wii Sports Resort      Wii           2009.0        Sports     15.61   \n",
       "4  Pokemon Red/Pokemon Blue       GB           1996.0  Role-Playing     11.27   \n",
       "\n",
       "   EU_sales  JP_sales  Other_sales  Critic_Score User_Score Rating  \n",
       "0     28.96      3.77         8.45          76.0          8      E  \n",
       "1      3.58      6.81         0.77           NaN        NaN    NaN  \n",
       "2     12.76      3.79         3.29          82.0        8.3      E  \n",
       "3     10.93      3.28         2.95          80.0          8      E  \n",
       "4      8.89     10.22         1.00           NaN        NaN    NaN  "
      ]
     },
     "execution_count": 1,
     "metadata": {},
     "output_type": "execute_result"
    }
   ],
   "source": [
    "import pandas as pd # <импорт библиотеки pandas>\n",
    "import numpy as np\n",
    "import matplotlib.pyplot as plt\n",
    "import seaborn as sns\n",
    "from scipy import stats as st\n",
    "import warnings\n",
    "warnings.filterwarnings(\"ignore\")\n",
    "df = pd.read_csv('/datasets/games.csv')\n",
    "df.info()\n",
    "df.head()"
   ]
  },
  {
   "cell_type": "markdown",
   "metadata": {},
   "source": [
    "Всего в таблице 11 столбцов, тип данных у каждого столбца - float64, int64, object. Количество значений в столбцах различается.Это говорит о том, что в данных есть пропущенные значения. Надо привести наименования столбцов к нижнему регистру, изменить тип данных в столбце 'year_of_release'. "
   ]
  },
  {
   "cell_type": "markdown",
   "metadata": {},
   "source": [
    "## Предобработка данных"
   ]
  },
  {
   "cell_type": "code",
   "execution_count": 2,
   "metadata": {},
   "outputs": [],
   "source": [
    "df.columns=['name', 'platform', 'year_of_release', 'genre', 'na_sales', 'eu_sales', 'jp_sales', 'other_sales', 'critic_score', 'user_score', 'rating'] #Переименование столбцов."
   ]
  },
  {
   "cell_type": "code",
   "execution_count": 3,
   "metadata": {},
   "outputs": [
    {
     "data": {
      "text/html": [
       "<div>\n",
       "<style scoped>\n",
       "    .dataframe tbody tr th:only-of-type {\n",
       "        vertical-align: middle;\n",
       "    }\n",
       "\n",
       "    .dataframe tbody tr th {\n",
       "        vertical-align: top;\n",
       "    }\n",
       "\n",
       "    .dataframe thead th {\n",
       "        text-align: right;\n",
       "    }\n",
       "</style>\n",
       "<table border=\"1\" class=\"dataframe\">\n",
       "  <thead>\n",
       "    <tr style=\"text-align: right;\">\n",
       "      <th></th>\n",
       "      <th>name</th>\n",
       "      <th>platform</th>\n",
       "      <th>year_of_release</th>\n",
       "      <th>genre</th>\n",
       "      <th>na_sales</th>\n",
       "      <th>eu_sales</th>\n",
       "      <th>jp_sales</th>\n",
       "      <th>other_sales</th>\n",
       "      <th>critic_score</th>\n",
       "      <th>user_score</th>\n",
       "      <th>rating</th>\n",
       "    </tr>\n",
       "  </thead>\n",
       "  <tbody>\n",
       "    <tr>\n",
       "      <td>0</td>\n",
       "      <td>wii sports</td>\n",
       "      <td>wii</td>\n",
       "      <td>2006.0</td>\n",
       "      <td>sports</td>\n",
       "      <td>41.36</td>\n",
       "      <td>28.96</td>\n",
       "      <td>3.77</td>\n",
       "      <td>8.45</td>\n",
       "      <td>76.0</td>\n",
       "      <td>8</td>\n",
       "      <td>E</td>\n",
       "    </tr>\n",
       "    <tr>\n",
       "      <td>1</td>\n",
       "      <td>super mario bros.</td>\n",
       "      <td>nes</td>\n",
       "      <td>1985.0</td>\n",
       "      <td>platform</td>\n",
       "      <td>29.08</td>\n",
       "      <td>3.58</td>\n",
       "      <td>6.81</td>\n",
       "      <td>0.77</td>\n",
       "      <td>NaN</td>\n",
       "      <td>NaN</td>\n",
       "      <td>NaN</td>\n",
       "    </tr>\n",
       "    <tr>\n",
       "      <td>2</td>\n",
       "      <td>mario kart wii</td>\n",
       "      <td>wii</td>\n",
       "      <td>2008.0</td>\n",
       "      <td>racing</td>\n",
       "      <td>15.68</td>\n",
       "      <td>12.76</td>\n",
       "      <td>3.79</td>\n",
       "      <td>3.29</td>\n",
       "      <td>82.0</td>\n",
       "      <td>8.3</td>\n",
       "      <td>E</td>\n",
       "    </tr>\n",
       "    <tr>\n",
       "      <td>3</td>\n",
       "      <td>wii sports resort</td>\n",
       "      <td>wii</td>\n",
       "      <td>2009.0</td>\n",
       "      <td>sports</td>\n",
       "      <td>15.61</td>\n",
       "      <td>10.93</td>\n",
       "      <td>3.28</td>\n",
       "      <td>2.95</td>\n",
       "      <td>80.0</td>\n",
       "      <td>8</td>\n",
       "      <td>E</td>\n",
       "    </tr>\n",
       "    <tr>\n",
       "      <td>4</td>\n",
       "      <td>pokemon red/pokemon blue</td>\n",
       "      <td>gb</td>\n",
       "      <td>1996.0</td>\n",
       "      <td>role-playing</td>\n",
       "      <td>11.27</td>\n",
       "      <td>8.89</td>\n",
       "      <td>10.22</td>\n",
       "      <td>1.00</td>\n",
       "      <td>NaN</td>\n",
       "      <td>NaN</td>\n",
       "      <td>NaN</td>\n",
       "    </tr>\n",
       "    <tr>\n",
       "      <td>5</td>\n",
       "      <td>tetris</td>\n",
       "      <td>gb</td>\n",
       "      <td>1989.0</td>\n",
       "      <td>puzzle</td>\n",
       "      <td>23.20</td>\n",
       "      <td>2.26</td>\n",
       "      <td>4.22</td>\n",
       "      <td>0.58</td>\n",
       "      <td>NaN</td>\n",
       "      <td>NaN</td>\n",
       "      <td>NaN</td>\n",
       "    </tr>\n",
       "    <tr>\n",
       "      <td>6</td>\n",
       "      <td>new super mario bros.</td>\n",
       "      <td>ds</td>\n",
       "      <td>2006.0</td>\n",
       "      <td>platform</td>\n",
       "      <td>11.28</td>\n",
       "      <td>9.14</td>\n",
       "      <td>6.50</td>\n",
       "      <td>2.88</td>\n",
       "      <td>89.0</td>\n",
       "      <td>8.5</td>\n",
       "      <td>E</td>\n",
       "    </tr>\n",
       "    <tr>\n",
       "      <td>7</td>\n",
       "      <td>wii play</td>\n",
       "      <td>wii</td>\n",
       "      <td>2006.0</td>\n",
       "      <td>misc</td>\n",
       "      <td>13.96</td>\n",
       "      <td>9.18</td>\n",
       "      <td>2.93</td>\n",
       "      <td>2.84</td>\n",
       "      <td>58.0</td>\n",
       "      <td>6.6</td>\n",
       "      <td>E</td>\n",
       "    </tr>\n",
       "    <tr>\n",
       "      <td>8</td>\n",
       "      <td>new super mario bros. wii</td>\n",
       "      <td>wii</td>\n",
       "      <td>2009.0</td>\n",
       "      <td>platform</td>\n",
       "      <td>14.44</td>\n",
       "      <td>6.94</td>\n",
       "      <td>4.70</td>\n",
       "      <td>2.24</td>\n",
       "      <td>87.0</td>\n",
       "      <td>8.4</td>\n",
       "      <td>E</td>\n",
       "    </tr>\n",
       "    <tr>\n",
       "      <td>9</td>\n",
       "      <td>duck hunt</td>\n",
       "      <td>nes</td>\n",
       "      <td>1984.0</td>\n",
       "      <td>shooter</td>\n",
       "      <td>26.93</td>\n",
       "      <td>0.63</td>\n",
       "      <td>0.28</td>\n",
       "      <td>0.47</td>\n",
       "      <td>NaN</td>\n",
       "      <td>NaN</td>\n",
       "      <td>NaN</td>\n",
       "    </tr>\n",
       "  </tbody>\n",
       "</table>\n",
       "</div>"
      ],
      "text/plain": [
       "                        name platform  year_of_release         genre  \\\n",
       "0                 wii sports      wii           2006.0        sports   \n",
       "1          super mario bros.      nes           1985.0      platform   \n",
       "2             mario kart wii      wii           2008.0        racing   \n",
       "3          wii sports resort      wii           2009.0        sports   \n",
       "4   pokemon red/pokemon blue       gb           1996.0  role-playing   \n",
       "5                     tetris       gb           1989.0        puzzle   \n",
       "6      new super mario bros.       ds           2006.0      platform   \n",
       "7                   wii play      wii           2006.0          misc   \n",
       "8  new super mario bros. wii      wii           2009.0      platform   \n",
       "9                  duck hunt      nes           1984.0       shooter   \n",
       "\n",
       "   na_sales  eu_sales  jp_sales  other_sales  critic_score user_score rating  \n",
       "0     41.36     28.96      3.77         8.45          76.0          8      E  \n",
       "1     29.08      3.58      6.81         0.77           NaN        NaN    NaN  \n",
       "2     15.68     12.76      3.79         3.29          82.0        8.3      E  \n",
       "3     15.61     10.93      3.28         2.95          80.0          8      E  \n",
       "4     11.27      8.89     10.22         1.00           NaN        NaN    NaN  \n",
       "5     23.20      2.26      4.22         0.58           NaN        NaN    NaN  \n",
       "6     11.28      9.14      6.50         2.88          89.0        8.5      E  \n",
       "7     13.96      9.18      2.93         2.84          58.0        6.6      E  \n",
       "8     14.44      6.94      4.70         2.24          87.0        8.4      E  \n",
       "9     26.93      0.63      0.28         0.47           NaN        NaN    NaN  "
      ]
     },
     "execution_count": 3,
     "metadata": {},
     "output_type": "execute_result"
    }
   ],
   "source": [
    "#df['year_of_release']=pd.to_datetime(df['year_of_release'], format='%Y') #изменение форматат на datatime\n",
    "#df['year_of_release']=round(df['year_of_release']).dropna().astype('int')\n",
    "df['name']=df['name'].str.lower() #приведение к нижнему регистру\n",
    "df['platform']=df['platform'].str.lower() #приведение к нижнему регистру\n",
    "df['genre']=df['genre'].str.lower()#приведение к нижнему регистру\n",
    "df.head(10)"
   ]
  },
  {
   "cell_type": "code",
   "execution_count": 4,
   "metadata": {},
   "outputs": [
    {
     "data": {
      "text/plain": [
       "name                  2\n",
       "platform              0\n",
       "year_of_release     269\n",
       "genre                 2\n",
       "na_sales              0\n",
       "eu_sales              0\n",
       "jp_sales              0\n",
       "other_sales           0\n",
       "critic_score       8578\n",
       "user_score         6701\n",
       "rating             6766\n",
       "dtype: int64"
      ]
     },
     "execution_count": 4,
     "metadata": {},
     "output_type": "execute_result"
    }
   ],
   "source": [
    "df.isnull().sum() #выевление пропусков"
   ]
  },
  {
   "cell_type": "markdown",
   "metadata": {},
   "source": [
    "    Пропуски есть в столбцах name, year_of_release, critic_score, user_score, rating. Я не владею данными, чтолбы заполнить."
   ]
  },
  {
   "cell_type": "code",
   "execution_count": 5,
   "metadata": {},
   "outputs": [],
   "source": [
    "df['name']=df['name'].fillna('unknown') #заполение пропусков\n",
    "df['genre']=df['genre'].fillna('unknown') #заполение пропусков\n",
    "df['rating']=df['rating'].fillna('Нет рейтинга')"
   ]
  },
  {
   "cell_type": "code",
   "execution_count": 6,
   "metadata": {},
   "outputs": [
    {
     "data": {
      "text/plain": [
       "array(['8', nan, '8.3', '8.5', '6.6', '8.4', '8.6', '7.7', '6.3', '7.4',\n",
       "       '8.2', '9', '7.9', '8.1', '8.7', '7.1', '3.4', '5.3', '4.8', '3.2',\n",
       "       '8.9', '6.4', '7.8', '7.5', '2.6', '7.2', '9.2', '7', '7.3', '4.3',\n",
       "       '7.6', '5.7', '5', '9.1', '6.5', 'tbd', '8.8', '6.9', '9.4', '6.8',\n",
       "       '6.1', '6.7', '5.4', '4', '4.9', '4.5', '9.3', '6.2', '4.2', '6',\n",
       "       '3.7', '4.1', '5.8', '5.6', '5.5', '4.4', '4.6', '5.9', '3.9',\n",
       "       '3.1', '2.9', '5.2', '3.3', '4.7', '5.1', '3.5', '2.5', '1.9', '3',\n",
       "       '2.7', '2.2', '2', '9.5', '2.1', '3.6', '2.8', '1.8', '3.8', '0',\n",
       "       '1.6', '9.6', '2.4', '1.7', '1.1', '0.3', '1.5', '0.7', '1.2',\n",
       "       '2.3', '0.5', '1.3', '0.2', '0.6', '1.4', '0.9', '1', '9.7'],\n",
       "      dtype=object)"
      ]
     },
     "execution_count": 6,
     "metadata": {},
     "output_type": "execute_result"
    }
   ],
   "source": [
    "df['user_score'].unique() #проверка унмикальных значение "
   ]
  },
  {
   "cell_type": "code",
   "execution_count": 7,
   "metadata": {},
   "outputs": [],
   "source": [
    "df['user_score']=df['user_score'].replace('tbd',np.nan, regex=True) #замена на пропуск \n",
    "df['user_score']=pd.to_numeric(df['user_score']) #приведение к числовому формату"
   ]
  },
  {
   "cell_type": "markdown",
   "metadata": {},
   "source": [
    "    Так как некоторые игры еще не получили пользовательскую оценку в данном столбце стоит значение \"tbd\", чтобы перевести данные в числовой формат заменяем это значение на пропуск количественный."
   ]
  },
  {
   "cell_type": "markdown",
   "metadata": {},
   "source": [
    "    "
   ]
  },
  {
   "cell_type": "code",
   "execution_count": 8,
   "metadata": {},
   "outputs": [],
   "source": [
    "df['all_sales']= df['na_sales']+df['eu_sales']+df['jp_sales']+df['other_sales'] #подсчет всех продаж"
   ]
  },
  {
   "cell_type": "code",
   "execution_count": 9,
   "metadata": {},
   "outputs": [
    {
     "name": "stdout",
     "output_type": "stream",
     "text": [
      "<class 'pandas.core.frame.DataFrame'>\n",
      "RangeIndex: 16715 entries, 0 to 16714\n",
      "Data columns (total 12 columns):\n",
      "name               16715 non-null object\n",
      "platform           16715 non-null object\n",
      "year_of_release    16446 non-null float64\n",
      "genre              16715 non-null object\n",
      "na_sales           16715 non-null float64\n",
      "eu_sales           16715 non-null float64\n",
      "jp_sales           16715 non-null float64\n",
      "other_sales        16715 non-null float64\n",
      "critic_score       8137 non-null float64\n",
      "user_score         7590 non-null float64\n",
      "rating             16715 non-null object\n",
      "all_sales          16715 non-null float64\n",
      "dtypes: float64(8), object(4)\n",
      "memory usage: 1.5+ MB\n"
     ]
    },
    {
     "data": {
      "text/html": [
       "<div>\n",
       "<style scoped>\n",
       "    .dataframe tbody tr th:only-of-type {\n",
       "        vertical-align: middle;\n",
       "    }\n",
       "\n",
       "    .dataframe tbody tr th {\n",
       "        vertical-align: top;\n",
       "    }\n",
       "\n",
       "    .dataframe thead th {\n",
       "        text-align: right;\n",
       "    }\n",
       "</style>\n",
       "<table border=\"1\" class=\"dataframe\">\n",
       "  <thead>\n",
       "    <tr style=\"text-align: right;\">\n",
       "      <th></th>\n",
       "      <th>year_of_release</th>\n",
       "      <th>na_sales</th>\n",
       "      <th>eu_sales</th>\n",
       "      <th>jp_sales</th>\n",
       "      <th>other_sales</th>\n",
       "      <th>critic_score</th>\n",
       "      <th>user_score</th>\n",
       "      <th>all_sales</th>\n",
       "    </tr>\n",
       "  </thead>\n",
       "  <tbody>\n",
       "    <tr>\n",
       "      <td>count</td>\n",
       "      <td>16446.000000</td>\n",
       "      <td>16715.000000</td>\n",
       "      <td>16715.000000</td>\n",
       "      <td>16715.000000</td>\n",
       "      <td>16715.000000</td>\n",
       "      <td>8137.000000</td>\n",
       "      <td>7590.000000</td>\n",
       "      <td>16715.000000</td>\n",
       "    </tr>\n",
       "    <tr>\n",
       "      <td>mean</td>\n",
       "      <td>2006.484616</td>\n",
       "      <td>0.263377</td>\n",
       "      <td>0.145060</td>\n",
       "      <td>0.077617</td>\n",
       "      <td>0.047342</td>\n",
       "      <td>68.967679</td>\n",
       "      <td>7.125046</td>\n",
       "      <td>0.533396</td>\n",
       "    </tr>\n",
       "    <tr>\n",
       "      <td>std</td>\n",
       "      <td>5.877050</td>\n",
       "      <td>0.813604</td>\n",
       "      <td>0.503339</td>\n",
       "      <td>0.308853</td>\n",
       "      <td>0.186731</td>\n",
       "      <td>13.938165</td>\n",
       "      <td>1.500006</td>\n",
       "      <td>1.548261</td>\n",
       "    </tr>\n",
       "    <tr>\n",
       "      <td>min</td>\n",
       "      <td>1980.000000</td>\n",
       "      <td>0.000000</td>\n",
       "      <td>0.000000</td>\n",
       "      <td>0.000000</td>\n",
       "      <td>0.000000</td>\n",
       "      <td>13.000000</td>\n",
       "      <td>0.000000</td>\n",
       "      <td>0.000000</td>\n",
       "    </tr>\n",
       "    <tr>\n",
       "      <td>25%</td>\n",
       "      <td>2003.000000</td>\n",
       "      <td>0.000000</td>\n",
       "      <td>0.000000</td>\n",
       "      <td>0.000000</td>\n",
       "      <td>0.000000</td>\n",
       "      <td>60.000000</td>\n",
       "      <td>6.400000</td>\n",
       "      <td>0.060000</td>\n",
       "    </tr>\n",
       "    <tr>\n",
       "      <td>50%</td>\n",
       "      <td>2007.000000</td>\n",
       "      <td>0.080000</td>\n",
       "      <td>0.020000</td>\n",
       "      <td>0.000000</td>\n",
       "      <td>0.010000</td>\n",
       "      <td>71.000000</td>\n",
       "      <td>7.500000</td>\n",
       "      <td>0.170000</td>\n",
       "    </tr>\n",
       "    <tr>\n",
       "      <td>75%</td>\n",
       "      <td>2010.000000</td>\n",
       "      <td>0.240000</td>\n",
       "      <td>0.110000</td>\n",
       "      <td>0.040000</td>\n",
       "      <td>0.030000</td>\n",
       "      <td>79.000000</td>\n",
       "      <td>8.200000</td>\n",
       "      <td>0.470000</td>\n",
       "    </tr>\n",
       "    <tr>\n",
       "      <td>max</td>\n",
       "      <td>2016.000000</td>\n",
       "      <td>41.360000</td>\n",
       "      <td>28.960000</td>\n",
       "      <td>10.220000</td>\n",
       "      <td>10.570000</td>\n",
       "      <td>98.000000</td>\n",
       "      <td>9.700000</td>\n",
       "      <td>82.540000</td>\n",
       "    </tr>\n",
       "  </tbody>\n",
       "</table>\n",
       "</div>"
      ],
      "text/plain": [
       "       year_of_release      na_sales      eu_sales      jp_sales  \\\n",
       "count     16446.000000  16715.000000  16715.000000  16715.000000   \n",
       "mean       2006.484616      0.263377      0.145060      0.077617   \n",
       "std           5.877050      0.813604      0.503339      0.308853   \n",
       "min        1980.000000      0.000000      0.000000      0.000000   \n",
       "25%        2003.000000      0.000000      0.000000      0.000000   \n",
       "50%        2007.000000      0.080000      0.020000      0.000000   \n",
       "75%        2010.000000      0.240000      0.110000      0.040000   \n",
       "max        2016.000000     41.360000     28.960000     10.220000   \n",
       "\n",
       "        other_sales  critic_score   user_score     all_sales  \n",
       "count  16715.000000   8137.000000  7590.000000  16715.000000  \n",
       "mean       0.047342     68.967679     7.125046      0.533396  \n",
       "std        0.186731     13.938165     1.500006      1.548261  \n",
       "min        0.000000     13.000000     0.000000      0.000000  \n",
       "25%        0.000000     60.000000     6.400000      0.060000  \n",
       "50%        0.010000     71.000000     7.500000      0.170000  \n",
       "75%        0.030000     79.000000     8.200000      0.470000  \n",
       "max       10.570000     98.000000     9.700000     82.540000  "
      ]
     },
     "execution_count": 9,
     "metadata": {},
     "output_type": "execute_result"
    }
   ],
   "source": [
    "df.info()\n",
    "df.describe()"
   ]
  },
  {
   "cell_type": "markdown",
   "metadata": {},
   "source": [
    "**Вывод**\n",
    "\n",
    "Столбцы переименованы. Тип данных поменян в столбые с пользовательской оценкой на числовой для дальнейшей работы с данными. Нет возможности правдоподобно заполнить пропуски. Данных в столбцах с оценками и рейтингомможет не быть  как из-за сбоя, так и из-за возраста игр (иил слишком старые или наоборот). Пропуски в наименовании и году выпуска явно техническая ошибка."
   ]
  },
  {
   "cell_type": "markdown",
   "metadata": {},
   "source": [
    "## Исследовательский анализ данных"
   ]
  },
  {
   "cell_type": "code",
   "execution_count": 10,
   "metadata": {},
   "outputs": [
    {
     "data": {
      "image/png": "[encoded data removed]",
      "text/plain": [
       "<Figure size 864x432 with 1 Axes>"
      ]
     },
     "metadata": {
      "needs_background": "light"
     },
     "output_type": "display_data"
    }
   ],
   "source": [
    "games_years=df.pivot_table(index=['year_of_release'], values='name', aggfunc='count')\n",
    "\n",
    "plt.figure(figsize=(12,6))\n",
    "sns.lineplot(data=games_years)\n",
    "plt.title(\"Количество игр выпускаемых в разные годы\")\n",
    "plt.xlabel(\"Год выпуска\")\n",
    "plt.ylabel(\"Количество выпущенных игр\")\n",
    "plt.legend('')\n",
    "plt.show()"
   ]
  },
  {
   "cell_type": "markdown",
   "metadata": {},
   "source": [
    "В таблице данные с 1980 по 2016 год, из графика видно, что до 2008/2009 продажи росли, после наблюдается спад. Данные за весь период явно не понядобятся в дальнейшем анализе."
   ]
  },
  {
   "cell_type": "code",
   "execution_count": 11,
   "metadata": {},
   "outputs": [
    {
     "data": {
      "text/plain": [
       "Text(0, 0.5, 'Количество продаж')"
      ]
     },
     "execution_count": 11,
     "metadata": {},
     "output_type": "execute_result"
    },
    {
     "data": {
      "image/png": "[encoded data removed]",
      "text/plain": [
       "<Figure size 936x432 with 1 Axes>"
      ]
     },
     "metadata": {
      "needs_background": "light"
     },
     "output_type": "display_data"
    }
   ],
   "source": [
    "#построени тадицы продаж по платформам\n",
    "platform_sales=df.pivot_table(index='platform', values='all_sales', aggfunc='sum').sort_values(by='all_sales',ascending=False)\n",
    "\n",
    "plt.figure(figsize=(13,6))\n",
    "sns.barplot(x=platform_sales.index,y=platform_sales['all_sales'])\n",
    "plt.title(\"Продажи по платформам за весь период\")\n",
    "plt.xlabel(\"Название платформы\")\n",
    "plt.ylabel(\"Количество продаж\")"
   ]
  },
  {
   "cell_type": "code",
   "execution_count": 12,
   "metadata": {},
   "outputs": [],
   "source": [
    "platform_sales_10=platform_sales.head(10) #выделение топ 10 платформ по продажам за весь период"
   ]
  },
  {
   "cell_type": "code",
   "execution_count": 13,
   "metadata": {
    "scrolled": false
   },
   "outputs": [
    {
     "data": {
      "text/plain": [
       "Text(0, 0.5, 'Количество продаж')"
      ]
     },
     "execution_count": 13,
     "metadata": {},
     "output_type": "execute_result"
    },
    {
     "data": {
      "image/png": "[encoded data removed]",
      "text/plain": [
       "<Figure size 1152x432 with 1 Axes>"
      ]
     },
     "metadata": {
      "needs_background": "light"
     },
     "output_type": "display_data"
    }
   ],
   "source": [
    "platform_years=df.pivot_table(index=['platform','year_of_release'], values='all_sales', aggfunc='sum')\n",
    "platform_years_pd=pd.DataFrame(platform_years.to_records())\n",
    "platforms_10=platform_years_pd.query('platform in @platform_sales_10.index')\n",
    "\n",
    "plt.figure(figsize=(16,6))\n",
    "sns.lineplot(x=\"year_of_release\", y=\"all_sales\", hue=\"platform\", data=platforms_10)\n",
    "plt.title(\"Продажи по платформам за весь период\")\n",
    "plt.xlabel(\"Года\")\n",
    "plt.ylabel(\"Количество продаж\")"
   ]
  },
  {
   "cell_type": "markdown",
   "metadata": {},
   "source": [
    "NJg 10 cамых прибыльных платформ за все время ps2, xbox360, ps3, wiil, ds, ps, gba, ps4, psp, pc. Характерный срок жизни платформы 10 лет, однако, pc выделяется на их фоне своей продолжительностью жизни.\n",
    "\n",
    "Далее будут рассматриваться данные за период с 2013 по 2016 гг., т.к. в этот период произошла стабилизация рынка после бурных продаж"
   ]
  },
  {
   "cell_type": "code",
   "execution_count": 14,
   "metadata": {},
   "outputs": [
    {
     "data": {
      "text/html": [
       "<div>\n",
       "<style scoped>\n",
       "    .dataframe tbody tr th:only-of-type {\n",
       "        vertical-align: middle;\n",
       "    }\n",
       "\n",
       "    .dataframe tbody tr th {\n",
       "        vertical-align: top;\n",
       "    }\n",
       "\n",
       "    .dataframe thead th {\n",
       "        text-align: right;\n",
       "    }\n",
       "</style>\n",
       "<table border=\"1\" class=\"dataframe\">\n",
       "  <thead>\n",
       "    <tr style=\"text-align: right;\">\n",
       "      <th></th>\n",
       "      <th>name</th>\n",
       "      <th>platform</th>\n",
       "      <th>year_of_release</th>\n",
       "      <th>genre</th>\n",
       "      <th>na_sales</th>\n",
       "      <th>eu_sales</th>\n",
       "      <th>jp_sales</th>\n",
       "      <th>other_sales</th>\n",
       "      <th>critic_score</th>\n",
       "      <th>user_score</th>\n",
       "      <th>rating</th>\n",
       "      <th>all_sales</th>\n",
       "    </tr>\n",
       "  </thead>\n",
       "  <tbody>\n",
       "    <tr>\n",
       "      <td>16</td>\n",
       "      <td>grand theft auto v</td>\n",
       "      <td>ps3</td>\n",
       "      <td>2013.0</td>\n",
       "      <td>action</td>\n",
       "      <td>7.02</td>\n",
       "      <td>9.09</td>\n",
       "      <td>0.98</td>\n",
       "      <td>3.96</td>\n",
       "      <td>97.0</td>\n",
       "      <td>8.2</td>\n",
       "      <td>M</td>\n",
       "      <td>21.05</td>\n",
       "    </tr>\n",
       "    <tr>\n",
       "      <td>23</td>\n",
       "      <td>grand theft auto v</td>\n",
       "      <td>x360</td>\n",
       "      <td>2013.0</td>\n",
       "      <td>action</td>\n",
       "      <td>9.66</td>\n",
       "      <td>5.14</td>\n",
       "      <td>0.06</td>\n",
       "      <td>1.41</td>\n",
       "      <td>97.0</td>\n",
       "      <td>8.1</td>\n",
       "      <td>M</td>\n",
       "      <td>16.27</td>\n",
       "    </tr>\n",
       "    <tr>\n",
       "      <td>31</td>\n",
       "      <td>call of duty: black ops 3</td>\n",
       "      <td>ps4</td>\n",
       "      <td>2015.0</td>\n",
       "      <td>shooter</td>\n",
       "      <td>6.03</td>\n",
       "      <td>5.86</td>\n",
       "      <td>0.36</td>\n",
       "      <td>2.38</td>\n",
       "      <td>NaN</td>\n",
       "      <td>NaN</td>\n",
       "      <td>Нет рейтинга</td>\n",
       "      <td>14.63</td>\n",
       "    </tr>\n",
       "    <tr>\n",
       "      <td>33</td>\n",
       "      <td>pokemon x/pokemon y</td>\n",
       "      <td>3ds</td>\n",
       "      <td>2013.0</td>\n",
       "      <td>role-playing</td>\n",
       "      <td>5.28</td>\n",
       "      <td>4.19</td>\n",
       "      <td>4.35</td>\n",
       "      <td>0.78</td>\n",
       "      <td>NaN</td>\n",
       "      <td>NaN</td>\n",
       "      <td>Нет рейтинга</td>\n",
       "      <td>14.60</td>\n",
       "    </tr>\n",
       "    <tr>\n",
       "      <td>42</td>\n",
       "      <td>grand theft auto v</td>\n",
       "      <td>ps4</td>\n",
       "      <td>2014.0</td>\n",
       "      <td>action</td>\n",
       "      <td>3.96</td>\n",
       "      <td>6.31</td>\n",
       "      <td>0.38</td>\n",
       "      <td>1.97</td>\n",
       "      <td>97.0</td>\n",
       "      <td>8.3</td>\n",
       "      <td>M</td>\n",
       "      <td>12.62</td>\n",
       "    </tr>\n",
       "    <tr>\n",
       "      <td>...</td>\n",
       "      <td>...</td>\n",
       "      <td>...</td>\n",
       "      <td>...</td>\n",
       "      <td>...</td>\n",
       "      <td>...</td>\n",
       "      <td>...</td>\n",
       "      <td>...</td>\n",
       "      <td>...</td>\n",
       "      <td>...</td>\n",
       "      <td>...</td>\n",
       "      <td>...</td>\n",
       "      <td>...</td>\n",
       "    </tr>\n",
       "    <tr>\n",
       "      <td>16703</td>\n",
       "      <td>strawberry nauts</td>\n",
       "      <td>psv</td>\n",
       "      <td>2016.0</td>\n",
       "      <td>adventure</td>\n",
       "      <td>0.00</td>\n",
       "      <td>0.00</td>\n",
       "      <td>0.01</td>\n",
       "      <td>0.00</td>\n",
       "      <td>NaN</td>\n",
       "      <td>NaN</td>\n",
       "      <td>Нет рейтинга</td>\n",
       "      <td>0.01</td>\n",
       "    </tr>\n",
       "    <tr>\n",
       "      <td>16707</td>\n",
       "      <td>aiyoku no eustia</td>\n",
       "      <td>psv</td>\n",
       "      <td>2014.0</td>\n",
       "      <td>misc</td>\n",
       "      <td>0.00</td>\n",
       "      <td>0.00</td>\n",
       "      <td>0.01</td>\n",
       "      <td>0.00</td>\n",
       "      <td>NaN</td>\n",
       "      <td>NaN</td>\n",
       "      <td>Нет рейтинга</td>\n",
       "      <td>0.01</td>\n",
       "    </tr>\n",
       "    <tr>\n",
       "      <td>16710</td>\n",
       "      <td>samurai warriors: sanada maru</td>\n",
       "      <td>ps3</td>\n",
       "      <td>2016.0</td>\n",
       "      <td>action</td>\n",
       "      <td>0.00</td>\n",
       "      <td>0.00</td>\n",
       "      <td>0.01</td>\n",
       "      <td>0.00</td>\n",
       "      <td>NaN</td>\n",
       "      <td>NaN</td>\n",
       "      <td>Нет рейтинга</td>\n",
       "      <td>0.01</td>\n",
       "    </tr>\n",
       "    <tr>\n",
       "      <td>16712</td>\n",
       "      <td>haitaka no psychedelica</td>\n",
       "      <td>psv</td>\n",
       "      <td>2016.0</td>\n",
       "      <td>adventure</td>\n",
       "      <td>0.00</td>\n",
       "      <td>0.00</td>\n",
       "      <td>0.01</td>\n",
       "      <td>0.00</td>\n",
       "      <td>NaN</td>\n",
       "      <td>NaN</td>\n",
       "      <td>Нет рейтинга</td>\n",
       "      <td>0.01</td>\n",
       "    </tr>\n",
       "    <tr>\n",
       "      <td>16714</td>\n",
       "      <td>winning post 8 2016</td>\n",
       "      <td>psv</td>\n",
       "      <td>2016.0</td>\n",
       "      <td>simulation</td>\n",
       "      <td>0.00</td>\n",
       "      <td>0.00</td>\n",
       "      <td>0.01</td>\n",
       "      <td>0.00</td>\n",
       "      <td>NaN</td>\n",
       "      <td>NaN</td>\n",
       "      <td>Нет рейтинга</td>\n",
       "      <td>0.01</td>\n",
       "    </tr>\n",
       "  </tbody>\n",
       "</table>\n",
       "<p>2233 rows × 12 columns</p>\n",
       "</div>"
      ],
      "text/plain": [
       "                                name platform  year_of_release         genre  \\\n",
       "16                grand theft auto v      ps3           2013.0        action   \n",
       "23                grand theft auto v     x360           2013.0        action   \n",
       "31         call of duty: black ops 3      ps4           2015.0       shooter   \n",
       "33               pokemon x/pokemon y      3ds           2013.0  role-playing   \n",
       "42                grand theft auto v      ps4           2014.0        action   \n",
       "...                              ...      ...              ...           ...   \n",
       "16703               strawberry nauts      psv           2016.0     adventure   \n",
       "16707               aiyoku no eustia      psv           2014.0          misc   \n",
       "16710  samurai warriors: sanada maru      ps3           2016.0        action   \n",
       "16712        haitaka no psychedelica      psv           2016.0     adventure   \n",
       "16714            winning post 8 2016      psv           2016.0    simulation   \n",
       "\n",
       "       na_sales  eu_sales  jp_sales  other_sales  critic_score  user_score  \\\n",
       "16         7.02      9.09      0.98         3.96          97.0         8.2   \n",
       "23         9.66      5.14      0.06         1.41          97.0         8.1   \n",
       "31         6.03      5.86      0.36         2.38           NaN         NaN   \n",
       "33         5.28      4.19      4.35         0.78           NaN         NaN   \n",
       "42         3.96      6.31      0.38         1.97          97.0         8.3   \n",
       "...         ...       ...       ...          ...           ...         ...   \n",
       "16703      0.00      0.00      0.01         0.00           NaN         NaN   \n",
       "16707      0.00      0.00      0.01         0.00           NaN         NaN   \n",
       "16710      0.00      0.00      0.01         0.00           NaN         NaN   \n",
       "16712      0.00      0.00      0.01         0.00           NaN         NaN   \n",
       "16714      0.00      0.00      0.01         0.00           NaN         NaN   \n",
       "\n",
       "             rating  all_sales  \n",
       "16                M      21.05  \n",
       "23                M      16.27  \n",
       "31     Нет рейтинга      14.63  \n",
       "33     Нет рейтинга      14.60  \n",
       "42                M      12.62  \n",
       "...             ...        ...  \n",
       "16703  Нет рейтинга       0.01  \n",
       "16707  Нет рейтинга       0.01  \n",
       "16710  Нет рейтинга       0.01  \n",
       "16712  Нет рейтинга       0.01  \n",
       "16714  Нет рейтинга       0.01  \n",
       "\n",
       "[2233 rows x 12 columns]"
      ]
     },
     "execution_count": 14,
     "metadata": {},
     "output_type": "execute_result"
    }
   ],
   "source": [
    "df_actual=df.query('year_of_release > 2012') #выбор данных только за актуальные года\n",
    "df_actual"
   ]
  },
  {
   "cell_type": "code",
   "execution_count": 15,
   "metadata": {},
   "outputs": [
    {
     "data": {
      "text/html": [
       "<div>\n",
       "<style scoped>\n",
       "    .dataframe tbody tr th:only-of-type {\n",
       "        vertical-align: middle;\n",
       "    }\n",
       "\n",
       "    .dataframe tbody tr th {\n",
       "        vertical-align: top;\n",
       "    }\n",
       "\n",
       "    .dataframe thead th {\n",
       "        text-align: right;\n",
       "    }\n",
       "</style>\n",
       "<table border=\"1\" class=\"dataframe\">\n",
       "  <thead>\n",
       "    <tr style=\"text-align: right;\">\n",
       "      <th></th>\n",
       "      <th>all_sales</th>\n",
       "    </tr>\n",
       "    <tr>\n",
       "      <th>platform</th>\n",
       "      <th></th>\n",
       "    </tr>\n",
       "  </thead>\n",
       "  <tbody>\n",
       "    <tr>\n",
       "      <td>ps4</td>\n",
       "      <td>314.14</td>\n",
       "    </tr>\n",
       "    <tr>\n",
       "      <td>ps3</td>\n",
       "      <td>181.43</td>\n",
       "    </tr>\n",
       "    <tr>\n",
       "      <td>xone</td>\n",
       "      <td>159.32</td>\n",
       "    </tr>\n",
       "    <tr>\n",
       "      <td>3ds</td>\n",
       "      <td>143.25</td>\n",
       "    </tr>\n",
       "    <tr>\n",
       "      <td>x360</td>\n",
       "      <td>136.80</td>\n",
       "    </tr>\n",
       "    <tr>\n",
       "      <td>wiiu</td>\n",
       "      <td>64.63</td>\n",
       "    </tr>\n",
       "    <tr>\n",
       "      <td>pc</td>\n",
       "      <td>39.43</td>\n",
       "    </tr>\n",
       "    <tr>\n",
       "      <td>psv</td>\n",
       "      <td>32.99</td>\n",
       "    </tr>\n",
       "    <tr>\n",
       "      <td>wii</td>\n",
       "      <td>13.66</td>\n",
       "    </tr>\n",
       "    <tr>\n",
       "      <td>psp</td>\n",
       "      <td>3.50</td>\n",
       "    </tr>\n",
       "  </tbody>\n",
       "</table>\n",
       "</div>"
      ],
      "text/plain": [
       "          all_sales\n",
       "platform           \n",
       "ps4          314.14\n",
       "ps3          181.43\n",
       "xone         159.32\n",
       "3ds          143.25\n",
       "x360         136.80\n",
       "wiiu          64.63\n",
       "pc            39.43\n",
       "psv           32.99\n",
       "wii           13.66\n",
       "psp            3.50"
      ]
     },
     "execution_count": 15,
     "metadata": {},
     "output_type": "execute_result"
    }
   ],
   "source": [
    "#составление таблицы по продажам по платформам зп актуальные года\n",
    "df_actual_pl_10=df_actual.pivot_table(index=['platform'], values='all_sales', aggfunc='sum').sort_values(by='all_sales',ascending=False).head(10)\n",
    "df_actual_pl_10"
   ]
  },
  {
   "cell_type": "code",
   "execution_count": 16,
   "metadata": {},
   "outputs": [
    {
     "data": {
      "text/plain": [
       "Text(0, 0.5, 'Количество продаж')"
      ]
     },
     "execution_count": 16,
     "metadata": {},
     "output_type": "execute_result"
    },
    {
     "data": {
      "image/png": "[encoded data removed]",
      "text/plain": [
       "<Figure size 1152x432 with 1 Axes>"
      ]
     },
     "metadata": {
      "needs_background": "light"
     },
     "output_type": "display_data"
    }
   ],
   "source": [
    "df_actual_sales=df_actual.pivot_table(index=['platform','year_of_release'], values='all_sales', aggfunc='sum') #распределение продаж по платформам и годам за акт. время\n",
    "df_actual_sales_pd=pd.DataFrame(df_actual_sales.to_records())\n",
    "platforms_actual_10=df_actual_sales_pd.query('platform in @df_actual_pl_10.index') #выбор только топовых платформ\n",
    "plt.figure(figsize=(16,6))\n",
    "sns.lineplot(x=\"year_of_release\", y=\"all_sales\", hue=\"platform\", data=platforms_actual_10)\n",
    "plt.title(\"Продажи по платформам за актуальный период\")\n",
    "plt.xlabel(\"Год\")\n",
    "plt.ylabel(\"Количество продаж\")"
   ]
  },
  {
   "cell_type": "markdown",
   "metadata": {},
   "source": [
    "    Судя по графику самыми потонцеально прибыльными платформами являются ps4 и xone. Стоит таже рассматривать данных по pc, так как, хотя уровень продаж не высокий, это стабильная платформа, которая не исчезнет через 10 лет. Платформу 3ds можно расматривать как актуальную на ближайшие 4 года."
   ]
  },
  {
   "cell_type": "code",
   "execution_count": 18,
   "metadata": {},
   "outputs": [
    {
     "data": {
      "text/html": [
       "<div>\n",
       "<style scoped>\n",
       "    .dataframe tbody tr th:only-of-type {\n",
       "        vertical-align: middle;\n",
       "    }\n",
       "\n",
       "    .dataframe tbody tr th {\n",
       "        vertical-align: top;\n",
       "    }\n",
       "\n",
       "    .dataframe thead th {\n",
       "        text-align: right;\n",
       "    }\n",
       "</style>\n",
       "<table border=\"1\" class=\"dataframe\">\n",
       "  <thead>\n",
       "    <tr style=\"text-align: right;\">\n",
       "      <th></th>\n",
       "      <th>year_of_release</th>\n",
       "      <th>na_sales</th>\n",
       "      <th>eu_sales</th>\n",
       "      <th>jp_sales</th>\n",
       "      <th>other_sales</th>\n",
       "      <th>critic_score</th>\n",
       "      <th>user_score</th>\n",
       "      <th>all_sales</th>\n",
       "    </tr>\n",
       "  </thead>\n",
       "  <tbody>\n",
       "    <tr>\n",
       "      <td>count</td>\n",
       "      <td>1131.000000</td>\n",
       "      <td>1131.000000</td>\n",
       "      <td>1131.000000</td>\n",
       "      <td>1131.000000</td>\n",
       "      <td>1131.000000</td>\n",
       "      <td>641.000000</td>\n",
       "      <td>674.000000</td>\n",
       "      <td>1131.000000</td>\n",
       "    </tr>\n",
       "    <tr>\n",
       "      <td>mean</td>\n",
       "      <td>2014.787798</td>\n",
       "      <td>0.222078</td>\n",
       "      <td>0.220159</td>\n",
       "      <td>0.074368</td>\n",
       "      <td>0.063537</td>\n",
       "      <td>72.804992</td>\n",
       "      <td>6.604006</td>\n",
       "      <td>0.580141</td>\n",
       "    </tr>\n",
       "    <tr>\n",
       "      <td>std</td>\n",
       "      <td>1.038665</td>\n",
       "      <td>0.535786</td>\n",
       "      <td>0.561038</td>\n",
       "      <td>0.309750</td>\n",
       "      <td>0.168296</td>\n",
       "      <td>12.398250</td>\n",
       "      <td>1.532258</td>\n",
       "      <td>1.305645</td>\n",
       "    </tr>\n",
       "    <tr>\n",
       "      <td>min</td>\n",
       "      <td>2013.000000</td>\n",
       "      <td>0.000000</td>\n",
       "      <td>0.000000</td>\n",
       "      <td>0.000000</td>\n",
       "      <td>0.000000</td>\n",
       "      <td>19.000000</td>\n",
       "      <td>1.400000</td>\n",
       "      <td>0.010000</td>\n",
       "    </tr>\n",
       "    <tr>\n",
       "      <td>25%</td>\n",
       "      <td>2014.000000</td>\n",
       "      <td>0.000000</td>\n",
       "      <td>0.000000</td>\n",
       "      <td>0.000000</td>\n",
       "      <td>0.000000</td>\n",
       "      <td>66.000000</td>\n",
       "      <td>5.900000</td>\n",
       "      <td>0.040000</td>\n",
       "    </tr>\n",
       "    <tr>\n",
       "      <td>50%</td>\n",
       "      <td>2015.000000</td>\n",
       "      <td>0.030000</td>\n",
       "      <td>0.040000</td>\n",
       "      <td>0.000000</td>\n",
       "      <td>0.010000</td>\n",
       "      <td>75.000000</td>\n",
       "      <td>6.900000</td>\n",
       "      <td>0.140000</td>\n",
       "    </tr>\n",
       "    <tr>\n",
       "      <td>75%</td>\n",
       "      <td>2016.000000</td>\n",
       "      <td>0.170000</td>\n",
       "      <td>0.170000</td>\n",
       "      <td>0.040000</td>\n",
       "      <td>0.045000</td>\n",
       "      <td>81.000000</td>\n",
       "      <td>7.700000</td>\n",
       "      <td>0.480000</td>\n",
       "    </tr>\n",
       "    <tr>\n",
       "      <td>max</td>\n",
       "      <td>2016.000000</td>\n",
       "      <td>6.030000</td>\n",
       "      <td>6.310000</td>\n",
       "      <td>4.350000</td>\n",
       "      <td>2.380000</td>\n",
       "      <td>97.000000</td>\n",
       "      <td>9.300000</td>\n",
       "      <td>14.630000</td>\n",
       "    </tr>\n",
       "  </tbody>\n",
       "</table>\n",
       "</div>"
      ],
      "text/plain": [
       "       year_of_release     na_sales     eu_sales     jp_sales  other_sales  \\\n",
       "count      1131.000000  1131.000000  1131.000000  1131.000000  1131.000000   \n",
       "mean       2014.787798     0.222078     0.220159     0.074368     0.063537   \n",
       "std           1.038665     0.535786     0.561038     0.309750     0.168296   \n",
       "min        2013.000000     0.000000     0.000000     0.000000     0.000000   \n",
       "25%        2014.000000     0.000000     0.000000     0.000000     0.000000   \n",
       "50%        2015.000000     0.030000     0.040000     0.000000     0.010000   \n",
       "75%        2016.000000     0.170000     0.170000     0.040000     0.045000   \n",
       "max        2016.000000     6.030000     6.310000     4.350000     2.380000   \n",
       "\n",
       "       critic_score  user_score    all_sales  \n",
       "count    641.000000  674.000000  1131.000000  \n",
       "mean      72.804992    6.604006     0.580141  \n",
       "std       12.398250    1.532258     1.305645  \n",
       "min       19.000000    1.400000     0.010000  \n",
       "25%       66.000000    5.900000     0.040000  \n",
       "50%       75.000000    6.900000     0.140000  \n",
       "75%       81.000000    7.700000     0.480000  \n",
       "max       97.000000    9.300000    14.630000  "
      ]
     },
     "execution_count": 18,
     "metadata": {},
     "output_type": "execute_result"
    }
   ],
   "source": [
    "#выделение переспективных платформ\n",
    "platforms_potential=['ps4','xone', '3ds','pc'] \n",
    "df_actual_platforms=df_actual.query('platform in @platforms_potential')\n",
    "df_actual_platforms.describe()"
   ]
  },
  {
   "cell_type": "code",
   "execution_count": 19,
   "metadata": {},
   "outputs": [
    {
     "data": {
      "text/plain": [
       "Text(0, 0.5, 'Количество продаж')"
      ]
     },
     "execution_count": 19,
     "metadata": {},
     "output_type": "execute_result"
    },
    {
     "data": {
      "image/png": "[encoded data removed]",
      "text/plain": [
       "<Figure size 1152x576 with 1 Axes>"
      ]
     },
     "metadata": {
      "needs_background": "light"
     },
     "output_type": "display_data"
    }
   ],
   "source": [
    "plt.figure(figsize=(16,8))\n",
    "df_actual_platforms_plot=sns.boxplot(x=\"platform\", y=\"all_sales\", data=df_actual_platforms)\n",
    "plt.ylim([0,3])\n",
    "plt.title(\"Продажи по переспективным платформам за актуальный период\")\n",
    "plt.xlabel(\"Платформы\")\n",
    "plt.ylabel(\"Количество продаж\")"
   ]
  },
  {
   "cell_type": "markdown",
   "metadata": {},
   "source": [
    "    Судя по графику медианы продаж у платформ не сильно отличаются и равны примерно 0,1 млн.шт., все имеют скошенность врпаво, а значит в среднем игры продается больше медианы. Имеются вбросы, когда игры продаются больше чем нормальное значение.\n",
    "    "
   ]
  },
  {
   "cell_type": "code",
   "execution_count": 20,
   "metadata": {},
   "outputs": [],
   "source": [
    "df_ps4=df_actual.query('platform ==\"ps4\"')  #выбор наиболее прибыльной платформы"
   ]
  },
  {
   "cell_type": "code",
   "execution_count": 42,
   "metadata": {},
   "outputs": [
    {
     "data": {
      "image/png": "[encoded data removed]",
      "text/plain": [
       "<Figure size 936x936 with 2 Axes>"
      ]
     },
     "metadata": {},
     "output_type": "display_data"
    }
   ],
   "source": [
    "#построение таблицы коэф. корреляции\n",
    "sns.set(style='white')\n",
    "plt.figure(figsize=(13, 13))\n",
    "plt.title('Матрица корреляций')\n",
    "sns.heatmap(df_ps4.corr(), annot=True, fmt='.1g', linecolor='grey',linewidths=0.5) \n",
    "plt.show()"
   ]
  },
  {
   "cell_type": "markdown",
   "metadata": {},
   "source": [
    "    Судя по таблице, продажи имеют слабую пряму зависимость от оценки критиков (0,4) и совсем незначительну с оценкой пользователей (0,02)."
   ]
  },
  {
   "cell_type": "code",
   "execution_count": 22,
   "metadata": {},
   "outputs": [
    {
     "data": {
      "text/plain": [
       "Text(0, 0.5, 'Количество продаж')"
      ]
     },
     "execution_count": 22,
     "metadata": {},
     "output_type": "execute_result"
    },
    {
     "data": {
      "image/png": "[encoded data removed]",
      "text/plain": [
       "<Figure size 864x432 with 1 Axes>"
      ]
     },
     "metadata": {},
     "output_type": "display_data"
    }
   ],
   "source": [
    "plt.figure(figsize=(12,6))\n",
    "sns.scatterplot(x='critic_score', y='all_sales', data=df_ps4) #сравнение проадж и оценки критиков\n",
    "plt.title(\"Соотношение продаж с оценкой критиков за актуальный период\")\n",
    "plt.xlabel(\"Оценка критиков\")\n",
    "plt.ylabel(\"Количество продаж\")"
   ]
  },
  {
   "cell_type": "markdown",
   "metadata": {},
   "source": [
    "    По грфику видно, что чем больше оценка критиков, тем больще продажи."
   ]
  },
  {
   "cell_type": "code",
   "execution_count": 23,
   "metadata": {},
   "outputs": [
    {
     "data": {
      "text/plain": [
       "Text(0, 0.5, 'Количество продаж')"
      ]
     },
     "execution_count": 23,
     "metadata": {},
     "output_type": "execute_result"
    },
    {
     "data": {
      "image/png": "[encoded data removed]",
      "text/plain": [
       "<Figure size 864x432 with 1 Axes>"
      ]
     },
     "metadata": {},
     "output_type": "display_data"
    }
   ],
   "source": [
    "plt.figure(figsize=(12,6))\n",
    "sns.scatterplot(x='user_score', y='all_sales', data=df_ps4) #сравнение проадж и пользовательсокй оценки\n",
    "plt.title(\"Соотношение продаж с оценкой пользователей за актуальный период\")\n",
    "plt.xlabel(\"Оценка пользователей\")\n",
    "plt.ylabel(\"Количество продаж\")"
   ]
  },
  {
   "cell_type": "markdown",
   "metadata": {},
   "source": [
    "    В случае с оценкой пользователей все не так однозначно. Большие продажи есть и у игр с маленьким рейтингом, хотя все еще сохраняется динамика, чем больше оценка, тем больше продаж."
   ]
  },
  {
   "cell_type": "code",
   "execution_count": 24,
   "metadata": {},
   "outputs": [
    {
     "data": {
      "image/png": "[encoded data removed]",
      "text/plain": [
       "<Figure size 1080x360 with 2 Axes>"
      ]
     },
     "metadata": {},
     "output_type": "display_data"
    },
    {
     "name": "stdout",
     "output_type": "stream",
     "text": [
      "Коэффициент корреляции между продажами и оценкой критиков: 0.35705661422881035\n",
      "Коэффициент корреляции между продажами и оценкой пользователей: 0.24150411773563016\n"
     ]
    },
    {
     "data": {
      "image/png": "[encoded data removed]",
      "text/plain": [
       "<Figure size 1080x360 with 2 Axes>"
      ]
     },
     "metadata": {},
     "output_type": "display_data"
    },
    {
     "name": "stdout",
     "output_type": "stream",
     "text": [
      "Коэффициент корреляции между продажами и оценкой критиков: 0.19603028294369382\n",
      "Коэффициент корреляции между продажами и оценкой пользователей: -0.09384186952476739\n"
     ]
    },
    {
     "data": {
      "image/png": "[encoded data removed]",
      "text/plain": [
       "<Figure size 1080x360 with 2 Axes>"
      ]
     },
     "metadata": {},
     "output_type": "display_data"
    },
    {
     "name": "stdout",
     "output_type": "stream",
     "text": [
      "Коэффициент корреляции между продажами и оценкой критиков: 0.406567902061781\n",
      "Коэффициент корреляции между продажами и оценкой пользователей: -0.031957110204556424\n"
     ]
    },
    {
     "data": {
      "image/png": "[encoded data removed]",
      "text/plain": [
       "<Figure size 1080x360 with 2 Axes>"
      ]
     },
     "metadata": {},
     "output_type": "display_data"
    },
    {
     "name": "stdout",
     "output_type": "stream",
     "text": [
      "Коэффициент корреляции между продажами и оценкой критиков: 0.41699832800840175\n",
      "Коэффициент корреляции между продажами и оценкой пользователей: -0.06892505328279412\n"
     ]
    },
    {
     "data": {
      "text/plain": [
       "0    None\n",
       "1    None\n",
       "2    None\n",
       "3    None\n",
       "Name: platform, dtype: object"
      ]
     },
     "execution_count": 24,
     "metadata": {},
     "output_type": "execute_result"
    }
   ],
   "source": [
    "df_platform=df_actual_platforms.pivot_table(index=['platform'], values=['all_sales', 'critic_score', 'user_score'], aggfunc='sum')\n",
    "df_platform_pd=pd.DataFrame(df_platform.to_records())\n",
    "def corr_score(row):\n",
    "    platform = df_actual_platforms[df_actual_platforms['platform']==row]\n",
    "    fig, ax = plt.subplots(1 ,2, figsize=(15,5))\n",
    "    sns.scatterplot(x='user_score', y='all_sales', data=platform, ax=ax[0])\n",
    "    sns.scatterplot(x='critic_score', y='all_sales', data=platform, ax=ax[1])\n",
    "    fig.suptitle(row, fontsize=15)\n",
    "    ax[0].set(xlabel='Оценка пользователей')\n",
    "    ax[1].set(xlabel='Оценка критиков')\n",
    "    ax[0].set(ylabel='Количество продаж')\n",
    "    ax[1].set(ylabel='Количество продаж')\n",
    "    plt.show()\n",
    "    \n",
    "    corr_critic = platform['all_sales'].corr(platform['critic_score'])\n",
    "    corr_user = platform['all_sales'].corr(platform['user_score'])\n",
    "    print('Коэффициент корреляции между продажами и оценкой критиков:', corr_critic )\n",
    "    print('Коэффициент корреляции между продажами и оценкой пользователей:', corr_user)\n",
    "    \n",
    "    \n",
    "df_platform_pd['platform'].apply(corr_score)"
   ]
  },
  {
   "cell_type": "markdown",
   "metadata": {},
   "source": [
    "    По переспективным платформам динамика не отличается."
   ]
  },
  {
   "cell_type": "code",
   "execution_count": 25,
   "metadata": {},
   "outputs": [
    {
     "data": {
      "text/html": [
       "<div>\n",
       "<style scoped>\n",
       "    .dataframe tbody tr th:only-of-type {\n",
       "        vertical-align: middle;\n",
       "    }\n",
       "\n",
       "    .dataframe tbody tr th {\n",
       "        vertical-align: top;\n",
       "    }\n",
       "\n",
       "    .dataframe thead th {\n",
       "        text-align: right;\n",
       "    }\n",
       "</style>\n",
       "<table border=\"1\" class=\"dataframe\">\n",
       "  <thead>\n",
       "    <tr style=\"text-align: right;\">\n",
       "      <th></th>\n",
       "      <th>count</th>\n",
       "      <th>sum</th>\n",
       "      <th>sales_per_game</th>\n",
       "    </tr>\n",
       "    <tr>\n",
       "      <th>genre</th>\n",
       "      <th></th>\n",
       "      <th></th>\n",
       "      <th></th>\n",
       "    </tr>\n",
       "  </thead>\n",
       "  <tbody>\n",
       "    <tr>\n",
       "      <td>shooter</td>\n",
       "      <td>187</td>\n",
       "      <td>232.98</td>\n",
       "      <td>1.245882</td>\n",
       "    </tr>\n",
       "    <tr>\n",
       "      <td>sports</td>\n",
       "      <td>214</td>\n",
       "      <td>150.65</td>\n",
       "      <td>0.703972</td>\n",
       "    </tr>\n",
       "    <tr>\n",
       "      <td>platform</td>\n",
       "      <td>74</td>\n",
       "      <td>42.63</td>\n",
       "      <td>0.576081</td>\n",
       "    </tr>\n",
       "    <tr>\n",
       "      <td>role-playing</td>\n",
       "      <td>292</td>\n",
       "      <td>145.89</td>\n",
       "      <td>0.499623</td>\n",
       "    </tr>\n",
       "    <tr>\n",
       "      <td>racing</td>\n",
       "      <td>85</td>\n",
       "      <td>39.89</td>\n",
       "      <td>0.469294</td>\n",
       "    </tr>\n",
       "    <tr>\n",
       "      <td>fighting</td>\n",
       "      <td>80</td>\n",
       "      <td>35.31</td>\n",
       "      <td>0.441375</td>\n",
       "    </tr>\n",
       "    <tr>\n",
       "      <td>action</td>\n",
       "      <td>766</td>\n",
       "      <td>321.87</td>\n",
       "      <td>0.420196</td>\n",
       "    </tr>\n",
       "    <tr>\n",
       "      <td>misc</td>\n",
       "      <td>155</td>\n",
       "      <td>62.82</td>\n",
       "      <td>0.405290</td>\n",
       "    </tr>\n",
       "    <tr>\n",
       "      <td>simulation</td>\n",
       "      <td>62</td>\n",
       "      <td>21.76</td>\n",
       "      <td>0.350968</td>\n",
       "    </tr>\n",
       "    <tr>\n",
       "      <td>puzzle</td>\n",
       "      <td>17</td>\n",
       "      <td>3.17</td>\n",
       "      <td>0.186471</td>\n",
       "    </tr>\n",
       "    <tr>\n",
       "      <td>strategy</td>\n",
       "      <td>56</td>\n",
       "      <td>10.08</td>\n",
       "      <td>0.180000</td>\n",
       "    </tr>\n",
       "    <tr>\n",
       "      <td>adventure</td>\n",
       "      <td>245</td>\n",
       "      <td>23.64</td>\n",
       "      <td>0.096490</td>\n",
       "    </tr>\n",
       "  </tbody>\n",
       "</table>\n",
       "</div>"
      ],
      "text/plain": [
       "              count     sum  sales_per_game\n",
       "genre                                      \n",
       "shooter         187  232.98        1.245882\n",
       "sports          214  150.65        0.703972\n",
       "platform         74   42.63        0.576081\n",
       "role-playing    292  145.89        0.499623\n",
       "racing           85   39.89        0.469294\n",
       "fighting         80   35.31        0.441375\n",
       "action          766  321.87        0.420196\n",
       "misc            155   62.82        0.405290\n",
       "simulation       62   21.76        0.350968\n",
       "puzzle           17    3.17        0.186471\n",
       "strategy         56   10.08        0.180000\n",
       "adventure       245   23.64        0.096490"
      ]
     },
     "execution_count": 25,
     "metadata": {},
     "output_type": "execute_result"
    }
   ],
   "source": [
    "genre_sales=df_actual.pivot_table(index=['genre'], values='all_sales', aggfunc=['count','sum']) #построение таблицы распределения продаж по жанру\n",
    "genre_sales.columns=['count', 'sum']\n",
    "genre_sales['sales_per_game']=genre_sales['sum']/genre_sales['count']\n",
    "genre_sales.sort_values(by='sales_per_game',ascending=False)"
   ]
  },
  {
   "cell_type": "markdown",
   "metadata": {},
   "source": [
    "    Судя по таблице, самые продаваемые жанры - это shooter, sports, role-playing и fighting. Хотя больше всего выпусают игр в жанре action, role-playing и adventure. Наименее продаваемые жанры: strategy, puzzle,и adventure. При этом жанр adventure на 3 месте по выпуску игр."
   ]
  },
  {
   "cell_type": "markdown",
   "metadata": {},
   "source": [
    "### Вывод\n",
    "Индустрия на 2016 год переживала спад продаж. Платформы в ср дивут 10 лет, поэтому взяты данные с 2006 года. Наиболее переспективными платформами являются ps4, xone и pc, хотя они как и вся индустрия сейчас имеют спад продаж. Продажи больше зависят оценок критиков, чем пользовательских. Возможно потому, что оценки критиков появляются до выхода игры. Наиболее прибыльные жанры: shooter, platform, sports, fighting и racing."
   ]
  },
  {
   "cell_type": "markdown",
   "metadata": {},
   "source": [
    "## Составление портрет пользователя каждого региона"
   ]
  },
  {
   "cell_type": "markdown",
   "metadata": {},
   "source": [
    "### Самые популярные платформы (топ-5)."
   ]
  },
  {
   "cell_type": "code",
   "execution_count": 26,
   "metadata": {},
   "outputs": [
    {
     "data": {
      "image/png": "[encoded data removed]",
      "text/plain": [
       "<Figure size 864x432 with 1 Axes>"
      ]
     },
     "metadata": {},
     "output_type": "display_data"
    }
   ],
   "source": [
    "na_platforms=df_actual.pivot_table(index=['platform'], values='na_sales', aggfunc='sum').sort_values(by='na_sales',ascending=False).head()\n",
    "\n",
    "plt.figure(figsize=(12,6))\n",
    "plt.pie(x=na_platforms, labels=na_platforms.index, autopct=\"%.1f%%\")\n",
    "plt.title(\"Топ 5 популярных платформ в Северной Америки\")\n",
    "plt.show() "
   ]
  },
  {
   "cell_type": "code",
   "execution_count": 27,
   "metadata": {},
   "outputs": [
    {
     "data": {
      "image/png": "[encoded data removed]",
      "text/plain": [
       "<Figure size 864x432 with 1 Axes>"
      ]
     },
     "metadata": {},
     "output_type": "display_data"
    }
   ],
   "source": [
    "eu_platforms=df_actual.pivot_table(index=['platform'], values='eu_sales', aggfunc='sum').sort_values(by='eu_sales',ascending=False).head()\n",
    "\n",
    "plt.figure(figsize=(12,6))\n",
    "plt.pie(x=eu_platforms, labels=eu_platforms.index, autopct=\"%.1f%%\")\n",
    "plt.title(\"Топ 5 популярных платформ в ЕС\")\n",
    "plt.show() "
   ]
  },
  {
   "cell_type": "code",
   "execution_count": 28,
   "metadata": {},
   "outputs": [
    {
     "data": {
      "image/png": "[encoded data removed]",
      "text/plain": [
       "<Figure size 864x432 with 1 Axes>"
      ]
     },
     "metadata": {},
     "output_type": "display_data"
    }
   ],
   "source": [
    "jp_platforms=df_actual.pivot_table(index=['platform'], values='jp_sales', aggfunc='sum').sort_values(by='jp_sales',ascending=False).head()\n",
    "\n",
    "plt.figure(figsize=(12,6))\n",
    "plt.pie(x=jp_platforms, labels=jp_platforms.index, autopct=\"%.1f%%\")\n",
    "plt.title(\"Топ 5 популярных платформ в Японии\")\n",
    "plt.show() "
   ]
  },
  {
   "cell_type": "markdown",
   "metadata": {},
   "source": [
    "### Вывод\n",
    "Платформы, которые предпочитают пользователи \n",
    " - из Северной Америки: ps4, xone, x360, ps3, 3ds;\n",
    " - из ЕС: ps4, ps3, xone, x360, 3ds;\n",
    " - из Японии: 3ds, ps3, psv, ps4, wiiu.\n",
    " \n",
    "Таким образом, видно, в Европе и Америке переходят на платформы нового покаления. В целом пердпочтения СА и ЕС похожи. В то время как Яопния предпочитает портативные консоли."
   ]
  },
  {
   "cell_type": "markdown",
   "metadata": {},
   "source": [
    "### Самые популярные жанры (топ-5)"
   ]
  },
  {
   "cell_type": "code",
   "execution_count": 29,
   "metadata": {},
   "outputs": [
    {
     "data": {
      "image/png": "[encoded data removed]",
      "text/plain": [
       "<Figure size 864x432 with 1 Axes>"
      ]
     },
     "metadata": {},
     "output_type": "display_data"
    }
   ],
   "source": [
    "na_genre=df_actual.pivot_table(index=['genre'], values='na_sales', aggfunc='sum').sort_values(by='na_sales',ascending=False).head()\n",
    "\n",
    "plt.figure(figsize=(12,6))\n",
    "plt.pie(x=na_genre, labels=na_genre.index, autopct=\"%.1f%%\")\n",
    "plt.title(\"Топ 5 популярных жанров в Северной Америке\")\n",
    "plt.show() "
   ]
  },
  {
   "cell_type": "code",
   "execution_count": 30,
   "metadata": {},
   "outputs": [
    {
     "data": {
      "image/png": "[encoded data removed]",
      "text/plain": [
       "<Figure size 864x432 with 1 Axes>"
      ]
     },
     "metadata": {},
     "output_type": "display_data"
    }
   ],
   "source": [
    "eu_genre=df_actual.pivot_table(index=['genre'], values='eu_sales', aggfunc='sum').sort_values(by='eu_sales',ascending=False).head()\n",
    "\n",
    "plt.figure(figsize=(12,6))\n",
    "plt.pie(x=eu_genre, labels=eu_genre.index, autopct=\"%.1f%%\")\n",
    "plt.title(\"Топ 5 популярных жанров в ЕС\")\n",
    "plt.show() "
   ]
  },
  {
   "cell_type": "code",
   "execution_count": 31,
   "metadata": {},
   "outputs": [
    {
     "data": {
      "image/png": "[encoded data removed]",
      "text/plain": [
       "<Figure size 864x432 with 1 Axes>"
      ]
     },
     "metadata": {},
     "output_type": "display_data"
    }
   ],
   "source": [
    "jp_genre=df_actual.pivot_table(index=['genre'], values='jp_sales', aggfunc='sum').sort_values(by='jp_sales',ascending=False).head()\n",
    "\n",
    "plt.figure(figsize=(12,6))\n",
    "plt.pie(x=jp_genre, labels=jp_genre.index, autopct=\"%.1f%%\")\n",
    "plt.title(\"Топ 5 популярных жанров в Японии\")\n",
    "plt.show()"
   ]
  },
  {
   "cell_type": "markdown",
   "metadata": {},
   "source": [
    "### Вывод\n",
    "Жанры, которые предпочитают пользователи \n",
    " - из Северной Америки: action, shooter, sport, role-playing, misc;\n",
    " - из ЕС: action, shooter, sport, role-playing, racing;\n",
    " - из Японии: role-playing, action, misc, fighting, shooter.\n",
    "\n",
    "Топ жанров в АС и ЕС очень похож, Япония предпочитает вн. рынок."
   ]
  },
  {
   "cell_type": "markdown",
   "metadata": {},
   "source": [
    "### Влияние рейтинга ESRB на продажи"
   ]
  },
  {
   "cell_type": "code",
   "execution_count": 32,
   "metadata": {},
   "outputs": [
    {
     "data": {
      "image/png": "[encoded data removed]",
      "text/plain": [
       "<Figure size 864x432 with 1 Axes>"
      ]
     },
     "metadata": {},
     "output_type": "display_data"
    }
   ],
   "source": [
    "na_rating=df_actual.pivot_table(index=['rating'], values='na_sales', aggfunc='sum').sort_values(by='na_sales',ascending=False).head()\n",
    "\n",
    "plt.figure(figsize=(12,6))\n",
    "plt.pie(x=na_rating, labels=na_rating.index, autopct=\"%.1f%%\")\n",
    "plt.title(\"Топ 5 популярных рейтингов в Северной Америке\")\n",
    "plt.show() "
   ]
  },
  {
   "cell_type": "code",
   "execution_count": 33,
   "metadata": {},
   "outputs": [
    {
     "data": {
      "image/png": "[encoded data removed]",
      "text/plain": [
       "<Figure size 864x432 with 1 Axes>"
      ]
     },
     "metadata": {},
     "output_type": "display_data"
    }
   ],
   "source": [
    "eu_rating=df_actual.pivot_table(index=['rating'], values='eu_sales', aggfunc='sum').sort_values(by='eu_sales',ascending=False).head()\n",
    "\n",
    "plt.figure(figsize=(12,6))\n",
    "plt.pie(x=eu_rating, labels=eu_rating.index, autopct=\"%.1f%%\")\n",
    "plt.title(\"Топ 5 популярных рейтингов в ЕС\")\n",
    "plt.show() "
   ]
  },
  {
   "cell_type": "code",
   "execution_count": 34,
   "metadata": {
    "scrolled": true
   },
   "outputs": [
    {
     "data": {
      "image/png": "[encoded data removed]",
      "text/plain": [
       "<Figure size 864x432 with 1 Axes>"
      ]
     },
     "metadata": {},
     "output_type": "display_data"
    }
   ],
   "source": [
    "jp_rating=df_actual.pivot_table(index=['rating'], values='jp_sales', aggfunc='sum').sort_values(by='jp_sales',ascending=False).head()\n",
    "\n",
    "plt.figure(figsize=(12,6))\n",
    "plt.pie(x=jp_rating, labels=jp_rating.index, autopct=\"%.1f%%\")\n",
    "plt.title(\"Топ 5 популярных рейтингов в Японии\")\n",
    "plt.show() "
   ]
  },
  {
   "cell_type": "markdown",
   "metadata": {},
   "source": [
    "### Вывод\n",
    "Рейтинг, который предпочитают пользователи \n",
    " - из Северной Америки: M, Нет рейтинга, E, T, E10+;\n",
    " - из ЕС: M, E, Нет рейтинга, E10+, T;\n",
    " - из Японии: Нет рейтинга, T, E, M, E10+/\n",
    " \n",
    "В СА предпочитают рейтинг \"17+\", игры, которые не получили рейтинг и \"для всех\". В ЕС те же показатели, но в другом порядке. В случае этих частей света мы можем предположть, что \"нет рейтинга\" у инди-игр.Япония выделяется тем, что больше 60% продаж были за играми, которые не получили рейтинг ESRB. Скорее всего для оценуи этих игр было Это подтверждает теорию о том, что в Японии предпо\n",
    "читают вн. рынок"
   ]
  },
  {
   "cell_type": "markdown",
   "metadata": {},
   "source": [
    "## Проверка гипотез"
   ]
  },
  {
   "cell_type": "markdown",
   "metadata": {},
   "source": [
    "H0: Средние пользовательские рейтинги платформ Xbox One и PC одинаковые.\n",
    "\n",
    "H1: Средние пользовательские рейтинги платформ Xbox One и PC разные."
   ]
  },
  {
   "cell_type": "code",
   "execution_count": 35,
   "metadata": {},
   "outputs": [],
   "source": [
    "xone=df_actual.query('platform == \"xone\"')\n",
    "pc=df_actual.query('platform == \"pc\"')"
   ]
  },
  {
   "cell_type": "code",
   "execution_count": 36,
   "metadata": {},
   "outputs": [
    {
     "name": "stdout",
     "output_type": "stream",
     "text": [
      "p-значение:  0.14759594013430463\n",
      "Не получилось отвергнуть нулевую гипотезу\n"
     ]
    }
   ],
   "source": [
    "alpha = .05 # критический уровень статистической значимости\n",
    "\n",
    "results_user_score = st.stats.ttest_ind( #проведение ttest для сравнения средних двух выборок\n",
    "    xone['user_score'].dropna(), \n",
    "    pc['user_score'].dropna(),\n",
    "    equal_var=False)\n",
    "\n",
    "# тест односторонний: p-value будет в два раза меньше\n",
    "print('p-значение: ', results_user_score.pvalue)\n",
    "\n",
    "# тест односторонний вправо:\n",
    "if (results_user_score.pvalue < alpha):\n",
    "    print(\"Отвергаем нулевую гипотезу\")\n",
    "else:\n",
    "    print(\"Не получилось отвергнуть нулевую гипотезу\") "
   ]
  },
  {
   "cell_type": "markdown",
   "metadata": {},
   "source": [
    "### Вывод\n",
    "Нулевой гипотезой была выбрана гипотиза, что ср. пользовательский рейтинги платформ Xbox One и PC одинаковый. А альтернативной гипотизой, что это не так. В результате нулевую гипотизу не удалось отвергнуть."
   ]
  },
  {
   "cell_type": "markdown",
   "metadata": {},
   "source": [
    "H0:Средние пользовательские рейтинги жанров Action и Sports одинаковые.\n",
    "\n",
    "H1:Средние пользовательские рейтинги жанров Action и Sports разные."
   ]
  },
  {
   "cell_type": "code",
   "execution_count": 37,
   "metadata": {},
   "outputs": [],
   "source": [
    "action=df_actual.query('genre == \"action\"')\n",
    "sports=df_actual.query('genre == \"sports\"')"
   ]
  },
  {
   "cell_type": "code",
   "execution_count": 38,
   "metadata": {},
   "outputs": [
    {
     "name": "stdout",
     "output_type": "stream",
     "text": [
      "p-значение:  1.4460039700704315e-20\n",
      "Отвергаем нулевую гипотезу\n"
     ]
    }
   ],
   "source": [
    "alpha = .05 # критический уровень статистической значимости\n",
    "\n",
    "results_user_score = st.stats.ttest_ind( #проведение ttest для сравнения средних двух выборок\n",
    "    action['user_score'].dropna(), \n",
    "    sports['user_score'].dropna(),\n",
    "    equal_var=False)\n",
    "\n",
    "# тест односторонний: p-value будет в два раза меньше\n",
    "print('p-значение: ', results_user_score.pvalue)\n",
    "\n",
    "# тест односторонний вправо:\n",
    "if (results_user_score.pvalue < alpha):\n",
    "    print(\"Отвергаем нулевую гипотезу\")\n",
    "else:\n",
    "    print(\"Не получилось отвергнуть нулевую гипотезу\") "
   ]
  },
  {
   "cell_type": "markdown",
   "metadata": {},
   "source": [
    "Нуливой гипотизой была выбрана гипотиза о том, что средние пользовательские рейтинги жанров Action и Sports одинаковые. Альтернотивной - средние пользовательские рейтинги жанров Action и Sports разные. В результате нулевую гипотизу удалось отвергнуть."
   ]
  },
  {
   "cell_type": "markdown",
   "metadata": {},
   "source": [
    "# Вывод"
   ]
  },
  {
   "cell_type": "markdown",
   "metadata": {},
   "source": [
    "В результате анализа за период с 2013 по 2016 гг. были выбраны наиболее переспективные платформы для 2017 года: PS4 и XOne. Также можно рассматривать PC. Пользователи во всем мире предпочитают игры в жанре action, хотя самым прибыльным жанром является жанр shooter.\n",
    "\n",
    "В СА наибольшей популярностью пользуются:\n",
    " - платформы: ps4, xone, x360;\n",
    " - жанры: action, shooter, sport;\n",
    " - рейтинг: M, Нет рейтинга, E.\n",
    "\n",
    "В ЕС наибольшей популярностью пользуются:\n",
    " - платформы: ps4, ps3, xone;\n",
    " - жанры: action, shooter, sport;\n",
    " - рейтинг: M, E, Нет рейтинга.\n",
    "\n",
    "В Японии наибольшей популярностью пользуются:\n",
    " - платформы: 3ds, ps3, psv;\n",
    " - жанры: role-playing, action, misc;\n",
    " - рейтинг: Нет рейтинга, T, E.\n",
    "\n",
    "Самый распространенный рейтинг - E. Гипотизу о том, что ср.пользовательский рейтинг PC и XOne одинаковый не удалось отвергнуть, а гипотизу, что ср.пользовательские рейтинги жанров Action и Sports одиаковые отвергнуть удалось."
   ]
  }
 ],
 "metadata": {
  "ExecuteTimeLog": [
   {
    "duration": 833,
    "start_time": "2021-10-06T07:37:13.311Z"
   },
   {
    "duration": 59,
    "start_time": "2021-10-06T07:37:54.219Z"
   },
   {
    "duration": 78,
    "start_time": "2021-10-06T07:39:18.143Z"
   },
   {
    "duration": 6,
    "start_time": "2021-10-06T10:24:36.868Z"
   },
   {
    "duration": 5,
    "start_time": "2021-10-06T10:25:23.963Z"
   },
   {
    "duration": 11,
    "start_time": "2021-10-06T10:30:43.600Z"
   },
   {
    "duration": 16,
    "start_time": "2021-10-06T13:16:51.165Z"
   },
   {
    "duration": 113,
    "start_time": "2021-10-06T14:40:52.003Z"
   },
   {
    "duration": 47,
    "start_time": "2021-10-06T14:40:56.666Z"
   },
   {
    "duration": 48,
    "start_time": "2021-10-06T14:41:01.521Z"
   },
   {
    "duration": 44,
    "start_time": "2021-10-06T14:41:26.468Z"
   },
   {
    "duration": 47,
    "start_time": "2021-10-06T14:42:26.914Z"
   },
   {
    "duration": 56,
    "start_time": "2021-10-06T14:43:21.289Z"
   },
   {
    "duration": 38,
    "start_time": "2021-10-06T14:43:50.385Z"
   },
   {
    "duration": 51,
    "start_time": "2021-10-06T14:44:20.617Z"
   },
   {
    "duration": 46,
    "start_time": "2021-10-06T14:44:43.794Z"
   },
   {
    "duration": 47,
    "start_time": "2021-10-06T14:46:46.147Z"
   },
   {
    "duration": 39,
    "start_time": "2021-10-06T14:46:49.137Z"
   },
   {
    "duration": 47,
    "start_time": "2021-10-06T14:47:54.641Z"
   },
   {
    "duration": 27,
    "start_time": "2021-10-06T14:48:22.313Z"
   },
   {
    "duration": 14,
    "start_time": "2021-10-06T14:48:35.794Z"
   },
   {
    "duration": 76,
    "start_time": "2021-10-06T14:49:03.320Z"
   },
   {
    "duration": 63,
    "start_time": "2021-10-06T15:03:57.562Z"
   },
   {
    "duration": 807,
    "start_time": "2021-10-06T15:04:04.784Z"
   },
   {
    "duration": 5,
    "start_time": "2021-10-06T15:04:05.594Z"
   },
   {
    "duration": 398,
    "start_time": "2021-10-06T15:04:05.601Z"
   },
   {
    "duration": -22,
    "start_time": "2021-10-06T15:04:06.024Z"
   },
   {
    "duration": 315,
    "start_time": "2021-10-06T15:04:42.535Z"
   },
   {
    "duration": 355,
    "start_time": "2021-10-06T15:07:27.711Z"
   },
   {
    "duration": 51,
    "start_time": "2021-10-06T15:09:05.909Z"
   },
   {
    "duration": 56,
    "start_time": "2021-10-06T15:09:14.679Z"
   },
   {
    "duration": 839,
    "start_time": "2021-10-06T15:09:19.034Z"
   },
   {
    "duration": 4,
    "start_time": "2021-10-06T15:09:19.876Z"
   },
   {
    "duration": 55,
    "start_time": "2021-10-06T15:09:19.883Z"
   },
   {
    "duration": 31,
    "start_time": "2021-10-06T15:09:19.941Z"
   },
   {
    "duration": 49,
    "start_time": "2021-10-06T15:09:31.727Z"
   },
   {
    "duration": 54,
    "start_time": "2021-10-06T15:09:44.059Z"
   },
   {
    "duration": 53,
    "start_time": "2021-10-06T15:09:48.834Z"
   },
   {
    "duration": 54,
    "start_time": "2021-10-06T15:10:16.509Z"
   },
   {
    "duration": 59,
    "start_time": "2021-10-06T15:10:42.491Z"
   },
   {
    "duration": 862,
    "start_time": "2021-10-06T15:10:48.730Z"
   },
   {
    "duration": 4,
    "start_time": "2021-10-06T15:10:49.594Z"
   },
   {
    "duration": 76,
    "start_time": "2021-10-06T15:10:49.601Z"
   },
   {
    "duration": 14,
    "start_time": "2021-10-06T15:10:49.680Z"
   },
   {
    "duration": 60,
    "start_time": "2021-10-06T15:11:20.078Z"
   },
   {
    "duration": 52,
    "start_time": "2021-10-06T15:11:30.757Z"
   },
   {
    "duration": 48,
    "start_time": "2021-10-06T15:11:51.357Z"
   },
   {
    "duration": 48,
    "start_time": "2021-10-06T15:11:56.286Z"
   },
   {
    "duration": 48,
    "start_time": "2021-10-06T15:21:32.622Z"
   },
   {
    "duration": 53,
    "start_time": "2021-10-06T15:22:10.542Z"
   },
   {
    "duration": 862,
    "start_time": "2021-10-06T15:22:16.253Z"
   },
   {
    "duration": 4,
    "start_time": "2021-10-06T15:22:17.119Z"
   },
   {
    "duration": 459,
    "start_time": "2021-10-06T15:22:17.125Z"
   },
   {
    "duration": -30,
    "start_time": "2021-10-06T15:22:17.617Z"
   },
   {
    "duration": 47,
    "start_time": "2021-10-06T15:22:50.117Z"
   },
   {
    "duration": 351,
    "start_time": "2021-10-06T15:22:55.516Z"
   },
   {
    "duration": 52,
    "start_time": "2021-10-06T15:23:05.117Z"
   },
   {
    "duration": 51,
    "start_time": "2021-10-06T15:26:38.820Z"
   },
   {
    "duration": 55,
    "start_time": "2021-10-06T15:26:53.419Z"
   },
   {
    "duration": 50,
    "start_time": "2021-10-06T15:27:02.724Z"
   },
   {
    "duration": 800,
    "start_time": "2021-10-06T15:27:20.406Z"
   },
   {
    "duration": 5,
    "start_time": "2021-10-06T15:27:21.208Z"
   },
   {
    "duration": 77,
    "start_time": "2021-10-06T15:27:21.216Z"
   },
   {
    "duration": 14,
    "start_time": "2021-10-06T15:27:21.296Z"
   },
   {
    "duration": 53,
    "start_time": "2021-10-06T15:27:32.174Z"
   },
   {
    "duration": 12,
    "start_time": "2021-10-06T15:27:36.436Z"
   },
   {
    "duration": 9,
    "start_time": "2021-10-06T15:28:44.398Z"
   },
   {
    "duration": 17,
    "start_time": "2021-10-06T15:28:51.764Z"
   },
   {
    "duration": 842,
    "start_time": "2021-10-06T15:29:04.049Z"
   },
   {
    "duration": 4,
    "start_time": "2021-10-06T15:29:04.894Z"
   },
   {
    "duration": 71,
    "start_time": "2021-10-06T15:29:04.901Z"
   },
   {
    "duration": 12,
    "start_time": "2021-10-06T15:29:04.974Z"
   },
   {
    "duration": 8,
    "start_time": "2021-10-06T15:29:04.989Z"
   },
   {
    "duration": 895,
    "start_time": "2021-10-06T15:30:03.173Z"
   },
   {
    "duration": 5,
    "start_time": "2021-10-06T15:30:04.072Z"
   },
   {
    "duration": 89,
    "start_time": "2021-10-06T15:30:04.086Z"
   },
   {
    "duration": 13,
    "start_time": "2021-10-06T15:30:04.177Z"
   },
   {
    "duration": 10,
    "start_time": "2021-10-06T15:30:04.193Z"
   },
   {
    "duration": 13,
    "start_time": "2021-10-06T15:30:15.998Z"
   },
   {
    "duration": 432,
    "start_time": "2021-10-06T15:33:00.925Z"
   },
   {
    "duration": 35,
    "start_time": "2021-10-06T15:35:52.221Z"
   },
   {
    "duration": 13,
    "start_time": "2021-10-06T15:44:08.239Z"
   },
   {
    "duration": 465,
    "start_time": "2021-10-07T08:21:11.794Z"
   },
   {
    "duration": 447,
    "start_time": "2021-10-07T08:21:27.349Z"
   },
   {
    "duration": 851,
    "start_time": "2021-10-07T08:21:34.367Z"
   },
   {
    "duration": 4,
    "start_time": "2021-10-07T08:21:35.221Z"
   },
   {
    "duration": 50,
    "start_time": "2021-10-07T08:21:35.228Z"
   },
   {
    "duration": 30,
    "start_time": "2021-10-07T08:21:35.280Z"
   },
   {
    "duration": 16,
    "start_time": "2021-10-07T08:21:35.313Z"
   },
   {
    "duration": 7,
    "start_time": "2021-10-07T08:21:35.331Z"
   },
   {
    "duration": 15,
    "start_time": "2021-10-07T08:21:51.705Z"
   },
   {
    "duration": 6,
    "start_time": "2021-10-07T08:21:55.465Z"
   },
   {
    "duration": 15,
    "start_time": "2021-10-07T08:21:57.321Z"
   },
   {
    "duration": 16,
    "start_time": "2021-10-07T08:22:01.755Z"
   },
   {
    "duration": 794,
    "start_time": "2021-10-07T08:22:12.133Z"
   },
   {
    "duration": 4,
    "start_time": "2021-10-07T08:22:12.931Z"
   },
   {
    "duration": 76,
    "start_time": "2021-10-07T08:22:12.940Z"
   },
   {
    "duration": 12,
    "start_time": "2021-10-07T08:22:13.018Z"
   },
   {
    "duration": 13,
    "start_time": "2021-10-07T08:22:13.032Z"
   },
   {
    "duration": 8,
    "start_time": "2021-10-07T08:22:13.048Z"
   },
   {
    "duration": 15,
    "start_time": "2021-10-07T08:22:49.237Z"
   },
   {
    "duration": 13,
    "start_time": "2021-10-07T08:23:09.295Z"
   },
   {
    "duration": 22,
    "start_time": "2021-10-07T08:23:17.829Z"
   },
   {
    "duration": 8,
    "start_time": "2021-10-07T08:30:21.700Z"
   },
   {
    "duration": 7,
    "start_time": "2021-10-07T08:33:25.757Z"
   },
   {
    "duration": 8,
    "start_time": "2021-10-07T08:33:47.084Z"
   },
   {
    "duration": 7,
    "start_time": "2021-10-07T08:35:01.540Z"
   },
   {
    "duration": 368,
    "start_time": "2021-10-07T08:36:11.916Z"
   },
   {
    "duration": 1962,
    "start_time": "2021-10-07T08:37:17.174Z"
   },
   {
    "duration": 2081,
    "start_time": "2021-10-07T08:37:29.669Z"
   },
   {
    "duration": 1906,
    "start_time": "2021-10-07T08:37:41.187Z"
   },
   {
    "duration": 310,
    "start_time": "2021-10-07T08:40:35.708Z"
   },
   {
    "duration": 2224,
    "start_time": "2021-10-07T08:40:41.580Z"
   },
   {
    "duration": 2094,
    "start_time": "2021-10-07T08:40:47.300Z"
   },
   {
    "duration": 903,
    "start_time": "2021-10-07T08:40:56.523Z"
   },
   {
    "duration": 5,
    "start_time": "2021-10-07T08:40:57.429Z"
   },
   {
    "duration": 68,
    "start_time": "2021-10-07T08:40:57.437Z"
   },
   {
    "duration": 12,
    "start_time": "2021-10-07T08:40:57.508Z"
   },
   {
    "duration": 10,
    "start_time": "2021-10-07T08:40:57.522Z"
   },
   {
    "duration": 7,
    "start_time": "2021-10-07T08:40:57.534Z"
   },
   {
    "duration": 1867,
    "start_time": "2021-10-07T08:40:57.543Z"
   },
   {
    "duration": -16,
    "start_time": "2021-10-07T08:40:59.428Z"
   },
   {
    "duration": 1899,
    "start_time": "2021-10-07T08:41:17.302Z"
   },
   {
    "duration": 21,
    "start_time": "2021-10-07T08:44:44.030Z"
   },
   {
    "duration": 17,
    "start_time": "2021-10-07T08:45:19.151Z"
   },
   {
    "duration": 829,
    "start_time": "2021-10-07T08:45:26.296Z"
   },
   {
    "duration": 4,
    "start_time": "2021-10-07T08:45:27.128Z"
   },
   {
    "duration": 67,
    "start_time": "2021-10-07T08:45:27.135Z"
   },
   {
    "duration": 12,
    "start_time": "2021-10-07T08:45:27.205Z"
   },
   {
    "duration": 8,
    "start_time": "2021-10-07T08:45:27.219Z"
   },
   {
    "duration": 12,
    "start_time": "2021-10-07T08:45:27.230Z"
   },
   {
    "duration": 21,
    "start_time": "2021-10-07T08:45:27.244Z"
   },
   {
    "duration": 9,
    "start_time": "2021-10-07T08:45:27.300Z"
   },
   {
    "duration": 14,
    "start_time": "2021-10-07T08:45:33.673Z"
   },
   {
    "duration": 28,
    "start_time": "2021-10-07T08:49:08.887Z"
   },
   {
    "duration": 784,
    "start_time": "2021-10-07T08:49:19.250Z"
   },
   {
    "duration": 4,
    "start_time": "2021-10-07T08:49:20.036Z"
   },
   {
    "duration": 67,
    "start_time": "2021-10-07T08:49:20.043Z"
   },
   {
    "duration": 12,
    "start_time": "2021-10-07T08:49:20.113Z"
   },
   {
    "duration": 20,
    "start_time": "2021-10-07T08:49:20.127Z"
   },
   {
    "duration": 10,
    "start_time": "2021-10-07T08:49:20.151Z"
   },
   {
    "duration": 54,
    "start_time": "2021-10-07T08:49:20.165Z"
   },
   {
    "duration": 9,
    "start_time": "2021-10-07T08:49:20.222Z"
   },
   {
    "duration": 15,
    "start_time": "2021-10-07T08:49:20.233Z"
   },
   {
    "duration": 8,
    "start_time": "2021-10-07T08:50:09.703Z"
   },
   {
    "duration": 22,
    "start_time": "2021-10-07T08:52:30.744Z"
   },
   {
    "duration": 34,
    "start_time": "2021-10-07T08:52:38.200Z"
   },
   {
    "duration": 582,
    "start_time": "2021-10-07T08:55:32.848Z"
   },
   {
    "duration": 397,
    "start_time": "2021-10-07T12:51:08.919Z"
   },
   {
    "duration": 6,
    "start_time": "2021-10-07T12:51:11.863Z"
   },
   {
    "duration": 22,
    "start_time": "2021-10-07T12:52:24.539Z"
   },
   {
    "duration": 34,
    "start_time": "2021-10-07T13:28:33.185Z"
   },
   {
    "duration": 16,
    "start_time": "2021-10-07T13:29:45.834Z"
   },
   {
    "duration": 23,
    "start_time": "2021-10-07T13:30:18.972Z"
   },
   {
    "duration": 278,
    "start_time": "2021-10-07T13:31:21.611Z"
   },
   {
    "duration": 23,
    "start_time": "2021-10-07T13:31:36.233Z"
   },
   {
    "duration": 24,
    "start_time": "2021-10-07T13:32:53.205Z"
   },
   {
    "duration": 914,
    "start_time": "2021-10-07T13:58:55.027Z"
   },
   {
    "duration": 5,
    "start_time": "2021-10-07T13:58:55.943Z"
   },
   {
    "duration": 68,
    "start_time": "2021-10-07T13:58:55.951Z"
   },
   {
    "duration": 15,
    "start_time": "2021-10-07T13:58:56.022Z"
   },
   {
    "duration": 9,
    "start_time": "2021-10-07T13:58:56.039Z"
   },
   {
    "duration": 9,
    "start_time": "2021-10-07T13:58:56.052Z"
   },
   {
    "duration": 67,
    "start_time": "2021-10-07T13:58:56.064Z"
   },
   {
    "duration": 11,
    "start_time": "2021-10-07T13:58:56.136Z"
   },
   {
    "duration": 20,
    "start_time": "2021-10-07T13:58:56.150Z"
   },
   {
    "duration": 677,
    "start_time": "2021-10-07T13:58:56.173Z"
   },
   {
    "duration": 28,
    "start_time": "2021-10-07T13:58:56.853Z"
   },
   {
    "duration": 88,
    "start_time": "2021-10-07T13:58:56.884Z"
   },
   {
    "duration": -22,
    "start_time": "2021-10-07T15:44:16.461Z"
   },
   {
    "duration": 906,
    "start_time": "2021-10-07T15:45:36.022Z"
   },
   {
    "duration": 5,
    "start_time": "2021-10-07T15:45:36.930Z"
   },
   {
    "duration": 63,
    "start_time": "2021-10-07T15:45:36.938Z"
   },
   {
    "duration": 14,
    "start_time": "2021-10-07T15:45:37.004Z"
   },
   {
    "duration": 8,
    "start_time": "2021-10-07T15:45:37.021Z"
   },
   {
    "duration": 9,
    "start_time": "2021-10-07T15:45:37.031Z"
   },
   {
    "duration": 61,
    "start_time": "2021-10-07T15:45:37.043Z"
   },
   {
    "duration": 10,
    "start_time": "2021-10-07T15:45:37.109Z"
   },
   {
    "duration": 21,
    "start_time": "2021-10-07T15:45:37.122Z"
   },
   {
    "duration": 497,
    "start_time": "2021-10-07T15:45:37.146Z"
   },
   {
    "duration": 21,
    "start_time": "2021-10-07T15:45:37.645Z"
   },
   {
    "duration": 7221,
    "start_time": "2021-10-07T15:45:37.669Z"
   },
   {
    "duration": 36,
    "start_time": "2021-10-07T15:46:56.454Z"
   },
   {
    "duration": 35,
    "start_time": "2021-10-07T15:47:15.453Z"
   },
   {
    "duration": 36,
    "start_time": "2021-10-07T15:47:27.077Z"
   },
   {
    "duration": 37,
    "start_time": "2021-10-07T15:47:55.040Z"
   },
   {
    "duration": 26,
    "start_time": "2021-10-07T15:54:12.886Z"
   },
   {
    "duration": 37,
    "start_time": "2021-10-07T15:54:20.276Z"
   },
   {
    "duration": 288,
    "start_time": "2021-10-07T18:06:20.287Z"
   },
   {
    "duration": 972,
    "start_time": "2021-10-07T18:06:29.370Z"
   },
   {
    "duration": 5,
    "start_time": "2021-10-07T18:06:30.345Z"
   },
   {
    "duration": 98,
    "start_time": "2021-10-07T18:06:30.354Z"
   },
   {
    "duration": 18,
    "start_time": "2021-10-07T18:06:30.456Z"
   },
   {
    "duration": 29,
    "start_time": "2021-10-07T18:06:30.476Z"
   },
   {
    "duration": 20,
    "start_time": "2021-10-07T18:06:30.508Z"
   },
   {
    "duration": 49,
    "start_time": "2021-10-07T18:06:30.531Z"
   },
   {
    "duration": 16,
    "start_time": "2021-10-07T18:06:30.585Z"
   },
   {
    "duration": 24,
    "start_time": "2021-10-07T18:06:30.604Z"
   },
   {
    "duration": 703,
    "start_time": "2021-10-07T18:06:30.631Z"
   },
   {
    "duration": 30,
    "start_time": "2021-10-07T18:06:31.338Z"
   },
   {
    "duration": 446,
    "start_time": "2021-10-07T18:06:31.371Z"
   },
   {
    "duration": 467,
    "start_time": "2021-10-07T18:06:42.481Z"
   },
   {
    "duration": 455,
    "start_time": "2021-10-07T18:07:00.770Z"
   },
   {
    "duration": 967,
    "start_time": "2021-10-07T18:10:13.770Z"
   },
   {
    "duration": 4,
    "start_time": "2021-10-07T18:10:14.739Z"
   },
   {
    "duration": 72,
    "start_time": "2021-10-07T18:10:14.747Z"
   },
   {
    "duration": 11,
    "start_time": "2021-10-07T18:10:14.822Z"
   },
   {
    "duration": 8,
    "start_time": "2021-10-07T18:10:14.836Z"
   },
   {
    "duration": 10,
    "start_time": "2021-10-07T18:10:14.846Z"
   },
   {
    "duration": 57,
    "start_time": "2021-10-07T18:10:14.858Z"
   },
   {
    "duration": 9,
    "start_time": "2021-10-07T18:10:14.918Z"
   },
   {
    "duration": 14,
    "start_time": "2021-10-07T18:10:14.930Z"
   },
   {
    "duration": 464,
    "start_time": "2021-10-07T18:10:14.946Z"
   },
   {
    "duration": 20,
    "start_time": "2021-10-07T18:10:15.412Z"
   },
   {
    "duration": 69,
    "start_time": "2021-10-07T18:10:15.434Z"
   },
   {
    "duration": 32,
    "start_time": "2021-10-07T18:11:05.102Z"
   },
   {
    "duration": 924,
    "start_time": "2021-10-07T18:11:23.516Z"
   },
   {
    "duration": 4,
    "start_time": "2021-10-07T18:11:24.443Z"
   },
   {
    "duration": 72,
    "start_time": "2021-10-07T18:11:24.453Z"
   },
   {
    "duration": 11,
    "start_time": "2021-10-07T18:11:24.528Z"
   },
   {
    "duration": 11,
    "start_time": "2021-10-07T18:11:24.542Z"
   },
   {
    "duration": 9,
    "start_time": "2021-10-07T18:11:24.555Z"
   },
   {
    "duration": 46,
    "start_time": "2021-10-07T18:11:24.568Z"
   },
   {
    "duration": 12,
    "start_time": "2021-10-07T18:11:24.617Z"
   },
   {
    "duration": 20,
    "start_time": "2021-10-07T18:11:24.631Z"
   },
   {
    "duration": 463,
    "start_time": "2021-10-07T18:11:24.653Z"
   },
   {
    "duration": 20,
    "start_time": "2021-10-07T18:11:25.118Z"
   },
   {
    "duration": 382,
    "start_time": "2021-10-07T18:11:25.141Z"
   },
   {
    "duration": 36,
    "start_time": "2021-10-07T18:11:37.226Z"
   },
   {
    "duration": 31,
    "start_time": "2021-10-07T18:18:47.667Z"
   },
   {
    "duration": 328,
    "start_time": "2021-10-07T18:20:37.739Z"
   },
   {
    "duration": 26,
    "start_time": "2021-10-07T18:21:22.451Z"
   },
   {
    "duration": 24,
    "start_time": "2021-10-07T18:21:29.968Z"
   },
   {
    "duration": 89,
    "start_time": "2021-10-07T18:26:16.312Z"
   },
   {
    "duration": 605,
    "start_time": "2021-10-07T18:26:37.677Z"
   },
   {
    "duration": 40,
    "start_time": "2021-10-07T18:32:38.849Z"
   },
   {
    "duration": 32,
    "start_time": "2021-10-07T18:33:12.224Z"
   },
   {
    "duration": 40,
    "start_time": "2021-10-07T18:34:39.257Z"
   },
   {
    "duration": 828,
    "start_time": "2021-10-07T18:38:33.186Z"
   },
   {
    "duration": 813,
    "start_time": "2021-10-07T18:38:57.326Z"
   },
   {
    "duration": 976,
    "start_time": "2021-10-07T18:39:23.953Z"
   },
   {
    "duration": 861,
    "start_time": "2021-10-07T18:39:33.168Z"
   },
   {
    "duration": 39,
    "start_time": "2021-10-07T18:44:19.623Z"
   },
   {
    "duration": 289,
    "start_time": "2021-10-07T18:56:34.109Z"
   },
   {
    "duration": 287,
    "start_time": "2021-10-07T18:56:51.921Z"
   },
   {
    "duration": 2196,
    "start_time": "2021-10-07T19:06:23.905Z"
   },
   {
    "duration": 30,
    "start_time": "2021-10-07T19:06:33.305Z"
   },
   {
    "duration": 21,
    "start_time": "2021-10-07T19:10:54.381Z"
   },
   {
    "duration": 28,
    "start_time": "2021-10-07T19:10:59.470Z"
   },
   {
    "duration": 939,
    "start_time": "2021-10-07T19:11:19.625Z"
   },
   {
    "duration": 4,
    "start_time": "2021-10-07T19:11:20.567Z"
   },
   {
    "duration": 69,
    "start_time": "2021-10-07T19:11:20.573Z"
   },
   {
    "duration": 13,
    "start_time": "2021-10-07T19:11:20.645Z"
   },
   {
    "duration": 20,
    "start_time": "2021-10-07T19:11:20.660Z"
   },
   {
    "duration": 12,
    "start_time": "2021-10-07T19:11:20.683Z"
   },
   {
    "duration": 33,
    "start_time": "2021-10-07T19:11:20.698Z"
   },
   {
    "duration": 19,
    "start_time": "2021-10-07T19:11:20.734Z"
   },
   {
    "duration": 21,
    "start_time": "2021-10-07T19:11:20.756Z"
   },
   {
    "duration": 445,
    "start_time": "2021-10-07T19:11:20.779Z"
   },
   {
    "duration": 15,
    "start_time": "2021-10-07T19:11:21.227Z"
   },
   {
    "duration": 28,
    "start_time": "2021-10-07T19:11:21.244Z"
   },
   {
    "duration": 30,
    "start_time": "2021-10-07T19:12:08.653Z"
   },
   {
    "duration": 21,
    "start_time": "2021-10-07T19:12:38.384Z"
   },
   {
    "duration": 27,
    "start_time": "2021-10-07T19:12:42.883Z"
   },
   {
    "duration": 28,
    "start_time": "2021-10-07T19:12:57.521Z"
   },
   {
    "duration": 39,
    "start_time": "2021-10-07T19:13:03.461Z"
   },
   {
    "duration": 21,
    "start_time": "2021-10-07T19:13:18.096Z"
   },
   {
    "duration": 45,
    "start_time": "2021-10-07T19:25:26.974Z"
   },
   {
    "duration": 31,
    "start_time": "2021-10-07T19:26:21.826Z"
   },
   {
    "duration": 33,
    "start_time": "2021-10-07T19:26:33.080Z"
   },
   {
    "duration": 29,
    "start_time": "2021-10-07T19:26:36.219Z"
   },
   {
    "duration": 39,
    "start_time": "2021-10-07T19:26:57.417Z"
   },
   {
    "duration": 397,
    "start_time": "2021-10-07T19:30:26.586Z"
   },
   {
    "duration": 91,
    "start_time": "2021-10-07T19:31:22.848Z"
   },
   {
    "duration": 6,
    "start_time": "2021-10-07T19:31:22.942Z"
   },
   {
    "duration": 78,
    "start_time": "2021-10-07T19:31:22.951Z"
   },
   {
    "duration": 15,
    "start_time": "2021-10-07T19:31:23.032Z"
   },
   {
    "duration": 9,
    "start_time": "2021-10-07T19:31:23.049Z"
   },
   {
    "duration": 43,
    "start_time": "2021-10-07T19:31:23.061Z"
   },
   {
    "duration": 33,
    "start_time": "2021-10-07T19:31:23.108Z"
   },
   {
    "duration": 5,
    "start_time": "2021-10-07T19:31:23.144Z"
   },
   {
    "duration": 48,
    "start_time": "2021-10-07T19:31:23.152Z"
   },
   {
    "duration": 446,
    "start_time": "2021-10-07T19:31:23.202Z"
   },
   {
    "duration": 21,
    "start_time": "2021-10-07T19:31:23.653Z"
   },
   {
    "duration": 62,
    "start_time": "2021-10-07T19:31:23.677Z"
   },
   {
    "duration": 468,
    "start_time": "2021-10-07T19:32:35.391Z"
   },
   {
    "duration": 689,
    "start_time": "2021-10-07T19:34:32.001Z"
   },
   {
    "duration": 687,
    "start_time": "2021-10-07T19:35:04.916Z"
   },
   {
    "duration": 756,
    "start_time": "2021-10-07T19:39:23.509Z"
   },
   {
    "duration": 39,
    "start_time": "2021-10-07T19:39:56.175Z"
   },
   {
    "duration": 1639,
    "start_time": "2021-10-07T19:40:07.008Z"
   },
   {
    "duration": 4,
    "start_time": "2021-10-07T19:40:08.649Z"
   },
   {
    "duration": 66,
    "start_time": "2021-10-07T19:40:08.656Z"
   },
   {
    "duration": 13,
    "start_time": "2021-10-07T19:40:08.725Z"
   },
   {
    "duration": 13,
    "start_time": "2021-10-07T19:40:08.740Z"
   },
   {
    "duration": 10,
    "start_time": "2021-10-07T19:40:08.756Z"
   },
   {
    "duration": 50,
    "start_time": "2021-10-07T19:40:08.768Z"
   },
   {
    "duration": 7,
    "start_time": "2021-10-07T19:40:08.821Z"
   },
   {
    "duration": 15,
    "start_time": "2021-10-07T19:40:08.831Z"
   },
   {
    "duration": 481,
    "start_time": "2021-10-07T19:40:08.848Z"
   },
   {
    "duration": 674,
    "start_time": "2021-10-07T19:40:09.331Z"
   },
   {
    "duration": 553,
    "start_time": "2021-10-07T19:40:10.007Z"
   },
   {
    "duration": 482,
    "start_time": "2021-10-07T19:42:34.910Z"
   },
   {
    "duration": 31,
    "start_time": "2021-10-07T19:42:47.686Z"
   },
   {
    "duration": 642,
    "start_time": "2021-10-07T19:45:19.236Z"
   },
   {
    "duration": 7124,
    "start_time": "2021-10-07T19:46:22.307Z"
   },
   {
    "duration": 1608,
    "start_time": "2021-10-07T19:58:54.503Z"
   },
   {
    "duration": 4,
    "start_time": "2021-10-07T19:58:56.113Z"
   },
   {
    "duration": 54,
    "start_time": "2021-10-07T19:58:56.119Z"
   },
   {
    "duration": 25,
    "start_time": "2021-10-07T19:58:56.176Z"
   },
   {
    "duration": 8,
    "start_time": "2021-10-07T19:58:56.203Z"
   },
   {
    "duration": 11,
    "start_time": "2021-10-07T19:58:56.213Z"
   },
   {
    "duration": 24,
    "start_time": "2021-10-07T19:58:56.226Z"
   },
   {
    "duration": 6,
    "start_time": "2021-10-07T19:58:56.254Z"
   },
   {
    "duration": 50,
    "start_time": "2021-10-07T19:58:56.263Z"
   },
   {
    "duration": 485,
    "start_time": "2021-10-07T19:58:56.315Z"
   },
   {
    "duration": 677,
    "start_time": "2021-10-07T19:58:56.802Z"
   },
   {
    "duration": 6773,
    "start_time": "2021-10-07T19:58:57.481Z"
   },
   {
    "duration": -1087,
    "start_time": "2021-10-07T19:59:05.344Z"
   },
   {
    "duration": 10,
    "start_time": "2021-10-07T19:59:26.756Z"
   },
   {
    "duration": 12,
    "start_time": "2021-10-07T20:00:26.479Z"
   },
   {
    "duration": 11,
    "start_time": "2021-10-07T20:01:16.081Z"
   },
   {
    "duration": 258,
    "start_time": "2021-10-07T20:01:16.869Z"
   },
   {
    "duration": 6,
    "start_time": "2021-10-07T20:01:25.232Z"
   },
   {
    "duration": 291,
    "start_time": "2021-10-07T20:01:27.810Z"
   },
   {
    "duration": 5096,
    "start_time": "2021-10-07T20:01:59.082Z"
   },
   {
    "duration": 5121,
    "start_time": "2021-10-07T20:02:45.557Z"
   },
   {
    "duration": 4997,
    "start_time": "2021-10-07T20:03:47.765Z"
   },
   {
    "duration": 1333,
    "start_time": "2021-10-07T20:13:26.081Z"
   },
   {
    "duration": 322,
    "start_time": "2021-10-07T20:18:52.424Z"
   },
   {
    "duration": 312,
    "start_time": "2021-10-07T20:19:04.502Z"
   },
   {
    "duration": 336,
    "start_time": "2021-10-07T20:21:37.715Z"
   },
   {
    "duration": 307,
    "start_time": "2021-10-07T20:22:31.596Z"
   },
   {
    "duration": 1615,
    "start_time": "2021-10-07T20:23:36.457Z"
   },
   {
    "duration": 3,
    "start_time": "2021-10-07T20:23:38.075Z"
   },
   {
    "duration": 57,
    "start_time": "2021-10-07T20:23:38.081Z"
   },
   {
    "duration": 12,
    "start_time": "2021-10-07T20:23:38.141Z"
   },
   {
    "duration": 10,
    "start_time": "2021-10-07T20:23:38.155Z"
   },
   {
    "duration": 36,
    "start_time": "2021-10-07T20:23:38.167Z"
   },
   {
    "duration": 27,
    "start_time": "2021-10-07T20:23:38.205Z"
   },
   {
    "duration": 7,
    "start_time": "2021-10-07T20:23:38.235Z"
   },
   {
    "duration": 19,
    "start_time": "2021-10-07T20:23:38.245Z"
   },
   {
    "duration": 538,
    "start_time": "2021-10-07T20:23:38.266Z"
   },
   {
    "duration": 695,
    "start_time": "2021-10-07T20:23:38.807Z"
   },
   {
    "duration": 6,
    "start_time": "2021-10-07T20:23:39.505Z"
   },
   {
    "duration": 430,
    "start_time": "2021-10-07T20:23:39.513Z"
   },
   {
    "duration": 52,
    "start_time": "2021-10-07T20:24:17.794Z"
   },
   {
    "duration": 51,
    "start_time": "2021-10-07T20:24:33.948Z"
   },
   {
    "duration": 51,
    "start_time": "2021-10-07T20:24:50.357Z"
   },
   {
    "duration": 48,
    "start_time": "2021-10-07T20:24:55.619Z"
   },
   {
    "duration": 47,
    "start_time": "2021-10-07T20:25:40.016Z"
   },
   {
    "duration": 1534,
    "start_time": "2021-10-07T20:26:22.333Z"
   },
   {
    "duration": 3,
    "start_time": "2021-10-07T20:26:23.870Z"
   },
   {
    "duration": 63,
    "start_time": "2021-10-07T20:26:23.876Z"
   },
   {
    "duration": 20,
    "start_time": "2021-10-07T20:26:23.941Z"
   },
   {
    "duration": 10,
    "start_time": "2021-10-07T20:26:23.963Z"
   },
   {
    "duration": 26,
    "start_time": "2021-10-07T20:26:23.976Z"
   },
   {
    "duration": 24,
    "start_time": "2021-10-07T20:26:24.004Z"
   },
   {
    "duration": 6,
    "start_time": "2021-10-07T20:26:24.032Z"
   },
   {
    "duration": 14,
    "start_time": "2021-10-07T20:26:24.041Z"
   },
   {
    "duration": 489,
    "start_time": "2021-10-07T20:26:24.057Z"
   },
   {
    "duration": 775,
    "start_time": "2021-10-07T20:26:24.549Z"
   },
   {
    "duration": 6,
    "start_time": "2021-10-07T20:26:25.327Z"
   },
   {
    "duration": 418,
    "start_time": "2021-10-07T20:26:25.337Z"
   },
   {
    "duration": 287,
    "start_time": "2021-10-07T20:26:43.837Z"
   },
   {
    "duration": 53,
    "start_time": "2021-10-07T20:28:30.617Z"
   },
   {
    "duration": 277,
    "start_time": "2021-10-07T20:28:44.622Z"
   },
   {
    "duration": 51,
    "start_time": "2021-10-07T20:30:26.336Z"
   },
   {
    "duration": 1559,
    "start_time": "2021-10-07T20:30:38.895Z"
   },
   {
    "duration": 3,
    "start_time": "2021-10-07T20:30:40.457Z"
   },
   {
    "duration": 65,
    "start_time": "2021-10-07T20:30:40.463Z"
   },
   {
    "duration": 12,
    "start_time": "2021-10-07T20:30:40.530Z"
   },
   {
    "duration": 8,
    "start_time": "2021-10-07T20:30:40.544Z"
   },
   {
    "duration": 12,
    "start_time": "2021-10-07T20:30:40.555Z"
   },
   {
    "duration": 49,
    "start_time": "2021-10-07T20:30:40.569Z"
   },
   {
    "duration": 9,
    "start_time": "2021-10-07T20:30:40.620Z"
   },
   {
    "duration": 17,
    "start_time": "2021-10-07T20:30:40.633Z"
   },
   {
    "duration": 478,
    "start_time": "2021-10-07T20:30:40.653Z"
   },
   {
    "duration": 683,
    "start_time": "2021-10-07T20:30:41.133Z"
   },
   {
    "duration": 7,
    "start_time": "2021-10-07T20:30:41.818Z"
   },
   {
    "duration": 438,
    "start_time": "2021-10-07T20:30:41.828Z"
   },
   {
    "duration": 52,
    "start_time": "2021-10-07T20:32:46.136Z"
   },
   {
    "duration": 1560,
    "start_time": "2021-10-07T20:32:54.796Z"
   },
   {
    "duration": 4,
    "start_time": "2021-10-07T20:32:56.360Z"
   },
   {
    "duration": 73,
    "start_time": "2021-10-07T20:32:56.368Z"
   },
   {
    "duration": 14,
    "start_time": "2021-10-07T20:32:56.445Z"
   },
   {
    "duration": 43,
    "start_time": "2021-10-07T20:32:56.462Z"
   },
   {
    "duration": 7,
    "start_time": "2021-10-07T20:32:56.508Z"
   },
   {
    "duration": 29,
    "start_time": "2021-10-07T20:32:56.518Z"
   },
   {
    "duration": 7,
    "start_time": "2021-10-07T20:32:56.551Z"
   },
   {
    "duration": 43,
    "start_time": "2021-10-07T20:32:56.560Z"
   },
   {
    "duration": 475,
    "start_time": "2021-10-07T20:32:56.605Z"
   },
   {
    "duration": 700,
    "start_time": "2021-10-07T20:32:57.083Z"
   },
   {
    "duration": 15,
    "start_time": "2021-10-07T20:32:57.785Z"
   },
   {
    "duration": 441,
    "start_time": "2021-10-07T20:32:57.803Z"
   },
   {
    "duration": 50,
    "start_time": "2021-10-07T20:33:08.543Z"
   },
   {
    "duration": 409,
    "start_time": "2021-10-07T20:33:38.752Z"
   },
   {
    "duration": 442,
    "start_time": "2021-10-07T20:33:44.191Z"
   },
   {
    "duration": 310,
    "start_time": "2021-10-07T20:33:57.497Z"
   },
   {
    "duration": 29,
    "start_time": "2021-10-07T20:34:31.433Z"
   },
   {
    "duration": 8330,
    "start_time": "2021-10-07T20:35:12.212Z"
   },
   {
    "duration": 29,
    "start_time": "2021-10-07T20:35:20.657Z"
   },
   {
    "duration": 2728,
    "start_time": "2021-10-07T20:35:28.075Z"
   },
   {
    "duration": 2552,
    "start_time": "2021-10-07T20:36:35.477Z"
   },
   {
    "duration": 2556,
    "start_time": "2021-10-07T20:36:55.165Z"
   },
   {
    "duration": 1577,
    "start_time": "2021-10-07T20:37:38.080Z"
   },
   {
    "duration": 5,
    "start_time": "2021-10-07T20:37:39.661Z"
   },
   {
    "duration": 70,
    "start_time": "2021-10-07T20:37:39.669Z"
   },
   {
    "duration": 13,
    "start_time": "2021-10-07T20:37:39.742Z"
   },
   {
    "duration": 20,
    "start_time": "2021-10-07T20:37:39.757Z"
   },
   {
    "duration": 22,
    "start_time": "2021-10-07T20:37:39.780Z"
   },
   {
    "duration": 23,
    "start_time": "2021-10-07T20:37:39.804Z"
   },
   {
    "duration": 8,
    "start_time": "2021-10-07T20:37:39.830Z"
   },
   {
    "duration": 15,
    "start_time": "2021-10-07T20:37:39.840Z"
   },
   {
    "duration": 487,
    "start_time": "2021-10-07T20:37:39.857Z"
   },
   {
    "duration": 683,
    "start_time": "2021-10-07T20:37:40.347Z"
   },
   {
    "duration": 3,
    "start_time": "2021-10-07T20:37:41.033Z"
   },
   {
    "duration": 2570,
    "start_time": "2021-10-07T20:37:41.038Z"
   },
   {
    "duration": 2663,
    "start_time": "2021-10-07T20:37:50.432Z"
   },
   {
    "duration": 2633,
    "start_time": "2021-10-07T20:38:03.693Z"
   },
   {
    "duration": 739,
    "start_time": "2021-10-07T20:42:19.549Z"
   },
   {
    "duration": 1570,
    "start_time": "2021-10-07T20:43:05.375Z"
   },
   {
    "duration": 5,
    "start_time": "2021-10-07T20:43:06.949Z"
   },
   {
    "duration": 77,
    "start_time": "2021-10-07T20:43:06.957Z"
   },
   {
    "duration": 14,
    "start_time": "2021-10-07T20:43:07.038Z"
   },
   {
    "duration": 8,
    "start_time": "2021-10-07T20:43:07.055Z"
   },
   {
    "duration": 40,
    "start_time": "2021-10-07T20:43:07.066Z"
   },
   {
    "duration": 26,
    "start_time": "2021-10-07T20:43:07.109Z"
   },
   {
    "duration": 9,
    "start_time": "2021-10-07T20:43:07.140Z"
   },
   {
    "duration": 54,
    "start_time": "2021-10-07T20:43:07.151Z"
   },
   {
    "duration": 475,
    "start_time": "2021-10-07T20:43:07.208Z"
   },
   {
    "duration": 683,
    "start_time": "2021-10-07T20:43:07.685Z"
   },
   {
    "duration": 4,
    "start_time": "2021-10-07T20:43:08.370Z"
   },
   {
    "duration": 770,
    "start_time": "2021-10-07T20:43:08.376Z"
   },
   {
    "duration": 800,
    "start_time": "2021-10-07T20:47:44.636Z"
   },
   {
    "duration": 747,
    "start_time": "2021-10-07T20:47:57.025Z"
   },
   {
    "duration": 9,
    "start_time": "2021-10-07T20:54:30.508Z"
   },
   {
    "duration": 1214,
    "start_time": "2021-10-08T09:06:09.172Z"
   },
   {
    "duration": 3,
    "start_time": "2021-10-08T09:06:10.389Z"
   },
   {
    "duration": 34,
    "start_time": "2021-10-08T09:06:10.394Z"
   },
   {
    "duration": 9,
    "start_time": "2021-10-08T09:06:10.430Z"
   },
   {
    "duration": 8,
    "start_time": "2021-10-08T09:06:10.440Z"
   },
   {
    "duration": 29,
    "start_time": "2021-10-08T09:06:10.449Z"
   },
   {
    "duration": 14,
    "start_time": "2021-10-08T09:06:10.479Z"
   },
   {
    "duration": 11,
    "start_time": "2021-10-08T09:06:10.496Z"
   },
   {
    "duration": 10,
    "start_time": "2021-10-08T09:06:10.509Z"
   },
   {
    "duration": 284,
    "start_time": "2021-10-08T09:06:10.521Z"
   },
   {
    "duration": 387,
    "start_time": "2021-10-08T09:06:10.807Z"
   },
   {
    "duration": 3,
    "start_time": "2021-10-08T09:06:11.195Z"
   },
   {
    "duration": 441,
    "start_time": "2021-10-08T09:06:11.200Z"
   },
   {
    "duration": 21,
    "start_time": "2021-10-08T09:06:11.642Z"
   },
   {
    "duration": 446,
    "start_time": "2021-10-08T09:07:55.642Z"
   },
   {
    "duration": 597,
    "start_time": "2021-10-08T09:08:25.689Z"
   },
   {
    "duration": 498,
    "start_time": "2021-10-08T09:09:23.433Z"
   },
   {
    "duration": 522,
    "start_time": "2021-10-08T09:09:34.577Z"
   },
   {
    "duration": 515,
    "start_time": "2021-10-08T09:09:57.841Z"
   },
   {
    "duration": 514,
    "start_time": "2021-10-08T09:10:09.857Z"
   },
   {
    "duration": 10,
    "start_time": "2021-10-08T09:18:01.337Z"
   },
   {
    "duration": 14,
    "start_time": "2021-10-08T09:18:10.047Z"
   },
   {
    "duration": 14,
    "start_time": "2021-10-08T09:18:51.570Z"
   },
   {
    "duration": 362,
    "start_time": "2021-10-08T09:20:12.617Z"
   },
   {
    "duration": 361,
    "start_time": "2021-10-08T09:20:28.460Z"
   },
   {
    "duration": 15,
    "start_time": "2021-10-08T09:21:01.729Z"
   },
   {
    "duration": 410,
    "start_time": "2021-10-08T09:21:03.876Z"
   },
   {
    "duration": 7,
    "start_time": "2021-10-08T09:37:08.455Z"
   },
   {
    "duration": 6,
    "start_time": "2021-10-08T09:46:41.501Z"
   },
   {
    "duration": 4,
    "start_time": "2021-10-08T09:47:02.862Z"
   },
   {
    "duration": 274,
    "start_time": "2021-10-08T09:49:00.126Z"
   },
   {
    "duration": 305,
    "start_time": "2021-10-08T09:49:46.863Z"
   },
   {
    "duration": 308,
    "start_time": "2021-10-08T09:52:27.910Z"
   },
   {
    "duration": 6,
    "start_time": "2021-10-08T09:53:31.397Z"
   },
   {
    "duration": 174,
    "start_time": "2021-10-08T09:53:33.733Z"
   },
   {
    "duration": 165,
    "start_time": "2021-10-08T09:55:05.581Z"
   },
   {
    "duration": 712,
    "start_time": "2021-10-08T09:56:15.629Z"
   },
   {
    "duration": 173,
    "start_time": "2021-10-08T09:56:24.069Z"
   },
   {
    "duration": 178,
    "start_time": "2021-10-08T09:57:12.228Z"
   },
   {
    "duration": 251,
    "start_time": "2021-10-08T09:57:18.044Z"
   },
   {
    "duration": 6,
    "start_time": "2021-10-08T09:58:44.936Z"
   },
   {
    "duration": 257,
    "start_time": "2021-10-08T09:58:46.603Z"
   },
   {
    "duration": 11,
    "start_time": "2021-10-08T10:26:10.897Z"
   },
   {
    "duration": 253,
    "start_time": "2021-10-08T10:26:28.458Z"
   },
   {
    "duration": 32,
    "start_time": "2021-10-08T10:29:37.338Z"
   },
   {
    "duration": 247,
    "start_time": "2021-10-08T10:31:05.641Z"
   },
   {
    "duration": 43,
    "start_time": "2021-10-08T12:17:24.991Z"
   },
   {
    "duration": 7,
    "start_time": "2021-10-08T12:21:23.774Z"
   },
   {
    "duration": 369,
    "start_time": "2021-10-08T13:15:03.576Z"
   },
   {
    "duration": 623,
    "start_time": "2021-10-08T13:15:19.322Z"
   },
   {
    "duration": 810,
    "start_time": "2021-10-08T13:22:38.824Z"
   },
   {
    "duration": 682,
    "start_time": "2021-10-08T13:22:46.961Z"
   },
   {
    "duration": 647,
    "start_time": "2021-10-08T13:22:59.288Z"
   },
   {
    "duration": 829,
    "start_time": "2021-10-08T13:23:07.448Z"
   },
   {
    "duration": 908,
    "start_time": "2021-10-08T13:23:19.760Z"
   },
   {
    "duration": 283,
    "start_time": "2021-10-08T13:23:35.936Z"
   },
   {
    "duration": 284,
    "start_time": "2021-10-08T13:23:46.297Z"
   },
   {
    "duration": 14,
    "start_time": "2021-10-08T13:27:23.645Z"
   },
   {
    "duration": 15,
    "start_time": "2021-10-08T13:28:02.398Z"
   },
   {
    "duration": 320,
    "start_time": "2021-10-08T13:29:05.266Z"
   },
   {
    "duration": 319,
    "start_time": "2021-10-08T13:29:15.984Z"
   },
   {
    "duration": 319,
    "start_time": "2021-10-08T13:29:35.376Z"
   },
   {
    "duration": 302,
    "start_time": "2021-10-08T13:30:05.008Z"
   },
   {
    "duration": 1169,
    "start_time": "2021-10-08T13:30:12.730Z"
   },
   {
    "duration": 3,
    "start_time": "2021-10-08T13:30:13.901Z"
   },
   {
    "duration": 59,
    "start_time": "2021-10-08T13:30:13.907Z"
   },
   {
    "duration": 11,
    "start_time": "2021-10-08T13:30:13.969Z"
   },
   {
    "duration": 23,
    "start_time": "2021-10-08T13:30:13.982Z"
   },
   {
    "duration": 23,
    "start_time": "2021-10-08T13:30:14.007Z"
   },
   {
    "duration": 31,
    "start_time": "2021-10-08T13:30:14.031Z"
   },
   {
    "duration": 17,
    "start_time": "2021-10-08T13:30:14.064Z"
   },
   {
    "duration": 57,
    "start_time": "2021-10-08T13:30:14.084Z"
   },
   {
    "duration": 293,
    "start_time": "2021-10-08T13:30:14.143Z"
   },
   {
    "duration": 415,
    "start_time": "2021-10-08T13:30:14.438Z"
   },
   {
    "duration": 3,
    "start_time": "2021-10-08T13:30:14.854Z"
   },
   {
    "duration": 472,
    "start_time": "2021-10-08T13:30:14.858Z"
   },
   {
    "duration": 22,
    "start_time": "2021-10-08T13:30:15.332Z"
   },
   {
    "duration": 33,
    "start_time": "2021-10-08T13:30:15.356Z"
   },
   {
    "duration": 455,
    "start_time": "2021-10-08T13:30:15.391Z"
   },
   {
    "duration": 40,
    "start_time": "2021-10-08T13:30:15.848Z"
   },
   {
    "duration": 261,
    "start_time": "2021-10-08T13:30:15.890Z"
   },
   {
    "duration": 6,
    "start_time": "2021-10-08T13:30:16.152Z"
   },
   {
    "duration": 788,
    "start_time": "2021-10-08T13:30:16.159Z"
   },
   {
    "duration": 347,
    "start_time": "2021-10-08T13:30:16.949Z"
   },
   {
    "duration": 327,
    "start_time": "2021-10-08T13:30:17.298Z"
   },
   {
    "duration": 379,
    "start_time": "2021-10-08T13:30:17.626Z"
   },
   {
    "duration": -21,
    "start_time": "2021-10-08T13:30:18.028Z"
   },
   {
    "duration": 11,
    "start_time": "2021-10-08T13:30:36.631Z"
   },
   {
    "duration": 13,
    "start_time": "2021-10-08T13:30:43.981Z"
   },
   {
    "duration": 10,
    "start_time": "2021-10-08T13:30:54.086Z"
   },
   {
    "duration": 1224,
    "start_time": "2021-10-08T13:30:58.304Z"
   },
   {
    "duration": 3,
    "start_time": "2021-10-08T13:30:59.530Z"
   },
   {
    "duration": 47,
    "start_time": "2021-10-08T13:30:59.535Z"
   },
   {
    "duration": 8,
    "start_time": "2021-10-08T13:30:59.584Z"
   },
   {
    "duration": 16,
    "start_time": "2021-10-08T13:30:59.593Z"
   },
   {
    "duration": 22,
    "start_time": "2021-10-08T13:30:59.610Z"
   },
   {
    "duration": 22,
    "start_time": "2021-10-08T13:30:59.634Z"
   },
   {
    "duration": 22,
    "start_time": "2021-10-08T13:30:59.658Z"
   },
   {
    "duration": 46,
    "start_time": "2021-10-08T13:30:59.684Z"
   },
   {
    "duration": 280,
    "start_time": "2021-10-08T13:30:59.733Z"
   },
   {
    "duration": 406,
    "start_time": "2021-10-08T13:31:00.016Z"
   },
   {
    "duration": 3,
    "start_time": "2021-10-08T13:31:00.425Z"
   },
   {
    "duration": 478,
    "start_time": "2021-10-08T13:31:00.430Z"
   },
   {
    "duration": 24,
    "start_time": "2021-10-08T13:31:00.910Z"
   },
   {
    "duration": 14,
    "start_time": "2021-10-08T13:31:00.936Z"
   },
   {
    "duration": 480,
    "start_time": "2021-10-08T13:31:00.952Z"
   },
   {
    "duration": 47,
    "start_time": "2021-10-08T13:31:01.434Z"
   },
   {
    "duration": 260,
    "start_time": "2021-10-08T13:31:01.483Z"
   },
   {
    "duration": 6,
    "start_time": "2021-10-08T13:31:01.745Z"
   },
   {
    "duration": 806,
    "start_time": "2021-10-08T13:31:01.753Z"
   },
   {
    "duration": 336,
    "start_time": "2021-10-08T13:31:02.560Z"
   },
   {
    "duration": 306,
    "start_time": "2021-10-08T13:31:02.897Z"
   },
   {
    "duration": 10,
    "start_time": "2021-10-08T13:31:03.205Z"
   },
   {
    "duration": 413,
    "start_time": "2021-10-08T13:31:03.216Z"
   },
   {
    "duration": 14,
    "start_time": "2021-10-08T13:31:08.466Z"
   },
   {
    "duration": 21,
    "start_time": "2021-10-08T13:31:27.068Z"
   },
   {
    "duration": 446,
    "start_time": "2021-10-08T13:33:57.075Z"
   },
   {
    "duration": 339,
    "start_time": "2021-10-08T13:34:40.652Z"
   },
   {
    "duration": 347,
    "start_time": "2021-10-08T13:35:53.101Z"
   },
   {
    "duration": 91,
    "start_time": "2021-10-08T13:36:32.987Z"
   },
   {
    "duration": 140,
    "start_time": "2021-10-08T13:36:38.660Z"
   },
   {
    "duration": 23,
    "start_time": "2021-10-08T13:36:56.178Z"
   },
   {
    "duration": 82,
    "start_time": "2021-10-08T17:48:22.361Z"
   },
   {
    "duration": 4,
    "start_time": "2021-10-08T17:48:22.445Z"
   },
   {
    "duration": 73,
    "start_time": "2021-10-08T17:48:22.451Z"
   },
   {
    "duration": 13,
    "start_time": "2021-10-08T17:48:22.526Z"
   },
   {
    "duration": 8,
    "start_time": "2021-10-08T17:48:22.542Z"
   },
   {
    "duration": 8,
    "start_time": "2021-10-08T17:48:22.552Z"
   },
   {
    "duration": 22,
    "start_time": "2021-10-08T17:48:22.562Z"
   },
   {
    "duration": 7,
    "start_time": "2021-10-08T17:48:22.623Z"
   },
   {
    "duration": 67,
    "start_time": "2021-10-08T17:48:22.632Z"
   },
   {
    "duration": 470,
    "start_time": "2021-10-08T17:48:22.701Z"
   },
   {
    "duration": 687,
    "start_time": "2021-10-08T17:48:23.173Z"
   },
   {
    "duration": 4,
    "start_time": "2021-10-08T17:48:23.863Z"
   },
   {
    "duration": 757,
    "start_time": "2021-10-08T17:48:23.869Z"
   },
   {
    "duration": 36,
    "start_time": "2021-10-08T17:48:24.629Z"
   },
   {
    "duration": 20,
    "start_time": "2021-10-08T17:48:24.668Z"
   },
   {
    "duration": 743,
    "start_time": "2021-10-08T17:48:24.691Z"
   },
   {
    "duration": 54,
    "start_time": "2021-10-08T17:48:25.437Z"
   },
   {
    "duration": 487,
    "start_time": "2021-10-08T17:48:25.494Z"
   },
   {
    "duration": 11,
    "start_time": "2021-10-08T17:48:25.984Z"
   },
   {
    "duration": 934,
    "start_time": "2021-10-08T17:48:25.998Z"
   },
   {
    "duration": 497,
    "start_time": "2021-10-08T17:48:26.935Z"
   },
   {
    "duration": 479,
    "start_time": "2021-10-08T17:48:27.435Z"
   },
   {
    "duration": 40,
    "start_time": "2021-10-08T17:48:27.922Z"
   },
   {
    "duration": 35,
    "start_time": "2021-10-08T17:55:55.822Z"
   },
   {
    "duration": 34,
    "start_time": "2021-10-08T17:57:54.722Z"
   },
   {
    "duration": 16,
    "start_time": "2021-10-08T18:13:02.920Z"
   },
   {
    "duration": 353,
    "start_time": "2021-10-09T12:18:51.411Z"
   },
   {
    "duration": 1587,
    "start_time": "2021-10-09T12:18:56.760Z"
   },
   {
    "duration": 4,
    "start_time": "2021-10-09T12:18:58.350Z"
   },
   {
    "duration": 62,
    "start_time": "2021-10-09T12:18:58.356Z"
   },
   {
    "duration": 10,
    "start_time": "2021-10-09T12:18:58.421Z"
   },
   {
    "duration": 10,
    "start_time": "2021-10-09T12:18:58.434Z"
   },
   {
    "duration": 18,
    "start_time": "2021-10-09T12:18:58.448Z"
   },
   {
    "duration": 46,
    "start_time": "2021-10-09T12:18:58.469Z"
   },
   {
    "duration": 7,
    "start_time": "2021-10-09T12:18:58.517Z"
   },
   {
    "duration": 78,
    "start_time": "2021-10-09T12:18:58.527Z"
   },
   {
    "duration": 462,
    "start_time": "2021-10-09T12:18:58.607Z"
   },
   {
    "duration": 760,
    "start_time": "2021-10-09T12:18:59.072Z"
   },
   {
    "duration": 3,
    "start_time": "2021-10-09T12:18:59.834Z"
   },
   {
    "duration": 767,
    "start_time": "2021-10-09T12:18:59.840Z"
   },
   {
    "duration": 36,
    "start_time": "2021-10-09T12:19:00.610Z"
   },
   {
    "duration": 57,
    "start_time": "2021-10-09T12:19:00.649Z"
   },
   {
    "duration": 726,
    "start_time": "2021-10-09T12:19:00.709Z"
   },
   {
    "duration": 64,
    "start_time": "2021-10-09T12:19:01.438Z"
   },
   {
    "duration": 478,
    "start_time": "2021-10-09T12:19:01.507Z"
   },
   {
    "duration": 14,
    "start_time": "2021-10-09T12:19:01.987Z"
   },
   {
    "duration": 1047,
    "start_time": "2021-10-09T12:19:02.004Z"
   },
   {
    "duration": 486,
    "start_time": "2021-10-09T12:19:03.053Z"
   },
   {
    "duration": 400,
    "start_time": "2021-10-09T12:19:03.541Z"
   },
   {
    "duration": 33,
    "start_time": "2021-10-09T12:19:03.944Z"
   },
   {
    "duration": 39,
    "start_time": "2021-10-09T12:19:03.980Z"
   },
   {
    "duration": 136,
    "start_time": "2021-10-09T12:26:51.191Z"
   },
   {
    "duration": 88,
    "start_time": "2021-10-09T12:28:02.396Z"
   },
   {
    "duration": 113,
    "start_time": "2021-10-09T12:28:08.587Z"
   },
   {
    "duration": 111,
    "start_time": "2021-10-09T12:29:37.469Z"
   },
   {
    "duration": 154,
    "start_time": "2021-10-09T12:30:15.540Z"
   },
   {
    "duration": 109,
    "start_time": "2021-10-09T12:30:23.878Z"
   },
   {
    "duration": 134,
    "start_time": "2021-10-09T12:31:33.701Z"
   },
   {
    "duration": 1330,
    "start_time": "2021-10-09T12:31:59.661Z"
   },
   {
    "duration": 570,
    "start_time": "2021-10-09T12:32:41.349Z"
   },
   {
    "duration": 185,
    "start_time": "2021-10-09T12:32:59.486Z"
   },
   {
    "duration": 186,
    "start_time": "2021-10-09T12:34:07.688Z"
   },
   {
    "duration": 188,
    "start_time": "2021-10-09T12:34:19.684Z"
   },
   {
    "duration": 404,
    "start_time": "2021-10-09T12:34:49.184Z"
   },
   {
    "duration": 193,
    "start_time": "2021-10-09T12:34:59.193Z"
   },
   {
    "duration": 186,
    "start_time": "2021-10-09T12:36:50.620Z"
   },
   {
    "duration": 191,
    "start_time": "2021-10-09T12:36:54.890Z"
   },
   {
    "duration": 191,
    "start_time": "2021-10-09T12:37:13.742Z"
   },
   {
    "duration": 193,
    "start_time": "2021-10-09T12:37:52.492Z"
   },
   {
    "duration": 200,
    "start_time": "2021-10-09T12:51:00.304Z"
   },
   {
    "duration": 192,
    "start_time": "2021-10-09T12:51:37.093Z"
   },
   {
    "duration": 929,
    "start_time": "2021-10-09T13:06:49.463Z"
   },
   {
    "duration": 1048,
    "start_time": "2021-10-09T13:07:13.225Z"
   },
   {
    "duration": 770,
    "start_time": "2021-10-09T13:07:59.623Z"
   },
   {
    "duration": 488,
    "start_time": "2021-10-09T13:08:08.930Z"
   },
   {
    "duration": 485,
    "start_time": "2021-10-09T13:08:13.318Z"
   },
   {
    "duration": 877,
    "start_time": "2021-10-09T13:08:20.386Z"
   },
   {
    "duration": 1137,
    "start_time": "2021-10-09T13:08:35.013Z"
   },
   {
    "duration": 789,
    "start_time": "2021-10-09T13:09:15.263Z"
   },
   {
    "duration": 207,
    "start_time": "2021-10-09T13:47:03.024Z"
   },
   {
    "duration": 188,
    "start_time": "2021-10-09T13:48:46.185Z"
   },
   {
    "duration": 185,
    "start_time": "2021-10-09T13:49:29.250Z"
   },
   {
    "duration": 10,
    "start_time": "2021-10-09T14:14:40.053Z"
   },
   {
    "duration": 278,
    "start_time": "2021-10-09T14:15:50.993Z"
   },
   {
    "duration": 75,
    "start_time": "2021-10-09T14:16:37.390Z"
   },
   {
    "duration": -69,
    "start_time": "2021-10-09T14:16:49.136Z"
   },
   {
    "duration": 8359,
    "start_time": "2021-10-09T14:16:56.396Z"
   },
   {
    "duration": 298,
    "start_time": "2021-10-09T14:17:21.850Z"
   },
   {
    "duration": 8,
    "start_time": "2021-10-09T14:17:39.085Z"
   },
   {
    "duration": 1583,
    "start_time": "2021-10-09T14:19:38.568Z"
   },
   {
    "duration": 5,
    "start_time": "2021-10-09T14:19:40.154Z"
   },
   {
    "duration": 64,
    "start_time": "2021-10-09T14:19:40.162Z"
   },
   {
    "duration": 12,
    "start_time": "2021-10-09T14:19:40.229Z"
   },
   {
    "duration": 9,
    "start_time": "2021-10-09T14:19:40.244Z"
   },
   {
    "duration": 10,
    "start_time": "2021-10-09T14:19:40.255Z"
   },
   {
    "duration": 51,
    "start_time": "2021-10-09T14:19:40.267Z"
   },
   {
    "duration": 8,
    "start_time": "2021-10-09T14:19:40.322Z"
   },
   {
    "duration": 86,
    "start_time": "2021-10-09T14:19:40.332Z"
   },
   {
    "duration": 565,
    "start_time": "2021-10-09T14:19:40.421Z"
   },
   {
    "duration": 677,
    "start_time": "2021-10-09T14:19:40.988Z"
   },
   {
    "duration": 4,
    "start_time": "2021-10-09T14:19:41.667Z"
   },
   {
    "duration": 743,
    "start_time": "2021-10-09T14:19:41.673Z"
   },
   {
    "duration": 37,
    "start_time": "2021-10-09T14:19:42.419Z"
   },
   {
    "duration": 49,
    "start_time": "2021-10-09T14:19:42.458Z"
   },
   {
    "duration": 704,
    "start_time": "2021-10-09T14:19:42.510Z"
   },
   {
    "duration": 51,
    "start_time": "2021-10-09T14:19:43.216Z"
   },
   {
    "duration": 499,
    "start_time": "2021-10-09T14:19:43.270Z"
   },
   {
    "duration": 7,
    "start_time": "2021-10-09T14:19:43.771Z"
   },
   {
    "duration": 887,
    "start_time": "2021-10-09T14:19:43.781Z"
   },
   {
    "duration": 534,
    "start_time": "2021-10-09T14:19:44.670Z"
   },
   {
    "duration": 505,
    "start_time": "2021-10-09T14:19:45.206Z"
   },
   {
    "duration": 33,
    "start_time": "2021-10-09T14:19:45.715Z"
   },
   {
    "duration": 214,
    "start_time": "2021-10-09T14:19:45.750Z"
   },
   {
    "duration": 207,
    "start_time": "2021-10-09T14:19:45.966Z"
   },
   {
    "duration": 205,
    "start_time": "2021-10-09T14:19:46.176Z"
   },
   {
    "duration": 205,
    "start_time": "2021-10-09T14:19:46.383Z"
   },
   {
    "duration": 209,
    "start_time": "2021-10-09T14:19:46.591Z"
   },
   {
    "duration": 202,
    "start_time": "2021-10-09T14:19:46.803Z"
   },
   {
    "duration": 208,
    "start_time": "2021-10-09T14:19:47.008Z"
   },
   {
    "duration": 206,
    "start_time": "2021-10-09T14:19:47.218Z"
   },
   {
    "duration": 210,
    "start_time": "2021-10-09T14:19:47.426Z"
   },
   {
    "duration": 10,
    "start_time": "2021-10-09T14:19:47.639Z"
   },
   {
    "duration": 9,
    "start_time": "2021-10-09T14:19:47.652Z"
   },
   {
    "duration": 17,
    "start_time": "2021-10-09T14:24:44.990Z"
   },
   {
    "duration": 7,
    "start_time": "2021-10-09T14:24:48.072Z"
   },
   {
    "duration": 17,
    "start_time": "2021-10-09T14:24:52.874Z"
   },
   {
    "duration": 8,
    "start_time": "2021-10-09T14:24:55.593Z"
   },
   {
    "duration": 1587,
    "start_time": "2021-10-09T14:25:00.863Z"
   },
   {
    "duration": 4,
    "start_time": "2021-10-09T14:25:02.452Z"
   },
   {
    "duration": 71,
    "start_time": "2021-10-09T14:25:02.459Z"
   },
   {
    "duration": 13,
    "start_time": "2021-10-09T14:25:02.533Z"
   },
   {
    "duration": 58,
    "start_time": "2021-10-09T14:25:02.548Z"
   },
   {
    "duration": 158,
    "start_time": "2021-10-09T14:25:02.608Z"
   },
   {
    "duration": 142,
    "start_time": "2021-10-09T14:25:02.769Z"
   },
   {
    "duration": 11,
    "start_time": "2021-10-09T14:25:02.915Z"
   },
   {
    "duration": 77,
    "start_time": "2021-10-09T14:25:02.929Z"
   },
   {
    "duration": 464,
    "start_time": "2021-10-09T14:25:03.008Z"
   },
   {
    "duration": 671,
    "start_time": "2021-10-09T14:25:03.474Z"
   },
   {
    "duration": 3,
    "start_time": "2021-10-09T14:25:04.148Z"
   },
   {
    "duration": 773,
    "start_time": "2021-10-09T14:25:04.154Z"
   },
   {
    "duration": 36,
    "start_time": "2021-10-09T14:25:04.929Z"
   },
   {
    "duration": 42,
    "start_time": "2021-10-09T14:25:04.967Z"
   },
   {
    "duration": 765,
    "start_time": "2021-10-09T14:25:05.012Z"
   },
   {
    "duration": 62,
    "start_time": "2021-10-09T14:25:05.779Z"
   },
   {
    "duration": 517,
    "start_time": "2021-10-09T14:25:05.844Z"
   },
   {
    "duration": 8,
    "start_time": "2021-10-09T14:25:06.363Z"
   },
   {
    "duration": 912,
    "start_time": "2021-10-09T14:25:06.373Z"
   },
   {
    "duration": 532,
    "start_time": "2021-10-09T14:25:07.288Z"
   },
   {
    "duration": 497,
    "start_time": "2021-10-09T14:25:07.823Z"
   },
   {
    "duration": 35,
    "start_time": "2021-10-09T14:25:08.324Z"
   },
   {
    "duration": 214,
    "start_time": "2021-10-09T14:25:08.362Z"
   },
   {
    "duration": 215,
    "start_time": "2021-10-09T14:25:08.578Z"
   },
   {
    "duration": 205,
    "start_time": "2021-10-09T14:25:08.795Z"
   },
   {
    "duration": 215,
    "start_time": "2021-10-09T14:25:09.002Z"
   },
   {
    "duration": 211,
    "start_time": "2021-10-09T14:25:09.220Z"
   },
   {
    "duration": 209,
    "start_time": "2021-10-09T14:25:09.434Z"
   },
   {
    "duration": 213,
    "start_time": "2021-10-09T14:25:09.645Z"
   },
   {
    "duration": 205,
    "start_time": "2021-10-09T14:25:09.860Z"
   },
   {
    "duration": 203,
    "start_time": "2021-10-09T14:25:10.067Z"
   },
   {
    "duration": 29,
    "start_time": "2021-10-09T14:25:10.273Z"
   },
   {
    "duration": 11,
    "start_time": "2021-10-09T14:25:10.304Z"
   },
   {
    "duration": 11,
    "start_time": "2021-10-09T14:26:13.783Z"
   },
   {
    "duration": 11,
    "start_time": "2021-10-09T14:26:22.556Z"
   },
   {
    "duration": 12,
    "start_time": "2021-10-09T14:26:24.374Z"
   },
   {
    "duration": 428,
    "start_time": "2021-10-09T14:28:38.376Z"
   },
   {
    "duration": 11,
    "start_time": "2021-10-09T14:28:58.555Z"
   },
   {
    "duration": 9,
    "start_time": "2021-10-09T14:29:38.721Z"
   },
   {
    "duration": 1202,
    "start_time": "2021-10-11T12:23:11.189Z"
   },
   {
    "duration": 5,
    "start_time": "2021-10-11T12:23:12.393Z"
   },
   {
    "duration": 75,
    "start_time": "2021-10-11T12:23:12.401Z"
   },
   {
    "duration": 18,
    "start_time": "2021-10-11T12:23:12.479Z"
   },
   {
    "duration": 16,
    "start_time": "2021-10-11T12:23:12.501Z"
   },
   {
    "duration": 15,
    "start_time": "2021-10-11T12:23:12.519Z"
   },
   {
    "duration": 30,
    "start_time": "2021-10-11T12:23:12.546Z"
   },
   {
    "duration": 24,
    "start_time": "2021-10-11T12:23:12.579Z"
   },
   {
    "duration": 72,
    "start_time": "2021-10-11T12:23:12.606Z"
   },
   {
    "duration": 426,
    "start_time": "2021-10-11T12:23:12.681Z"
   },
   {
    "duration": 525,
    "start_time": "2021-10-11T12:23:13.110Z"
   },
   {
    "duration": 8,
    "start_time": "2021-10-11T12:23:13.636Z"
   },
   {
    "duration": 564,
    "start_time": "2021-10-11T12:23:13.661Z"
   },
   {
    "duration": 45,
    "start_time": "2021-10-11T12:23:14.227Z"
   },
   {
    "duration": 19,
    "start_time": "2021-10-11T12:23:14.274Z"
   },
   {
    "duration": 527,
    "start_time": "2021-10-11T12:23:14.295Z"
   },
   {
    "duration": 46,
    "start_time": "2021-10-11T12:23:14.824Z"
   },
   {
    "duration": 323,
    "start_time": "2021-10-11T12:23:14.872Z"
   },
   {
    "duration": 6,
    "start_time": "2021-10-11T12:23:15.196Z"
   },
   {
    "duration": 1065,
    "start_time": "2021-10-11T12:23:15.204Z"
   },
   {
    "duration": 348,
    "start_time": "2021-10-11T12:23:16.271Z"
   },
   {
    "duration": 399,
    "start_time": "2021-10-11T12:23:16.621Z"
   },
   {
    "duration": 26,
    "start_time": "2021-10-11T12:23:17.023Z"
   },
   {
    "duration": 174,
    "start_time": "2021-10-11T12:23:17.052Z"
   },
   {
    "duration": 135,
    "start_time": "2021-10-11T12:23:17.228Z"
   },
   {
    "duration": 135,
    "start_time": "2021-10-11T12:23:17.365Z"
   },
   {
    "duration": 132,
    "start_time": "2021-10-11T12:23:17.502Z"
   },
   {
    "duration": 149,
    "start_time": "2021-10-11T12:23:17.636Z"
   },
   {
    "duration": 136,
    "start_time": "2021-10-11T12:23:17.787Z"
   },
   {
    "duration": 149,
    "start_time": "2021-10-11T12:23:17.925Z"
   },
   {
    "duration": 160,
    "start_time": "2021-10-11T12:23:18.076Z"
   },
   {
    "duration": 152,
    "start_time": "2021-10-11T12:23:18.238Z"
   },
   {
    "duration": 10,
    "start_time": "2021-10-11T12:23:18.392Z"
   },
   {
    "duration": 8,
    "start_time": "2021-10-11T12:23:18.404Z"
   },
   {
    "duration": 36,
    "start_time": "2021-10-11T12:23:18.414Z"
   },
   {
    "duration": 10,
    "start_time": "2021-10-11T12:23:18.452Z"
   },
   {
    "duration": 37,
    "start_time": "2021-10-11T12:23:27.547Z"
   },
   {
    "duration": 34,
    "start_time": "2021-10-11T12:23:43.940Z"
   },
   {
    "duration": 1458,
    "start_time": "2021-10-11T12:27:28.560Z"
   },
   {
    "duration": 1135,
    "start_time": "2021-10-11T12:27:37.482Z"
   },
   {
    "duration": 3,
    "start_time": "2021-10-11T12:27:38.619Z"
   },
   {
    "duration": 35,
    "start_time": "2021-10-11T12:27:38.624Z"
   },
   {
    "duration": 9,
    "start_time": "2021-10-11T12:27:38.661Z"
   },
   {
    "duration": 12,
    "start_time": "2021-10-11T12:27:38.671Z"
   },
   {
    "duration": 9,
    "start_time": "2021-10-11T12:27:38.685Z"
   },
   {
    "duration": 18,
    "start_time": "2021-10-11T12:27:38.695Z"
   },
   {
    "duration": 9,
    "start_time": "2021-10-11T12:27:38.715Z"
   },
   {
    "duration": 56,
    "start_time": "2021-10-11T12:27:38.726Z"
   },
   {
    "duration": 278,
    "start_time": "2021-10-11T12:27:38.784Z"
   },
   {
    "duration": 387,
    "start_time": "2021-10-11T12:27:39.063Z"
   },
   {
    "duration": 3,
    "start_time": "2021-10-11T12:27:39.451Z"
   },
   {
    "duration": 472,
    "start_time": "2021-10-11T12:27:39.456Z"
   },
   {
    "duration": 38,
    "start_time": "2021-10-11T12:27:39.930Z"
   },
   {
    "duration": 13,
    "start_time": "2021-10-11T12:27:39.969Z"
   },
   {
    "duration": 460,
    "start_time": "2021-10-11T12:27:39.984Z"
   },
   {
    "duration": 29,
    "start_time": "2021-10-11T12:27:40.446Z"
   },
   {
    "duration": 362,
    "start_time": "2021-10-11T12:27:40.477Z"
   },
   {
    "duration": 5,
    "start_time": "2021-10-11T12:27:40.844Z"
   },
   {
    "duration": 471,
    "start_time": "2021-10-11T12:27:40.851Z"
   },
   {
    "duration": 379,
    "start_time": "2021-10-11T12:27:41.324Z"
   },
   {
    "duration": 356,
    "start_time": "2021-10-11T12:27:41.704Z"
   },
   {
    "duration": 23,
    "start_time": "2021-10-11T12:27:42.064Z"
   },
   {
    "duration": 128,
    "start_time": "2021-10-11T12:27:42.089Z"
   },
   {
    "duration": 130,
    "start_time": "2021-10-11T12:27:42.219Z"
   },
   {
    "duration": 124,
    "start_time": "2021-10-11T12:27:42.351Z"
   },
   {
    "duration": 130,
    "start_time": "2021-10-11T12:27:42.477Z"
   },
   {
    "duration": 136,
    "start_time": "2021-10-11T12:27:42.608Z"
   },
   {
    "duration": 129,
    "start_time": "2021-10-11T12:27:42.746Z"
   },
   {
    "duration": 126,
    "start_time": "2021-10-11T12:27:42.876Z"
   },
   {
    "duration": 115,
    "start_time": "2021-10-11T12:27:43.004Z"
   },
   {
    "duration": 202,
    "start_time": "2021-10-11T12:27:43.121Z"
   },
   {
    "duration": 19,
    "start_time": "2021-10-11T12:27:43.325Z"
   },
   {
    "duration": 10,
    "start_time": "2021-10-11T12:27:43.346Z"
   },
   {
    "duration": 19,
    "start_time": "2021-10-11T12:27:43.358Z"
   },
   {
    "duration": 6,
    "start_time": "2021-10-11T12:27:43.379Z"
   },
   {
    "duration": 1339,
    "start_time": "2021-10-11T12:38:28.195Z"
   },
   {
    "duration": 5,
    "start_time": "2021-10-11T12:38:29.536Z"
   },
   {
    "duration": 47,
    "start_time": "2021-10-11T12:38:29.550Z"
   },
   {
    "duration": 12,
    "start_time": "2021-10-11T12:38:29.599Z"
   },
   {
    "duration": 32,
    "start_time": "2021-10-11T12:38:29.613Z"
   },
   {
    "duration": 10,
    "start_time": "2021-10-11T12:38:29.648Z"
   },
   {
    "duration": 21,
    "start_time": "2021-10-11T12:38:29.660Z"
   },
   {
    "duration": 7,
    "start_time": "2021-10-11T12:38:29.683Z"
   },
   {
    "duration": 104,
    "start_time": "2021-10-11T12:38:29.693Z"
   },
   {
    "duration": 360,
    "start_time": "2021-10-11T12:38:29.800Z"
   },
   {
    "duration": 515,
    "start_time": "2021-10-11T12:38:30.163Z"
   },
   {
    "duration": 3,
    "start_time": "2021-10-11T12:38:30.680Z"
   },
   {
    "duration": 523,
    "start_time": "2021-10-11T12:38:30.685Z"
   },
   {
    "duration": 23,
    "start_time": "2021-10-11T12:38:31.210Z"
   },
   {
    "duration": 25,
    "start_time": "2021-10-11T12:38:31.234Z"
   },
   {
    "duration": 564,
    "start_time": "2021-10-11T12:38:31.262Z"
   },
   {
    "duration": 50,
    "start_time": "2021-10-11T12:38:31.829Z"
   },
   {
    "duration": 334,
    "start_time": "2021-10-11T12:38:31.881Z"
   },
   {
    "duration": 6,
    "start_time": "2021-10-11T12:38:32.217Z"
   },
   {
    "duration": 655,
    "start_time": "2021-10-11T12:38:32.225Z"
   },
   {
    "duration": 372,
    "start_time": "2021-10-11T12:38:32.882Z"
   },
   {
    "duration": 369,
    "start_time": "2021-10-11T12:38:33.256Z"
   },
   {
    "duration": 27,
    "start_time": "2021-10-11T12:38:33.626Z"
   },
   {
    "duration": 141,
    "start_time": "2021-10-11T12:38:33.656Z"
   },
   {
    "duration": 136,
    "start_time": "2021-10-11T12:38:33.799Z"
   },
   {
    "duration": 131,
    "start_time": "2021-10-11T12:38:33.946Z"
   },
   {
    "duration": 146,
    "start_time": "2021-10-11T12:38:34.079Z"
   },
   {
    "duration": 158,
    "start_time": "2021-10-11T12:38:34.227Z"
   },
   {
    "duration": 136,
    "start_time": "2021-10-11T12:38:34.387Z"
   },
   {
    "duration": 142,
    "start_time": "2021-10-11T12:38:34.525Z"
   },
   {
    "duration": 132,
    "start_time": "2021-10-11T12:38:34.669Z"
   },
   {
    "duration": 128,
    "start_time": "2021-10-11T12:38:34.803Z"
   },
   {
    "duration": 24,
    "start_time": "2021-10-11T12:38:34.933Z"
   },
   {
    "duration": 9,
    "start_time": "2021-10-11T12:38:34.960Z"
   },
   {
    "duration": 16,
    "start_time": "2021-10-11T12:38:34.971Z"
   },
   {
    "duration": 8,
    "start_time": "2021-10-11T12:38:34.989Z"
   },
   {
    "duration": 458,
    "start_time": "2021-10-11T12:53:04.135Z"
   },
   {
    "duration": 664,
    "start_time": "2021-10-11T12:53:39.246Z"
   },
   {
    "duration": 6,
    "start_time": "2021-10-11T13:02:41.934Z"
   },
   {
    "duration": 196,
    "start_time": "2021-10-11T13:16:48.895Z"
   },
   {
    "duration": 199,
    "start_time": "2021-10-11T13:17:02.865Z"
   },
   {
    "duration": 189,
    "start_time": "2021-10-11T13:17:30.170Z"
   },
   {
    "duration": 199,
    "start_time": "2021-10-11T13:17:40.177Z"
   },
   {
    "duration": 206,
    "start_time": "2021-10-11T13:19:39.485Z"
   },
   {
    "duration": 354,
    "start_time": "2021-10-11T13:19:47.464Z"
   },
   {
    "duration": 43,
    "start_time": "2021-10-11T13:29:45.542Z"
   },
   {
    "duration": 1262,
    "start_time": "2021-10-11T13:34:34.910Z"
   },
   {
    "duration": 3,
    "start_time": "2021-10-11T13:34:36.174Z"
   },
   {
    "duration": 42,
    "start_time": "2021-10-11T13:34:36.180Z"
   },
   {
    "duration": 24,
    "start_time": "2021-10-11T13:34:36.224Z"
   },
   {
    "duration": 8,
    "start_time": "2021-10-11T13:34:36.250Z"
   },
   {
    "duration": 9,
    "start_time": "2021-10-11T13:34:36.259Z"
   },
   {
    "duration": 21,
    "start_time": "2021-10-11T13:34:36.270Z"
   },
   {
    "duration": 6,
    "start_time": "2021-10-11T13:34:36.294Z"
   },
   {
    "duration": 70,
    "start_time": "2021-10-11T13:34:36.303Z"
   },
   {
    "duration": 286,
    "start_time": "2021-10-11T13:34:36.375Z"
   },
   {
    "duration": 409,
    "start_time": "2021-10-11T13:34:36.663Z"
   },
   {
    "duration": 3,
    "start_time": "2021-10-11T13:34:37.074Z"
   },
   {
    "duration": 470,
    "start_time": "2021-10-11T13:34:37.079Z"
   },
   {
    "duration": 24,
    "start_time": "2021-10-11T13:34:37.551Z"
   },
   {
    "duration": 13,
    "start_time": "2021-10-11T13:34:37.577Z"
   },
   {
    "duration": 464,
    "start_time": "2021-10-11T13:34:37.592Z"
   },
   {
    "duration": 34,
    "start_time": "2021-10-11T13:34:38.057Z"
   },
   {
    "duration": 312,
    "start_time": "2021-10-11T13:34:38.093Z"
   },
   {
    "duration": 5,
    "start_time": "2021-10-11T13:34:38.406Z"
   },
   {
    "duration": 10,
    "start_time": "2021-10-11T13:34:38.413Z"
   },
   {
    "duration": 613,
    "start_time": "2021-10-11T13:34:38.425Z"
   },
   {
    "duration": 389,
    "start_time": "2021-10-11T13:34:39.044Z"
   },
   {
    "duration": 365,
    "start_time": "2021-10-11T13:34:39.437Z"
   },
   {
    "duration": 23,
    "start_time": "2021-10-11T13:34:39.804Z"
   },
   {
    "duration": 132,
    "start_time": "2021-10-11T13:34:39.828Z"
   },
   {
    "duration": 133,
    "start_time": "2021-10-11T13:34:39.961Z"
   },
   {
    "duration": 129,
    "start_time": "2021-10-11T13:34:40.096Z"
   },
   {
    "duration": 134,
    "start_time": "2021-10-11T13:34:40.228Z"
   },
   {
    "duration": 124,
    "start_time": "2021-10-11T13:34:40.364Z"
   },
   {
    "duration": 132,
    "start_time": "2021-10-11T13:34:40.490Z"
   },
   {
    "duration": 136,
    "start_time": "2021-10-11T13:34:40.624Z"
   },
   {
    "duration": 126,
    "start_time": "2021-10-11T13:34:40.762Z"
   },
   {
    "duration": 129,
    "start_time": "2021-10-11T13:34:40.890Z"
   },
   {
    "duration": 8,
    "start_time": "2021-10-11T13:34:41.020Z"
   },
   {
    "duration": 7,
    "start_time": "2021-10-11T13:34:41.044Z"
   },
   {
    "duration": 12,
    "start_time": "2021-10-11T13:34:41.052Z"
   },
   {
    "duration": 6,
    "start_time": "2021-10-11T13:34:41.066Z"
   },
   {
    "duration": 382,
    "start_time": "2021-10-11T13:36:44.030Z"
   },
   {
    "duration": 6,
    "start_time": "2021-10-11T13:37:34.452Z"
   },
   {
    "duration": 367,
    "start_time": "2021-10-11T13:38:22.611Z"
   },
   {
    "duration": 372,
    "start_time": "2021-10-11T13:39:34.041Z"
   },
   {
    "duration": 3,
    "start_time": "2021-10-11T13:56:38.319Z"
   },
   {
    "duration": 5,
    "start_time": "2021-10-11T13:56:43.671Z"
   },
   {
    "duration": 7,
    "start_time": "2021-10-11T13:59:12.824Z"
   },
   {
    "duration": 7,
    "start_time": "2021-10-11T13:59:19.154Z"
   },
   {
    "duration": 7,
    "start_time": "2021-10-11T13:59:29.673Z"
   },
   {
    "duration": 87,
    "start_time": "2021-10-11T14:01:03.680Z"
   },
   {
    "duration": 11,
    "start_time": "2021-10-11T14:01:10.290Z"
   },
   {
    "duration": 17,
    "start_time": "2021-10-11T14:01:15.810Z"
   },
   {
    "duration": 322,
    "start_time": "2021-10-11T14:02:09.000Z"
   },
   {
    "duration": 462,
    "start_time": "2021-10-11T14:15:09.896Z"
   },
   {
    "duration": 14,
    "start_time": "2021-10-11T14:15:16.355Z"
   },
   {
    "duration": 11,
    "start_time": "2021-10-11T14:15:18.631Z"
   },
   {
    "duration": -2566,
    "start_time": "2021-10-11T14:17:44.486Z"
   },
   {
    "duration": 8929,
    "start_time": "2021-10-11T14:17:49.514Z"
   },
   {
    "duration": -2589,
    "start_time": "2021-10-11T14:18:12.669Z"
   },
   {
    "duration": 7704,
    "start_time": "2021-10-11T14:18:36.156Z"
   },
   {
    "duration": 51,
    "start_time": "2021-10-11T14:21:00.224Z"
   },
   {
    "duration": 55,
    "start_time": "2021-10-11T14:21:28.710Z"
   },
   {
    "duration": 46,
    "start_time": "2021-10-11T14:21:44.664Z"
   },
   {
    "duration": 50,
    "start_time": "2021-10-11T14:22:12.018Z"
   },
   {
    "duration": 391,
    "start_time": "2021-10-11T14:23:37.769Z"
   },
   {
    "duration": 7589,
    "start_time": "2021-10-11T14:23:44.201Z"
   },
   {
    "duration": 51,
    "start_time": "2021-10-11T14:26:01.530Z"
   },
   {
    "duration": 73,
    "start_time": "2021-10-11T14:47:48.144Z"
   },
   {
    "duration": 81,
    "start_time": "2021-10-11T14:48:17.517Z"
   },
   {
    "duration": 97,
    "start_time": "2021-10-11T14:48:44.750Z"
   },
   {
    "duration": 36,
    "start_time": "2021-10-11T14:49:42.672Z"
   },
   {
    "duration": 77,
    "start_time": "2021-10-11T14:49:54.965Z"
   },
   {
    "duration": 147,
    "start_time": "2021-10-11T14:51:17.326Z"
   },
   {
    "duration": 54,
    "start_time": "2021-10-11T14:51:34.266Z"
   },
   {
    "duration": 2215,
    "start_time": "2021-10-11T14:53:30.635Z"
   },
   {
    "duration": 9302,
    "start_time": "2021-10-11T14:54:45.678Z"
   },
   {
    "duration": 9367,
    "start_time": "2021-10-11T14:55:22.181Z"
   },
   {
    "duration": 1482,
    "start_time": "2021-10-11T14:56:03.022Z"
   },
   {
    "duration": 236,
    "start_time": "2021-10-11T14:56:10.849Z"
   },
   {
    "duration": 1213,
    "start_time": "2021-10-11T15:02:25.665Z"
   },
   {
    "duration": 3,
    "start_time": "2021-10-11T15:02:26.881Z"
   },
   {
    "duration": 49,
    "start_time": "2021-10-11T15:02:26.886Z"
   },
   {
    "duration": 16,
    "start_time": "2021-10-11T15:02:26.937Z"
   },
   {
    "duration": 11,
    "start_time": "2021-10-11T15:02:26.956Z"
   },
   {
    "duration": 15,
    "start_time": "2021-10-11T15:02:26.969Z"
   },
   {
    "duration": 21,
    "start_time": "2021-10-11T15:02:26.986Z"
   },
   {
    "duration": 17,
    "start_time": "2021-10-11T15:02:27.010Z"
   },
   {
    "duration": 56,
    "start_time": "2021-10-11T15:02:27.029Z"
   },
   {
    "duration": 338,
    "start_time": "2021-10-11T15:02:27.087Z"
   },
   {
    "duration": 443,
    "start_time": "2021-10-11T15:02:27.427Z"
   },
   {
    "duration": 3,
    "start_time": "2021-10-11T15:02:27.873Z"
   },
   {
    "duration": 499,
    "start_time": "2021-10-11T15:02:27.878Z"
   },
   {
    "duration": 23,
    "start_time": "2021-10-11T15:02:28.379Z"
   },
   {
    "duration": 41,
    "start_time": "2021-10-11T15:02:28.405Z"
   },
   {
    "duration": 476,
    "start_time": "2021-10-11T15:02:28.448Z"
   },
   {
    "duration": 46,
    "start_time": "2021-10-11T15:02:28.925Z"
   },
   {
    "duration": 325,
    "start_time": "2021-10-11T15:02:28.973Z"
   },
   {
    "duration": 5,
    "start_time": "2021-10-11T15:02:29.300Z"
   },
   {
    "duration": 11,
    "start_time": "2021-10-11T15:02:29.306Z"
   },
   {
    "duration": 666,
    "start_time": "2021-10-11T15:02:29.319Z"
   },
   {
    "duration": 371,
    "start_time": "2021-10-11T15:02:29.987Z"
   },
   {
    "duration": 377,
    "start_time": "2021-10-11T15:02:30.362Z"
   },
   {
    "duration": 1105,
    "start_time": "2021-10-11T15:02:30.746Z"
   },
   {
    "duration": -2603,
    "start_time": "2021-10-11T15:02:34.457Z"
   },
   {
    "duration": -2604,
    "start_time": "2021-10-11T15:02:34.459Z"
   },
   {
    "duration": -2604,
    "start_time": "2021-10-11T15:02:34.461Z"
   },
   {
    "duration": -2604,
    "start_time": "2021-10-11T15:02:34.463Z"
   },
   {
    "duration": -2605,
    "start_time": "2021-10-11T15:02:34.465Z"
   },
   {
    "duration": -2606,
    "start_time": "2021-10-11T15:02:34.467Z"
   },
   {
    "duration": -2608,
    "start_time": "2021-10-11T15:02:34.470Z"
   },
   {
    "duration": -2610,
    "start_time": "2021-10-11T15:02:34.473Z"
   },
   {
    "duration": -2610,
    "start_time": "2021-10-11T15:02:34.474Z"
   },
   {
    "duration": -2611,
    "start_time": "2021-10-11T15:02:34.476Z"
   },
   {
    "duration": -2612,
    "start_time": "2021-10-11T15:02:34.478Z"
   },
   {
    "duration": -2613,
    "start_time": "2021-10-11T15:02:34.480Z"
   },
   {
    "duration": -2614,
    "start_time": "2021-10-11T15:02:34.482Z"
   },
   {
    "duration": -2616,
    "start_time": "2021-10-11T15:02:34.485Z"
   },
   {
    "duration": 1240,
    "start_time": "2021-10-11T15:02:47.543Z"
   },
   {
    "duration": 3,
    "start_time": "2021-10-11T15:02:48.785Z"
   },
   {
    "duration": 36,
    "start_time": "2021-10-11T15:02:48.790Z"
   },
   {
    "duration": 24,
    "start_time": "2021-10-11T15:02:48.828Z"
   },
   {
    "duration": 8,
    "start_time": "2021-10-11T15:02:48.856Z"
   },
   {
    "duration": 8,
    "start_time": "2021-10-11T15:02:48.866Z"
   },
   {
    "duration": 17,
    "start_time": "2021-10-11T15:02:48.876Z"
   },
   {
    "duration": 6,
    "start_time": "2021-10-11T15:02:48.896Z"
   },
   {
    "duration": 82,
    "start_time": "2021-10-11T15:02:48.904Z"
   },
   {
    "duration": 312,
    "start_time": "2021-10-11T15:02:48.988Z"
   },
   {
    "duration": 430,
    "start_time": "2021-10-11T15:02:49.301Z"
   },
   {
    "duration": 3,
    "start_time": "2021-10-11T15:02:49.733Z"
   },
   {
    "duration": 523,
    "start_time": "2021-10-11T15:02:49.746Z"
   },
   {
    "duration": 23,
    "start_time": "2021-10-11T15:02:50.270Z"
   },
   {
    "duration": 15,
    "start_time": "2021-10-11T15:02:50.295Z"
   },
   {
    "duration": 522,
    "start_time": "2021-10-11T15:02:50.311Z"
   },
   {
    "duration": 51,
    "start_time": "2021-10-11T15:02:50.835Z"
   },
   {
    "duration": 330,
    "start_time": "2021-10-11T15:02:50.888Z"
   },
   {
    "duration": 5,
    "start_time": "2021-10-11T15:02:51.220Z"
   },
   {
    "duration": 22,
    "start_time": "2021-10-11T15:02:51.226Z"
   },
   {
    "duration": 651,
    "start_time": "2021-10-11T15:02:51.250Z"
   },
   {
    "duration": 417,
    "start_time": "2021-10-11T15:02:51.903Z"
   },
   {
    "duration": 408,
    "start_time": "2021-10-11T15:02:52.324Z"
   },
   {
    "duration": 812,
    "start_time": "2021-10-11T15:02:52.734Z"
   },
   {
    "duration": -2563,
    "start_time": "2021-10-11T15:02:56.113Z"
   },
   {
    "duration": -2564,
    "start_time": "2021-10-11T15:02:56.115Z"
   },
   {
    "duration": -2565,
    "start_time": "2021-10-11T15:02:56.118Z"
   },
   {
    "duration": -2566,
    "start_time": "2021-10-11T15:02:56.120Z"
   },
   {
    "duration": -2567,
    "start_time": "2021-10-11T15:02:56.123Z"
   },
   {
    "duration": -2567,
    "start_time": "2021-10-11T15:02:56.124Z"
   },
   {
    "duration": -2570,
    "start_time": "2021-10-11T15:02:56.128Z"
   },
   {
    "duration": -2573,
    "start_time": "2021-10-11T15:02:56.133Z"
   },
   {
    "duration": -2574,
    "start_time": "2021-10-11T15:02:56.135Z"
   },
   {
    "duration": -2573,
    "start_time": "2021-10-11T15:02:56.136Z"
   },
   {
    "duration": -2575,
    "start_time": "2021-10-11T15:02:56.139Z"
   },
   {
    "duration": -2575,
    "start_time": "2021-10-11T15:02:56.140Z"
   },
   {
    "duration": -2575,
    "start_time": "2021-10-11T15:02:56.142Z"
   },
   {
    "duration": -2575,
    "start_time": "2021-10-11T15:02:56.143Z"
   },
   {
    "duration": 4369,
    "start_time": "2021-10-11T15:05:14.926Z"
   },
   {
    "duration": 747,
    "start_time": "2021-10-11T15:11:14.319Z"
   },
   {
    "duration": 4330,
    "start_time": "2021-10-11T15:11:29.269Z"
   },
   {
    "duration": 4267,
    "start_time": "2021-10-11T15:22:09.051Z"
   },
   {
    "duration": 4538,
    "start_time": "2021-10-11T15:23:26.162Z"
   },
   {
    "duration": 1242,
    "start_time": "2021-10-11T15:25:09.247Z"
   },
   {
    "duration": 3,
    "start_time": "2021-10-11T15:25:10.492Z"
   },
   {
    "duration": 34,
    "start_time": "2021-10-11T15:25:10.497Z"
   },
   {
    "duration": 22,
    "start_time": "2021-10-11T15:25:10.533Z"
   },
   {
    "duration": 11,
    "start_time": "2021-10-11T15:25:10.557Z"
   },
   {
    "duration": 6,
    "start_time": "2021-10-11T15:25:10.569Z"
   },
   {
    "duration": 18,
    "start_time": "2021-10-11T15:25:10.576Z"
   },
   {
    "duration": 5,
    "start_time": "2021-10-11T15:25:10.597Z"
   },
   {
    "duration": 80,
    "start_time": "2021-10-11T15:25:10.604Z"
   },
   {
    "duration": 294,
    "start_time": "2021-10-11T15:25:10.686Z"
   },
   {
    "duration": 423,
    "start_time": "2021-10-11T15:25:10.981Z"
   },
   {
    "duration": 3,
    "start_time": "2021-10-11T15:25:11.406Z"
   },
   {
    "duration": 595,
    "start_time": "2021-10-11T15:25:11.411Z"
   },
   {
    "duration": 38,
    "start_time": "2021-10-11T15:25:12.008Z"
   },
   {
    "duration": 20,
    "start_time": "2021-10-11T15:25:12.048Z"
   },
   {
    "duration": 498,
    "start_time": "2021-10-11T15:25:12.070Z"
   },
   {
    "duration": 34,
    "start_time": "2021-10-11T15:25:12.571Z"
   },
   {
    "duration": 351,
    "start_time": "2021-10-11T15:25:12.607Z"
   },
   {
    "duration": 3,
    "start_time": "2021-10-11T15:25:12.960Z"
   },
   {
    "duration": 32,
    "start_time": "2021-10-11T15:25:12.965Z"
   },
   {
    "duration": 629,
    "start_time": "2021-10-11T15:25:12.999Z"
   },
   {
    "duration": 391,
    "start_time": "2021-10-11T15:25:13.630Z"
   },
   {
    "duration": 412,
    "start_time": "2021-10-11T15:25:14.023Z"
   },
   {
    "duration": 6873,
    "start_time": "2021-10-11T15:25:14.437Z"
   },
   {
    "duration": -2572,
    "start_time": "2021-10-11T15:25:23.885Z"
   },
   {
    "duration": -2575,
    "start_time": "2021-10-11T15:25:23.889Z"
   },
   {
    "duration": -2578,
    "start_time": "2021-10-11T15:25:23.893Z"
   },
   {
    "duration": -2581,
    "start_time": "2021-10-11T15:25:23.897Z"
   },
   {
    "duration": -2582,
    "start_time": "2021-10-11T15:25:23.899Z"
   },
   {
    "duration": -2583,
    "start_time": "2021-10-11T15:25:23.901Z"
   },
   {
    "duration": -2584,
    "start_time": "2021-10-11T15:25:23.903Z"
   },
   {
    "duration": -2584,
    "start_time": "2021-10-11T15:25:23.904Z"
   },
   {
    "duration": -2591,
    "start_time": "2021-10-11T15:25:23.912Z"
   },
   {
    "duration": -2593,
    "start_time": "2021-10-11T15:25:23.915Z"
   },
   {
    "duration": -2597,
    "start_time": "2021-10-11T15:25:23.919Z"
   },
   {
    "duration": -2598,
    "start_time": "2021-10-11T15:25:23.921Z"
   },
   {
    "duration": -2598,
    "start_time": "2021-10-11T15:25:23.922Z"
   },
   {
    "duration": -2599,
    "start_time": "2021-10-11T15:25:23.924Z"
   },
   {
    "duration": 6491,
    "start_time": "2021-10-11T15:25:40.342Z"
   },
   {
    "duration": 2313,
    "start_time": "2021-10-11T15:26:19.752Z"
   },
   {
    "duration": 2336,
    "start_time": "2021-10-11T15:26:52.132Z"
   },
   {
    "duration": 2464,
    "start_time": "2021-10-11T15:27:25.912Z"
   },
   {
    "duration": 1348,
    "start_time": "2021-10-11T15:27:53.268Z"
   },
   {
    "duration": 3,
    "start_time": "2021-10-11T15:27:54.618Z"
   },
   {
    "duration": 46,
    "start_time": "2021-10-11T15:27:54.624Z"
   },
   {
    "duration": 10,
    "start_time": "2021-10-11T15:27:54.673Z"
   },
   {
    "duration": 37,
    "start_time": "2021-10-11T15:27:54.685Z"
   },
   {
    "duration": 17,
    "start_time": "2021-10-11T15:27:54.724Z"
   },
   {
    "duration": 30,
    "start_time": "2021-10-11T15:27:54.742Z"
   },
   {
    "duration": 7,
    "start_time": "2021-10-11T15:27:54.774Z"
   },
   {
    "duration": 42,
    "start_time": "2021-10-11T15:27:54.784Z"
   },
   {
    "duration": 341,
    "start_time": "2021-10-11T15:27:54.828Z"
   },
   {
    "duration": 421,
    "start_time": "2021-10-11T15:27:55.171Z"
   },
   {
    "duration": 3,
    "start_time": "2021-10-11T15:27:55.593Z"
   },
   {
    "duration": 499,
    "start_time": "2021-10-11T15:27:55.598Z"
   },
   {
    "duration": 27,
    "start_time": "2021-10-11T15:27:56.098Z"
   },
   {
    "duration": 36,
    "start_time": "2021-10-11T15:27:56.127Z"
   },
   {
    "duration": 477,
    "start_time": "2021-10-11T15:27:56.165Z"
   },
   {
    "duration": 49,
    "start_time": "2021-10-11T15:27:56.643Z"
   },
   {
    "duration": 347,
    "start_time": "2021-10-11T15:27:56.694Z"
   },
   {
    "duration": 3,
    "start_time": "2021-10-11T15:27:57.043Z"
   },
   {
    "duration": 24,
    "start_time": "2021-10-11T15:27:57.049Z"
   },
   {
    "duration": 614,
    "start_time": "2021-10-11T15:27:57.074Z"
   },
   {
    "duration": 358,
    "start_time": "2021-10-11T15:27:57.690Z"
   },
   {
    "duration": 384,
    "start_time": "2021-10-11T15:27:58.051Z"
   },
   {
    "duration": 2414,
    "start_time": "2021-10-11T15:27:58.444Z"
   },
   {
    "duration": 25,
    "start_time": "2021-10-11T15:28:00.861Z"
   },
   {
    "duration": 148,
    "start_time": "2021-10-11T15:28:00.888Z"
   },
   {
    "duration": 224,
    "start_time": "2021-10-11T15:28:01.039Z"
   },
   {
    "duration": 136,
    "start_time": "2021-10-11T15:28:01.265Z"
   },
   {
    "duration": 141,
    "start_time": "2021-10-11T15:28:01.403Z"
   },
   {
    "duration": 142,
    "start_time": "2021-10-11T15:28:01.546Z"
   },
   {
    "duration": 140,
    "start_time": "2021-10-11T15:28:01.690Z"
   },
   {
    "duration": 147,
    "start_time": "2021-10-11T15:28:01.832Z"
   },
   {
    "duration": 133,
    "start_time": "2021-10-11T15:28:01.981Z"
   },
   {
    "duration": 151,
    "start_time": "2021-10-11T15:28:02.116Z"
   },
   {
    "duration": 11,
    "start_time": "2021-10-11T15:28:02.269Z"
   },
   {
    "duration": 28,
    "start_time": "2021-10-11T15:28:02.282Z"
   },
   {
    "duration": 16,
    "start_time": "2021-10-11T15:28:02.312Z"
   },
   {
    "duration": 7,
    "start_time": "2021-10-11T15:28:02.330Z"
   },
   {
    "duration": 59,
    "start_time": "2021-10-11T15:41:53.735Z"
   },
   {
    "duration": 1223,
    "start_time": "2021-10-11T15:42:00.589Z"
   },
   {
    "duration": 3,
    "start_time": "2021-10-11T15:42:01.814Z"
   },
   {
    "duration": 43,
    "start_time": "2021-10-11T15:42:01.819Z"
   },
   {
    "duration": 9,
    "start_time": "2021-10-11T15:42:01.864Z"
   },
   {
    "duration": 9,
    "start_time": "2021-10-11T15:42:01.875Z"
   },
   {
    "duration": 10,
    "start_time": "2021-10-11T15:42:01.886Z"
   },
   {
    "duration": 23,
    "start_time": "2021-10-11T15:42:01.898Z"
   },
   {
    "duration": 24,
    "start_time": "2021-10-11T15:42:01.923Z"
   },
   {
    "duration": 48,
    "start_time": "2021-10-11T15:42:01.951Z"
   },
   {
    "duration": 333,
    "start_time": "2021-10-11T15:42:02.001Z"
   },
   {
    "duration": 427,
    "start_time": "2021-10-11T15:42:02.335Z"
   },
   {
    "duration": 3,
    "start_time": "2021-10-11T15:42:02.764Z"
   },
   {
    "duration": 505,
    "start_time": "2021-10-11T15:42:02.769Z"
   },
   {
    "duration": 25,
    "start_time": "2021-10-11T15:42:03.276Z"
   },
   {
    "duration": 16,
    "start_time": "2021-10-11T15:42:03.303Z"
   },
   {
    "duration": 490,
    "start_time": "2021-10-11T15:42:03.346Z"
   },
   {
    "duration": 43,
    "start_time": "2021-10-11T15:42:03.838Z"
   },
   {
    "duration": 341,
    "start_time": "2021-10-11T15:42:03.882Z"
   },
   {
    "duration": 2,
    "start_time": "2021-10-11T15:42:04.225Z"
   },
   {
    "duration": 15,
    "start_time": "2021-10-11T15:42:04.229Z"
   },
   {
    "duration": 640,
    "start_time": "2021-10-11T15:42:04.247Z"
   },
   {
    "duration": 381,
    "start_time": "2021-10-11T15:42:04.889Z"
   },
   {
    "duration": 379,
    "start_time": "2021-10-11T15:42:05.272Z"
   },
   {
    "duration": 2377,
    "start_time": "2021-10-11T15:42:05.653Z"
   },
   {
    "duration": 39,
    "start_time": "2021-10-11T15:42:08.033Z"
   },
   {
    "duration": 125,
    "start_time": "2021-10-11T15:42:08.074Z"
   },
   {
    "duration": 213,
    "start_time": "2021-10-11T15:42:08.203Z"
   },
   {
    "duration": 130,
    "start_time": "2021-10-11T15:42:08.418Z"
   },
   {
    "duration": 131,
    "start_time": "2021-10-11T15:42:08.550Z"
   },
   {
    "duration": 127,
    "start_time": "2021-10-11T15:42:08.682Z"
   },
   {
    "duration": 136,
    "start_time": "2021-10-11T15:42:08.811Z"
   },
   {
    "duration": 132,
    "start_time": "2021-10-11T15:42:08.950Z"
   },
   {
    "duration": 122,
    "start_time": "2021-10-11T15:42:09.084Z"
   },
   {
    "duration": 122,
    "start_time": "2021-10-11T15:42:09.208Z"
   },
   {
    "duration": 16,
    "start_time": "2021-10-11T15:42:09.332Z"
   },
   {
    "duration": 9,
    "start_time": "2021-10-11T15:42:09.351Z"
   },
   {
    "duration": 17,
    "start_time": "2021-10-11T15:42:09.361Z"
   },
   {
    "duration": 7,
    "start_time": "2021-10-11T15:42:09.381Z"
   },
   {
    "duration": 5,
    "start_time": "2021-10-11T15:54:04.510Z"
   },
   {
    "duration": 6317,
    "start_time": "2021-10-11T16:04:10.836Z"
   },
   {
    "duration": 249,
    "start_time": "2021-10-11T16:04:28.418Z"
   },
   {
    "duration": 124,
    "start_time": "2021-10-11T16:05:05.981Z"
   },
   {
    "duration": 1204,
    "start_time": "2021-10-11T16:27:32.602Z"
   },
   {
    "duration": 3,
    "start_time": "2021-10-11T16:27:33.808Z"
   },
   {
    "duration": 134,
    "start_time": "2021-10-11T16:27:33.814Z"
   },
   {
    "duration": 13,
    "start_time": "2021-10-11T16:27:33.951Z"
   },
   {
    "duration": 7,
    "start_time": "2021-10-11T16:27:33.966Z"
   },
   {
    "duration": 8,
    "start_time": "2021-10-11T16:27:33.974Z"
   },
   {
    "duration": 17,
    "start_time": "2021-10-11T16:27:33.984Z"
   },
   {
    "duration": 11,
    "start_time": "2021-10-11T16:27:34.002Z"
   },
   {
    "duration": 49,
    "start_time": "2021-10-11T16:27:34.045Z"
   },
   {
    "duration": 296,
    "start_time": "2021-10-11T16:27:34.096Z"
   },
   {
    "duration": 421,
    "start_time": "2021-10-11T16:27:34.394Z"
   },
   {
    "duration": 3,
    "start_time": "2021-10-11T16:27:34.817Z"
   },
   {
    "duration": 494,
    "start_time": "2021-10-11T16:27:34.822Z"
   },
   {
    "duration": 40,
    "start_time": "2021-10-11T16:27:35.318Z"
   },
   {
    "duration": 14,
    "start_time": "2021-10-11T16:27:35.360Z"
   },
   {
    "duration": 492,
    "start_time": "2021-10-11T16:27:35.376Z"
   },
   {
    "duration": 31,
    "start_time": "2021-10-11T16:27:35.870Z"
   },
   {
    "duration": 329,
    "start_time": "2021-10-11T16:27:35.903Z"
   },
   {
    "duration": 2,
    "start_time": "2021-10-11T16:27:36.234Z"
   },
   {
    "duration": 7,
    "start_time": "2021-10-11T16:27:36.245Z"
   },
   {
    "duration": 634,
    "start_time": "2021-10-11T16:27:36.253Z"
   },
   {
    "duration": 341,
    "start_time": "2021-10-11T16:27:36.889Z"
   },
   {
    "duration": 381,
    "start_time": "2021-10-11T16:27:37.232Z"
   },
   {
    "duration": 2150,
    "start_time": "2021-10-11T16:27:37.615Z"
   },
   {
    "duration": 22,
    "start_time": "2021-10-11T16:27:39.766Z"
   },
   {
    "duration": 130,
    "start_time": "2021-10-11T16:27:39.789Z"
   },
   {
    "duration": 225,
    "start_time": "2021-10-11T16:27:39.923Z"
   },
   {
    "duration": 128,
    "start_time": "2021-10-11T16:27:40.151Z"
   },
   {
    "duration": 127,
    "start_time": "2021-10-11T16:27:40.281Z"
   },
   {
    "duration": 132,
    "start_time": "2021-10-11T16:27:40.410Z"
   },
   {
    "duration": 132,
    "start_time": "2021-10-11T16:27:40.545Z"
   },
   {
    "duration": 126,
    "start_time": "2021-10-11T16:27:40.678Z"
   },
   {
    "duration": 128,
    "start_time": "2021-10-11T16:27:40.805Z"
   },
   {
    "duration": 136,
    "start_time": "2021-10-11T16:27:40.934Z"
   },
   {
    "duration": 8,
    "start_time": "2021-10-11T16:27:41.072Z"
   },
   {
    "duration": 22,
    "start_time": "2021-10-11T16:27:41.081Z"
   },
   {
    "duration": 15,
    "start_time": "2021-10-11T16:27:41.105Z"
   },
   {
    "duration": 11,
    "start_time": "2021-10-11T16:27:41.121Z"
   },
   {
    "duration": 1455,
    "start_time": "2021-10-12T07:46:36.570Z"
   },
   {
    "duration": 3,
    "start_time": "2021-10-12T07:46:38.027Z"
   },
   {
    "duration": 32,
    "start_time": "2021-10-12T07:46:38.033Z"
   },
   {
    "duration": 10,
    "start_time": "2021-10-12T07:46:38.067Z"
   },
   {
    "duration": 10,
    "start_time": "2021-10-12T07:46:38.078Z"
   },
   {
    "duration": 9,
    "start_time": "2021-10-12T07:46:38.089Z"
   },
   {
    "duration": 17,
    "start_time": "2021-10-12T07:46:38.099Z"
   },
   {
    "duration": 35,
    "start_time": "2021-10-12T07:46:38.118Z"
   },
   {
    "duration": 45,
    "start_time": "2021-10-12T07:46:38.157Z"
   },
   {
    "duration": 309,
    "start_time": "2021-10-12T07:46:38.205Z"
   },
   {
    "duration": 405,
    "start_time": "2021-10-12T07:46:38.517Z"
   },
   {
    "duration": 4,
    "start_time": "2021-10-12T07:46:38.924Z"
   },
   {
    "duration": 479,
    "start_time": "2021-10-12T07:46:38.930Z"
   },
   {
    "duration": 23,
    "start_time": "2021-10-12T07:46:39.411Z"
   },
   {
    "duration": 15,
    "start_time": "2021-10-12T07:46:39.450Z"
   },
   {
    "duration": 463,
    "start_time": "2021-10-12T07:46:39.466Z"
   },
   {
    "duration": 43,
    "start_time": "2021-10-12T07:46:39.931Z"
   },
   {
    "duration": 316,
    "start_time": "2021-10-12T07:46:39.976Z"
   },
   {
    "duration": 3,
    "start_time": "2021-10-12T07:46:40.294Z"
   },
   {
    "duration": 16,
    "start_time": "2021-10-12T07:46:40.298Z"
   },
   {
    "duration": 611,
    "start_time": "2021-10-12T07:46:40.316Z"
   },
   {
    "duration": 392,
    "start_time": "2021-10-12T07:46:40.929Z"
   },
   {
    "duration": 383,
    "start_time": "2021-10-12T07:46:41.323Z"
   },
   {
    "duration": 2113,
    "start_time": "2021-10-12T07:46:41.707Z"
   },
   {
    "duration": 40,
    "start_time": "2021-10-12T07:46:43.822Z"
   },
   {
    "duration": 123,
    "start_time": "2021-10-12T07:46:43.863Z"
   },
   {
    "duration": 225,
    "start_time": "2021-10-12T07:46:43.990Z"
   },
   {
    "duration": 124,
    "start_time": "2021-10-12T07:46:44.217Z"
   },
   {
    "duration": 125,
    "start_time": "2021-10-12T07:46:44.343Z"
   },
   {
    "duration": 123,
    "start_time": "2021-10-12T07:46:44.470Z"
   },
   {
    "duration": 121,
    "start_time": "2021-10-12T07:46:44.595Z"
   },
   {
    "duration": 125,
    "start_time": "2021-10-12T07:46:44.719Z"
   },
   {
    "duration": 124,
    "start_time": "2021-10-12T07:46:44.846Z"
   },
   {
    "duration": 129,
    "start_time": "2021-10-12T07:46:44.972Z"
   },
   {
    "duration": 9,
    "start_time": "2021-10-12T07:46:45.103Z"
   },
   {
    "duration": 10,
    "start_time": "2021-10-12T07:46:45.113Z"
   },
   {
    "duration": 24,
    "start_time": "2021-10-12T07:46:45.125Z"
   },
   {
    "duration": 7,
    "start_time": "2021-10-12T07:46:45.151Z"
   },
   {
    "duration": 310,
    "start_time": "2021-10-12T07:50:17.189Z"
   },
   {
    "duration": 28,
    "start_time": "2021-10-12T07:50:22.935Z"
   },
   {
    "duration": 1579,
    "start_time": "2021-10-12T09:03:37.325Z"
   },
   {
    "duration": 4,
    "start_time": "2021-10-12T09:03:38.906Z"
   },
   {
    "duration": 63,
    "start_time": "2021-10-12T09:03:38.913Z"
   },
   {
    "duration": 12,
    "start_time": "2021-10-12T09:03:38.979Z"
   },
   {
    "duration": 11,
    "start_time": "2021-10-12T09:03:38.993Z"
   },
   {
    "duration": 9,
    "start_time": "2021-10-12T09:03:39.006Z"
   },
   {
    "duration": 22,
    "start_time": "2021-10-12T09:03:39.057Z"
   },
   {
    "duration": 53,
    "start_time": "2021-10-12T09:03:39.083Z"
   },
   {
    "duration": 88,
    "start_time": "2021-10-12T09:03:39.139Z"
   },
   {
    "duration": 565,
    "start_time": "2021-10-12T09:03:39.230Z"
   },
   {
    "duration": 670,
    "start_time": "2021-10-12T09:03:39.797Z"
   },
   {
    "duration": 5,
    "start_time": "2021-10-12T09:03:40.470Z"
   },
   {
    "duration": 762,
    "start_time": "2021-10-12T09:03:40.478Z"
   },
   {
    "duration": 44,
    "start_time": "2021-10-12T09:03:41.244Z"
   },
   {
    "duration": 21,
    "start_time": "2021-10-12T09:03:41.291Z"
   },
   {
    "duration": 735,
    "start_time": "2021-10-12T09:03:41.314Z"
   },
   {
    "duration": 42,
    "start_time": "2021-10-12T09:03:42.053Z"
   },
   {
    "duration": 70,
    "start_time": "2021-10-12T09:03:42.097Z"
   },
   {
    "duration": 522,
    "start_time": "2021-10-12T09:03:42.170Z"
   },
   {
    "duration": 3,
    "start_time": "2021-10-12T09:03:42.695Z"
   },
   {
    "duration": 14,
    "start_time": "2021-10-12T09:03:42.701Z"
   },
   {
    "duration": 889,
    "start_time": "2021-10-12T09:03:42.718Z"
   },
   {
    "duration": 672,
    "start_time": "2021-10-12T09:03:43.612Z"
   },
   {
    "duration": 754,
    "start_time": "2021-10-12T09:03:44.288Z"
   },
   {
    "duration": 3483,
    "start_time": "2021-10-12T09:03:45.045Z"
   },
   {
    "duration": 48,
    "start_time": "2021-10-12T09:03:48.531Z"
   },
   {
    "duration": 193,
    "start_time": "2021-10-12T09:03:48.581Z"
   },
   {
    "duration": 203,
    "start_time": "2021-10-12T09:03:48.777Z"
   },
   {
    "duration": 290,
    "start_time": "2021-10-12T09:03:48.984Z"
   },
   {
    "duration": 195,
    "start_time": "2021-10-12T09:03:49.277Z"
   },
   {
    "duration": 197,
    "start_time": "2021-10-12T09:03:49.475Z"
   },
   {
    "duration": 207,
    "start_time": "2021-10-12T09:03:49.676Z"
   },
   {
    "duration": 209,
    "start_time": "2021-10-12T09:03:49.887Z"
   },
   {
    "duration": 214,
    "start_time": "2021-10-12T09:03:50.099Z"
   },
   {
    "duration": 210,
    "start_time": "2021-10-12T09:03:50.315Z"
   },
   {
    "duration": 11,
    "start_time": "2021-10-12T09:03:50.527Z"
   },
   {
    "duration": 27,
    "start_time": "2021-10-12T09:03:50.540Z"
   },
   {
    "duration": 16,
    "start_time": "2021-10-12T09:03:50.570Z"
   },
   {
    "duration": 9,
    "start_time": "2021-10-12T09:03:50.589Z"
   },
   {
    "duration": 6,
    "start_time": "2021-10-12T09:04:04.511Z"
   },
   {
    "duration": 1537,
    "start_time": "2021-10-12T09:04:14.270Z"
   },
   {
    "duration": 5,
    "start_time": "2021-10-12T09:04:15.810Z"
   },
   {
    "duration": 63,
    "start_time": "2021-10-12T09:04:15.818Z"
   },
   {
    "duration": 12,
    "start_time": "2021-10-12T09:04:15.884Z"
   },
   {
    "duration": 8,
    "start_time": "2021-10-12T09:04:15.899Z"
   },
   {
    "duration": 11,
    "start_time": "2021-10-12T09:04:15.909Z"
   },
   {
    "duration": 50,
    "start_time": "2021-10-12T09:04:15.923Z"
   },
   {
    "duration": 9,
    "start_time": "2021-10-12T09:04:15.976Z"
   },
   {
    "duration": 80,
    "start_time": "2021-10-12T09:04:15.989Z"
   },
   {
    "duration": 483,
    "start_time": "2021-10-12T09:04:16.073Z"
   },
   {
    "duration": 678,
    "start_time": "2021-10-12T09:04:16.558Z"
   },
   {
    "duration": 5,
    "start_time": "2021-10-12T09:04:17.238Z"
   },
   {
    "duration": 758,
    "start_time": "2021-10-12T09:04:17.257Z"
   },
   {
    "duration": 49,
    "start_time": "2021-10-12T09:04:18.018Z"
   },
   {
    "duration": 22,
    "start_time": "2021-10-12T09:04:18.069Z"
   },
   {
    "duration": 750,
    "start_time": "2021-10-12T09:04:18.093Z"
   },
   {
    "duration": 45,
    "start_time": "2021-10-12T09:04:18.845Z"
   },
   {
    "duration": 79,
    "start_time": "2021-10-12T09:04:18.892Z"
   },
   {
    "duration": 529,
    "start_time": "2021-10-12T09:04:18.973Z"
   },
   {
    "duration": 4,
    "start_time": "2021-10-12T09:04:19.504Z"
   },
   {
    "duration": 10,
    "start_time": "2021-10-12T09:04:19.510Z"
   },
   {
    "duration": 1264,
    "start_time": "2021-10-12T09:04:19.522Z"
   },
   {
    "duration": 490,
    "start_time": "2021-10-12T09:04:20.788Z"
   },
   {
    "duration": 493,
    "start_time": "2021-10-12T09:04:21.281Z"
   },
   {
    "duration": 3153,
    "start_time": "2021-10-12T09:04:21.777Z"
   },
   {
    "duration": 50,
    "start_time": "2021-10-12T09:04:24.932Z"
   },
   {
    "duration": 205,
    "start_time": "2021-10-12T09:04:24.987Z"
   },
   {
    "duration": 368,
    "start_time": "2021-10-12T09:04:25.195Z"
   },
   {
    "duration": 198,
    "start_time": "2021-10-12T09:04:25.566Z"
   },
   {
    "duration": 201,
    "start_time": "2021-10-12T09:04:25.766Z"
   },
   {
    "duration": 196,
    "start_time": "2021-10-12T09:04:25.970Z"
   },
   {
    "duration": 206,
    "start_time": "2021-10-12T09:04:26.169Z"
   },
   {
    "duration": 191,
    "start_time": "2021-10-12T09:04:26.377Z"
   },
   {
    "duration": 198,
    "start_time": "2021-10-12T09:04:26.571Z"
   },
   {
    "duration": 195,
    "start_time": "2021-10-12T09:04:26.771Z"
   },
   {
    "duration": 10,
    "start_time": "2021-10-12T09:04:26.969Z"
   },
   {
    "duration": 14,
    "start_time": "2021-10-12T09:04:26.981Z"
   },
   {
    "duration": 14,
    "start_time": "2021-10-12T09:04:26.998Z"
   },
   {
    "duration": 9,
    "start_time": "2021-10-12T09:04:27.015Z"
   },
   {
    "duration": 200,
    "start_time": "2021-10-12T09:09:29.460Z"
   },
   {
    "duration": 481,
    "start_time": "2021-10-12T09:16:54.291Z"
   },
   {
    "duration": 1539,
    "start_time": "2021-10-12T11:28:07.037Z"
   },
   {
    "duration": 5,
    "start_time": "2021-10-12T11:28:08.580Z"
   },
   {
    "duration": 48,
    "start_time": "2021-10-12T11:28:08.589Z"
   },
   {
    "duration": 13,
    "start_time": "2021-10-12T11:28:08.658Z"
   },
   {
    "duration": 11,
    "start_time": "2021-10-12T11:28:08.673Z"
   },
   {
    "duration": 13,
    "start_time": "2021-10-12T11:28:08.686Z"
   },
   {
    "duration": 58,
    "start_time": "2021-10-12T11:28:08.702Z"
   },
   {
    "duration": 9,
    "start_time": "2021-10-12T11:28:08.765Z"
   },
   {
    "duration": 88,
    "start_time": "2021-10-12T11:28:08.778Z"
   },
   {
    "duration": 444,
    "start_time": "2021-10-12T11:28:08.869Z"
   },
   {
    "duration": 670,
    "start_time": "2021-10-12T11:28:09.315Z"
   },
   {
    "duration": 4,
    "start_time": "2021-10-12T11:28:09.987Z"
   },
   {
    "duration": 760,
    "start_time": "2021-10-12T11:28:09.993Z"
   },
   {
    "duration": 35,
    "start_time": "2021-10-12T11:28:10.758Z"
   },
   {
    "duration": 21,
    "start_time": "2021-10-12T11:28:10.795Z"
   },
   {
    "duration": 1041,
    "start_time": "2021-10-12T11:28:10.819Z"
   },
   {
    "duration": 35,
    "start_time": "2021-10-12T11:28:11.863Z"
   },
   {
    "duration": 134,
    "start_time": "2021-10-12T11:28:11.900Z"
   },
   {
    "duration": 621,
    "start_time": "2021-10-12T11:28:12.037Z"
   },
   {
    "duration": 3,
    "start_time": "2021-10-12T11:28:12.660Z"
   },
   {
    "duration": 9,
    "start_time": "2021-10-12T11:28:12.666Z"
   },
   {
    "duration": 743,
    "start_time": "2021-10-12T11:28:12.677Z"
   },
   {
    "duration": 548,
    "start_time": "2021-10-12T11:28:13.425Z"
   },
   {
    "duration": 499,
    "start_time": "2021-10-12T11:28:13.975Z"
   },
   {
    "duration": 3236,
    "start_time": "2021-10-12T11:28:14.477Z"
   },
   {
    "duration": 48,
    "start_time": "2021-10-12T11:28:17.716Z"
   },
   {
    "duration": 216,
    "start_time": "2021-10-12T11:28:17.766Z"
   },
   {
    "duration": 313,
    "start_time": "2021-10-12T11:28:17.985Z"
   },
   {
    "duration": 209,
    "start_time": "2021-10-12T11:28:18.301Z"
   },
   {
    "duration": 212,
    "start_time": "2021-10-12T11:28:18.512Z"
   },
   {
    "duration": 209,
    "start_time": "2021-10-12T11:28:18.726Z"
   },
   {
    "duration": 217,
    "start_time": "2021-10-12T11:28:18.937Z"
   },
   {
    "duration": 192,
    "start_time": "2021-10-12T11:28:19.156Z"
   },
   {
    "duration": 183,
    "start_time": "2021-10-12T11:28:19.357Z"
   },
   {
    "duration": 192,
    "start_time": "2021-10-12T11:28:19.542Z"
   },
   {
    "duration": 9,
    "start_time": "2021-10-12T11:28:19.737Z"
   },
   {
    "duration": 9,
    "start_time": "2021-10-12T11:28:19.758Z"
   },
   {
    "duration": 16,
    "start_time": "2021-10-12T11:28:19.769Z"
   },
   {
    "duration": 10,
    "start_time": "2021-10-12T11:28:19.787Z"
   },
   {
    "duration": 1632,
    "start_time": "2021-10-12T11:31:17.163Z"
   },
   {
    "duration": 5,
    "start_time": "2021-10-12T11:31:18.798Z"
   },
   {
    "duration": 68,
    "start_time": "2021-10-12T11:31:18.807Z"
   },
   {
    "duration": 13,
    "start_time": "2021-10-12T11:31:18.877Z"
   },
   {
    "duration": 8,
    "start_time": "2021-10-12T11:31:18.893Z"
   },
   {
    "duration": 14,
    "start_time": "2021-10-12T11:31:18.904Z"
   },
   {
    "duration": 48,
    "start_time": "2021-10-12T11:31:18.921Z"
   },
   {
    "duration": 13,
    "start_time": "2021-10-12T11:31:18.971Z"
   },
   {
    "duration": 75,
    "start_time": "2021-10-12T11:31:18.988Z"
   },
   {
    "duration": 555,
    "start_time": "2021-10-12T11:31:19.066Z"
   },
   {
    "duration": 654,
    "start_time": "2021-10-12T11:31:19.624Z"
   },
   {
    "duration": 5,
    "start_time": "2021-10-12T11:31:20.281Z"
   },
   {
    "duration": 775,
    "start_time": "2021-10-12T11:31:20.288Z"
   },
   {
    "duration": 34,
    "start_time": "2021-10-12T11:31:21.066Z"
   },
   {
    "duration": 54,
    "start_time": "2021-10-12T11:31:21.102Z"
   },
   {
    "duration": 843,
    "start_time": "2021-10-12T11:31:21.159Z"
   },
   {
    "duration": 57,
    "start_time": "2021-10-12T11:31:22.004Z"
   },
   {
    "duration": 130,
    "start_time": "2021-10-12T11:31:22.064Z"
   },
   {
    "duration": 492,
    "start_time": "2021-10-12T11:31:22.196Z"
   },
   {
    "duration": 3,
    "start_time": "2021-10-12T11:31:22.690Z"
   },
   {
    "duration": 19,
    "start_time": "2021-10-12T11:31:22.695Z"
   },
   {
    "duration": 768,
    "start_time": "2021-10-12T11:31:22.716Z"
   },
   {
    "duration": 479,
    "start_time": "2021-10-12T11:31:23.486Z"
   },
   {
    "duration": 498,
    "start_time": "2021-10-12T11:31:23.968Z"
   },
   {
    "duration": 3214,
    "start_time": "2021-10-12T11:31:24.469Z"
   },
   {
    "duration": 37,
    "start_time": "2021-10-12T11:31:27.686Z"
   },
   {
    "duration": 213,
    "start_time": "2021-10-12T11:31:27.758Z"
   },
   {
    "duration": 295,
    "start_time": "2021-10-12T11:31:27.975Z"
   },
   {
    "duration": 215,
    "start_time": "2021-10-12T11:31:28.273Z"
   },
   {
    "duration": 229,
    "start_time": "2021-10-12T11:31:28.490Z"
   },
   {
    "duration": 215,
    "start_time": "2021-10-12T11:31:28.721Z"
   },
   {
    "duration": 215,
    "start_time": "2021-10-12T11:31:28.938Z"
   },
   {
    "duration": 207,
    "start_time": "2021-10-12T11:31:29.158Z"
   },
   {
    "duration": 190,
    "start_time": "2021-10-12T11:31:29.367Z"
   },
   {
    "duration": 185,
    "start_time": "2021-10-12T11:31:29.560Z"
   },
   {
    "duration": 14,
    "start_time": "2021-10-12T11:31:29.747Z"
   },
   {
    "duration": 14,
    "start_time": "2021-10-12T11:31:29.764Z"
   },
   {
    "duration": 9,
    "start_time": "2021-10-12T11:31:29.781Z"
   },
   {
    "duration": 13,
    "start_time": "2021-10-12T11:31:29.793Z"
   },
   {
    "duration": 34,
    "start_time": "2021-10-12T11:32:02.766Z"
   },
   {
    "duration": 1548,
    "start_time": "2021-10-12T11:32:07.963Z"
   },
   {
    "duration": 4,
    "start_time": "2021-10-12T11:32:09.514Z"
   },
   {
    "duration": 66,
    "start_time": "2021-10-12T11:32:09.522Z"
   },
   {
    "duration": 11,
    "start_time": "2021-10-12T11:32:09.591Z"
   },
   {
    "duration": 26,
    "start_time": "2021-10-12T11:32:09.604Z"
   },
   {
    "duration": 15,
    "start_time": "2021-10-12T11:32:09.633Z"
   },
   {
    "duration": 25,
    "start_time": "2021-10-12T11:32:09.658Z"
   },
   {
    "duration": 13,
    "start_time": "2021-10-12T11:32:09.688Z"
   },
   {
    "duration": 85,
    "start_time": "2021-10-12T11:32:09.705Z"
   },
   {
    "duration": 468,
    "start_time": "2021-10-12T11:32:09.793Z"
   },
   {
    "duration": 665,
    "start_time": "2021-10-12T11:32:10.264Z"
   },
   {
    "duration": 4,
    "start_time": "2021-10-12T11:32:10.931Z"
   },
   {
    "duration": 761,
    "start_time": "2021-10-12T11:32:10.938Z"
   },
   {
    "duration": 36,
    "start_time": "2021-10-12T11:32:11.701Z"
   },
   {
    "duration": 20,
    "start_time": "2021-10-12T11:32:11.759Z"
   },
   {
    "duration": 889,
    "start_time": "2021-10-12T11:32:11.781Z"
   },
   {
    "duration": 36,
    "start_time": "2021-10-12T11:32:12.673Z"
   },
   {
    "duration": 140,
    "start_time": "2021-10-12T11:32:12.711Z"
   },
   {
    "duration": 504,
    "start_time": "2021-10-12T11:32:12.853Z"
   },
   {
    "duration": 3,
    "start_time": "2021-10-12T11:32:13.359Z"
   },
   {
    "duration": 11,
    "start_time": "2021-10-12T11:32:13.365Z"
   },
   {
    "duration": 770,
    "start_time": "2021-10-12T11:32:13.379Z"
   },
   {
    "duration": 522,
    "start_time": "2021-10-12T11:32:14.158Z"
   },
   {
    "duration": 507,
    "start_time": "2021-10-12T11:32:14.683Z"
   },
   {
    "duration": 3167,
    "start_time": "2021-10-12T11:32:15.192Z"
   },
   {
    "duration": 35,
    "start_time": "2021-10-12T11:32:18.362Z"
   },
   {
    "duration": 234,
    "start_time": "2021-10-12T11:32:18.399Z"
   },
   {
    "duration": 308,
    "start_time": "2021-10-12T11:32:18.635Z"
   },
   {
    "duration": 214,
    "start_time": "2021-10-12T11:32:18.946Z"
   },
   {
    "duration": 219,
    "start_time": "2021-10-12T11:32:19.162Z"
   },
   {
    "duration": 228,
    "start_time": "2021-10-12T11:32:19.384Z"
   },
   {
    "duration": 215,
    "start_time": "2021-10-12T11:32:19.614Z"
   },
   {
    "duration": 192,
    "start_time": "2021-10-12T11:32:19.831Z"
   },
   {
    "duration": 184,
    "start_time": "2021-10-12T11:32:20.026Z"
   },
   {
    "duration": 196,
    "start_time": "2021-10-12T11:32:20.212Z"
   },
   {
    "duration": 10,
    "start_time": "2021-10-12T11:32:20.411Z"
   },
   {
    "duration": 34,
    "start_time": "2021-10-12T11:32:20.425Z"
   },
   {
    "duration": 21,
    "start_time": "2021-10-12T11:32:20.461Z"
   },
   {
    "duration": 18,
    "start_time": "2021-10-12T11:32:20.486Z"
   },
   {
    "duration": 440,
    "start_time": "2021-10-12T13:00:08.281Z"
   },
   {
    "duration": 432,
    "start_time": "2021-10-12T13:00:24.530Z"
   },
   {
    "duration": 961,
    "start_time": "2021-10-12T13:01:16.853Z"
   },
   {
    "duration": 1557,
    "start_time": "2021-10-12T13:01:23.146Z"
   },
   {
    "duration": 4,
    "start_time": "2021-10-12T13:01:24.706Z"
   },
   {
    "duration": 63,
    "start_time": "2021-10-12T13:01:24.713Z"
   },
   {
    "duration": 12,
    "start_time": "2021-10-12T13:01:24.779Z"
   },
   {
    "duration": 8,
    "start_time": "2021-10-12T13:01:24.794Z"
   },
   {
    "duration": 8,
    "start_time": "2021-10-12T13:01:24.805Z"
   },
   {
    "duration": 60,
    "start_time": "2021-10-12T13:01:24.815Z"
   },
   {
    "duration": 7,
    "start_time": "2021-10-12T13:01:24.879Z"
   },
   {
    "duration": 79,
    "start_time": "2021-10-12T13:01:24.889Z"
   },
   {
    "duration": 923,
    "start_time": "2021-10-12T13:01:24.971Z"
   },
   {
    "duration": -34,
    "start_time": "2021-10-12T13:01:25.932Z"
   },
   {
    "duration": -36,
    "start_time": "2021-10-12T13:01:25.935Z"
   },
   {
    "duration": -36,
    "start_time": "2021-10-12T13:01:25.937Z"
   },
   {
    "duration": -37,
    "start_time": "2021-10-12T13:01:25.939Z"
   },
   {
    "duration": -39,
    "start_time": "2021-10-12T13:01:25.942Z"
   },
   {
    "duration": -39,
    "start_time": "2021-10-12T13:01:25.943Z"
   },
   {
    "duration": -40,
    "start_time": "2021-10-12T13:01:25.946Z"
   },
   {
    "duration": -41,
    "start_time": "2021-10-12T13:01:25.948Z"
   },
   {
    "duration": -45,
    "start_time": "2021-10-12T13:01:25.953Z"
   },
   {
    "duration": -46,
    "start_time": "2021-10-12T13:01:25.955Z"
   },
   {
    "duration": -49,
    "start_time": "2021-10-12T13:01:25.960Z"
   },
   {
    "duration": -53,
    "start_time": "2021-10-12T13:01:25.965Z"
   },
   {
    "duration": -61,
    "start_time": "2021-10-12T13:01:25.974Z"
   },
   {
    "duration": -62,
    "start_time": "2021-10-12T13:01:25.976Z"
   },
   {
    "duration": -63,
    "start_time": "2021-10-12T13:01:25.978Z"
   },
   {
    "duration": -63,
    "start_time": "2021-10-12T13:01:25.980Z"
   },
   {
    "duration": -64,
    "start_time": "2021-10-12T13:01:25.982Z"
   },
   {
    "duration": -27,
    "start_time": "2021-10-12T13:01:25.985Z"
   },
   {
    "duration": -28,
    "start_time": "2021-10-12T13:01:25.988Z"
   },
   {
    "duration": -27,
    "start_time": "2021-10-12T13:01:25.989Z"
   },
   {
    "duration": -33,
    "start_time": "2021-10-12T13:01:25.996Z"
   },
   {
    "duration": -34,
    "start_time": "2021-10-12T13:01:25.999Z"
   },
   {
    "duration": -37,
    "start_time": "2021-10-12T13:01:26.003Z"
   },
   {
    "duration": -38,
    "start_time": "2021-10-12T13:01:26.005Z"
   },
   {
    "duration": -38,
    "start_time": "2021-10-12T13:01:26.007Z"
   },
   {
    "duration": -39,
    "start_time": "2021-10-12T13:01:26.009Z"
   },
   {
    "duration": -40,
    "start_time": "2021-10-12T13:01:26.011Z"
   },
   {
    "duration": -45,
    "start_time": "2021-10-12T13:01:26.018Z"
   },
   {
    "duration": -46,
    "start_time": "2021-10-12T13:01:26.020Z"
   },
   {
    "duration": 811,
    "start_time": "2021-10-12T13:01:39.517Z"
   },
   {
    "duration": 438,
    "start_time": "2021-10-12T13:01:49.030Z"
   },
   {
    "duration": 1704,
    "start_time": "2021-10-12T13:03:13.207Z"
   },
   {
    "duration": 4,
    "start_time": "2021-10-12T13:03:14.914Z"
   },
   {
    "duration": 67,
    "start_time": "2021-10-12T13:03:14.920Z"
   },
   {
    "duration": 12,
    "start_time": "2021-10-12T13:03:14.989Z"
   },
   {
    "duration": 21,
    "start_time": "2021-10-12T13:03:15.005Z"
   },
   {
    "duration": 28,
    "start_time": "2021-10-12T13:03:15.030Z"
   },
   {
    "duration": 24,
    "start_time": "2021-10-12T13:03:15.061Z"
   },
   {
    "duration": 17,
    "start_time": "2021-10-12T13:03:15.088Z"
   },
   {
    "duration": 96,
    "start_time": "2021-10-12T13:03:15.111Z"
   },
   {
    "duration": 505,
    "start_time": "2021-10-12T13:03:15.212Z"
   },
   {
    "duration": 669,
    "start_time": "2021-10-12T13:03:15.720Z"
   },
   {
    "duration": 5,
    "start_time": "2021-10-12T13:03:16.391Z"
   },
   {
    "duration": 823,
    "start_time": "2021-10-12T13:03:16.398Z"
   },
   {
    "duration": 58,
    "start_time": "2021-10-12T13:03:17.224Z"
   },
   {
    "duration": 27,
    "start_time": "2021-10-12T13:03:17.284Z"
   },
   {
    "duration": 752,
    "start_time": "2021-10-12T13:03:17.314Z"
   },
   {
    "duration": 34,
    "start_time": "2021-10-12T13:03:18.069Z"
   },
   {
    "duration": 147,
    "start_time": "2021-10-12T13:03:18.105Z"
   },
   {
    "duration": 488,
    "start_time": "2021-10-12T13:03:18.257Z"
   },
   {
    "duration": 3,
    "start_time": "2021-10-12T13:03:18.747Z"
   },
   {
    "duration": 40,
    "start_time": "2021-10-12T13:03:18.752Z"
   },
   {
    "duration": 776,
    "start_time": "2021-10-12T13:03:18.794Z"
   },
   {
    "duration": 492,
    "start_time": "2021-10-12T13:03:19.573Z"
   },
   {
    "duration": 501,
    "start_time": "2021-10-12T13:03:20.068Z"
   },
   {
    "duration": 3032,
    "start_time": "2021-10-12T13:03:20.571Z"
   },
   {
    "duration": 52,
    "start_time": "2021-10-12T13:03:23.606Z"
   },
   {
    "duration": 216,
    "start_time": "2021-10-12T13:03:23.663Z"
   },
   {
    "duration": 307,
    "start_time": "2021-10-12T13:03:23.881Z"
   },
   {
    "duration": 207,
    "start_time": "2021-10-12T13:03:24.191Z"
   },
   {
    "duration": 216,
    "start_time": "2021-10-12T13:03:24.400Z"
   },
   {
    "duration": 212,
    "start_time": "2021-10-12T13:03:24.618Z"
   },
   {
    "duration": 212,
    "start_time": "2021-10-12T13:03:24.832Z"
   },
   {
    "duration": 189,
    "start_time": "2021-10-12T13:03:25.046Z"
   },
   {
    "duration": 198,
    "start_time": "2021-10-12T13:03:25.238Z"
   },
   {
    "duration": 193,
    "start_time": "2021-10-12T13:03:25.438Z"
   },
   {
    "duration": 9,
    "start_time": "2021-10-12T13:03:25.635Z"
   },
   {
    "duration": 25,
    "start_time": "2021-10-12T13:03:25.659Z"
   },
   {
    "duration": 33,
    "start_time": "2021-10-12T13:03:25.687Z"
   },
   {
    "duration": 31,
    "start_time": "2021-10-12T13:03:25.722Z"
   },
   {
    "duration": 770,
    "start_time": "2021-10-12T13:13:32.036Z"
   },
   {
    "duration": 8864,
    "start_time": "2021-10-12T13:13:41.967Z"
   },
   {
    "duration": 797,
    "start_time": "2021-10-12T13:14:02.863Z"
   },
   {
    "duration": 1515,
    "start_time": "2021-10-12T13:16:03.989Z"
   },
   {
    "duration": 5,
    "start_time": "2021-10-12T13:16:05.508Z"
   },
   {
    "duration": 66,
    "start_time": "2021-10-12T13:16:05.516Z"
   },
   {
    "duration": 14,
    "start_time": "2021-10-12T13:16:05.586Z"
   },
   {
    "duration": 15,
    "start_time": "2021-10-12T13:16:05.603Z"
   },
   {
    "duration": 12,
    "start_time": "2021-10-12T13:16:05.620Z"
   },
   {
    "duration": 41,
    "start_time": "2021-10-12T13:16:05.634Z"
   },
   {
    "duration": 7,
    "start_time": "2021-10-12T13:16:05.679Z"
   },
   {
    "duration": 87,
    "start_time": "2021-10-12T13:16:05.688Z"
   },
   {
    "duration": 989,
    "start_time": "2021-10-12T13:16:05.777Z"
   },
   {
    "duration": -53,
    "start_time": "2021-10-12T13:16:06.822Z"
   },
   {
    "duration": -55,
    "start_time": "2021-10-12T13:16:06.826Z"
   },
   {
    "duration": -56,
    "start_time": "2021-10-12T13:16:06.828Z"
   },
   {
    "duration": -57,
    "start_time": "2021-10-12T13:16:06.830Z"
   },
   {
    "duration": -57,
    "start_time": "2021-10-12T13:16:06.832Z"
   },
   {
    "duration": -59,
    "start_time": "2021-10-12T13:16:06.835Z"
   },
   {
    "duration": -61,
    "start_time": "2021-10-12T13:16:06.838Z"
   },
   {
    "duration": -62,
    "start_time": "2021-10-12T13:16:06.840Z"
   },
   {
    "duration": -63,
    "start_time": "2021-10-12T13:16:06.842Z"
   },
   {
    "duration": -63,
    "start_time": "2021-10-12T13:16:06.844Z"
   },
   {
    "duration": -65,
    "start_time": "2021-10-12T13:16:06.847Z"
   },
   {
    "duration": -66,
    "start_time": "2021-10-12T13:16:06.849Z"
   },
   {
    "duration": -66,
    "start_time": "2021-10-12T13:16:06.851Z"
   },
   {
    "duration": -69,
    "start_time": "2021-10-12T13:16:06.855Z"
   },
   {
    "duration": -70,
    "start_time": "2021-10-12T13:16:06.857Z"
   },
   {
    "duration": -71,
    "start_time": "2021-10-12T13:16:06.859Z"
   },
   {
    "duration": -87,
    "start_time": "2021-10-12T13:16:06.877Z"
   },
   {
    "duration": -90,
    "start_time": "2021-10-12T13:16:06.881Z"
   },
   {
    "duration": -90,
    "start_time": "2021-10-12T13:16:06.883Z"
   },
   {
    "duration": -93,
    "start_time": "2021-10-12T13:16:06.887Z"
   },
   {
    "duration": -94,
    "start_time": "2021-10-12T13:16:06.889Z"
   },
   {
    "duration": -95,
    "start_time": "2021-10-12T13:16:06.892Z"
   },
   {
    "duration": -96,
    "start_time": "2021-10-12T13:16:06.894Z"
   },
   {
    "duration": -102,
    "start_time": "2021-10-12T13:16:06.901Z"
   },
   {
    "duration": -102,
    "start_time": "2021-10-12T13:16:06.903Z"
   },
   {
    "duration": -104,
    "start_time": "2021-10-12T13:16:06.906Z"
   },
   {
    "duration": -104,
    "start_time": "2021-10-12T13:16:06.908Z"
   },
   {
    "duration": -105,
    "start_time": "2021-10-12T13:16:06.910Z"
   },
   {
    "duration": -55,
    "start_time": "2021-10-12T13:16:06.912Z"
   },
   {
    "duration": 1530,
    "start_time": "2021-10-12T13:16:30.863Z"
   },
   {
    "duration": 4,
    "start_time": "2021-10-12T13:16:32.396Z"
   },
   {
    "duration": 66,
    "start_time": "2021-10-12T13:16:32.403Z"
   },
   {
    "duration": 11,
    "start_time": "2021-10-12T13:16:32.472Z"
   },
   {
    "duration": 8,
    "start_time": "2021-10-12T13:16:32.486Z"
   },
   {
    "duration": 23,
    "start_time": "2021-10-12T13:16:32.496Z"
   },
   {
    "duration": 41,
    "start_time": "2021-10-12T13:16:32.522Z"
   },
   {
    "duration": 7,
    "start_time": "2021-10-12T13:16:32.567Z"
   },
   {
    "duration": 94,
    "start_time": "2021-10-12T13:16:32.577Z"
   },
   {
    "duration": 465,
    "start_time": "2021-10-12T13:16:32.674Z"
   },
   {
    "duration": 658,
    "start_time": "2021-10-12T13:16:33.141Z"
   },
   {
    "duration": 4,
    "start_time": "2021-10-12T13:16:33.802Z"
   },
   {
    "duration": 761,
    "start_time": "2021-10-12T13:16:33.808Z"
   },
   {
    "duration": 35,
    "start_time": "2021-10-12T13:16:34.571Z"
   },
   {
    "duration": 51,
    "start_time": "2021-10-12T13:16:34.609Z"
   },
   {
    "duration": 774,
    "start_time": "2021-10-12T13:16:34.663Z"
   },
   {
    "duration": 49,
    "start_time": "2021-10-12T13:16:35.441Z"
   },
   {
    "duration": 143,
    "start_time": "2021-10-12T13:16:35.493Z"
   },
   {
    "duration": 507,
    "start_time": "2021-10-12T13:16:35.639Z"
   },
   {
    "duration": 3,
    "start_time": "2021-10-12T13:16:36.156Z"
   },
   {
    "duration": 13,
    "start_time": "2021-10-12T13:16:36.162Z"
   },
   {
    "duration": 888,
    "start_time": "2021-10-12T13:16:36.177Z"
   },
   {
    "duration": 520,
    "start_time": "2021-10-12T13:16:37.070Z"
   },
   {
    "duration": 557,
    "start_time": "2021-10-12T13:16:37.594Z"
   },
   {
    "duration": 3727,
    "start_time": "2021-10-12T13:16:38.157Z"
   },
   {
    "duration": 34,
    "start_time": "2021-10-12T13:16:41.886Z"
   },
   {
    "duration": 234,
    "start_time": "2021-10-12T13:16:41.923Z"
   },
   {
    "duration": 321,
    "start_time": "2021-10-12T13:16:42.160Z"
   },
   {
    "duration": 219,
    "start_time": "2021-10-12T13:16:42.483Z"
   },
   {
    "duration": 284,
    "start_time": "2021-10-12T13:16:42.705Z"
   },
   {
    "duration": 216,
    "start_time": "2021-10-12T13:16:42.992Z"
   },
   {
    "duration": 219,
    "start_time": "2021-10-12T13:16:43.210Z"
   },
   {
    "duration": 191,
    "start_time": "2021-10-12T13:16:43.431Z"
   },
   {
    "duration": 186,
    "start_time": "2021-10-12T13:16:43.624Z"
   },
   {
    "duration": 218,
    "start_time": "2021-10-12T13:16:43.813Z"
   },
   {
    "duration": 9,
    "start_time": "2021-10-12T13:16:44.034Z"
   },
   {
    "duration": 11,
    "start_time": "2021-10-12T13:16:44.046Z"
   },
   {
    "duration": 10,
    "start_time": "2021-10-12T13:16:44.060Z"
   },
   {
    "duration": 10,
    "start_time": "2021-10-12T13:16:44.073Z"
   },
   {
    "duration": 748,
    "start_time": "2021-10-12T13:21:04.065Z"
   },
   {
    "duration": 1212,
    "start_time": "2021-10-12T13:21:27.363Z"
   },
   {
    "duration": 8025,
    "start_time": "2021-10-12T13:22:06.859Z"
   },
   {
    "duration": 813,
    "start_time": "2021-10-12T13:22:36.721Z"
   },
   {
    "duration": 10298,
    "start_time": "2021-10-12T13:27:50.986Z"
   },
   {
    "duration": 469,
    "start_time": "2021-10-12T13:28:11.458Z"
   },
   {
    "duration": 453,
    "start_time": "2021-10-12T13:28:19.287Z"
   },
   {
    "duration": 773,
    "start_time": "2021-10-12T13:28:24.753Z"
   },
   {
    "duration": 919,
    "start_time": "2021-10-12T13:28:49.514Z"
   },
   {
    "duration": 783,
    "start_time": "2021-10-12T13:30:43.530Z"
   },
   {
    "duration": 781,
    "start_time": "2021-10-12T13:30:53.778Z"
   },
   {
    "duration": 1627,
    "start_time": "2021-10-12T13:30:59.533Z"
   },
   {
    "duration": 4,
    "start_time": "2021-10-12T13:31:01.163Z"
   },
   {
    "duration": 82,
    "start_time": "2021-10-12T13:31:01.170Z"
   },
   {
    "duration": 27,
    "start_time": "2021-10-12T13:31:01.255Z"
   },
   {
    "duration": 25,
    "start_time": "2021-10-12T13:31:01.284Z"
   },
   {
    "duration": 32,
    "start_time": "2021-10-12T13:31:01.312Z"
   },
   {
    "duration": 59,
    "start_time": "2021-10-12T13:31:01.347Z"
   },
   {
    "duration": 40,
    "start_time": "2021-10-12T13:31:01.409Z"
   },
   {
    "duration": 80,
    "start_time": "2021-10-12T13:31:01.453Z"
   },
   {
    "duration": 769,
    "start_time": "2021-10-12T13:31:01.535Z"
   },
   {
    "duration": 659,
    "start_time": "2021-10-12T13:31:02.307Z"
   },
   {
    "duration": 4,
    "start_time": "2021-10-12T13:31:02.969Z"
   },
   {
    "duration": 759,
    "start_time": "2021-10-12T13:31:02.976Z"
   },
   {
    "duration": 46,
    "start_time": "2021-10-12T13:31:03.738Z"
   },
   {
    "duration": 46,
    "start_time": "2021-10-12T13:31:03.787Z"
   },
   {
    "duration": 751,
    "start_time": "2021-10-12T13:31:03.836Z"
   },
   {
    "duration": 35,
    "start_time": "2021-10-12T13:31:04.591Z"
   },
   {
    "duration": 161,
    "start_time": "2021-10-12T13:31:04.628Z"
   },
   {
    "duration": 498,
    "start_time": "2021-10-12T13:31:04.792Z"
   },
   {
    "duration": 3,
    "start_time": "2021-10-12T13:31:05.293Z"
   },
   {
    "duration": 27,
    "start_time": "2021-10-12T13:31:05.298Z"
   },
   {
    "duration": 811,
    "start_time": "2021-10-12T13:31:05.327Z"
   },
   {
    "duration": 520,
    "start_time": "2021-10-12T13:31:06.143Z"
   },
   {
    "duration": 491,
    "start_time": "2021-10-12T13:31:06.666Z"
   },
   {
    "duration": 3177,
    "start_time": "2021-10-12T13:31:07.160Z"
   },
   {
    "duration": 48,
    "start_time": "2021-10-12T13:31:10.340Z"
   },
   {
    "duration": 220,
    "start_time": "2021-10-12T13:31:10.392Z"
   },
   {
    "duration": 304,
    "start_time": "2021-10-12T13:31:10.615Z"
   },
   {
    "duration": 223,
    "start_time": "2021-10-12T13:31:10.921Z"
   },
   {
    "duration": 231,
    "start_time": "2021-10-12T13:31:11.146Z"
   },
   {
    "duration": 217,
    "start_time": "2021-10-12T13:31:11.381Z"
   },
   {
    "duration": 235,
    "start_time": "2021-10-12T13:31:11.601Z"
   },
   {
    "duration": 197,
    "start_time": "2021-10-12T13:31:11.839Z"
   },
   {
    "duration": 190,
    "start_time": "2021-10-12T13:31:12.038Z"
   },
   {
    "duration": 195,
    "start_time": "2021-10-12T13:31:12.230Z"
   },
   {
    "duration": 10,
    "start_time": "2021-10-12T13:31:12.427Z"
   },
   {
    "duration": 32,
    "start_time": "2021-10-12T13:31:12.439Z"
   },
   {
    "duration": 25,
    "start_time": "2021-10-12T13:31:12.474Z"
   },
   {
    "duration": 41,
    "start_time": "2021-10-12T13:31:12.501Z"
   },
   {
    "duration": 768,
    "start_time": "2021-10-12T13:31:32.391Z"
   },
   {
    "duration": 746,
    "start_time": "2021-10-12T13:31:37.292Z"
   },
   {
    "duration": 766,
    "start_time": "2021-10-12T13:32:17.852Z"
   },
   {
    "duration": -41,
    "start_time": "2021-10-12T13:32:54.386Z"
   },
   {
    "duration": 873,
    "start_time": "2021-10-12T13:32:56.549Z"
   },
   {
    "duration": 783,
    "start_time": "2021-10-12T13:33:20.085Z"
   },
   {
    "duration": 778,
    "start_time": "2021-10-12T13:33:30.632Z"
   },
   {
    "duration": 444,
    "start_time": "2021-10-12T13:33:49.254Z"
   },
   {
    "duration": 1933,
    "start_time": "2021-10-12T13:34:28.029Z"
   },
   {
    "duration": 815,
    "start_time": "2021-10-12T13:35:13.069Z"
   },
   {
    "duration": 1267,
    "start_time": "2021-10-12T13:35:33.309Z"
   },
   {
    "duration": 1528,
    "start_time": "2021-10-12T13:36:42.171Z"
   },
   {
    "duration": 4,
    "start_time": "2021-10-12T13:36:43.702Z"
   },
   {
    "duration": 67,
    "start_time": "2021-10-12T13:36:43.709Z"
   },
   {
    "duration": 11,
    "start_time": "2021-10-12T13:36:43.779Z"
   },
   {
    "duration": 8,
    "start_time": "2021-10-12T13:36:43.793Z"
   },
   {
    "duration": 16,
    "start_time": "2021-10-12T13:36:43.803Z"
   },
   {
    "duration": 52,
    "start_time": "2021-10-12T13:36:43.822Z"
   },
   {
    "duration": 7,
    "start_time": "2021-10-12T13:36:43.878Z"
   },
   {
    "duration": 80,
    "start_time": "2021-10-12T13:36:43.888Z"
   },
   {
    "duration": 1179,
    "start_time": "2021-10-12T13:36:43.971Z"
   },
   {
    "duration": 662,
    "start_time": "2021-10-12T13:36:45.158Z"
   },
   {
    "duration": 5,
    "start_time": "2021-10-12T13:36:45.823Z"
   },
   {
    "duration": 789,
    "start_time": "2021-10-12T13:36:45.831Z"
   },
   {
    "duration": 54,
    "start_time": "2021-10-12T13:36:46.623Z"
   },
   {
    "duration": 20,
    "start_time": "2021-10-12T13:36:46.679Z"
   },
   {
    "duration": 1239,
    "start_time": "2021-10-12T13:36:46.702Z"
   },
   {
    "duration": 44,
    "start_time": "2021-10-12T13:36:47.944Z"
   },
   {
    "duration": 70,
    "start_time": "2021-10-12T13:36:47.990Z"
   },
   {
    "duration": 502,
    "start_time": "2021-10-12T13:36:48.062Z"
   },
   {
    "duration": 3,
    "start_time": "2021-10-12T13:36:48.567Z"
   },
   {
    "duration": 30,
    "start_time": "2021-10-12T13:36:48.572Z"
   },
   {
    "duration": 778,
    "start_time": "2021-10-12T13:36:48.604Z"
   },
   {
    "duration": 484,
    "start_time": "2021-10-12T13:36:49.387Z"
   },
   {
    "duration": 490,
    "start_time": "2021-10-12T13:36:49.875Z"
   },
   {
    "duration": 3293,
    "start_time": "2021-10-12T13:36:50.368Z"
   },
   {
    "duration": 37,
    "start_time": "2021-10-12T13:36:53.664Z"
   },
   {
    "duration": 229,
    "start_time": "2021-10-12T13:36:53.703Z"
   },
   {
    "duration": 209,
    "start_time": "2021-10-12T13:36:53.935Z"
   },
   {
    "duration": 200,
    "start_time": "2021-10-12T13:36:54.147Z"
   },
   {
    "duration": 207,
    "start_time": "2021-10-12T13:36:54.350Z"
   },
   {
    "duration": 210,
    "start_time": "2021-10-12T13:36:54.560Z"
   },
   {
    "duration": 215,
    "start_time": "2021-10-12T13:36:54.773Z"
   },
   {
    "duration": 201,
    "start_time": "2021-10-12T13:36:54.991Z"
   },
   {
    "duration": 199,
    "start_time": "2021-10-12T13:36:55.195Z"
   },
   {
    "duration": 204,
    "start_time": "2021-10-12T13:36:55.397Z"
   },
   {
    "duration": 9,
    "start_time": "2021-10-12T13:36:55.604Z"
   },
   {
    "duration": 13,
    "start_time": "2021-10-12T13:36:55.616Z"
   },
   {
    "duration": 32,
    "start_time": "2021-10-12T13:36:55.631Z"
   },
   {
    "duration": 11,
    "start_time": "2021-10-12T13:36:55.666Z"
   },
   {
    "duration": 1578,
    "start_time": "2021-10-12T13:39:08.225Z"
   },
   {
    "duration": 4,
    "start_time": "2021-10-12T13:39:09.806Z"
   },
   {
    "duration": 67,
    "start_time": "2021-10-12T13:39:09.813Z"
   },
   {
    "duration": 14,
    "start_time": "2021-10-12T13:39:09.883Z"
   },
   {
    "duration": 16,
    "start_time": "2021-10-12T13:39:09.900Z"
   },
   {
    "duration": 23,
    "start_time": "2021-10-12T13:39:09.919Z"
   },
   {
    "duration": 49,
    "start_time": "2021-10-12T13:39:09.945Z"
   },
   {
    "duration": 12,
    "start_time": "2021-10-12T13:39:09.999Z"
   },
   {
    "duration": 97,
    "start_time": "2021-10-12T13:39:10.014Z"
   },
   {
    "duration": 450,
    "start_time": "2021-10-12T13:39:10.114Z"
   },
   {
    "duration": 644,
    "start_time": "2021-10-12T13:39:10.567Z"
   },
   {
    "duration": 5,
    "start_time": "2021-10-12T13:39:11.214Z"
   },
   {
    "duration": 782,
    "start_time": "2021-10-12T13:39:11.221Z"
   },
   {
    "duration": 37,
    "start_time": "2021-10-12T13:39:12.006Z"
   },
   {
    "duration": 21,
    "start_time": "2021-10-12T13:39:12.058Z"
   },
   {
    "duration": 766,
    "start_time": "2021-10-12T13:39:12.082Z"
   },
   {
    "duration": 36,
    "start_time": "2021-10-12T13:39:12.851Z"
   },
   {
    "duration": 74,
    "start_time": "2021-10-12T13:39:12.889Z"
   },
   {
    "duration": 580,
    "start_time": "2021-10-12T13:39:12.966Z"
   },
   {
    "duration": 3,
    "start_time": "2021-10-12T13:39:13.557Z"
   },
   {
    "duration": 22,
    "start_time": "2021-10-12T13:39:13.563Z"
   },
   {
    "duration": 839,
    "start_time": "2021-10-12T13:39:13.587Z"
   },
   {
    "duration": 508,
    "start_time": "2021-10-12T13:39:14.428Z"
   },
   {
    "duration": 521,
    "start_time": "2021-10-12T13:39:14.939Z"
   },
   {
    "duration": 3026,
    "start_time": "2021-10-12T13:39:15.463Z"
   },
   {
    "duration": 32,
    "start_time": "2021-10-12T13:39:18.494Z"
   },
   {
    "duration": 237,
    "start_time": "2021-10-12T13:39:18.529Z"
   },
   {
    "duration": 206,
    "start_time": "2021-10-12T13:39:18.769Z"
   },
   {
    "duration": 290,
    "start_time": "2021-10-12T13:39:18.977Z"
   },
   {
    "duration": 211,
    "start_time": "2021-10-12T13:39:19.270Z"
   },
   {
    "duration": 205,
    "start_time": "2021-10-12T13:39:19.483Z"
   },
   {
    "duration": 216,
    "start_time": "2021-10-12T13:39:19.691Z"
   },
   {
    "duration": 183,
    "start_time": "2021-10-12T13:39:19.910Z"
   },
   {
    "duration": 196,
    "start_time": "2021-10-12T13:39:20.095Z"
   },
   {
    "duration": 251,
    "start_time": "2021-10-12T13:39:20.295Z"
   },
   {
    "duration": 17,
    "start_time": "2021-10-12T13:39:20.549Z"
   },
   {
    "duration": 13,
    "start_time": "2021-10-12T13:39:20.568Z"
   },
   {
    "duration": 15,
    "start_time": "2021-10-12T13:39:20.584Z"
   },
   {
    "duration": 21,
    "start_time": "2021-10-12T13:39:20.602Z"
   },
   {
    "duration": 1574,
    "start_time": "2021-10-12T14:08:22.327Z"
   },
   {
    "duration": 4,
    "start_time": "2021-10-12T14:08:23.904Z"
   },
   {
    "duration": 74,
    "start_time": "2021-10-12T14:08:23.911Z"
   },
   {
    "duration": 12,
    "start_time": "2021-10-12T14:08:23.987Z"
   },
   {
    "duration": 29,
    "start_time": "2021-10-12T14:08:24.002Z"
   },
   {
    "duration": 18,
    "start_time": "2021-10-12T14:08:24.034Z"
   },
   {
    "duration": 55,
    "start_time": "2021-10-12T14:08:24.058Z"
   },
   {
    "duration": 16,
    "start_time": "2021-10-12T14:08:24.116Z"
   },
   {
    "duration": 80,
    "start_time": "2021-10-12T14:08:24.136Z"
   },
   {
    "duration": 445,
    "start_time": "2021-10-12T14:08:24.219Z"
   },
   {
    "duration": 693,
    "start_time": "2021-10-12T14:08:24.667Z"
   },
   {
    "duration": 5,
    "start_time": "2021-10-12T14:08:25.363Z"
   },
   {
    "duration": 749,
    "start_time": "2021-10-12T14:08:25.370Z"
   },
   {
    "duration": 52,
    "start_time": "2021-10-12T14:08:26.121Z"
   },
   {
    "duration": 31,
    "start_time": "2021-10-12T14:08:26.175Z"
   },
   {
    "duration": 802,
    "start_time": "2021-10-12T14:08:26.208Z"
   },
   {
    "duration": 35,
    "start_time": "2021-10-12T14:08:27.012Z"
   },
   {
    "duration": 137,
    "start_time": "2021-10-12T14:08:27.049Z"
   },
   {
    "duration": 523,
    "start_time": "2021-10-12T14:08:27.189Z"
   },
   {
    "duration": 4,
    "start_time": "2021-10-12T14:08:27.714Z"
   },
   {
    "duration": 24,
    "start_time": "2021-10-12T14:08:27.720Z"
   },
   {
    "duration": 887,
    "start_time": "2021-10-12T14:08:27.746Z"
   },
   {
    "duration": 609,
    "start_time": "2021-10-12T14:08:28.636Z"
   },
   {
    "duration": 504,
    "start_time": "2021-10-12T14:08:29.247Z"
   },
   {
    "duration": 3203,
    "start_time": "2021-10-12T14:08:29.754Z"
   },
   {
    "duration": 36,
    "start_time": "2021-10-12T14:08:32.961Z"
   },
   {
    "duration": 234,
    "start_time": "2021-10-12T14:08:33.002Z"
   },
   {
    "duration": 302,
    "start_time": "2021-10-12T14:08:33.239Z"
   },
   {
    "duration": 195,
    "start_time": "2021-10-12T14:08:33.544Z"
   },
   {
    "duration": 221,
    "start_time": "2021-10-12T14:08:33.742Z"
   },
   {
    "duration": 215,
    "start_time": "2021-10-12T14:08:33.965Z"
   },
   {
    "duration": 218,
    "start_time": "2021-10-12T14:08:34.183Z"
   },
   {
    "duration": 192,
    "start_time": "2021-10-12T14:08:34.404Z"
   },
   {
    "duration": 191,
    "start_time": "2021-10-12T14:08:34.599Z"
   },
   {
    "duration": 189,
    "start_time": "2021-10-12T14:08:34.792Z"
   },
   {
    "duration": 9,
    "start_time": "2021-10-12T14:08:34.983Z"
   },
   {
    "duration": 14,
    "start_time": "2021-10-12T14:08:34.995Z"
   },
   {
    "duration": 13,
    "start_time": "2021-10-12T14:08:35.012Z"
   },
   {
    "duration": 33,
    "start_time": "2021-10-12T14:08:35.028Z"
   },
   {
    "duration": 1508,
    "start_time": "2021-10-12T14:17:18.480Z"
   },
   {
    "duration": 5,
    "start_time": "2021-10-12T14:17:19.990Z"
   },
   {
    "duration": 63,
    "start_time": "2021-10-12T14:17:19.997Z"
   },
   {
    "duration": 11,
    "start_time": "2021-10-12T14:17:20.063Z"
   },
   {
    "duration": 10,
    "start_time": "2021-10-12T14:17:20.077Z"
   },
   {
    "duration": 11,
    "start_time": "2021-10-12T14:17:20.089Z"
   },
   {
    "duration": 25,
    "start_time": "2021-10-12T14:17:20.102Z"
   },
   {
    "duration": 32,
    "start_time": "2021-10-12T14:17:20.131Z"
   },
   {
    "duration": 66,
    "start_time": "2021-10-12T14:17:20.166Z"
   },
   {
    "duration": 469,
    "start_time": "2021-10-12T14:17:20.234Z"
   },
   {
    "duration": 689,
    "start_time": "2021-10-12T14:17:20.706Z"
   },
   {
    "duration": 3,
    "start_time": "2021-10-12T14:17:21.398Z"
   },
   {
    "duration": 772,
    "start_time": "2021-10-12T14:17:21.403Z"
   },
   {
    "duration": 35,
    "start_time": "2021-10-12T14:17:22.178Z"
   },
   {
    "duration": 49,
    "start_time": "2021-10-12T14:17:22.216Z"
   },
   {
    "duration": 765,
    "start_time": "2021-10-12T14:17:22.267Z"
   },
   {
    "duration": 46,
    "start_time": "2021-10-12T14:17:23.035Z"
   },
   {
    "duration": 141,
    "start_time": "2021-10-12T14:17:23.084Z"
   },
   {
    "duration": 595,
    "start_time": "2021-10-12T14:17:23.227Z"
   },
   {
    "duration": 3,
    "start_time": "2021-10-12T14:17:23.825Z"
   },
   {
    "duration": 27,
    "start_time": "2021-10-12T14:17:23.830Z"
   },
   {
    "duration": 739,
    "start_time": "2021-10-12T14:17:23.861Z"
   },
   {
    "duration": 555,
    "start_time": "2021-10-12T14:17:24.606Z"
   },
   {
    "duration": 501,
    "start_time": "2021-10-12T14:17:25.164Z"
   },
   {
    "duration": 3467,
    "start_time": "2021-10-12T14:17:25.668Z"
   },
   {
    "duration": 47,
    "start_time": "2021-10-12T14:17:29.137Z"
   },
   {
    "duration": 217,
    "start_time": "2021-10-12T14:17:29.187Z"
   },
   {
    "duration": 295,
    "start_time": "2021-10-12T14:17:29.407Z"
   },
   {
    "duration": 213,
    "start_time": "2021-10-12T14:17:29.705Z"
   },
   {
    "duration": 206,
    "start_time": "2021-10-12T14:17:29.920Z"
   },
   {
    "duration": 214,
    "start_time": "2021-10-12T14:17:30.129Z"
   },
   {
    "duration": 221,
    "start_time": "2021-10-12T14:17:30.346Z"
   },
   {
    "duration": 187,
    "start_time": "2021-10-12T14:17:30.570Z"
   },
   {
    "duration": 190,
    "start_time": "2021-10-12T14:17:30.760Z"
   },
   {
    "duration": 193,
    "start_time": "2021-10-12T14:17:30.952Z"
   },
   {
    "duration": 14,
    "start_time": "2021-10-12T14:17:31.148Z"
   },
   {
    "duration": 17,
    "start_time": "2021-10-12T14:17:31.165Z"
   },
   {
    "duration": 24,
    "start_time": "2021-10-12T14:17:31.185Z"
   },
   {
    "duration": 36,
    "start_time": "2021-10-12T14:17:31.211Z"
   },
   {
    "duration": 1626,
    "start_time": "2021-10-12T14:18:30.469Z"
   },
   {
    "duration": 4,
    "start_time": "2021-10-12T14:18:32.098Z"
   },
   {
    "duration": 64,
    "start_time": "2021-10-12T14:18:32.106Z"
   },
   {
    "duration": 15,
    "start_time": "2021-10-12T14:18:32.173Z"
   },
   {
    "duration": 11,
    "start_time": "2021-10-12T14:18:32.191Z"
   },
   {
    "duration": 11,
    "start_time": "2021-10-12T14:18:32.206Z"
   },
   {
    "duration": 22,
    "start_time": "2021-10-12T14:18:32.258Z"
   },
   {
    "duration": 8,
    "start_time": "2021-10-12T14:18:32.285Z"
   },
   {
    "duration": 93,
    "start_time": "2021-10-12T14:18:32.296Z"
   },
   {
    "duration": 440,
    "start_time": "2021-10-12T14:18:32.391Z"
   },
   {
    "duration": 658,
    "start_time": "2021-10-12T14:18:32.833Z"
   },
   {
    "duration": 4,
    "start_time": "2021-10-12T14:18:33.493Z"
   },
   {
    "duration": 763,
    "start_time": "2021-10-12T14:18:33.499Z"
   },
   {
    "duration": 34,
    "start_time": "2021-10-12T14:18:34.265Z"
   },
   {
    "duration": 22,
    "start_time": "2021-10-12T14:18:34.302Z"
   },
   {
    "duration": 774,
    "start_time": "2021-10-12T14:18:34.326Z"
   },
   {
    "duration": 35,
    "start_time": "2021-10-12T14:18:35.102Z"
   },
   {
    "duration": 140,
    "start_time": "2021-10-12T14:18:35.158Z"
   },
   {
    "duration": 492,
    "start_time": "2021-10-12T14:18:35.300Z"
   },
   {
    "duration": 3,
    "start_time": "2021-10-12T14:18:35.794Z"
   },
   {
    "duration": 11,
    "start_time": "2021-10-12T14:18:35.799Z"
   },
   {
    "duration": 795,
    "start_time": "2021-10-12T14:18:35.812Z"
   },
   {
    "duration": 570,
    "start_time": "2021-10-12T14:18:36.610Z"
   },
   {
    "duration": 506,
    "start_time": "2021-10-12T14:18:37.182Z"
   },
   {
    "duration": 3210,
    "start_time": "2021-10-12T14:18:37.692Z"
   },
   {
    "duration": 52,
    "start_time": "2021-10-12T14:18:40.907Z"
   },
   {
    "duration": 219,
    "start_time": "2021-10-12T14:18:40.962Z"
   },
   {
    "duration": 303,
    "start_time": "2021-10-12T14:18:41.184Z"
   },
   {
    "duration": 210,
    "start_time": "2021-10-12T14:18:41.490Z"
   },
   {
    "duration": 218,
    "start_time": "2021-10-12T14:18:41.702Z"
   },
   {
    "duration": 203,
    "start_time": "2021-10-12T14:18:41.923Z"
   },
   {
    "duration": 215,
    "start_time": "2021-10-12T14:18:42.129Z"
   },
   {
    "duration": 223,
    "start_time": "2021-10-12T14:18:42.347Z"
   },
   {
    "duration": 216,
    "start_time": "2021-10-12T14:18:42.572Z"
   },
   {
    "duration": 193,
    "start_time": "2021-10-12T14:18:42.791Z"
   },
   {
    "duration": 9,
    "start_time": "2021-10-12T14:18:42.986Z"
   },
   {
    "duration": 12,
    "start_time": "2021-10-12T14:18:42.997Z"
   },
   {
    "duration": 12,
    "start_time": "2021-10-12T14:18:43.011Z"
   },
   {
    "duration": 38,
    "start_time": "2021-10-12T14:18:43.026Z"
   },
   {
    "duration": 329,
    "start_time": "2022-03-02T17:41:31.723Z"
   },
   {
    "duration": 1073,
    "start_time": "2022-03-02T17:42:04.877Z"
   },
   {
    "duration": 3,
    "start_time": "2022-03-02T17:42:05.952Z"
   },
   {
    "duration": 28,
    "start_time": "2022-03-02T17:42:05.956Z"
   },
   {
    "duration": 7,
    "start_time": "2022-03-02T17:42:05.986Z"
   },
   {
    "duration": 18,
    "start_time": "2022-03-02T17:42:05.994Z"
   },
   {
    "duration": 9,
    "start_time": "2022-03-02T17:42:06.013Z"
   },
   {
    "duration": 15,
    "start_time": "2022-03-02T17:42:06.024Z"
   },
   {
    "duration": 6,
    "start_time": "2022-03-02T17:42:06.041Z"
   },
   {
    "duration": 34,
    "start_time": "2022-03-02T17:42:06.049Z"
   },
   {
    "duration": 259,
    "start_time": "2022-03-02T17:42:06.085Z"
   },
   {
    "duration": 362,
    "start_time": "2022-03-02T17:42:06.345Z"
   },
   {
    "duration": 3,
    "start_time": "2022-03-02T17:42:06.708Z"
   },
   {
    "duration": 394,
    "start_time": "2022-03-02T17:42:06.712Z"
   },
   {
    "duration": 19,
    "start_time": "2022-03-02T17:42:07.107Z"
   },
   {
    "duration": 11,
    "start_time": "2022-03-02T17:42:07.127Z"
   },
   {
    "duration": 394,
    "start_time": "2022-03-02T17:42:07.139Z"
   },
   {
    "duration": 19,
    "start_time": "2022-03-02T17:42:07.535Z"
   },
   {
    "duration": 27,
    "start_time": "2022-03-02T17:42:07.555Z"
   },
   {
    "duration": 282,
    "start_time": "2022-03-02T17:42:07.583Z"
   },
   {
    "duration": 4,
    "start_time": "2022-03-02T17:42:07.866Z"
   },
   {
    "duration": 759,
    "start_time": "2022-03-02T17:42:07.872Z"
   },
   {
    "duration": 416,
    "start_time": "2022-03-02T17:42:08.632Z"
   },
   {
    "duration": 402,
    "start_time": "2022-03-02T17:42:09.051Z"
   },
   {
    "duration": 3006,
    "start_time": "2022-03-02T17:42:09.455Z"
   },
   {
    "duration": 21,
    "start_time": "2022-03-02T17:42:12.463Z"
   },
   {
    "duration": 131,
    "start_time": "2022-03-02T17:42:12.485Z"
   },
   {
    "duration": 124,
    "start_time": "2022-03-02T17:42:12.618Z"
   },
   {
    "duration": 117,
    "start_time": "2022-03-02T17:42:12.743Z"
   },
   {
    "duration": 124,
    "start_time": "2022-03-02T17:42:12.862Z"
   },
   {
    "duration": 188,
    "start_time": "2022-03-02T17:42:12.987Z"
   },
   {
    "duration": 120,
    "start_time": "2022-03-02T17:42:13.177Z"
   },
   {
    "duration": 118,
    "start_time": "2022-03-02T17:42:13.298Z"
   },
   {
    "duration": 124,
    "start_time": "2022-03-02T17:42:13.417Z"
   },
   {
    "duration": 121,
    "start_time": "2022-03-02T17:42:13.542Z"
   },
   {
    "duration": 6,
    "start_time": "2022-03-02T17:42:13.664Z"
   },
   {
    "duration": 10,
    "start_time": "2022-03-02T17:42:13.672Z"
   },
   {
    "duration": 13,
    "start_time": "2022-03-02T17:42:13.683Z"
   },
   {
    "duration": 12,
    "start_time": "2022-03-02T17:42:13.697Z"
   },
   {
    "duration": 655,
    "start_time": "2022-03-02T17:42:55.550Z"
   },
   {
    "duration": 667,
    "start_time": "2022-03-02T17:43:13.670Z"
   },
   {
    "duration": 629,
    "start_time": "2022-03-02T17:43:27.925Z"
   },
   {
    "duration": 714,
    "start_time": "2022-03-02T17:43:36.569Z"
   }
  ],
  "kernelspec": {
   "display_name": "Python 3",
   "language": "python",
   "name": "python3"
  },
  "language_info": {
   "codemirror_mode": {
    "name": "ipython",
    "version": 3
   },
   "file_extension": ".py",
   "mimetype": "text/x-python",
   "name": "python",
   "nbconvert_exporter": "python",
   "pygments_lexer": "ipython3",
   "version": "3.7.8"
  },
  "toc": {
   "base_numbering": 1,
   "nav_menu": {},
   "number_sections": true,
   "sideBar": true,
   "skip_h1_title": true,
   "title_cell": "Table of Contents",
   "title_sidebar": "Contents",
   "toc_cell": false,
   "toc_position": {
    "height": "calc(100% - 180px)",
    "left": "10px",
    "top": "150px",
    "width": "259.899px"
   },
   "toc_section_display": true,
   "toc_window_display": false
  }
 },
 "nbformat": 4,
 "nbformat_minor": 2
}
