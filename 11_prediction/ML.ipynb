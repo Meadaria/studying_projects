{
 "cells": [
  {
   "cell_type": "code",
   "execution_count": 1,
   "metadata": {},
   "outputs": [
    {
     "name": "stdout",
     "output_type": "stream",
     "text": [
      "Defaulting to user installation because normal site-packages is not writeable\n",
      "Requirement already up-to-date: seaborn in /home/jovyan/.local/lib/python3.7/site-packages (0.11.2)\n",
      "Requirement already satisfied, skipping upgrade: pandas>=0.23 in /opt/conda/lib/python3.7/site-packages (from seaborn) (0.25.1)\n",
      "Requirement already satisfied, skipping upgrade: numpy>=1.15 in /opt/conda/lib/python3.7/site-packages (from seaborn) (1.19.5)\n",
      "Requirement already satisfied, skipping upgrade: matplotlib>=2.2 in /opt/conda/lib/python3.7/site-packages (from seaborn) (3.1.0)\n",
      "Requirement already satisfied, skipping upgrade: scipy>=1.0 in /opt/conda/lib/python3.7/site-packages (from seaborn) (1.4.1)\n",
      "Requirement already satisfied, skipping upgrade: python-dateutil>=2.6.1 in /opt/conda/lib/python3.7/site-packages (from pandas>=0.23->seaborn) (2.8.1)\n",
      "Requirement already satisfied, skipping upgrade: pytz>=2017.2 in /opt/conda/lib/python3.7/site-packages (from pandas>=0.23->seaborn) (2021.1)\n",
      "Requirement already satisfied, skipping upgrade: kiwisolver>=1.0.1 in /opt/conda/lib/python3.7/site-packages (from matplotlib>=2.2->seaborn) (1.3.1)\n",
      "Requirement already satisfied, skipping upgrade: pyparsing!=2.0.4,!=2.1.2,!=2.1.6,>=2.0.1 in /opt/conda/lib/python3.7/site-packages (from matplotlib>=2.2->seaborn) (2.4.7)\n",
      "Requirement already satisfied, skipping upgrade: cycler>=0.10 in /opt/conda/lib/python3.7/site-packages (from matplotlib>=2.2->seaborn) (0.10.0)\n",
      "Requirement already satisfied, skipping upgrade: six>=1.5 in /opt/conda/lib/python3.7/site-packages (from python-dateutil>=2.6.1->pandas>=0.23->seaborn) (1.15.0)\n",
      "Note: you may need to restart the kernel to use updated packages.\n"
     ]
    }
   ],
   "source": [
    "%pip install seaborn --upgrade"
   ]
  },
  {
   "cell_type": "markdown",
   "metadata": {},
   "source": [
    "## EDA"
   ]
  },
  {
   "cell_type": "code",
   "execution_count": 2,
   "metadata": {},
   "outputs": [],
   "source": [
    "#загрузка бибилиотек\n",
    "import pandas as pd \n",
    "import numpy as np \n",
    "import matplotlib.pyplot as plt\n",
    "import seaborn as sns\n",
    "from scipy import stats as st\n",
    "import plotly.express as px\n",
    "import warnings\n",
    "warnings.filterwarnings(\"ignore\")\n",
    "from sklearn.linear_model import LogisticRegression\n",
    "from sklearn.model_selection import train_test_split\n",
    "from sklearn.metrics import accuracy_score, precision_score, recall_score\n",
    "from sklearn.ensemble import RandomForestClassifier\n",
    "from sklearn.preprocessing import StandardScaler\n",
    "from sklearn.cluster import KMeans\n",
    "from scipy.cluster.hierarchy import dendrogram, linkage"
   ]
  },
  {
   "cell_type": "code",
   "execution_count": 3,
   "metadata": {},
   "outputs": [],
   "source": [
    "df = pd.read_csv('/datasets/gym_churn.csv')"
   ]
  },
  {
   "cell_type": "code",
   "execution_count": 4,
   "metadata": {},
   "outputs": [
    {
     "name": "stdout",
     "output_type": "stream",
     "text": [
      "<class 'pandas.core.frame.DataFrame'>\n",
      "RangeIndex: 4000 entries, 0 to 3999\n",
      "Data columns (total 14 columns):\n",
      "gender                               4000 non-null int64\n",
      "Near_Location                        4000 non-null int64\n",
      "Partner                              4000 non-null int64\n",
      "Promo_friends                        4000 non-null int64\n",
      "Phone                                4000 non-null int64\n",
      "Contract_period                      4000 non-null int64\n",
      "Group_visits                         4000 non-null int64\n",
      "Age                                  4000 non-null int64\n",
      "Avg_additional_charges_total         4000 non-null float64\n",
      "Month_to_end_contract                4000 non-null float64\n",
      "Lifetime                             4000 non-null int64\n",
      "Avg_class_frequency_total            4000 non-null float64\n",
      "Avg_class_frequency_current_month    4000 non-null float64\n",
      "Churn                                4000 non-null int64\n",
      "dtypes: float64(4), int64(10)\n",
      "memory usage: 437.6 KB\n"
     ]
    }
   ],
   "source": [
    "df.info()"
   ]
  },
  {
   "cell_type": "code",
   "execution_count": 5,
   "metadata": {},
   "outputs": [],
   "source": [
    "df['Month_to_end_contract'] = df['Month_to_end_contract'].astype('int')"
   ]
  },
  {
   "cell_type": "code",
   "execution_count": 6,
   "metadata": {},
   "outputs": [
    {
     "data": {
      "text/html": [
       "<div>\n",
       "<style scoped>\n",
       "    .dataframe tbody tr th:only-of-type {\n",
       "        vertical-align: middle;\n",
       "    }\n",
       "\n",
       "    .dataframe tbody tr th {\n",
       "        vertical-align: top;\n",
       "    }\n",
       "\n",
       "    .dataframe thead th {\n",
       "        text-align: right;\n",
       "    }\n",
       "</style>\n",
       "<table border=\"1\" class=\"dataframe\">\n",
       "  <thead>\n",
       "    <tr style=\"text-align: right;\">\n",
       "      <th></th>\n",
       "      <th>gender</th>\n",
       "      <th>Near_Location</th>\n",
       "      <th>Partner</th>\n",
       "      <th>Promo_friends</th>\n",
       "      <th>Phone</th>\n",
       "      <th>Contract_period</th>\n",
       "      <th>Group_visits</th>\n",
       "      <th>Age</th>\n",
       "      <th>Avg_additional_charges_total</th>\n",
       "      <th>Month_to_end_contract</th>\n",
       "      <th>Lifetime</th>\n",
       "      <th>Avg_class_frequency_total</th>\n",
       "      <th>Avg_class_frequency_current_month</th>\n",
       "      <th>Churn</th>\n",
       "    </tr>\n",
       "  </thead>\n",
       "  <tbody>\n",
       "    <tr>\n",
       "      <td>0</td>\n",
       "      <td>1</td>\n",
       "      <td>1</td>\n",
       "      <td>1</td>\n",
       "      <td>1</td>\n",
       "      <td>0</td>\n",
       "      <td>6</td>\n",
       "      <td>1</td>\n",
       "      <td>29</td>\n",
       "      <td>14.227470</td>\n",
       "      <td>5</td>\n",
       "      <td>3</td>\n",
       "      <td>0.020398</td>\n",
       "      <td>0.000000</td>\n",
       "      <td>0</td>\n",
       "    </tr>\n",
       "    <tr>\n",
       "      <td>1</td>\n",
       "      <td>0</td>\n",
       "      <td>1</td>\n",
       "      <td>0</td>\n",
       "      <td>0</td>\n",
       "      <td>1</td>\n",
       "      <td>12</td>\n",
       "      <td>1</td>\n",
       "      <td>31</td>\n",
       "      <td>113.202938</td>\n",
       "      <td>12</td>\n",
       "      <td>7</td>\n",
       "      <td>1.922936</td>\n",
       "      <td>1.910244</td>\n",
       "      <td>0</td>\n",
       "    </tr>\n",
       "    <tr>\n",
       "      <td>2</td>\n",
       "      <td>0</td>\n",
       "      <td>1</td>\n",
       "      <td>1</td>\n",
       "      <td>0</td>\n",
       "      <td>1</td>\n",
       "      <td>1</td>\n",
       "      <td>0</td>\n",
       "      <td>28</td>\n",
       "      <td>129.448479</td>\n",
       "      <td>1</td>\n",
       "      <td>2</td>\n",
       "      <td>1.859098</td>\n",
       "      <td>1.736502</td>\n",
       "      <td>0</td>\n",
       "    </tr>\n",
       "    <tr>\n",
       "      <td>3</td>\n",
       "      <td>0</td>\n",
       "      <td>1</td>\n",
       "      <td>1</td>\n",
       "      <td>1</td>\n",
       "      <td>1</td>\n",
       "      <td>12</td>\n",
       "      <td>1</td>\n",
       "      <td>33</td>\n",
       "      <td>62.669863</td>\n",
       "      <td>12</td>\n",
       "      <td>2</td>\n",
       "      <td>3.205633</td>\n",
       "      <td>3.357215</td>\n",
       "      <td>0</td>\n",
       "    </tr>\n",
       "    <tr>\n",
       "      <td>4</td>\n",
       "      <td>1</td>\n",
       "      <td>1</td>\n",
       "      <td>1</td>\n",
       "      <td>1</td>\n",
       "      <td>1</td>\n",
       "      <td>1</td>\n",
       "      <td>0</td>\n",
       "      <td>26</td>\n",
       "      <td>198.362265</td>\n",
       "      <td>1</td>\n",
       "      <td>3</td>\n",
       "      <td>1.113884</td>\n",
       "      <td>1.120078</td>\n",
       "      <td>0</td>\n",
       "    </tr>\n",
       "  </tbody>\n",
       "</table>\n",
       "</div>"
      ],
      "text/plain": [
       "   gender  Near_Location  Partner  Promo_friends  Phone  Contract_period  \\\n",
       "0       1              1        1              1      0                6   \n",
       "1       0              1        0              0      1               12   \n",
       "2       0              1        1              0      1                1   \n",
       "3       0              1        1              1      1               12   \n",
       "4       1              1        1              1      1                1   \n",
       "\n",
       "   Group_visits  Age  Avg_additional_charges_total  Month_to_end_contract  \\\n",
       "0             1   29                     14.227470                      5   \n",
       "1             1   31                    113.202938                     12   \n",
       "2             0   28                    129.448479                      1   \n",
       "3             1   33                     62.669863                     12   \n",
       "4             0   26                    198.362265                      1   \n",
       "\n",
       "   Lifetime  Avg_class_frequency_total  Avg_class_frequency_current_month  \\\n",
       "0         3                   0.020398                           0.000000   \n",
       "1         7                   1.922936                           1.910244   \n",
       "2         2                   1.859098                           1.736502   \n",
       "3         2                   3.205633                           3.357215   \n",
       "4         3                   1.113884                           1.120078   \n",
       "\n",
       "   Churn  \n",
       "0      0  \n",
       "1      0  \n",
       "2      0  \n",
       "3      0  \n",
       "4      0  "
      ]
     },
     "execution_count": 6,
     "metadata": {},
     "output_type": "execute_result"
    }
   ],
   "source": [
    "df.head()"
   ]
  },
  {
   "cell_type": "code",
   "execution_count": 7,
   "metadata": {},
   "outputs": [
    {
     "data": {
      "text/html": [
       "<div>\n",
       "<style scoped>\n",
       "    .dataframe tbody tr th:only-of-type {\n",
       "        vertical-align: middle;\n",
       "    }\n",
       "\n",
       "    .dataframe tbody tr th {\n",
       "        vertical-align: top;\n",
       "    }\n",
       "\n",
       "    .dataframe thead th {\n",
       "        text-align: right;\n",
       "    }\n",
       "</style>\n",
       "<table border=\"1\" class=\"dataframe\">\n",
       "  <thead>\n",
       "    <tr style=\"text-align: right;\">\n",
       "      <th></th>\n",
       "      <th>gender</th>\n",
       "      <th>Near_Location</th>\n",
       "      <th>Partner</th>\n",
       "      <th>Promo_friends</th>\n",
       "      <th>Phone</th>\n",
       "      <th>Contract_period</th>\n",
       "      <th>Group_visits</th>\n",
       "      <th>Age</th>\n",
       "      <th>Avg_additional_charges_total</th>\n",
       "      <th>Month_to_end_contract</th>\n",
       "      <th>Lifetime</th>\n",
       "      <th>Avg_class_frequency_total</th>\n",
       "      <th>Avg_class_frequency_current_month</th>\n",
       "      <th>Churn</th>\n",
       "    </tr>\n",
       "  </thead>\n",
       "  <tbody>\n",
       "    <tr>\n",
       "      <td>count</td>\n",
       "      <td>4000.000000</td>\n",
       "      <td>4000.000000</td>\n",
       "      <td>4000.000000</td>\n",
       "      <td>4000.000000</td>\n",
       "      <td>4000.000000</td>\n",
       "      <td>4000.000000</td>\n",
       "      <td>4000.000000</td>\n",
       "      <td>4000.000000</td>\n",
       "      <td>4000.000000</td>\n",
       "      <td>4000.000000</td>\n",
       "      <td>4000.000000</td>\n",
       "      <td>4000.000000</td>\n",
       "      <td>4000.000000</td>\n",
       "      <td>4000.000000</td>\n",
       "    </tr>\n",
       "    <tr>\n",
       "      <td>mean</td>\n",
       "      <td>0.510250</td>\n",
       "      <td>0.845250</td>\n",
       "      <td>0.486750</td>\n",
       "      <td>0.308500</td>\n",
       "      <td>0.903500</td>\n",
       "      <td>4.681250</td>\n",
       "      <td>0.412250</td>\n",
       "      <td>29.184250</td>\n",
       "      <td>146.943728</td>\n",
       "      <td>4.322750</td>\n",
       "      <td>3.724750</td>\n",
       "      <td>1.879020</td>\n",
       "      <td>1.767052</td>\n",
       "      <td>0.265250</td>\n",
       "    </tr>\n",
       "    <tr>\n",
       "      <td>std</td>\n",
       "      <td>0.499957</td>\n",
       "      <td>0.361711</td>\n",
       "      <td>0.499887</td>\n",
       "      <td>0.461932</td>\n",
       "      <td>0.295313</td>\n",
       "      <td>4.549706</td>\n",
       "      <td>0.492301</td>\n",
       "      <td>3.258367</td>\n",
       "      <td>96.355602</td>\n",
       "      <td>4.191297</td>\n",
       "      <td>3.749267</td>\n",
       "      <td>0.972245</td>\n",
       "      <td>1.052906</td>\n",
       "      <td>0.441521</td>\n",
       "    </tr>\n",
       "    <tr>\n",
       "      <td>min</td>\n",
       "      <td>0.000000</td>\n",
       "      <td>0.000000</td>\n",
       "      <td>0.000000</td>\n",
       "      <td>0.000000</td>\n",
       "      <td>0.000000</td>\n",
       "      <td>1.000000</td>\n",
       "      <td>0.000000</td>\n",
       "      <td>18.000000</td>\n",
       "      <td>0.148205</td>\n",
       "      <td>1.000000</td>\n",
       "      <td>0.000000</td>\n",
       "      <td>0.000000</td>\n",
       "      <td>0.000000</td>\n",
       "      <td>0.000000</td>\n",
       "    </tr>\n",
       "    <tr>\n",
       "      <td>25%</td>\n",
       "      <td>0.000000</td>\n",
       "      <td>1.000000</td>\n",
       "      <td>0.000000</td>\n",
       "      <td>0.000000</td>\n",
       "      <td>1.000000</td>\n",
       "      <td>1.000000</td>\n",
       "      <td>0.000000</td>\n",
       "      <td>27.000000</td>\n",
       "      <td>68.868830</td>\n",
       "      <td>1.000000</td>\n",
       "      <td>1.000000</td>\n",
       "      <td>1.180875</td>\n",
       "      <td>0.963003</td>\n",
       "      <td>0.000000</td>\n",
       "    </tr>\n",
       "    <tr>\n",
       "      <td>50%</td>\n",
       "      <td>1.000000</td>\n",
       "      <td>1.000000</td>\n",
       "      <td>0.000000</td>\n",
       "      <td>0.000000</td>\n",
       "      <td>1.000000</td>\n",
       "      <td>1.000000</td>\n",
       "      <td>0.000000</td>\n",
       "      <td>29.000000</td>\n",
       "      <td>136.220159</td>\n",
       "      <td>1.000000</td>\n",
       "      <td>3.000000</td>\n",
       "      <td>1.832768</td>\n",
       "      <td>1.719574</td>\n",
       "      <td>0.000000</td>\n",
       "    </tr>\n",
       "    <tr>\n",
       "      <td>75%</td>\n",
       "      <td>1.000000</td>\n",
       "      <td>1.000000</td>\n",
       "      <td>1.000000</td>\n",
       "      <td>1.000000</td>\n",
       "      <td>1.000000</td>\n",
       "      <td>6.000000</td>\n",
       "      <td>1.000000</td>\n",
       "      <td>31.000000</td>\n",
       "      <td>210.949625</td>\n",
       "      <td>6.000000</td>\n",
       "      <td>5.000000</td>\n",
       "      <td>2.536078</td>\n",
       "      <td>2.510336</td>\n",
       "      <td>1.000000</td>\n",
       "    </tr>\n",
       "    <tr>\n",
       "      <td>max</td>\n",
       "      <td>1.000000</td>\n",
       "      <td>1.000000</td>\n",
       "      <td>1.000000</td>\n",
       "      <td>1.000000</td>\n",
       "      <td>1.000000</td>\n",
       "      <td>12.000000</td>\n",
       "      <td>1.000000</td>\n",
       "      <td>41.000000</td>\n",
       "      <td>552.590740</td>\n",
       "      <td>12.000000</td>\n",
       "      <td>31.000000</td>\n",
       "      <td>6.023668</td>\n",
       "      <td>6.146783</td>\n",
       "      <td>1.000000</td>\n",
       "    </tr>\n",
       "  </tbody>\n",
       "</table>\n",
       "</div>"
      ],
      "text/plain": [
       "            gender  Near_Location      Partner  Promo_friends        Phone  \\\n",
       "count  4000.000000    4000.000000  4000.000000    4000.000000  4000.000000   \n",
       "mean      0.510250       0.845250     0.486750       0.308500     0.903500   \n",
       "std       0.499957       0.361711     0.499887       0.461932     0.295313   \n",
       "min       0.000000       0.000000     0.000000       0.000000     0.000000   \n",
       "25%       0.000000       1.000000     0.000000       0.000000     1.000000   \n",
       "50%       1.000000       1.000000     0.000000       0.000000     1.000000   \n",
       "75%       1.000000       1.000000     1.000000       1.000000     1.000000   \n",
       "max       1.000000       1.000000     1.000000       1.000000     1.000000   \n",
       "\n",
       "       Contract_period  Group_visits          Age  \\\n",
       "count      4000.000000   4000.000000  4000.000000   \n",
       "mean          4.681250      0.412250    29.184250   \n",
       "std           4.549706      0.492301     3.258367   \n",
       "min           1.000000      0.000000    18.000000   \n",
       "25%           1.000000      0.000000    27.000000   \n",
       "50%           1.000000      0.000000    29.000000   \n",
       "75%           6.000000      1.000000    31.000000   \n",
       "max          12.000000      1.000000    41.000000   \n",
       "\n",
       "       Avg_additional_charges_total  Month_to_end_contract     Lifetime  \\\n",
       "count                   4000.000000            4000.000000  4000.000000   \n",
       "mean                     146.943728               4.322750     3.724750   \n",
       "std                       96.355602               4.191297     3.749267   \n",
       "min                        0.148205               1.000000     0.000000   \n",
       "25%                       68.868830               1.000000     1.000000   \n",
       "50%                      136.220159               1.000000     3.000000   \n",
       "75%                      210.949625               6.000000     5.000000   \n",
       "max                      552.590740              12.000000    31.000000   \n",
       "\n",
       "       Avg_class_frequency_total  Avg_class_frequency_current_month  \\\n",
       "count                4000.000000                        4000.000000   \n",
       "mean                    1.879020                           1.767052   \n",
       "std                     0.972245                           1.052906   \n",
       "min                     0.000000                           0.000000   \n",
       "25%                     1.180875                           0.963003   \n",
       "50%                     1.832768                           1.719574   \n",
       "75%                     2.536078                           2.510336   \n",
       "max                     6.023668                           6.146783   \n",
       "\n",
       "             Churn  \n",
       "count  4000.000000  \n",
       "mean      0.265250  \n",
       "std       0.441521  \n",
       "min       0.000000  \n",
       "25%       0.000000  \n",
       "50%       0.000000  \n",
       "75%       1.000000  \n",
       "max       1.000000  "
      ]
     },
     "execution_count": 7,
     "metadata": {},
     "output_type": "execute_result"
    }
   ],
   "source": [
    "df.describe()"
   ]
  },
  {
   "cell_type": "code",
   "execution_count": 8,
   "metadata": {},
   "outputs": [
    {
     "data": {
      "text/plain": [
       "0"
      ]
     },
     "execution_count": 8,
     "metadata": {},
     "output_type": "execute_result"
    }
   ],
   "source": [
    "df.duplicated().sum()"
   ]
  },
  {
   "cell_type": "markdown",
   "metadata": {},
   "source": [
    "    В данных нет пропусков и дубликатов. Все признаки числовые. Среднее значение и медиана не сильно отличаются. Данные без сильных вбросов или их вообще нет."
   ]
  },
  {
   "cell_type": "code",
   "execution_count": 9,
   "metadata": {},
   "outputs": [
    {
     "data": {
      "text/html": [
       "<div>\n",
       "<style scoped>\n",
       "    .dataframe tbody tr th:only-of-type {\n",
       "        vertical-align: middle;\n",
       "    }\n",
       "\n",
       "    .dataframe tbody tr th {\n",
       "        vertical-align: top;\n",
       "    }\n",
       "\n",
       "    .dataframe thead th {\n",
       "        text-align: right;\n",
       "    }\n",
       "</style>\n",
       "<table border=\"1\" class=\"dataframe\">\n",
       "  <thead>\n",
       "    <tr style=\"text-align: right;\">\n",
       "      <th>Churn</th>\n",
       "      <th>0</th>\n",
       "      <th>1</th>\n",
       "    </tr>\n",
       "  </thead>\n",
       "  <tbody>\n",
       "    <tr>\n",
       "      <td>gender</td>\n",
       "      <td>0.510037</td>\n",
       "      <td>0.510839</td>\n",
       "    </tr>\n",
       "    <tr>\n",
       "      <td>Near_Location</td>\n",
       "      <td>0.873086</td>\n",
       "      <td>0.768143</td>\n",
       "    </tr>\n",
       "    <tr>\n",
       "      <td>Partner</td>\n",
       "      <td>0.534195</td>\n",
       "      <td>0.355325</td>\n",
       "    </tr>\n",
       "    <tr>\n",
       "      <td>Promo_friends</td>\n",
       "      <td>0.353522</td>\n",
       "      <td>0.183789</td>\n",
       "    </tr>\n",
       "    <tr>\n",
       "      <td>Phone</td>\n",
       "      <td>0.903709</td>\n",
       "      <td>0.902922</td>\n",
       "    </tr>\n",
       "    <tr>\n",
       "      <td>Contract_period</td>\n",
       "      <td>5.747193</td>\n",
       "      <td>1.728558</td>\n",
       "    </tr>\n",
       "    <tr>\n",
       "      <td>Group_visits</td>\n",
       "      <td>0.464103</td>\n",
       "      <td>0.268615</td>\n",
       "    </tr>\n",
       "    <tr>\n",
       "      <td>Age</td>\n",
       "      <td>29.976523</td>\n",
       "      <td>26.989632</td>\n",
       "    </tr>\n",
       "    <tr>\n",
       "      <td>Avg_additional_charges_total</td>\n",
       "      <td>158.445715</td>\n",
       "      <td>115.082899</td>\n",
       "    </tr>\n",
       "    <tr>\n",
       "      <td>Month_to_end_contract</td>\n",
       "      <td>5.283089</td>\n",
       "      <td>1.662582</td>\n",
       "    </tr>\n",
       "    <tr>\n",
       "      <td>Lifetime</td>\n",
       "      <td>4.711807</td>\n",
       "      <td>0.990575</td>\n",
       "    </tr>\n",
       "    <tr>\n",
       "      <td>Avg_class_frequency_total</td>\n",
       "      <td>2.024876</td>\n",
       "      <td>1.474995</td>\n",
       "    </tr>\n",
       "    <tr>\n",
       "      <td>Avg_class_frequency_current_month</td>\n",
       "      <td>2.027882</td>\n",
       "      <td>1.044546</td>\n",
       "    </tr>\n",
       "  </tbody>\n",
       "</table>\n",
       "</div>"
      ],
      "text/plain": [
       "Churn                                       0           1\n",
       "gender                               0.510037    0.510839\n",
       "Near_Location                        0.873086    0.768143\n",
       "Partner                              0.534195    0.355325\n",
       "Promo_friends                        0.353522    0.183789\n",
       "Phone                                0.903709    0.902922\n",
       "Contract_period                      5.747193    1.728558\n",
       "Group_visits                         0.464103    0.268615\n",
       "Age                                 29.976523   26.989632\n",
       "Avg_additional_charges_total       158.445715  115.082899\n",
       "Month_to_end_contract                5.283089    1.662582\n",
       "Lifetime                             4.711807    0.990575\n",
       "Avg_class_frequency_total            2.024876    1.474995\n",
       "Avg_class_frequency_current_month    2.027882    1.044546"
      ]
     },
     "execution_count": 9,
     "metadata": {},
     "output_type": "execute_result"
    }
   ],
   "source": [
    "# рассчет средних показателей по категориям\n",
    "df_gr_churn = df.groupby('Churn').mean().T\n",
    "df_gr_churn"
   ]
  },
  {
   "cell_type": "code",
   "execution_count": 10,
   "metadata": {},
   "outputs": [],
   "source": [
    "list_stackedbar = ['Age','Avg_additional_charges_total', 'Lifetime', 'Avg_class_frequency_total', 'Avg_class_frequency_current_month']\n",
    "list_countplot = ['gender', 'Near_Location', 'Partner', 'Promo_friends', 'Group_visits']"
   ]
  },
  {
   "cell_type": "code",
   "execution_count": 11,
   "metadata": {},
   "outputs": [
    {
     "data": {
      "image/png": "[encoded data removed]",
      "text/plain": [
       "<Figure size 864x432 with 1 Axes>"
      ]
     },
     "metadata": {
      "needs_background": "light"
     },
     "output_type": "display_data"
    },
    {
     "data": {
      "image/png": "[encoded data removed]",
      "text/plain": [
       "<Figure size 864x432 with 1 Axes>"
      ]
     },
     "metadata": {
      "needs_background": "light"
     },
     "output_type": "display_data"
    },
    {
     "data": {
      "image/png": "[encoded data removed]",
      "text/plain": [
       "<Figure size 864x432 with 1 Axes>"
      ]
     },
     "metadata": {
      "needs_background": "light"
     },
     "output_type": "display_data"
    },
    {
     "data": {
      "image/png": "[encoded data removed]",
      "text/plain": [
       "<Figure size 864x432 with 1 Axes>"
      ]
     },
     "metadata": {
      "needs_background": "light"
     },
     "output_type": "display_data"
    },
    {
     "data": {
      "image/png": "[encoded data removed]",
      "text/plain": [
       "<Figure size 864x432 with 1 Axes>"
      ]
     },
     "metadata": {
      "needs_background": "light"
     },
     "output_type": "display_data"
    }
   ],
   "source": [
    "for f in list_countplot:\n",
    "    fig, ax = plt.subplots(figsize=(12,6))\n",
    "    g = sns.countplot(data=df, x=df[f], hue='Churn', palette=\"hls\", ax=ax ) \n",
    "    plt.title(f'Признак - {f}')\n",
    "    plt.ylabel(\"Кол-во клиентов\")\n",
    "    plt.xlabel(\"\")\n",
    "    #g.fig.set_figwidth(12)\n",
    "    #g.fig.set_figheight(6)"
   ]
  },
  {
   "cell_type": "code",
   "execution_count": 12,
   "metadata": {},
   "outputs": [
    {
     "data": {
      "image/png": "[encoded data removed]",
      "text/plain": [
       "<Figure size 1008x216 with 2 Axes>"
      ]
     },
     "metadata": {
      "needs_background": "light"
     },
     "output_type": "display_data"
    }
   ],
   "source": [
    "for col in ['Lifetime']:\n",
    "    fig, ax = plt.subplots(figsize=(14, 3))\n",
    "    life_data = df.reset_index()\\\n",
    "                .pivot_table(\n",
    "                    index='Churn',\n",
    "                    columns=col,\n",
    "                    values='index',\n",
    "                    aggfunc='count'\n",
    "                    )\n",
    "    sns.heatmap(life_data, cmap='rocket_r', annot=True, fmt='.0f', ax=ax, linewidths=0.25, linecolor='white')\n",
    "    ax.set_title(f'Heatmap of {col} by churn')\n",
    "    ax.grid(False)\n",
    "    plt.show()"
   ]
  },
  {
   "cell_type": "code",
   "execution_count": 13,
   "metadata": {
    "scrolled": false
   },
   "outputs": [
    {
     "data": {
      "image/png": "[encoded data removed]",
      "text/plain": [
       "<Figure size 864x432 with 1 Axes>"
      ]
     },
     "metadata": {
      "needs_background": "light"
     },
     "output_type": "display_data"
    },
    {
     "data": {
      "image/png": "[encoded data removed]",
      "text/plain": [
       "<Figure size 864x432 with 1 Axes>"
      ]
     },
     "metadata": {
      "needs_background": "light"
     },
     "output_type": "display_data"
    },
    {
     "data": {
      "image/png": "[encoded data removed]",
      "text/plain": [
       "<Figure size 864x432 with 1 Axes>"
      ]
     },
     "metadata": {
      "needs_background": "light"
     },
     "output_type": "display_data"
    },
    {
     "data": {
      "image/png": "[encoded data removed]",
      "text/plain": [
       "<Figure size 864x432 with 1 Axes>"
      ]
     },
     "metadata": {
      "needs_background": "light"
     },
     "output_type": "display_data"
    },
    {
     "data": {
      "image/png": "[encoded data removed]",
      "text/plain": [
       "<Figure size 864x432 with 1 Axes>"
      ]
     },
     "metadata": {
      "needs_background": "light"
     },
     "output_type": "display_data"
    }
   ],
   "source": [
    "# построение графиков для непрерывных признаков\n",
    "for f in list_stackedbar:\n",
    "    g = sns.displot(df, x=df[f], hue='Churn', palette=\"hls\", kind='kde') \n",
    "    plt.title(f'Признак - {f}')\n",
    "    plt.ylabel(\"Кол-во клиентов\")\n",
    "    plt.xlabel(\"\")\n",
    "    g.fig.set_figwidth(12)\n",
    "    g.fig.set_figheight(6)"
   ]
  },
  {
   "cell_type": "markdown",
   "metadata": {},
   "source": [
    "        Судя по таблице со средними значениями, соотношение полов примерно одинаково в двух категориях (оставшихся и ушедших). Люди, которые живут/работают близко, приходят от партнёров или по промо от друзей чаще остаются. Почти у всех клиентов записан телефон. Люди, которые ушли в отток, имеет более короткий срок действия текущего абонемента, меньше посещают групповые занятия, чуть младше, чем оставшиеся люди. Так же клиенты, которые не попали в отток, в среднем больше тратят на сопутствующие товары, у них больше срок с момента первого посещения. Средняя частота посещений в неделю за все время с начала действия абонемента и средняя частота посещений в неделю за предыдущий месяц также больше у группы, которая не попала в отток.\n",
    "       На графике видно, что возраст имеет нормальное распределение в обоих категориях. А у суммарной выручки от других услуг фитнес-центра и времени с момента первого обращения в фитнес-центр (в месяцах) график скошен вправо.\n",
    "       Средняя частота посещений в неделю за все время с начала действия абонемента и средняя частота посещений в неделю за предыдущий месяц имеют графики, которые также скошены вправо + есть вброс на 0: большое число клиентов не ходило в центр в течение всего периода или последнего месяца.\n"
   ]
  },
  {
   "cell_type": "code",
   "execution_count": 14,
   "metadata": {},
   "outputs": [
    {
     "data": {
      "image/png": "[encoded data removed]",
      "text/plain": [
       "<Figure size 936x936 with 2 Axes>"
      ]
     },
     "metadata": {},
     "output_type": "display_data"
    }
   ],
   "source": [
    "cm = df.corr() # матрица корреляций\n",
    "\n",
    "#тепловая карта с подписями для матрицы корреляций\n",
    "sns.set(style='white')\n",
    "plt.figure(figsize=(13, 13))\n",
    "plt.title('Матрица корреляций')\n",
    "sns.heatmap(cm, annot = True, square=True,fmt='.2f', linewidths=0.5, linecolor='black',cmap=\"coolwarm\", center=0)\n",
    "\n",
    "plt.show()"
   ]
  },
  {
   "cell_type": "markdown",
   "metadata": {},
   "source": [
    "    Отток имеет обратную корреляцию почти со всеми параметрами, что было видно и по средним значения. Самая большая связь с возрастом (-0.4), временем с момента первого посещения (-0.44), со средней частота посещений в неделю за предыдущий месяц (-0.41). \n",
    "    Между сл. парами признаков Contract_period/Month_to_end_contract и Avg_class_frequency_current_month/Avg_class_frequency_total существует сильная корреляция, равная 0.97 и 0.95 соответственно. В первом случае это говорит о том, что много посетителей только недавно приобрели текущий абонемент, а во втором о том, что кол-во посещений в неделю стабильно и прошедший месяц не был аномальным. Можно исключить по признаку из пар после построения основной модели и посмотреть, если улучшения по метрикам. "
   ]
  },
  {
   "cell_type": "markdown",
   "metadata": {},
   "source": [
    "## Построение модели прогнозирования оттока клиентов"
   ]
  },
  {
   "cell_type": "code",
   "execution_count": 15,
   "metadata": {},
   "outputs": [],
   "source": [
    "#разделение на признаки (матрица X) и целевую переменную (y)\n",
    "X =  df.drop('Churn', axis = 1) \n",
    "y = df['Churn']\n",
    "\n",
    "#ращделение модели на обучающую и валидационную выборки\n",
    "X_train, X_test, y_train, y_test = train_test_split(X, y, test_size=0.2,random_state=0)"
   ]
  },
  {
   "cell_type": "markdown",
   "metadata": {},
   "source": [
    "    Разделение на выборки проведено случайно, так как в данных нет привязки ко времени."
   ]
  },
  {
   "cell_type": "markdown",
   "metadata": {},
   "source": [
    "### Логистическая регрессия"
   ]
  },
  {
   "cell_type": "code",
   "execution_count": 16,
   "metadata": {},
   "outputs": [
    {
     "name": "stdout",
     "output_type": "stream",
     "text": [
      "Accuracy: 0.93\n",
      "Precision: 0.86\n",
      "Recall: 0.83\n"
     ]
    }
   ],
   "source": [
    "#  модель на основе логистической регрессии \n",
    "lr_model = LogisticRegression() \n",
    "# обучите модель\n",
    "lr_model.fit(X_train,y_train)\n",
    "\n",
    "# пролучение прогноза\n",
    "lr_predictions = lr_model.predict(X_test) \n",
    "\n",
    "# Получение сл. метрик: Accuracy,Precision и Recall\n",
    "print('Accuracy: {:.2f}'.format(accuracy_score(y_test, lr_predictions)))\n",
    "print('Precision: {:.2f}'.format(precision_score(y_test, lr_predictions)))\n",
    "print('Recall: {:.2f}'.format(recall_score(y_test, lr_predictions)))"
   ]
  },
  {
   "cell_type": "code",
   "execution_count": 17,
   "metadata": {},
   "outputs": [
    {
     "data": {
      "text/plain": [
       "array([[ 0.04777714,  0.05297584, -0.04843903, -0.5684336 ,  0.61130107,\n",
       "        -0.18896923, -0.71274274, -0.18196326, -0.00467586, -0.06693981,\n",
       "        -0.97287369,  3.47084952, -4.16197949]])"
      ]
     },
     "execution_count": 17,
     "metadata": {},
     "output_type": "execute_result"
    }
   ],
   "source": [
    "feature_weights = lr_model.coef_ \n",
    "feature_weights"
   ]
  },
  {
   "cell_type": "markdown",
   "metadata": {},
   "source": [
    "### Случайный лес"
   ]
  },
  {
   "cell_type": "code",
   "execution_count": 18,
   "metadata": {},
   "outputs": [
    {
     "name": "stdout",
     "output_type": "stream",
     "text": [
      "Accuracy: 0.92\n",
      "Precision: 0.84\n",
      "Recall: 0.82\n"
     ]
    }
   ],
   "source": [
    "# модель на основе алгоритма случайного леса\n",
    "rf_model = RandomForestClassifier(n_estimators = 100, random_state = 0) # Ваш код здесь\n",
    "# обучение модели случайного леса\n",
    "rf_model.fit(X_train, y_train)\n",
    "# делаем прогнозы\n",
    "rf_predictions = rf_model.predict(X_test)\n",
    "\n",
    "# Получение сл. метрик: Accuracy,Precision и Recall\n",
    "print('Accuracy: {:.2f}'.format(accuracy_score(y_test, rf_predictions)))\n",
    "print('Precision: {:.2f}'.format(precision_score(y_test, rf_predictions)))\n",
    "print('Recall: {:.2f}'.format(recall_score(y_test, rf_predictions)))"
   ]
  },
  {
   "cell_type": "code",
   "execution_count": 19,
   "metadata": {},
   "outputs": [
    {
     "data": {
      "text/plain": [
       "array([0.01242526, 0.00942085, 0.01228455, 0.01205345, 0.0061919 ,\n",
       "       0.06596372, 0.01565161, 0.11912869, 0.09147294, 0.06885504,\n",
       "       0.27649949, 0.12988274, 0.18016975])"
      ]
     },
     "execution_count": 19,
     "metadata": {},
     "output_type": "execute_result"
    }
   ],
   "source": [
    "importances = rf_model.feature_importances_ \n",
    "importances"
   ]
  },
  {
   "cell_type": "markdown",
   "metadata": {},
   "source": [
    "    По всем метрикам можем признать, что и линейная регресси и случайный лес работают корректно. Однако, модель на основе линейной регрессии имеет лучшие показатели. Дальше имеет смысл работать именно с этой моделью. Наиболее важными признаками оказались: Avg_additional_charges_total, Avg_class_frequency_current_month, Lifetime."
   ]
  },
  {
   "cell_type": "markdown",
   "metadata": {},
   "source": [
    "### "
   ]
  },
  {
   "cell_type": "code",
   "execution_count": 20,
   "metadata": {},
   "outputs": [],
   "source": [
    "df_b = df.drop(['gender', 'Phone'], axis = 1) \n",
    "#разделение на признаки (матрица X) и целевую переменную (y)\n",
    "X_b =  df_b.drop('Churn', axis = 1) \n",
    "y_b = df_b['Churn']\n",
    "\n",
    "#ращделение модели на обучающую и валидационную выборки\n",
    "X_train, X_test, y_train, y_test = train_test_split(X_b, y_b, test_size=0.2,random_state=0)\n",
    "\n",
    "scaler = StandardScaler()\n",
    "X_train_st = scaler.fit_transform(X_train)  #обучаем scaler и одновременно трансформируем матрицу для обучающей выборки\n",
    "X_test_st = scaler.transform(X_test)"
   ]
  },
  {
   "cell_type": "markdown",
   "metadata": {},
   "source": [
    "#### Логистическая регрессия"
   ]
  },
  {
   "cell_type": "code",
   "execution_count": 21,
   "metadata": {},
   "outputs": [
    {
     "name": "stdout",
     "output_type": "stream",
     "text": [
      "Accuracy: 0.92\n",
      "Precision: 0.85\n",
      "Recall: 0.83\n"
     ]
    }
   ],
   "source": [
    "#  модель на основе логистической регрессии \n",
    "lr_model = LogisticRegression() \n",
    "# обучите модель\n",
    "lr_model.fit(X_train_st,y_train)\n",
    "\n",
    "# пролучение прогноза\n",
    "lr_predictions = lr_model.predict(X_test_st) \n",
    "\n",
    "# Получение сл. метрик: Accuracy,Precision и Recall\n",
    "print('Accuracy: {:.2f}'.format(accuracy_score(y_test, lr_predictions)))\n",
    "print('Precision: {:.2f}'.format(precision_score(y_test, lr_predictions)))\n",
    "print('Recall: {:.2f}'.format(recall_score(y_test, lr_predictions)))"
   ]
  },
  {
   "cell_type": "markdown",
   "metadata": {},
   "source": [
    "#### Случайный лес"
   ]
  },
  {
   "cell_type": "code",
   "execution_count": 22,
   "metadata": {},
   "outputs": [
    {
     "name": "stdout",
     "output_type": "stream",
     "text": [
      "Accuracy: 0.92\n",
      "Precision: 0.86\n",
      "Recall: 0.83\n"
     ]
    }
   ],
   "source": [
    "# модель на основе алгоритма случайного леса\n",
    "rf_model = RandomForestClassifier(n_estimators = 100, random_state = 0)\n",
    "# обучение модели случайного леса\n",
    "rf_model.fit(X_train_st, y_train)\n",
    "# делаем прогнозы\n",
    "rf_predictions = rf_model.predict(X_test_st)\n",
    "\n",
    "# Получение сл. метрик: Accuracy,Precision и Recall\n",
    "print('Accuracy: {:.2f}'.format(accuracy_score(y_test, rf_predictions)))\n",
    "print('Precision: {:.2f}'.format(precision_score(y_test, rf_predictions)))\n",
    "print('Recall: {:.2f}'.format(recall_score(y_test, rf_predictions)))"
   ]
  },
  {
   "cell_type": "code",
   "execution_count": 23,
   "metadata": {},
   "outputs": [
    {
     "data": {
      "image/png": "[encoded data removed]",
      "text/plain": [
       "<Figure size 648x432 with 1 Axes>"
      ]
     },
     "metadata": {},
     "output_type": "display_data"
    }
   ],
   "source": [
    "importances_b = rf_model.feature_importances_ \n",
    "fig, ax = plt.subplots(figsize=(9, 6))\n",
    "pd.DataFrame({\n",
    "    'feature': X_b.columns,\n",
    "    'imp': importances_b\n",
    "}).sort_values(by='imp', ascending=True).set_index('feature').plot(kind='barh', ax=ax)\n",
    "ax.grid(color='grey', alpha=0.5, lw=0.5)"
   ]
  },
  {
   "cell_type": "markdown",
   "metadata": {},
   "source": [
    "    После стандартизации и исключения признаков с 0 корреляции качество моделей улучшилось и теперь лучщая - случайный лес."
   ]
  },
  {
   "cell_type": "markdown",
   "metadata": {},
   "source": [
    "## Кастеризация клиентов"
   ]
  },
  {
   "cell_type": "code",
   "execution_count": 24,
   "metadata": {},
   "outputs": [],
   "source": [
    "#  стандартизация данных\n",
    "sc = StandardScaler()\n",
    "X_sc = sc.fit_transform(X)\n",
    "\n",
    "# таблица «связок» между объектами\n",
    "linked = linkage(X_sc, method = 'ward') "
   ]
  },
  {
   "cell_type": "code",
   "execution_count": null,
   "metadata": {},
   "outputs": [],
   "source": [
    "# построение дендрограммы\n",
    "plt.figure(figsize=(15, 10))  \n",
    "dendrogram(linked, orientation='top')\n",
    "plt.show() "
   ]
  },
  {
   "cell_type": "markdown",
   "metadata": {},
   "source": [
    "    При кластеризации алгоритм выделил 4 кластера цветом, однако, визуально можно также поделить на 5 или 6. "
   ]
  },
  {
   "cell_type": "code",
   "execution_count": null,
   "metadata": {},
   "outputs": [],
   "source": [
    "# модель k_means с числом кластеров 5\n",
    "km = KMeans(n_clusters = 5,random_state=0)\n",
    "# прогноз кластеров для наблюдений \n",
    "labels = km.fit_predict(X_sc)\n",
    "\n",
    "# добавление метк кластера в основной датасет\n",
    "df['cluster'] = labels\n",
    "\n",
    "# статистика по средним значениям  признаков по кластеру\n",
    "df.drop('Churn', axis=1).groupby('cluster').mean().T"
   ]
  },
  {
   "cell_type": "code",
   "execution_count": null,
   "metadata": {},
   "outputs": [],
   "source": [
    "df_k = df.drop('Churn', axis=1)\n",
    "for f in list_countplot:\n",
    "    fig, ax = plt.subplots(figsize=(14,6))\n",
    "    g = sns.countplot(data=df_k, x=df_k[f], hue='cluster', palette=\"hls\", ax=ax ) \n",
    "    plt.title(f'Признак - {f}')\n",
    "    plt.ylabel(\"Кол-во клиентов\")\n",
    "    plt.xlabel(\"\")\n",
    "    #g.fig.set_figwidth(12)\n",
    "    #g.fig.set_figheight(6)"
   ]
  },
  {
   "cell_type": "code",
   "execution_count": null,
   "metadata": {},
   "outputs": [],
   "source": [
    "for col in ['Lifetime']:\n",
    "    fig, ax = plt.subplots(figsize=(14, 3))\n",
    "    life_data = df_k.reset_index()\\\n",
    "                .pivot_table(\n",
    "                    index='cluster',\n",
    "                    columns=col,\n",
    "                    values='index',\n",
    "                    aggfunc='count'\n",
    "                    )\n",
    "    sns.heatmap(life_data, cmap='rocket_r', annot=True, fmt='.0f', ax=ax, linewidths=0.25, linecolor='white')\n",
    "    ax.set_title(f'Heatmap of {col} by cluster')\n",
    "    ax.grid(False)\n",
    "    plt.show()"
   ]
  },
  {
   "cell_type": "code",
   "execution_count": null,
   "metadata": {
    "scrolled": false
   },
   "outputs": [],
   "source": [
    "for f in list_stackedbar:\n",
    "    g = sns.displot(df_k, x=df_k[f], hue='cluster', palette=\"Spectral\" , kind='kde') \n",
    "    plt.title(f'Признак - {f}')\n",
    "    plt.ylabel(\"Кол-во клиентов\")\n",
    "    plt.xlabel(\"\")\n",
    "    g.fig.set_figwidth(12)\n",
    "    g.fig.set_figheight(6)"
   ]
  },
  {
   "cell_type": "markdown",
   "metadata": {},
   "source": [
    "Женщины и мужчины распределены равномерно по всем кластерам. Во всех кластерах, кроме 2, собраны люди, которым близко до фитнес-центра от дома иди работы. В 0 кластере большая часть клиентов пришла по партнерской программе, в 1 и 2 - около половины, в 3 и 4 - около 35%. В 0 кластере половина пришла по акции. Самый большой срок действия контракта у 0 кластера - 10 мес. Во всех, кроме 4, кластерах у клиентов только начинает действовать абонемент. Возраст в среднем во всех кластерах от 28 до 30 лет. Во всех, кроме 1ого кластера у всех есть телефон. Все группы в среднем тратят от 135 до 162 у.е. Самый большой период с первого посещения прошел у 4 и 0 кластеров - около 5 мес. Средняя частота посещений в неделю за предыдущий месяц у кластеров с 0 по 2 - 2 занятия, у 3 - одно, а у 4 - примерно 3. Средняя частота посещений в неделю за все время с начала действия абонемента равна 2м в 0, 1 и 2 кластерах, одному в 3ем, и трем в 4ом.."
   ]
  },
  {
   "cell_type": "code",
   "execution_count": null,
   "metadata": {},
   "outputs": [],
   "source": [
    "df_gr_k = df.groupby('cluster').agg({'Churn':['count','sum']})\n",
    "df_gr_k.columns = ['count', 'sum']\n",
    "df_gr_k['perc_churn'] = df_gr_k['sum']/df_gr_k['count']\n",
    "df_gr_k"
   ]
  },
  {
   "cell_type": "markdown",
   "metadata": {},
   "source": [
    "Кластеры 2, 3 и особенно 4 склонны к оттоку, с 44%, 51% и 68% оттока соответственно. Можно считать 0 и 1 кластеры надежными, с 3% и 27% оттока"
   ]
  },
  {
   "cell_type": "markdown",
   "metadata": {},
   "source": [
    "## Вывод"
   ]
  },
  {
   "cell_type": "markdown",
   "metadata": {},
   "source": [
    "На основание проведенного анализа можно сделать вывод, что самые перспективные клиенты, что люди, которые входят в 0 кластер. Они среднего возраста обоих полов, которые живут или работают в локации фитнес-центра. Среди таких людей хорошо работают партнерский программы и акция \"приведи друга\". Если человек купил абонемент на длительный срок шансов, что он уйдет в отток меньше, в данном кластере средний срок текущего контракта равен 11 мес. Учитывая тот факт, что в кластере ср. кол-во месяцев с первого посещения равно примерно 5, а действие контрактов только начинается, можно сделать вывод, что люди попробовали абонемент на более короткий срок, после чего уже купили текущий. Если клиент ходит на групповые занятия и посещает фитнес-центр примерно 2 раза в неделю, то шанс что он уйдет в отток меньше.\n",
    "\n",
    "Таким образом, стоит сосредоточиться на развитии партнерской сети. Можно более плотно работать с уже действующими партнерами, например, провести внутреннюю акцию или прорекламировать групповые занятия.\n",
    "Также стоит заключить новые соглашения, особенно перспективны компании, офис которых находится рядом с фитнес-центром. \n",
    "Можно обратить внимание на клиентов, у которых уже заканчивается срок действия абонемента, и предложить им новый на более длительный срок со скидкой.\n",
    "Как видно по программе \"пригласи друга\" и групповым занятиям, люди охотнее приходят заниматься, когда есть компания, так что можно совершить больше маркетинговых действий, чтобы создать более вовлеченное комьюнити (как вариант через smm).\n"
   ]
  }
 ],
 "metadata": {
  "ExecuteTimeLog": [
   {
    "duration": 1973,
    "start_time": "2022-01-27T10:36:21.848Z"
   },
   {
    "duration": 112,
    "start_time": "2022-01-27T10:37:55.775Z"
   },
   {
    "duration": 34,
    "start_time": "2022-01-27T10:37:57.956Z"
   },
   {
    "duration": 10,
    "start_time": "2022-01-27T10:38:07.414Z"
   },
   {
    "duration": 17,
    "start_time": "2022-01-27T10:38:20.411Z"
   },
   {
    "duration": 75,
    "start_time": "2022-01-27T10:38:47.081Z"
   },
   {
    "duration": 619,
    "start_time": "2022-01-27T10:55:35.105Z"
   },
   {
    "duration": 6,
    "start_time": "2022-01-27T10:55:47.846Z"
   },
   {
    "duration": 30,
    "start_time": "2022-01-27T10:56:10.047Z"
   },
   {
    "duration": 4,
    "start_time": "2022-01-27T10:58:42.848Z"
   },
   {
    "duration": 9,
    "start_time": "2022-01-27T10:59:04.770Z"
   },
   {
    "duration": 24,
    "start_time": "2022-01-27T10:59:09.936Z"
   },
   {
    "duration": 321,
    "start_time": "2022-01-27T11:09:06.287Z"
   },
   {
    "duration": 2274,
    "start_time": "2022-01-27T11:09:20.057Z"
   },
   {
    "duration": 27,
    "start_time": "2022-01-27T11:09:22.334Z"
   },
   {
    "duration": 11,
    "start_time": "2022-01-27T11:09:22.364Z"
   },
   {
    "duration": 23,
    "start_time": "2022-01-27T11:09:22.378Z"
   },
   {
    "duration": 95,
    "start_time": "2022-01-27T11:09:22.403Z"
   },
   {
    "duration": 87,
    "start_time": "2022-01-27T11:09:22.501Z"
   },
   {
    "duration": 10,
    "start_time": "2022-01-27T11:09:22.590Z"
   },
   {
    "duration": 24,
    "start_time": "2022-01-27T11:10:09.712Z"
   },
   {
    "duration": 9,
    "start_time": "2022-01-27T11:10:34.500Z"
   },
   {
    "duration": 515,
    "start_time": "2022-01-27T11:29:35.435Z"
   },
   {
    "duration": 9700,
    "start_time": "2022-01-27T11:30:02.369Z"
   },
   {
    "duration": 8582,
    "start_time": "2022-01-27T11:30:19.201Z"
   },
   {
    "duration": 90,
    "start_time": "2022-01-27T11:32:32.212Z"
   },
   {
    "duration": 592,
    "start_time": "2022-01-27T11:34:09.743Z"
   },
   {
    "duration": 518,
    "start_time": "2022-01-27T11:45:55.468Z"
   },
   {
    "duration": 567,
    "start_time": "2022-01-27T11:46:03.964Z"
   },
   {
    "duration": 2928,
    "start_time": "2022-01-27T11:46:11.168Z"
   },
   {
    "duration": 2783,
    "start_time": "2022-01-27T11:46:44.549Z"
   },
   {
    "duration": 2524,
    "start_time": "2022-01-27T12:00:13.106Z"
   },
   {
    "duration": 2273,
    "start_time": "2022-01-27T12:01:30.558Z"
   },
   {
    "duration": 4093,
    "start_time": "2022-01-27T12:19:05.951Z"
   },
   {
    "duration": 6915,
    "start_time": "2022-01-27T12:21:01.554Z"
   },
   {
    "duration": 5038,
    "start_time": "2022-01-27T12:22:42.236Z"
   },
   {
    "duration": 4865,
    "start_time": "2022-01-27T12:22:57.775Z"
   },
   {
    "duration": 4981,
    "start_time": "2022-01-27T12:23:30.502Z"
   },
   {
    "duration": 6121,
    "start_time": "2022-01-27T12:23:46.918Z"
   },
   {
    "duration": 5173,
    "start_time": "2022-01-27T12:24:00.517Z"
   },
   {
    "duration": 5028,
    "start_time": "2022-01-27T12:24:16.305Z"
   },
   {
    "duration": 5108,
    "start_time": "2022-01-27T12:24:29.671Z"
   },
   {
    "duration": 4982,
    "start_time": "2022-01-27T12:25:15.938Z"
   },
   {
    "duration": 5237,
    "start_time": "2022-01-27T12:25:26.163Z"
   },
   {
    "duration": 5155,
    "start_time": "2022-01-27T12:25:41.050Z"
   },
   {
    "duration": 4850,
    "start_time": "2022-01-27T12:25:58.434Z"
   },
   {
    "duration": 5244,
    "start_time": "2022-01-27T12:26:19.968Z"
   },
   {
    "duration": 5015,
    "start_time": "2022-01-27T12:26:39.431Z"
   },
   {
    "duration": 4966,
    "start_time": "2022-01-27T12:26:56.212Z"
   },
   {
    "duration": 4938,
    "start_time": "2022-01-27T12:27:12.012Z"
   },
   {
    "duration": 5465,
    "start_time": "2022-01-27T12:27:46.633Z"
   },
   {
    "duration": 4120,
    "start_time": "2022-01-27T12:29:09.662Z"
   },
   {
    "duration": 5422,
    "start_time": "2022-01-27T12:29:22.699Z"
   },
   {
    "duration": 7839,
    "start_time": "2022-01-27T12:32:23.664Z"
   },
   {
    "duration": 7750,
    "start_time": "2022-01-27T12:33:37.459Z"
   },
   {
    "duration": 7586,
    "start_time": "2022-01-27T12:35:00.639Z"
   },
   {
    "duration": 7545,
    "start_time": "2022-01-27T12:35:41.454Z"
   },
   {
    "duration": 1500,
    "start_time": "2022-01-27T12:36:23.902Z"
   },
   {
    "duration": 1703,
    "start_time": "2022-01-27T12:36:30.719Z"
   },
   {
    "duration": 1905,
    "start_time": "2022-01-27T12:37:10.685Z"
   },
   {
    "duration": 26,
    "start_time": "2022-01-27T12:37:12.593Z"
   },
   {
    "duration": 13,
    "start_time": "2022-01-27T12:37:12.622Z"
   },
   {
    "duration": 34,
    "start_time": "2022-01-27T12:37:12.638Z"
   },
   {
    "duration": 71,
    "start_time": "2022-01-27T12:37:12.675Z"
   },
   {
    "duration": 41,
    "start_time": "2022-01-27T12:37:12.748Z"
   },
   {
    "duration": 10,
    "start_time": "2022-01-27T12:37:12.791Z"
   },
   {
    "duration": 5761,
    "start_time": "2022-01-27T12:37:12.803Z"
   },
   {
    "duration": 5339,
    "start_time": "2022-01-27T12:37:18.572Z"
   },
   {
    "duration": 1510,
    "start_time": "2022-01-27T12:37:23.913Z"
   },
   {
    "duration": 5836,
    "start_time": "2022-01-27T12:37:25.426Z"
   },
   {
    "duration": 2186,
    "start_time": "2022-01-27T12:42:14.219Z"
   },
   {
    "duration": 8007,
    "start_time": "2022-01-27T12:42:35.774Z"
   },
   {
    "duration": 2094,
    "start_time": "2022-01-27T12:42:43.783Z"
   },
   {
    "duration": 2053,
    "start_time": "2022-01-27T12:51:46.533Z"
   },
   {
    "duration": 2019,
    "start_time": "2022-01-27T12:51:53.823Z"
   },
   {
    "duration": 10980,
    "start_time": "2022-01-27T12:52:23.316Z"
   },
   {
    "duration": 1981,
    "start_time": "2022-01-27T12:53:19.052Z"
   },
   {
    "duration": 2074,
    "start_time": "2022-01-27T12:53:39.403Z"
   },
   {
    "duration": 2306,
    "start_time": "2022-01-27T12:53:49.763Z"
   },
   {
    "duration": 1984,
    "start_time": "2022-01-27T12:53:59.682Z"
   },
   {
    "duration": 64,
    "start_time": "2022-01-27T13:24:53.331Z"
   },
   {
    "duration": 505,
    "start_time": "2022-01-27T13:24:58.870Z"
   },
   {
    "duration": 5,
    "start_time": "2022-01-27T13:25:21.408Z"
   },
   {
    "duration": 9,
    "start_time": "2022-01-27T13:25:24.854Z"
   },
   {
    "duration": 60,
    "start_time": "2022-01-27T13:26:50.686Z"
   },
   {
    "duration": 115,
    "start_time": "2022-01-27T13:27:16.858Z"
   },
   {
    "duration": 202,
    "start_time": "2022-01-27T13:27:26.668Z"
   },
   {
    "duration": 10,
    "start_time": "2022-01-27T13:27:57.913Z"
   },
   {
    "duration": 61,
    "start_time": "2022-01-27T13:28:01.873Z"
   },
   {
    "duration": 194,
    "start_time": "2022-01-27T13:28:15.275Z"
   },
   {
    "duration": 57,
    "start_time": "2022-01-27T13:28:20.142Z"
   },
   {
    "duration": 356,
    "start_time": "2022-01-27T13:29:14.015Z"
   },
   {
    "duration": 5,
    "start_time": "2022-01-27T13:29:37.132Z"
   },
   {
    "duration": 113,
    "start_time": "2022-01-27T13:29:40.965Z"
   },
   {
    "duration": 35,
    "start_time": "2022-01-27T13:31:04.299Z"
   },
   {
    "duration": 457,
    "start_time": "2022-01-27T13:31:59.706Z"
   },
   {
    "duration": 483,
    "start_time": "2022-01-27T13:32:07.338Z"
   },
   {
    "duration": 59,
    "start_time": "2022-01-27T14:21:20.173Z"
   },
   {
    "duration": 6,
    "start_time": "2022-01-27T14:22:26.726Z"
   },
   {
    "duration": 861,
    "start_time": "2022-01-27T14:24:08.155Z"
   },
   {
    "duration": 141446,
    "start_time": "2022-01-27T14:24:12.948Z"
   },
   {
    "duration": 371,
    "start_time": "2022-01-27T14:28:58.330Z"
   },
   {
    "duration": 1928,
    "start_time": "2022-01-27T14:29:06.228Z"
   },
   {
    "duration": 1880,
    "start_time": "2022-01-27T14:29:15.639Z"
   },
   {
    "duration": 1456,
    "start_time": "2022-01-27T14:29:20.419Z"
   },
   {
    "duration": 1672,
    "start_time": "2022-01-27T14:29:35.118Z"
   },
   {
    "duration": 1876,
    "start_time": "2022-01-27T14:30:25.232Z"
   },
   {
    "duration": 1923,
    "start_time": "2022-01-27T14:39:41.873Z"
   },
   {
    "duration": 4,
    "start_time": "2022-01-27T15:26:52.429Z"
   },
   {
    "duration": 30,
    "start_time": "2022-01-27T15:27:04.938Z"
   },
   {
    "duration": 2052,
    "start_time": "2022-01-27T15:32:30.905Z"
   },
   {
    "duration": 1806,
    "start_time": "2022-01-27T15:32:41.810Z"
   },
   {
    "duration": 7,
    "start_time": "2022-01-27T16:51:06.004Z"
   },
   {
    "duration": 224,
    "start_time": "2022-01-27T18:38:07.473Z"
   },
   {
    "duration": 185,
    "start_time": "2022-01-27T18:38:47.380Z"
   },
   {
    "duration": 1535,
    "start_time": "2022-01-27T18:38:56.170Z"
   },
   {
    "duration": 22,
    "start_time": "2022-01-27T18:38:57.707Z"
   },
   {
    "duration": 9,
    "start_time": "2022-01-27T18:38:57.733Z"
   },
   {
    "duration": 15,
    "start_time": "2022-01-27T18:38:57.743Z"
   },
   {
    "duration": 59,
    "start_time": "2022-01-27T18:38:57.759Z"
   },
   {
    "duration": 17,
    "start_time": "2022-01-27T18:38:57.820Z"
   },
   {
    "duration": 8,
    "start_time": "2022-01-27T18:38:57.838Z"
   },
   {
    "duration": 3750,
    "start_time": "2022-01-27T18:38:57.848Z"
   },
   {
    "duration": 3462,
    "start_time": "2022-01-27T18:39:01.600Z"
   },
   {
    "duration": 1378,
    "start_time": "2022-01-27T18:39:05.064Z"
   },
   {
    "duration": 7,
    "start_time": "2022-01-27T18:39:06.445Z"
   },
   {
    "duration": 51,
    "start_time": "2022-01-27T18:39:06.454Z"
   },
   {
    "duration": 514,
    "start_time": "2022-01-27T18:39:06.507Z"
   },
   {
    "duration": 562,
    "start_time": "2022-01-27T18:39:07.022Z"
   },
   {
    "duration": 89566,
    "start_time": "2022-01-27T18:39:07.586Z"
   },
   {
    "duration": 1450,
    "start_time": "2022-01-27T18:40:37.154Z"
   },
   {
    "duration": 309,
    "start_time": "2022-01-27T18:40:38.606Z"
   },
   {
    "duration": 182,
    "start_time": "2022-01-27T18:41:22.911Z"
   },
   {
    "duration": 181,
    "start_time": "2022-01-27T18:42:07.962Z"
   },
   {
    "duration": 182,
    "start_time": "2022-01-27T18:42:51.950Z"
   },
   {
    "duration": 181,
    "start_time": "2022-01-27T18:43:02.406Z"
   },
   {
    "duration": 183,
    "start_time": "2022-01-27T18:43:08.181Z"
   },
   {
    "duration": 174,
    "start_time": "2022-01-27T18:44:03.629Z"
   },
   {
    "duration": 7861,
    "start_time": "2022-01-27T18:50:43.230Z"
   },
   {
    "duration": 228,
    "start_time": "2022-01-27T18:55:05.465Z"
   },
   {
    "duration": 193,
    "start_time": "2022-01-27T18:56:01.011Z"
   },
   {
    "duration": 330,
    "start_time": "2022-01-28T09:33:26.429Z"
   },
   {
    "duration": 2009,
    "start_time": "2022-01-28T10:25:36.310Z"
   },
   {
    "duration": 31,
    "start_time": "2022-01-28T10:25:38.322Z"
   },
   {
    "duration": 13,
    "start_time": "2022-01-28T10:25:38.361Z"
   },
   {
    "duration": 23,
    "start_time": "2022-01-28T10:25:38.377Z"
   },
   {
    "duration": 104,
    "start_time": "2022-01-28T10:25:38.403Z"
   },
   {
    "duration": 44,
    "start_time": "2022-01-28T10:25:38.511Z"
   },
   {
    "duration": 12,
    "start_time": "2022-01-28T10:25:38.561Z"
   },
   {
    "duration": 5194,
    "start_time": "2022-01-28T10:25:38.576Z"
   },
   {
    "duration": 4905,
    "start_time": "2022-01-28T10:25:43.773Z"
   },
   {
    "duration": 2068,
    "start_time": "2022-01-28T10:25:48.681Z"
   },
   {
    "duration": 14,
    "start_time": "2022-01-28T10:25:50.752Z"
   },
   {
    "duration": 182,
    "start_time": "2022-01-28T10:25:50.768Z"
   },
   {
    "duration": 571,
    "start_time": "2022-01-28T10:25:50.953Z"
   },
   {
    "duration": 831,
    "start_time": "2022-01-28T10:25:51.526Z"
   },
   {
    "duration": 137096,
    "start_time": "2022-01-28T10:25:52.360Z"
   },
   {
    "duration": 1912,
    "start_time": "2022-01-28T10:28:09.459Z"
   },
   {
    "duration": 5472,
    "start_time": "2022-01-28T10:28:11.373Z"
   },
   {
    "duration": 758,
    "start_time": "2022-01-28T10:28:16.850Z"
   },
   {
    "duration": 309,
    "start_time": "2022-01-28T10:33:51.164Z"
   },
   {
    "duration": 1387,
    "start_time": "2022-01-28T10:38:07.836Z"
   },
   {
    "duration": 2035,
    "start_time": "2022-01-28T10:38:44.596Z"
   },
   {
    "duration": 2023,
    "start_time": "2022-01-28T12:00:15.658Z"
   },
   {
    "duration": 2056,
    "start_time": "2022-01-28T12:00:41.586Z"
   },
   {
    "duration": 303,
    "start_time": "2022-01-28T12:01:49.130Z"
   },
   {
    "duration": 2552,
    "start_time": "2022-01-28T12:03:03.122Z"
   },
   {
    "duration": 3562,
    "start_time": "2022-01-28T12:03:11.613Z"
   },
   {
    "duration": 1966,
    "start_time": "2022-01-28T12:03:15.178Z"
   },
   {
    "duration": 30,
    "start_time": "2022-01-28T12:03:17.148Z"
   },
   {
    "duration": 13,
    "start_time": "2022-01-28T12:03:17.181Z"
   },
   {
    "duration": 27,
    "start_time": "2022-01-28T12:03:17.197Z"
   },
   {
    "duration": 129,
    "start_time": "2022-01-28T12:03:17.253Z"
   },
   {
    "duration": 36,
    "start_time": "2022-01-28T12:03:17.386Z"
   },
   {
    "duration": 32,
    "start_time": "2022-01-28T12:03:17.428Z"
   },
   {
    "duration": 6220,
    "start_time": "2022-01-28T12:03:17.464Z"
   },
   {
    "duration": 6088,
    "start_time": "2022-01-28T12:03:23.687Z"
   },
   {
    "duration": 760,
    "start_time": "2022-01-28T12:03:29.778Z"
   },
   {
    "duration": 2037,
    "start_time": "2022-01-28T12:03:30.541Z"
   },
   {
    "duration": 11,
    "start_time": "2022-01-28T12:03:32.581Z"
   },
   {
    "duration": 161,
    "start_time": "2022-01-28T12:03:32.595Z"
   },
   {
    "duration": 768,
    "start_time": "2022-01-28T12:03:32.760Z"
   },
   {
    "duration": 1048,
    "start_time": "2022-01-28T12:03:33.546Z"
   },
   {
    "duration": 157103,
    "start_time": "2022-01-28T12:03:34.597Z"
   },
   {
    "duration": 1665,
    "start_time": "2022-01-28T12:06:11.703Z"
   },
   {
    "duration": 4088,
    "start_time": "2022-01-28T12:06:13.371Z"
   },
   {
    "duration": 35157,
    "start_time": "2022-01-28T12:06:17.465Z"
   },
   {
    "duration": 2165,
    "start_time": "2022-01-28T12:29:44.924Z"
   },
   {
    "duration": 2459,
    "start_time": "2022-01-28T12:29:55.980Z"
   },
   {
    "duration": 2287,
    "start_time": "2022-01-28T12:30:17.661Z"
   },
   {
    "duration": 2191,
    "start_time": "2022-01-28T12:30:34.590Z"
   },
   {
    "duration": 2154,
    "start_time": "2022-01-28T12:30:43.213Z"
   },
   {
    "duration": 2223,
    "start_time": "2022-01-28T12:30:54.695Z"
   },
   {
    "duration": 2352,
    "start_time": "2022-01-28T12:31:01.393Z"
   },
   {
    "duration": 1523,
    "start_time": "2022-01-28T12:31:32.278Z"
   },
   {
    "duration": 492,
    "start_time": "2022-01-28T12:41:03.158Z"
   },
   {
    "duration": 22868,
    "start_time": "2022-01-28T12:41:16.884Z"
   },
   {
    "duration": 22444,
    "start_time": "2022-01-28T12:42:23.652Z"
   },
   {
    "duration": 23347,
    "start_time": "2022-01-28T12:44:48.840Z"
   },
   {
    "duration": 1877,
    "start_time": "2022-01-28T12:47:01.174Z"
   },
   {
    "duration": 1628,
    "start_time": "2022-01-28T12:47:09.197Z"
   },
   {
    "duration": 23133,
    "start_time": "2022-01-28T12:47:15.205Z"
   },
   {
    "duration": 22875,
    "start_time": "2022-01-28T12:47:50.231Z"
   },
   {
    "duration": 22049,
    "start_time": "2022-01-28T12:48:18.526Z"
   },
   {
    "duration": 28360,
    "start_time": "2022-01-28T12:49:55.852Z"
   },
   {
    "duration": 27254,
    "start_time": "2022-01-28T13:10:00.221Z"
   },
   {
    "duration": 27798,
    "start_time": "2022-01-28T13:12:48.429Z"
   },
   {
    "duration": 2114,
    "start_time": "2022-01-28T13:18:27.645Z"
   },
   {
    "duration": 2352,
    "start_time": "2022-01-28T13:18:43.886Z"
   },
   {
    "duration": 910,
    "start_time": "2022-01-28T13:19:07.780Z"
   },
   {
    "duration": 2219,
    "start_time": "2022-01-28T13:20:31.072Z"
   },
   {
    "duration": 969,
    "start_time": "2022-01-28T13:20:44.252Z"
   },
   {
    "duration": 2210,
    "start_time": "2022-01-28T13:20:47.966Z"
   },
   {
    "duration": 2303,
    "start_time": "2022-01-28T13:20:52.725Z"
   },
   {
    "duration": 320,
    "start_time": "2022-01-28T14:01:11.852Z"
   },
   {
    "duration": 317,
    "start_time": "2022-01-28T14:01:23.491Z"
   },
   {
    "duration": 296,
    "start_time": "2022-01-28T14:01:30.235Z"
   },
   {
    "duration": 10,
    "start_time": "2022-01-28T14:02:55.892Z"
   },
   {
    "duration": 13,
    "start_time": "2022-01-28T14:04:12.220Z"
   },
   {
    "duration": 20,
    "start_time": "2022-01-28T14:04:16.218Z"
   },
   {
    "duration": 3257,
    "start_time": "2022-01-31T09:47:41.336Z"
   },
   {
    "duration": 2048,
    "start_time": "2022-01-31T09:47:44.595Z"
   },
   {
    "duration": 23,
    "start_time": "2022-01-31T09:47:46.645Z"
   },
   {
    "duration": 7,
    "start_time": "2022-01-31T09:47:46.670Z"
   },
   {
    "duration": 15,
    "start_time": "2022-01-31T09:47:46.679Z"
   },
   {
    "duration": 41,
    "start_time": "2022-01-31T09:47:46.696Z"
   },
   {
    "duration": 425,
    "start_time": "2022-01-31T09:47:46.738Z"
   },
   {
    "duration": -2747,
    "start_time": "2022-01-31T09:47:49.912Z"
   },
   {
    "duration": -2748,
    "start_time": "2022-01-31T09:47:49.914Z"
   },
   {
    "duration": -2752,
    "start_time": "2022-01-31T09:47:49.920Z"
   },
   {
    "duration": -2753,
    "start_time": "2022-01-31T09:47:49.922Z"
   },
   {
    "duration": -2753,
    "start_time": "2022-01-31T09:47:49.923Z"
   },
   {
    "duration": -2754,
    "start_time": "2022-01-31T09:47:49.925Z"
   },
   {
    "duration": -2754,
    "start_time": "2022-01-31T09:47:49.926Z"
   },
   {
    "duration": -2755,
    "start_time": "2022-01-31T09:47:49.928Z"
   },
   {
    "duration": -2756,
    "start_time": "2022-01-31T09:47:49.929Z"
   },
   {
    "duration": -2756,
    "start_time": "2022-01-31T09:47:49.930Z"
   },
   {
    "duration": 9,
    "start_time": "2022-01-31T09:50:23.056Z"
   },
   {
    "duration": 2215,
    "start_time": "2022-01-31T09:50:28.507Z"
   },
   {
    "duration": 1406,
    "start_time": "2022-01-31T09:50:30.725Z"
   },
   {
    "duration": 21,
    "start_time": "2022-01-31T09:50:32.135Z"
   },
   {
    "duration": 6,
    "start_time": "2022-01-31T09:50:32.157Z"
   },
   {
    "duration": 13,
    "start_time": "2022-01-31T09:50:32.165Z"
   },
   {
    "duration": 40,
    "start_time": "2022-01-31T09:50:32.179Z"
   },
   {
    "duration": 9,
    "start_time": "2022-01-31T09:50:32.222Z"
   },
   {
    "duration": 9652,
    "start_time": "2022-01-31T09:50:32.232Z"
   },
   {
    "duration": 1640,
    "start_time": "2022-01-31T09:50:41.885Z"
   },
   {
    "duration": -2835,
    "start_time": "2022-01-31T09:50:46.361Z"
   },
   {
    "duration": -2835,
    "start_time": "2022-01-31T09:50:46.362Z"
   },
   {
    "duration": -2836,
    "start_time": "2022-01-31T09:50:46.364Z"
   },
   {
    "duration": -2836,
    "start_time": "2022-01-31T09:50:46.365Z"
   },
   {
    "duration": -2836,
    "start_time": "2022-01-31T09:50:46.366Z"
   },
   {
    "duration": -2836,
    "start_time": "2022-01-31T09:50:46.367Z"
   },
   {
    "duration": -2836,
    "start_time": "2022-01-31T09:50:46.368Z"
   },
   {
    "duration": -2835,
    "start_time": "2022-01-31T09:50:46.368Z"
   },
   {
    "duration": 1439,
    "start_time": "2022-01-31T09:51:12.579Z"
   },
   {
    "duration": 1142,
    "start_time": "2022-01-31T09:51:21.959Z"
   },
   {
    "duration": 7,
    "start_time": "2022-01-31T09:51:48.024Z"
   },
   {
    "duration": 6,
    "start_time": "2022-01-31T10:26:02.298Z"
   },
   {
    "duration": 119,
    "start_time": "2022-01-31T10:26:05.152Z"
   },
   {
    "duration": 306,
    "start_time": "2022-01-31T10:26:06.797Z"
   },
   {
    "duration": 488,
    "start_time": "2022-01-31T10:26:08.296Z"
   },
   {
    "duration": 1379,
    "start_time": "2022-01-31T10:26:09.601Z"
   },
   {
    "duration": 15913,
    "start_time": "2022-01-31T10:26:12.431Z"
   },
   {
    "duration": 12,
    "start_time": "2022-01-31T10:26:28.346Z"
   },
   {
    "duration": 13582,
    "start_time": "2022-01-31T10:26:34.066Z"
   },
   {
    "duration": 4,
    "start_time": "2022-01-31T12:24:50.823Z"
   },
   {
    "duration": 12,
    "start_time": "2022-01-31T12:28:15.384Z"
   },
   {
    "duration": 75732,
    "start_time": "2022-01-31T13:18:09.183Z"
   },
   {
    "duration": 16534,
    "start_time": "2022-01-31T17:08:59.776Z"
   },
   {
    "duration": 16726,
    "start_time": "2022-01-31T17:13:43.779Z"
   },
   {
    "duration": 2299,
    "start_time": "2022-01-31T20:09:25.785Z"
   },
   {
    "duration": 1449,
    "start_time": "2022-01-31T20:09:28.086Z"
   },
   {
    "duration": 21,
    "start_time": "2022-01-31T20:09:29.537Z"
   },
   {
    "duration": 7,
    "start_time": "2022-01-31T20:09:29.559Z"
   },
   {
    "duration": 5,
    "start_time": "2022-01-31T20:09:29.567Z"
   },
   {
    "duration": 15,
    "start_time": "2022-01-31T20:09:29.573Z"
   },
   {
    "duration": 39,
    "start_time": "2022-01-31T20:09:29.590Z"
   },
   {
    "duration": 8,
    "start_time": "2022-01-31T20:09:29.631Z"
   },
   {
    "duration": 10,
    "start_time": "2022-01-31T20:09:29.641Z"
   },
   {
    "duration": 10193,
    "start_time": "2022-01-31T20:09:29.653Z"
   },
   {
    "duration": 1270,
    "start_time": "2022-01-31T20:09:39.847Z"
   },
   {
    "duration": 6,
    "start_time": "2022-01-31T20:09:41.118Z"
   },
   {
    "duration": 55,
    "start_time": "2022-01-31T20:09:41.126Z"
   },
   {
    "duration": 5,
    "start_time": "2022-01-31T20:09:41.273Z"
   },
   {
    "duration": 419,
    "start_time": "2022-01-31T20:09:41.281Z"
   },
   {
    "duration": 10,
    "start_time": "2022-01-31T20:09:41.702Z"
   },
   {
    "duration": 513,
    "start_time": "2022-01-31T20:09:41.713Z"
   },
   {
    "duration": 79215,
    "start_time": "2022-01-31T20:09:42.228Z"
   },
   {
    "duration": 1239,
    "start_time": "2022-01-31T20:11:01.445Z"
   },
   {
    "duration": 16151,
    "start_time": "2022-01-31T20:11:02.686Z"
   },
   {
    "duration": 12,
    "start_time": "2022-01-31T20:11:18.838Z"
   },
   {
    "duration": 3719,
    "start_time": "2022-02-01T10:15:20.327Z"
   },
   {
    "duration": 1565,
    "start_time": "2022-02-01T10:15:24.048Z"
   },
   {
    "duration": 21,
    "start_time": "2022-02-01T10:15:25.615Z"
   },
   {
    "duration": 7,
    "start_time": "2022-02-01T10:15:25.637Z"
   },
   {
    "duration": 9,
    "start_time": "2022-02-01T10:15:25.646Z"
   },
   {
    "duration": 19,
    "start_time": "2022-02-01T10:15:25.656Z"
   },
   {
    "duration": 42,
    "start_time": "2022-02-01T10:15:25.677Z"
   },
   {
    "duration": 8,
    "start_time": "2022-02-01T10:15:25.721Z"
   },
   {
    "duration": 10,
    "start_time": "2022-02-01T10:15:25.730Z"
   },
   {
    "duration": 10797,
    "start_time": "2022-02-01T10:15:25.741Z"
   },
   {
    "duration": 1580,
    "start_time": "2022-02-01T10:15:36.539Z"
   },
   {
    "duration": 7,
    "start_time": "2022-02-01T10:15:38.121Z"
   },
   {
    "duration": 93,
    "start_time": "2022-02-01T10:15:38.130Z"
   },
   {
    "duration": 95,
    "start_time": "2022-02-01T10:15:38.225Z"
   },
   {
    "duration": 331,
    "start_time": "2022-02-01T10:15:38.322Z"
   },
   {
    "duration": 11,
    "start_time": "2022-02-01T10:15:38.654Z"
   },
   {
    "duration": 561,
    "start_time": "2022-02-01T10:15:38.667Z"
   },
   {
    "duration": 80596,
    "start_time": "2022-02-01T10:15:39.229Z"
   },
   {
    "duration": 1506,
    "start_time": "2022-02-01T10:16:59.827Z"
   },
   {
    "duration": 17421,
    "start_time": "2022-02-01T10:17:01.419Z"
   },
   {
    "duration": 12,
    "start_time": "2022-02-01T10:17:18.842Z"
   },
   {
    "duration": 4,
    "start_time": "2022-02-01T10:19:44.794Z"
   },
   {
    "duration": 47,
    "start_time": "2022-02-01T10:19:49.118Z"
   },
   {
    "duration": 1026,
    "start_time": "2022-02-01T10:21:42.705Z"
   },
   {
    "duration": 15357,
    "start_time": "2022-02-01T10:21:54.538Z"
   },
   {
    "duration": 15557,
    "start_time": "2022-02-01T10:22:11.074Z"
   },
   {
    "duration": 15094,
    "start_time": "2022-02-01T10:22:46.256Z"
   },
   {
    "duration": 8,
    "start_time": "2022-02-01T10:38:26.342Z"
   },
   {
    "duration": 243,
    "start_time": "2022-02-01T10:38:39.678Z"
   },
   {
    "duration": 9,
    "start_time": "2022-02-01T10:38:43.061Z"
   },
   {
    "duration": 300,
    "start_time": "2022-02-01T10:38:58.549Z"
   },
   {
    "duration": 466,
    "start_time": "2022-02-01T10:39:03.556Z"
   },
   {
    "duration": 337,
    "start_time": "2022-02-01T10:40:33.570Z"
   },
   {
    "duration": 18958,
    "start_time": "2022-02-01T10:52:22.803Z"
   },
   {
    "duration": 23761,
    "start_time": "2022-02-01T10:55:49.494Z"
   },
   {
    "duration": 7071,
    "start_time": "2022-02-01T12:10:24.932Z"
   },
   {
    "duration": 470,
    "start_time": "2022-02-01T12:10:37.302Z"
   },
   {
    "duration": 4,
    "start_time": "2022-02-01T12:10:49.350Z"
   },
   {
    "duration": 511,
    "start_time": "2022-02-01T12:11:00.921Z"
   },
   {
    "duration": 782,
    "start_time": "2022-02-01T12:15:28.409Z"
   },
   {
    "duration": 372,
    "start_time": "2022-02-01T14:00:12.350Z"
   },
   {
    "duration": 4,
    "start_time": "2022-02-01T14:00:15.835Z"
   },
   {
    "duration": 288,
    "start_time": "2022-02-01T14:00:16.556Z"
   },
   {
    "duration": 4768,
    "start_time": "2022-02-01T14:00:21.722Z"
   },
   {
    "duration": 2251,
    "start_time": "2022-02-01T14:00:26.493Z"
   },
   {
    "duration": 37,
    "start_time": "2022-02-01T14:00:28.748Z"
   },
   {
    "duration": 28,
    "start_time": "2022-02-01T14:00:28.788Z"
   },
   {
    "duration": 15,
    "start_time": "2022-02-01T14:00:28.818Z"
   },
   {
    "duration": 34,
    "start_time": "2022-02-01T14:00:28.836Z"
   },
   {
    "duration": 97,
    "start_time": "2022-02-01T14:00:28.873Z"
   },
   {
    "duration": 14,
    "start_time": "2022-02-01T14:00:28.975Z"
   },
   {
    "duration": 30,
    "start_time": "2022-02-01T14:00:28.992Z"
   },
   {
    "duration": 129,
    "start_time": "2022-02-01T14:00:29.024Z"
   },
   {
    "duration": 4,
    "start_time": "2022-02-01T14:00:29.156Z"
   },
   {
    "duration": 6422,
    "start_time": "2022-02-01T14:00:29.163Z"
   },
   {
    "duration": 2117,
    "start_time": "2022-02-01T14:00:35.588Z"
   },
   {
    "duration": 10,
    "start_time": "2022-02-01T14:00:37.708Z"
   },
   {
    "duration": 152,
    "start_time": "2022-02-01T14:00:37.721Z"
   },
   {
    "duration": 91,
    "start_time": "2022-02-01T14:00:37.877Z"
   },
   {
    "duration": 571,
    "start_time": "2022-02-01T14:00:37.972Z"
   },
   {
    "duration": 27,
    "start_time": "2022-02-01T14:00:38.550Z"
   },
   {
    "duration": 621,
    "start_time": "2022-02-01T14:00:38.580Z"
   },
   {
    "duration": 1345,
    "start_time": "2022-02-01T14:00:39.204Z"
   },
   {
    "duration": 151143,
    "start_time": "2022-02-01T14:00:40.552Z"
   },
   {
    "duration": 1883,
    "start_time": "2022-02-01T14:03:11.697Z"
   },
   {
    "duration": 33279,
    "start_time": "2022-02-01T14:03:13.584Z"
   },
   {
    "duration": 1323,
    "start_time": "2022-02-01T14:03:46.866Z"
   },
   {
    "duration": 1805,
    "start_time": "2022-02-01T14:03:48.192Z"
   },
   {
    "duration": 28,
    "start_time": "2022-02-01T14:03:50.000Z"
   },
   {
    "duration": 5561,
    "start_time": "2022-02-01T14:31:36.591Z"
   },
   {
    "duration": 5302,
    "start_time": "2022-02-01T14:33:55.475Z"
   },
   {
    "duration": 1034,
    "start_time": "2022-02-01T14:37:22.566Z"
   },
   {
    "duration": 1042,
    "start_time": "2022-02-01T14:38:24.761Z"
   },
   {
    "duration": 1099,
    "start_time": "2022-02-01T14:40:09.334Z"
   },
   {
    "duration": 1368,
    "start_time": "2022-02-01T14:40:26.030Z"
   },
   {
    "duration": 1485,
    "start_time": "2022-02-01T14:40:56.301Z"
   },
   {
    "duration": 2899,
    "start_time": "2022-02-01T14:43:32.016Z"
   },
   {
    "duration": 2521,
    "start_time": "2022-02-01T14:44:18.039Z"
   },
   {
    "duration": 2745,
    "start_time": "2022-02-01T14:44:55.870Z"
   },
   {
    "duration": 1408,
    "start_time": "2022-02-01T14:45:12.484Z"
   },
   {
    "duration": 1094,
    "start_time": "2022-02-01T14:45:23.266Z"
   },
   {
    "duration": 1307,
    "start_time": "2022-02-01T14:45:35.585Z"
   },
   {
    "duration": 1249,
    "start_time": "2022-02-01T14:45:46.458Z"
   },
   {
    "duration": 2418,
    "start_time": "2022-02-01T14:46:56.139Z"
   },
   {
    "duration": 5,
    "start_time": "2022-02-01T15:17:15.776Z"
   },
   {
    "duration": 792,
    "start_time": "2022-02-01T15:37:25.006Z"
   },
   {
    "duration": 629,
    "start_time": "2022-02-01T15:37:45.826Z"
   },
   {
    "duration": 592,
    "start_time": "2022-02-01T15:38:04.078Z"
   },
   {
    "duration": 949,
    "start_time": "2022-02-01T15:39:01.629Z"
   },
   {
    "duration": 772,
    "start_time": "2022-02-01T15:39:14.311Z"
   },
   {
    "duration": 603,
    "start_time": "2022-02-01T15:39:19.936Z"
   },
   {
    "duration": 948,
    "start_time": "2022-02-01T15:39:38.693Z"
   },
   {
    "duration": 586,
    "start_time": "2022-02-01T15:39:47.869Z"
   },
   {
    "duration": 4,
    "start_time": "2022-02-01T15:41:04.393Z"
   },
   {
    "duration": 779,
    "start_time": "2022-02-01T15:41:15.114Z"
   },
   {
    "duration": 609,
    "start_time": "2022-02-01T15:41:17.964Z"
   },
   {
    "duration": 508,
    "start_time": "2022-02-01T15:41:24.205Z"
   },
   {
    "duration": 656,
    "start_time": "2022-02-01T15:41:37.816Z"
   },
   {
    "duration": 1740,
    "start_time": "2022-02-01T15:42:17.561Z"
   },
   {
    "duration": 8324,
    "start_time": "2022-02-01T15:42:29.502Z"
   },
   {
    "duration": 1940,
    "start_time": "2022-02-01T15:42:41.731Z"
   },
   {
    "duration": 3683,
    "start_time": "2022-02-01T15:43:20.335Z"
   },
   {
    "duration": 2058,
    "start_time": "2022-02-01T15:43:24.022Z"
   },
   {
    "duration": 27,
    "start_time": "2022-02-01T15:43:26.083Z"
   },
   {
    "duration": 11,
    "start_time": "2022-02-01T15:43:26.112Z"
   },
   {
    "duration": 17,
    "start_time": "2022-02-01T15:43:26.126Z"
   },
   {
    "duration": 33,
    "start_time": "2022-02-01T15:43:26.149Z"
   },
   {
    "duration": 116,
    "start_time": "2022-02-01T15:43:26.185Z"
   },
   {
    "duration": 16,
    "start_time": "2022-02-01T15:43:26.305Z"
   },
   {
    "duration": 53,
    "start_time": "2022-02-01T15:43:26.325Z"
   },
   {
    "duration": 3,
    "start_time": "2022-02-01T15:43:26.381Z"
   },
   {
    "duration": 2129,
    "start_time": "2022-02-01T15:43:26.387Z"
   },
   {
    "duration": 853,
    "start_time": "2022-02-01T15:43:28.518Z"
   },
   {
    "duration": 7536,
    "start_time": "2022-02-01T15:43:29.374Z"
   },
   {
    "duration": 2901,
    "start_time": "2022-02-01T15:43:36.913Z"
   },
   {
    "duration": 33,
    "start_time": "2022-02-01T15:43:39.817Z"
   },
   {
    "duration": 107,
    "start_time": "2022-02-01T15:43:39.857Z"
   },
   {
    "duration": 206,
    "start_time": "2022-02-01T15:43:39.967Z"
   },
   {
    "duration": 544,
    "start_time": "2022-02-01T15:43:40.176Z"
   },
   {
    "duration": 33,
    "start_time": "2022-02-01T15:43:40.723Z"
   },
   {
    "duration": 605,
    "start_time": "2022-02-01T15:43:40.758Z"
   },
   {
    "duration": 895,
    "start_time": "2022-02-01T15:43:41.366Z"
   },
   {
    "duration": 154805,
    "start_time": "2022-02-01T15:43:42.264Z"
   },
   {
    "duration": 1497,
    "start_time": "2022-02-01T15:46:17.078Z"
   },
   {
    "duration": 29940,
    "start_time": "2022-02-01T15:46:18.578Z"
   },
   {
    "duration": 863,
    "start_time": "2022-02-01T15:46:48.521Z"
   },
   {
    "duration": 1406,
    "start_time": "2022-02-01T15:46:49.387Z"
   },
   {
    "duration": 19,
    "start_time": "2022-02-01T15:46:50.796Z"
   },
   {
    "duration": 9,
    "start_time": "2022-02-01T15:58:52.588Z"
   },
   {
    "duration": 8,
    "start_time": "2022-02-01T15:59:35.582Z"
   },
   {
    "duration": 19,
    "start_time": "2022-02-01T16:06:14.796Z"
   },
   {
    "duration": 27,
    "start_time": "2022-02-01T16:06:31.669Z"
   },
   {
    "duration": 527,
    "start_time": "2022-02-01T16:09:26.301Z"
   },
   {
    "duration": 18,
    "start_time": "2022-02-01T16:10:20.487Z"
   },
   {
    "duration": 136,
    "start_time": "2022-02-01T16:10:21.817Z"
   },
   {
    "duration": 502,
    "start_time": "2022-02-01T16:10:23.694Z"
   },
   {
    "duration": 20,
    "start_time": "2022-02-01T16:10:58.804Z"
   },
   {
    "duration": 39,
    "start_time": "2022-02-01T16:11:00.123Z"
   },
   {
    "duration": 532,
    "start_time": "2022-02-01T16:11:02.596Z"
   },
   {
    "duration": 499,
    "start_time": "2022-02-01T16:14:15.894Z"
   },
   {
    "duration": 19,
    "start_time": "2022-02-01T16:15:16.928Z"
   },
   {
    "duration": 789,
    "start_time": "2022-02-01T16:18:00.719Z"
   },
   {
    "duration": 881,
    "start_time": "2022-02-01T16:18:01.512Z"
   },
   {
    "duration": 2914,
    "start_time": "2022-02-01T16:41:54.309Z"
   },
   {
    "duration": 2292,
    "start_time": "2022-02-01T16:42:09.016Z"
   },
   {
    "duration": 796,
    "start_time": "2022-02-01T16:42:20.893Z"
   },
   {
    "duration": 1412,
    "start_time": "2022-02-01T16:42:40.941Z"
   },
   {
    "duration": 7714,
    "start_time": "2022-02-01T16:42:48.373Z"
   },
   {
    "duration": 4195,
    "start_time": "2022-02-01T16:43:12.794Z"
   },
   {
    "duration": 2106,
    "start_time": "2022-02-01T16:43:16.993Z"
   },
   {
    "duration": 26,
    "start_time": "2022-02-01T16:43:19.102Z"
   },
   {
    "duration": 11,
    "start_time": "2022-02-01T16:43:19.130Z"
   },
   {
    "duration": 8,
    "start_time": "2022-02-01T16:43:19.152Z"
   },
   {
    "duration": 48,
    "start_time": "2022-02-01T16:43:19.163Z"
   },
   {
    "duration": 85,
    "start_time": "2022-02-01T16:43:19.214Z"
   },
   {
    "duration": 13,
    "start_time": "2022-02-01T16:43:19.305Z"
   },
   {
    "duration": 45,
    "start_time": "2022-02-01T16:43:19.321Z"
   },
   {
    "duration": 4,
    "start_time": "2022-02-01T16:43:19.368Z"
   },
   {
    "duration": 1772,
    "start_time": "2022-02-01T16:43:19.374Z"
   },
   {
    "duration": 916,
    "start_time": "2022-02-01T16:43:21.153Z"
   },
   {
    "duration": 4873,
    "start_time": "2022-02-01T16:43:22.075Z"
   },
   {
    "duration": 2089,
    "start_time": "2022-02-01T16:43:26.952Z"
   },
   {
    "duration": 20,
    "start_time": "2022-02-01T16:43:29.044Z"
   },
   {
    "duration": 104,
    "start_time": "2022-02-01T16:43:29.066Z"
   },
   {
    "duration": 94,
    "start_time": "2022-02-01T16:43:29.178Z"
   },
   {
    "duration": 539,
    "start_time": "2022-02-01T16:43:29.279Z"
   },
   {
    "duration": 35,
    "start_time": "2022-02-01T16:43:29.821Z"
   },
   {
    "duration": 20,
    "start_time": "2022-02-01T16:43:29.859Z"
   },
   {
    "duration": 34,
    "start_time": "2022-02-01T16:43:29.882Z"
   },
   {
    "duration": 1029,
    "start_time": "2022-02-01T16:43:29.918Z"
   },
   {
    "duration": -3837,
    "start_time": "2022-02-01T16:43:34.787Z"
   },
   {
    "duration": -3836,
    "start_time": "2022-02-01T16:43:34.789Z"
   },
   {
    "duration": -3839,
    "start_time": "2022-02-01T16:43:34.793Z"
   },
   {
    "duration": -3839,
    "start_time": "2022-02-01T16:43:34.795Z"
   },
   {
    "duration": -3839,
    "start_time": "2022-02-01T16:43:34.797Z"
   },
   {
    "duration": -3839,
    "start_time": "2022-02-01T16:43:34.799Z"
   },
   {
    "duration": -3839,
    "start_time": "2022-02-01T16:43:34.801Z"
   },
   {
    "duration": -3840,
    "start_time": "2022-02-01T16:43:34.804Z"
   },
   {
    "duration": -3840,
    "start_time": "2022-02-01T16:43:34.806Z"
   },
   {
    "duration": -3840,
    "start_time": "2022-02-01T16:43:34.808Z"
   },
   {
    "duration": -3840,
    "start_time": "2022-02-01T16:43:34.810Z"
   },
   {
    "duration": 598,
    "start_time": "2022-02-01T16:50:23.642Z"
   },
   {
    "duration": 600,
    "start_time": "2022-02-01T16:50:25.130Z"
   },
   {
    "duration": 4069,
    "start_time": "2022-02-01T16:50:37.735Z"
   },
   {
    "duration": 2223,
    "start_time": "2022-02-01T16:50:41.808Z"
   },
   {
    "duration": 40,
    "start_time": "2022-02-01T16:50:44.040Z"
   },
   {
    "duration": 22,
    "start_time": "2022-02-01T16:50:44.083Z"
   },
   {
    "duration": 5,
    "start_time": "2022-02-01T16:50:44.108Z"
   },
   {
    "duration": 25,
    "start_time": "2022-02-01T16:50:44.117Z"
   },
   {
    "duration": 77,
    "start_time": "2022-02-01T16:50:44.149Z"
   },
   {
    "duration": 16,
    "start_time": "2022-02-01T16:50:44.248Z"
   },
   {
    "duration": 32,
    "start_time": "2022-02-01T16:50:44.268Z"
   },
   {
    "duration": 4,
    "start_time": "2022-02-01T16:50:44.302Z"
   },
   {
    "duration": 1841,
    "start_time": "2022-02-01T16:50:44.309Z"
   },
   {
    "duration": 858,
    "start_time": "2022-02-01T16:50:46.155Z"
   },
   {
    "duration": 5257,
    "start_time": "2022-02-01T16:50:47.016Z"
   },
   {
    "duration": 2127,
    "start_time": "2022-02-01T16:50:52.278Z"
   },
   {
    "duration": 9,
    "start_time": "2022-02-01T16:50:54.408Z"
   },
   {
    "duration": 147,
    "start_time": "2022-02-01T16:50:54.420Z"
   },
   {
    "duration": 78,
    "start_time": "2022-02-01T16:50:54.572Z"
   },
   {
    "duration": 764,
    "start_time": "2022-02-01T16:50:54.654Z"
   },
   {
    "duration": 42,
    "start_time": "2022-02-01T16:50:55.422Z"
   },
   {
    "duration": 20,
    "start_time": "2022-02-01T16:50:55.466Z"
   },
   {
    "duration": 36,
    "start_time": "2022-02-01T16:50:55.489Z"
   },
   {
    "duration": 584,
    "start_time": "2022-02-01T16:50:55.548Z"
   },
   {
    "duration": 775,
    "start_time": "2022-02-01T16:50:56.136Z"
   },
   {
    "duration": 710,
    "start_time": "2022-02-01T16:50:56.913Z"
   },
   {
    "duration": 1155,
    "start_time": "2022-02-01T16:50:57.625Z"
   },
   {
    "duration": 189745,
    "start_time": "2022-02-01T16:50:58.785Z"
   },
   {
    "duration": 1331,
    "start_time": "2022-02-01T16:54:08.533Z"
   },
   {
    "duration": 2953,
    "start_time": "2022-02-01T16:54:09.868Z"
   },
   {
    "duration": 2225,
    "start_time": "2022-02-01T16:54:12.824Z"
   },
   {
    "duration": 8952,
    "start_time": "2022-02-01T16:54:15.055Z"
   },
   {
    "duration": 1074,
    "start_time": "2022-02-01T16:54:24.010Z"
   },
   {
    "duration": 1451,
    "start_time": "2022-02-01T16:54:25.087Z"
   },
   {
    "duration": 29,
    "start_time": "2022-02-01T16:54:26.542Z"
   },
   {
    "duration": 9361,
    "start_time": "2022-02-01T16:59:27.023Z"
   },
   {
    "duration": 2445,
    "start_time": "2022-02-02T04:05:29.447Z"
   },
   {
    "duration": 1461,
    "start_time": "2022-02-02T04:05:31.893Z"
   },
   {
    "duration": 20,
    "start_time": "2022-02-02T04:05:33.358Z"
   },
   {
    "duration": 6,
    "start_time": "2022-02-02T04:05:33.380Z"
   },
   {
    "duration": 3,
    "start_time": "2022-02-02T04:05:33.387Z"
   },
   {
    "duration": 13,
    "start_time": "2022-02-02T04:05:33.392Z"
   },
   {
    "duration": 45,
    "start_time": "2022-02-02T04:05:33.407Z"
   },
   {
    "duration": 7,
    "start_time": "2022-02-02T04:05:33.454Z"
   },
   {
    "duration": 9,
    "start_time": "2022-02-02T04:05:33.462Z"
   },
   {
    "duration": 2,
    "start_time": "2022-02-02T04:05:33.472Z"
   },
   {
    "duration": 905,
    "start_time": "2022-02-02T04:05:33.476Z"
   },
   {
    "duration": 522,
    "start_time": "2022-02-02T04:05:34.382Z"
   },
   {
    "duration": 2974,
    "start_time": "2022-02-02T04:05:34.906Z"
   },
   {
    "duration": 1422,
    "start_time": "2022-02-02T04:05:37.882Z"
   },
   {
    "duration": 7,
    "start_time": "2022-02-02T04:05:39.305Z"
   },
   {
    "duration": 28,
    "start_time": "2022-02-02T04:05:39.327Z"
   },
   {
    "duration": 74,
    "start_time": "2022-02-02T04:05:39.357Z"
   },
   {
    "duration": 391,
    "start_time": "2022-02-02T04:05:39.433Z"
   },
   {
    "duration": 11,
    "start_time": "2022-02-02T04:05:39.825Z"
   },
   {
    "duration": 12,
    "start_time": "2022-02-02T04:05:39.837Z"
   },
   {
    "duration": 15,
    "start_time": "2022-02-02T04:05:39.850Z"
   },
   {
    "duration": 321,
    "start_time": "2022-02-02T04:05:39.867Z"
   },
   {
    "duration": 286,
    "start_time": "2022-02-02T04:05:40.190Z"
   },
   {
    "duration": 301,
    "start_time": "2022-02-02T04:05:40.478Z"
   },
   {
    "duration": 515,
    "start_time": "2022-02-02T04:05:40.781Z"
   },
   {
    "duration": 72425,
    "start_time": "2022-02-02T04:05:41.298Z"
   },
   {
    "duration": 1414,
    "start_time": "2022-02-02T04:06:53.724Z"
   },
   {
    "duration": 1168,
    "start_time": "2022-02-02T04:06:55.139Z"
   },
   {
    "duration": 1028,
    "start_time": "2022-02-02T04:06:56.308Z"
   },
   {
    "duration": 4463,
    "start_time": "2022-02-02T04:06:57.338Z"
   },
   {
    "duration": 398,
    "start_time": "2022-02-02T04:07:01.802Z"
   },
   {
    "duration": 732,
    "start_time": "2022-02-02T04:07:02.202Z"
   },
   {
    "duration": 11,
    "start_time": "2022-02-02T04:07:02.936Z"
   },
   {
    "duration": 3736,
    "start_time": "2022-03-14T11:50:34.698Z"
   },
   {
    "duration": 1644,
    "start_time": "2022-03-14T11:50:38.436Z"
   },
   {
    "duration": 17,
    "start_time": "2022-03-14T11:50:40.082Z"
   },
   {
    "duration": 38,
    "start_time": "2022-03-14T11:50:40.102Z"
   },
   {
    "duration": 10,
    "start_time": "2022-03-14T11:50:40.142Z"
   },
   {
    "duration": 49,
    "start_time": "2022-03-14T11:50:40.154Z"
   },
   {
    "duration": 84,
    "start_time": "2022-03-14T11:50:40.206Z"
   },
   {
    "duration": 12,
    "start_time": "2022-03-14T11:50:40.294Z"
   },
   {
    "duration": 39,
    "start_time": "2022-03-14T11:50:40.308Z"
   },
   {
    "duration": 16,
    "start_time": "2022-03-14T11:50:40.349Z"
   },
   {
    "duration": 1238,
    "start_time": "2022-03-14T11:50:40.367Z"
   },
   {
    "duration": 786,
    "start_time": "2022-03-14T11:50:41.607Z"
   },
   {
    "duration": 4258,
    "start_time": "2022-03-14T11:50:42.395Z"
   },
   {
    "duration": 1468,
    "start_time": "2022-03-14T11:50:46.655Z"
   },
   {
    "duration": 9,
    "start_time": "2022-03-14T11:50:48.126Z"
   },
   {
    "duration": 82,
    "start_time": "2022-03-14T11:50:48.137Z"
   },
   {
    "duration": 82,
    "start_time": "2022-03-14T11:50:48.221Z"
   },
   {
    "duration": 466,
    "start_time": "2022-03-14T11:50:48.305Z"
   },
   {
    "duration": 13,
    "start_time": "2022-03-14T11:50:48.774Z"
   },
   {
    "duration": 27,
    "start_time": "2022-03-14T11:50:48.789Z"
   },
   {
    "duration": 26,
    "start_time": "2022-03-14T11:50:48.818Z"
   },
   {
    "duration": 403,
    "start_time": "2022-03-14T11:50:48.846Z"
   },
   {
    "duration": 398,
    "start_time": "2022-03-14T11:50:49.252Z"
   },
   {
    "duration": 602,
    "start_time": "2022-03-14T11:50:49.653Z"
   },
   {
    "duration": 99387,
    "start_time": "2022-03-14T11:50:50.257Z"
   },
   {
    "duration": 1561,
    "start_time": "2022-03-14T11:52:29.647Z"
   },
   {
    "duration": 1583,
    "start_time": "2022-03-14T11:52:31.210Z"
   },
   {
    "duration": 1228,
    "start_time": "2022-03-14T11:52:32.795Z"
   },
   {
    "duration": 6262,
    "start_time": "2022-03-14T11:52:34.025Z"
   },
   {
    "duration": 35,
    "start_time": "2022-03-14T11:52:40.289Z"
   },
   {
    "duration": 3340,
    "start_time": "2022-03-14T12:00:43.159Z"
   },
   {
    "duration": 2018,
    "start_time": "2022-03-14T12:00:46.502Z"
   },
   {
    "duration": 26,
    "start_time": "2022-03-14T12:00:48.523Z"
   },
   {
    "duration": 32,
    "start_time": "2022-03-14T12:00:48.552Z"
   },
   {
    "duration": 38,
    "start_time": "2022-03-14T12:00:48.586Z"
   },
   {
    "duration": 57,
    "start_time": "2022-03-14T12:00:48.626Z"
   },
   {
    "duration": 80,
    "start_time": "2022-03-14T12:00:48.685Z"
   },
   {
    "duration": 10,
    "start_time": "2022-03-14T12:00:48.768Z"
   },
   {
    "duration": 46,
    "start_time": "2022-03-14T12:00:48.780Z"
   },
   {
    "duration": 11,
    "start_time": "2022-03-14T12:00:48.829Z"
   },
   {
    "duration": 1210,
    "start_time": "2022-03-14T12:00:48.841Z"
   },
   {
    "duration": 634,
    "start_time": "2022-03-14T12:00:50.053Z"
   },
   {
    "duration": 3871,
    "start_time": "2022-03-14T12:00:50.689Z"
   },
   {
    "duration": 1468,
    "start_time": "2022-03-14T12:00:54.562Z"
   },
   {
    "duration": 8,
    "start_time": "2022-03-14T12:00:56.032Z"
   },
   {
    "duration": 79,
    "start_time": "2022-03-14T12:00:56.042Z"
   },
   {
    "duration": 85,
    "start_time": "2022-03-14T12:00:56.123Z"
   },
   {
    "duration": 430,
    "start_time": "2022-03-14T12:00:56.210Z"
   },
   {
    "duration": 12,
    "start_time": "2022-03-14T12:00:56.642Z"
   },
   {
    "duration": 13,
    "start_time": "2022-03-14T12:00:56.656Z"
   },
   {
    "duration": 53,
    "start_time": "2022-03-14T12:00:56.671Z"
   },
   {
    "duration": 402,
    "start_time": "2022-03-14T12:00:56.726Z"
   },
   {
    "duration": 382,
    "start_time": "2022-03-14T12:00:57.132Z"
   },
   {
    "duration": 832,
    "start_time": "2022-03-14T12:00:57.517Z"
   },
   {
    "duration": 3110,
    "start_time": "2022-03-14T12:01:30.391Z"
   },
   {
    "duration": 1842,
    "start_time": "2022-03-14T12:01:33.505Z"
   },
   {
    "duration": 16,
    "start_time": "2022-03-14T12:01:35.349Z"
   },
   {
    "duration": 14,
    "start_time": "2022-03-14T12:01:35.367Z"
   },
   {
    "duration": 8,
    "start_time": "2022-03-14T12:01:35.383Z"
   },
   {
    "duration": 29,
    "start_time": "2022-03-14T12:01:35.393Z"
   },
   {
    "duration": 55,
    "start_time": "2022-03-14T12:01:35.424Z"
   },
   {
    "duration": 25,
    "start_time": "2022-03-14T12:01:35.482Z"
   },
   {
    "duration": 29,
    "start_time": "2022-03-14T12:01:35.509Z"
   },
   {
    "duration": 8,
    "start_time": "2022-03-14T12:01:35.540Z"
   },
   {
    "duration": 1188,
    "start_time": "2022-03-14T12:01:35.549Z"
   },
   {
    "duration": 633,
    "start_time": "2022-03-14T12:01:36.739Z"
   },
   {
    "duration": 3816,
    "start_time": "2022-03-14T12:01:37.373Z"
   },
   {
    "duration": 1428,
    "start_time": "2022-03-14T12:01:41.191Z"
   },
   {
    "duration": 9,
    "start_time": "2022-03-14T12:01:42.621Z"
   },
   {
    "duration": 81,
    "start_time": "2022-03-14T12:01:42.632Z"
   },
   {
    "duration": 84,
    "start_time": "2022-03-14T12:01:42.717Z"
   },
   {
    "duration": 402,
    "start_time": "2022-03-14T12:01:42.803Z"
   },
   {
    "duration": 13,
    "start_time": "2022-03-14T12:01:43.212Z"
   },
   {
    "duration": 13,
    "start_time": "2022-03-14T12:01:43.227Z"
   },
   {
    "duration": 19,
    "start_time": "2022-03-14T12:01:43.242Z"
   },
   {
    "duration": 423,
    "start_time": "2022-03-14T12:01:43.263Z"
   },
   {
    "duration": 378,
    "start_time": "2022-03-14T12:01:43.690Z"
   },
   {
    "duration": 603,
    "start_time": "2022-03-14T12:01:44.070Z"
   },
   {
    "duration": 97903,
    "start_time": "2022-03-14T12:01:44.675Z"
   },
   {
    "duration": 1835,
    "start_time": "2022-03-14T12:03:22.581Z"
   },
   {
    "duration": 1608,
    "start_time": "2022-03-14T12:03:24.418Z"
   },
   {
    "duration": 901,
    "start_time": "2022-03-14T12:03:26.029Z"
   },
   {
    "duration": 6169,
    "start_time": "2022-03-14T12:03:26.932Z"
   },
   {
    "duration": 18,
    "start_time": "2022-03-14T12:03:33.104Z"
   },
   {
    "duration": 2804,
    "start_time": "2022-03-14T12:19:42.889Z"
   },
   {
    "duration": 1772,
    "start_time": "2022-03-14T12:19:45.695Z"
   },
   {
    "duration": 17,
    "start_time": "2022-03-14T12:19:47.471Z"
   },
   {
    "duration": 13,
    "start_time": "2022-03-14T12:19:47.490Z"
   },
   {
    "duration": 4,
    "start_time": "2022-03-14T12:19:47.505Z"
   },
   {
    "duration": 20,
    "start_time": "2022-03-14T12:19:47.512Z"
   },
   {
    "duration": 68,
    "start_time": "2022-03-14T12:19:47.534Z"
   },
   {
    "duration": 9,
    "start_time": "2022-03-14T12:19:47.605Z"
   },
   {
    "duration": 11,
    "start_time": "2022-03-14T12:19:47.616Z"
   },
   {
    "duration": 21,
    "start_time": "2022-03-14T12:19:47.629Z"
   },
   {
    "duration": 1149,
    "start_time": "2022-03-14T12:19:47.652Z"
   },
   {
    "duration": 560,
    "start_time": "2022-03-14T12:19:48.803Z"
   },
   {
    "duration": 3545,
    "start_time": "2022-03-14T12:19:49.365Z"
   },
   {
    "duration": 1508,
    "start_time": "2022-03-14T12:19:52.912Z"
   },
   {
    "duration": 7,
    "start_time": "2022-03-14T12:19:54.422Z"
   },
   {
    "duration": 72,
    "start_time": "2022-03-14T12:19:54.431Z"
   },
   {
    "duration": 98,
    "start_time": "2022-03-14T12:19:54.506Z"
   },
   {
    "duration": 382,
    "start_time": "2022-03-14T12:19:54.606Z"
   },
   {
    "duration": 17,
    "start_time": "2022-03-14T12:19:54.990Z"
   },
   {
    "duration": 16,
    "start_time": "2022-03-14T12:19:55.009Z"
   },
   {
    "duration": 33,
    "start_time": "2022-03-14T12:19:55.027Z"
   },
   {
    "duration": 389,
    "start_time": "2022-03-14T12:19:55.064Z"
   },
   {
    "duration": 361,
    "start_time": "2022-03-14T12:19:55.455Z"
   },
   {
    "duration": 604,
    "start_time": "2022-03-14T12:19:55.818Z"
   }
  ],
  "kernelspec": {
   "display_name": "Python 3",
   "language": "python",
   "name": "python3"
  },
  "language_info": {
   "codemirror_mode": {
    "name": "ipython",
    "version": 3
   },
   "file_extension": ".py",
   "mimetype": "text/x-python",
   "name": "python",
   "nbconvert_exporter": "python",
   "pygments_lexer": "ipython3",
   "version": "3.7.8"
  },
  "toc": {
   "base_numbering": 1,
   "nav_menu": {},
   "number_sections": true,
   "sideBar": true,
   "skip_h1_title": true,
   "title_cell": "Table of Contents",
   "title_sidebar": "Contents",
   "toc_cell": false,
   "toc_position": {},
   "toc_section_display": true,
   "toc_window_display": false
  }
 },
 "nbformat": 4,
 "nbformat_minor": 2
}
