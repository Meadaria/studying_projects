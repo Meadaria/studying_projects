{
 "cells": [
  {
   "cell_type": "markdown",
   "metadata": {},
   "source": [
    "## Изучение данных из файла"
   ]
  },
  {
   "cell_type": "code",
   "execution_count": 1,
   "metadata": {},
   "outputs": [],
   "source": [
    "import pandas as pd\n",
    "import scipy.stats as stats\n",
    "import datetime as dt\n",
    "import numpy as np\n",
    "import matplotlib.pyplot as plt\n",
    "import warnings\n",
    "warnings.filterwarnings(\"ignore\")"
   ]
  },
  {
   "cell_type": "code",
   "execution_count": 2,
   "metadata": {},
   "outputs": [],
   "source": [
    "hypothesis= pd.read_csv('/datasets/hypothesis.csv', sep=',')\n",
    "hypothesis.columns=hypothesis.columns.str.lower()\n",
    "\n",
    "orders = pd.read_csv('/datasets/orders.csv', sep=',')\n",
    "orders['date'] = orders['date'].map(\n",
    "    lambda x: dt.datetime.strptime(x, '%Y-%m-%d')\n",
    ")\n",
    "\n",
    "visitors = pd.read_csv('/datasets/visitors.csv', sep=',')\n",
    "visitors['date'] = visitors['date'].map(\n",
    "    lambda x: dt.datetime.strptime(x, '%Y-%m-%d')\n",
    ")"
   ]
  },
  {
   "cell_type": "code",
   "execution_count": 3,
   "metadata": {},
   "outputs": [
    {
     "data": {
      "text/html": [
       "<div>\n",
       "<style scoped>\n",
       "    .dataframe tbody tr th:only-of-type {\n",
       "        vertical-align: middle;\n",
       "    }\n",
       "\n",
       "    .dataframe tbody tr th {\n",
       "        vertical-align: top;\n",
       "    }\n",
       "\n",
       "    .dataframe thead th {\n",
       "        text-align: right;\n",
       "    }\n",
       "</style>\n",
       "<table border=\"1\" class=\"dataframe\">\n",
       "  <thead>\n",
       "    <tr style=\"text-align: right;\">\n",
       "      <th></th>\n",
       "      <th>hypothesis</th>\n",
       "      <th>reach</th>\n",
       "      <th>impact</th>\n",
       "      <th>confidence</th>\n",
       "      <th>efforts</th>\n",
       "    </tr>\n",
       "  </thead>\n",
       "  <tbody>\n",
       "    <tr>\n",
       "      <td>0</td>\n",
       "      <td>Добавить два новых канала привлечения трафика, что позволит привлекать на 30% больше пользователей</td>\n",
       "      <td>3</td>\n",
       "      <td>10</td>\n",
       "      <td>8</td>\n",
       "      <td>6</td>\n",
       "    </tr>\n",
       "    <tr>\n",
       "      <td>1</td>\n",
       "      <td>Запустить собственную службу доставки, что сократит срок доставки заказов</td>\n",
       "      <td>2</td>\n",
       "      <td>5</td>\n",
       "      <td>4</td>\n",
       "      <td>10</td>\n",
       "    </tr>\n",
       "    <tr>\n",
       "      <td>2</td>\n",
       "      <td>Добавить блоки рекомендаций товаров на сайт интернет магазина, чтобы повысить конверсию и средний чек заказа</td>\n",
       "      <td>8</td>\n",
       "      <td>3</td>\n",
       "      <td>7</td>\n",
       "      <td>3</td>\n",
       "    </tr>\n",
       "    <tr>\n",
       "      <td>3</td>\n",
       "      <td>Изменить структура категорий, что увеличит конверсию, т.к. пользователи быстрее найдут нужный товар</td>\n",
       "      <td>8</td>\n",
       "      <td>3</td>\n",
       "      <td>3</td>\n",
       "      <td>8</td>\n",
       "    </tr>\n",
       "    <tr>\n",
       "      <td>4</td>\n",
       "      <td>Изменить цвет фона главной страницы, чтобы увеличить вовлеченность пользователей</td>\n",
       "      <td>3</td>\n",
       "      <td>1</td>\n",
       "      <td>1</td>\n",
       "      <td>1</td>\n",
       "    </tr>\n",
       "    <tr>\n",
       "      <td>5</td>\n",
       "      <td>Добавить страницу отзывов клиентов о магазине, что позволит увеличить количество заказов</td>\n",
       "      <td>3</td>\n",
       "      <td>2</td>\n",
       "      <td>2</td>\n",
       "      <td>3</td>\n",
       "    </tr>\n",
       "    <tr>\n",
       "      <td>6</td>\n",
       "      <td>Показать на главной странице баннеры с актуальными акциями и распродажами, чтобы увеличить конверсию</td>\n",
       "      <td>5</td>\n",
       "      <td>3</td>\n",
       "      <td>8</td>\n",
       "      <td>3</td>\n",
       "    </tr>\n",
       "    <tr>\n",
       "      <td>7</td>\n",
       "      <td>Добавить форму подписки на все основные страницы, чтобы собрать базу клиентов для email-рассылок</td>\n",
       "      <td>10</td>\n",
       "      <td>7</td>\n",
       "      <td>8</td>\n",
       "      <td>5</td>\n",
       "    </tr>\n",
       "    <tr>\n",
       "      <td>8</td>\n",
       "      <td>Запустить акцию, дающую скидку на товар в день рождения</td>\n",
       "      <td>1</td>\n",
       "      <td>9</td>\n",
       "      <td>9</td>\n",
       "      <td>5</td>\n",
       "    </tr>\n",
       "  </tbody>\n",
       "</table>\n",
       "</div>"
      ],
      "text/plain": [
       "                                                                                                     hypothesis  \\\n",
       "0            Добавить два новых канала привлечения трафика, что позволит привлекать на 30% больше пользователей   \n",
       "1                                     Запустить собственную службу доставки, что сократит срок доставки заказов   \n",
       "2  Добавить блоки рекомендаций товаров на сайт интернет магазина, чтобы повысить конверсию и средний чек заказа   \n",
       "3           Изменить структура категорий, что увеличит конверсию, т.к. пользователи быстрее найдут нужный товар   \n",
       "4                              Изменить цвет фона главной страницы, чтобы увеличить вовлеченность пользователей   \n",
       "5                      Добавить страницу отзывов клиентов о магазине, что позволит увеличить количество заказов   \n",
       "6          Показать на главной странице баннеры с актуальными акциями и распродажами, чтобы увеличить конверсию   \n",
       "7              Добавить форму подписки на все основные страницы, чтобы собрать базу клиентов для email-рассылок   \n",
       "8                                                       Запустить акцию, дающую скидку на товар в день рождения   \n",
       "\n",
       "   reach  impact  confidence  efforts  \n",
       "0      3      10           8        6  \n",
       "1      2       5           4       10  \n",
       "2      8       3           7        3  \n",
       "3      8       3           3        8  \n",
       "4      3       1           1        1  \n",
       "5      3       2           2        3  \n",
       "6      5       3           8        3  \n",
       "7     10       7           8        5  \n",
       "8      1       9           9        5  "
      ]
     },
     "execution_count": 3,
     "metadata": {},
     "output_type": "execute_result"
    }
   ],
   "source": [
    "pd.options.display.max_colwidth =120\n",
    "hypothesis.head(10)"
   ]
  },
  {
   "cell_type": "code",
   "execution_count": 4,
   "metadata": {},
   "outputs": [
    {
     "name": "stdout",
     "output_type": "stream",
     "text": [
      "<class 'pandas.core.frame.DataFrame'>\n",
      "RangeIndex: 1197 entries, 0 to 1196\n",
      "Data columns (total 5 columns):\n",
      "transactionId    1197 non-null int64\n",
      "visitorId        1197 non-null int64\n",
      "date             1197 non-null datetime64[ns]\n",
      "revenue          1197 non-null int64\n",
      "group            1197 non-null object\n",
      "dtypes: datetime64[ns](1), int64(3), object(1)\n",
      "memory usage: 46.9+ KB\n"
     ]
    },
    {
     "data": {
      "text/html": [
       "<div>\n",
       "<style scoped>\n",
       "    .dataframe tbody tr th:only-of-type {\n",
       "        vertical-align: middle;\n",
       "    }\n",
       "\n",
       "    .dataframe tbody tr th {\n",
       "        vertical-align: top;\n",
       "    }\n",
       "\n",
       "    .dataframe thead th {\n",
       "        text-align: right;\n",
       "    }\n",
       "</style>\n",
       "<table border=\"1\" class=\"dataframe\">\n",
       "  <thead>\n",
       "    <tr style=\"text-align: right;\">\n",
       "      <th></th>\n",
       "      <th>transactionId</th>\n",
       "      <th>visitorId</th>\n",
       "      <th>date</th>\n",
       "      <th>revenue</th>\n",
       "      <th>group</th>\n",
       "    </tr>\n",
       "  </thead>\n",
       "  <tbody>\n",
       "    <tr>\n",
       "      <td>0</td>\n",
       "      <td>3667963787</td>\n",
       "      <td>3312258926</td>\n",
       "      <td>2019-08-15</td>\n",
       "      <td>1650</td>\n",
       "      <td>B</td>\n",
       "    </tr>\n",
       "    <tr>\n",
       "      <td>1</td>\n",
       "      <td>2804400009</td>\n",
       "      <td>3642806036</td>\n",
       "      <td>2019-08-15</td>\n",
       "      <td>730</td>\n",
       "      <td>B</td>\n",
       "    </tr>\n",
       "    <tr>\n",
       "      <td>2</td>\n",
       "      <td>2961555356</td>\n",
       "      <td>4069496402</td>\n",
       "      <td>2019-08-15</td>\n",
       "      <td>400</td>\n",
       "      <td>A</td>\n",
       "    </tr>\n",
       "    <tr>\n",
       "      <td>3</td>\n",
       "      <td>3797467345</td>\n",
       "      <td>1196621759</td>\n",
       "      <td>2019-08-15</td>\n",
       "      <td>9759</td>\n",
       "      <td>B</td>\n",
       "    </tr>\n",
       "    <tr>\n",
       "      <td>4</td>\n",
       "      <td>2282983706</td>\n",
       "      <td>2322279887</td>\n",
       "      <td>2019-08-15</td>\n",
       "      <td>2308</td>\n",
       "      <td>B</td>\n",
       "    </tr>\n",
       "  </tbody>\n",
       "</table>\n",
       "</div>"
      ],
      "text/plain": [
       "   transactionId   visitorId       date  revenue group\n",
       "0     3667963787  3312258926 2019-08-15     1650     B\n",
       "1     2804400009  3642806036 2019-08-15      730     B\n",
       "2     2961555356  4069496402 2019-08-15      400     A\n",
       "3     3797467345  1196621759 2019-08-15     9759     B\n",
       "4     2282983706  2322279887 2019-08-15     2308     B"
      ]
     },
     "execution_count": 4,
     "metadata": {},
     "output_type": "execute_result"
    }
   ],
   "source": [
    "orders.info()\n",
    "orders.head()"
   ]
  },
  {
   "cell_type": "code",
   "execution_count": 5,
   "metadata": {},
   "outputs": [
    {
     "name": "stdout",
     "output_type": "stream",
     "text": [
      "<class 'pandas.core.frame.DataFrame'>\n",
      "RangeIndex: 62 entries, 0 to 61\n",
      "Data columns (total 3 columns):\n",
      "date        62 non-null datetime64[ns]\n",
      "group       62 non-null object\n",
      "visitors    62 non-null int64\n",
      "dtypes: datetime64[ns](1), int64(1), object(1)\n",
      "memory usage: 1.6+ KB\n"
     ]
    },
    {
     "data": {
      "text/html": [
       "<div>\n",
       "<style scoped>\n",
       "    .dataframe tbody tr th:only-of-type {\n",
       "        vertical-align: middle;\n",
       "    }\n",
       "\n",
       "    .dataframe tbody tr th {\n",
       "        vertical-align: top;\n",
       "    }\n",
       "\n",
       "    .dataframe thead th {\n",
       "        text-align: right;\n",
       "    }\n",
       "</style>\n",
       "<table border=\"1\" class=\"dataframe\">\n",
       "  <thead>\n",
       "    <tr style=\"text-align: right;\">\n",
       "      <th></th>\n",
       "      <th>date</th>\n",
       "      <th>group</th>\n",
       "      <th>visitors</th>\n",
       "    </tr>\n",
       "  </thead>\n",
       "  <tbody>\n",
       "    <tr>\n",
       "      <td>0</td>\n",
       "      <td>2019-08-01</td>\n",
       "      <td>A</td>\n",
       "      <td>719</td>\n",
       "    </tr>\n",
       "    <tr>\n",
       "      <td>1</td>\n",
       "      <td>2019-08-02</td>\n",
       "      <td>A</td>\n",
       "      <td>619</td>\n",
       "    </tr>\n",
       "    <tr>\n",
       "      <td>2</td>\n",
       "      <td>2019-08-03</td>\n",
       "      <td>A</td>\n",
       "      <td>507</td>\n",
       "    </tr>\n",
       "    <tr>\n",
       "      <td>3</td>\n",
       "      <td>2019-08-04</td>\n",
       "      <td>A</td>\n",
       "      <td>717</td>\n",
       "    </tr>\n",
       "    <tr>\n",
       "      <td>4</td>\n",
       "      <td>2019-08-05</td>\n",
       "      <td>A</td>\n",
       "      <td>756</td>\n",
       "    </tr>\n",
       "  </tbody>\n",
       "</table>\n",
       "</div>"
      ],
      "text/plain": [
       "        date group  visitors\n",
       "0 2019-08-01     A       719\n",
       "1 2019-08-02     A       619\n",
       "2 2019-08-03     A       507\n",
       "3 2019-08-04     A       717\n",
       "4 2019-08-05     A       756"
      ]
     },
     "execution_count": 5,
     "metadata": {},
     "output_type": "execute_result"
    }
   ],
   "source": [
    "visitors.info()\n",
    "visitors.head()"
   ]
  },
  {
   "cell_type": "markdown",
   "metadata": {},
   "source": [
    "##  Приоритизация гипотез."
   ]
  },
  {
   "cell_type": "code",
   "execution_count": 6,
   "metadata": {},
   "outputs": [
    {
     "data": {
      "text/html": [
       "<div>\n",
       "<style scoped>\n",
       "    .dataframe tbody tr th:only-of-type {\n",
       "        vertical-align: middle;\n",
       "    }\n",
       "\n",
       "    .dataframe tbody tr th {\n",
       "        vertical-align: top;\n",
       "    }\n",
       "\n",
       "    .dataframe thead th {\n",
       "        text-align: right;\n",
       "    }\n",
       "</style>\n",
       "<table border=\"1\" class=\"dataframe\">\n",
       "  <thead>\n",
       "    <tr style=\"text-align: right;\">\n",
       "      <th></th>\n",
       "      <th>hypothesis</th>\n",
       "      <th>ICE</th>\n",
       "    </tr>\n",
       "  </thead>\n",
       "  <tbody>\n",
       "    <tr>\n",
       "      <td>8</td>\n",
       "      <td>Запустить акцию, дающую скидку на товар в день рождения</td>\n",
       "      <td>16.200000</td>\n",
       "    </tr>\n",
       "    <tr>\n",
       "      <td>0</td>\n",
       "      <td>Добавить два новых канала привлечения трафика, что позволит привлекать на 30% больше пользователей</td>\n",
       "      <td>13.333333</td>\n",
       "    </tr>\n",
       "    <tr>\n",
       "      <td>7</td>\n",
       "      <td>Добавить форму подписки на все основные страницы, чтобы собрать базу клиентов для email-рассылок</td>\n",
       "      <td>11.200000</td>\n",
       "    </tr>\n",
       "    <tr>\n",
       "      <td>6</td>\n",
       "      <td>Показать на главной странице баннеры с актуальными акциями и распродажами, чтобы увеличить конверсию</td>\n",
       "      <td>8.000000</td>\n",
       "    </tr>\n",
       "    <tr>\n",
       "      <td>2</td>\n",
       "      <td>Добавить блоки рекомендаций товаров на сайт интернет магазина, чтобы повысить конверсию и средний чек заказа</td>\n",
       "      <td>7.000000</td>\n",
       "    </tr>\n",
       "    <tr>\n",
       "      <td>1</td>\n",
       "      <td>Запустить собственную службу доставки, что сократит срок доставки заказов</td>\n",
       "      <td>2.000000</td>\n",
       "    </tr>\n",
       "    <tr>\n",
       "      <td>5</td>\n",
       "      <td>Добавить страницу отзывов клиентов о магазине, что позволит увеличить количество заказов</td>\n",
       "      <td>1.333333</td>\n",
       "    </tr>\n",
       "    <tr>\n",
       "      <td>3</td>\n",
       "      <td>Изменить структура категорий, что увеличит конверсию, т.к. пользователи быстрее найдут нужный товар</td>\n",
       "      <td>1.125000</td>\n",
       "    </tr>\n",
       "    <tr>\n",
       "      <td>4</td>\n",
       "      <td>Изменить цвет фона главной страницы, чтобы увеличить вовлеченность пользователей</td>\n",
       "      <td>1.000000</td>\n",
       "    </tr>\n",
       "  </tbody>\n",
       "</table>\n",
       "</div>"
      ],
      "text/plain": [
       "                                                                                                     hypothesis  \\\n",
       "8                                                       Запустить акцию, дающую скидку на товар в день рождения   \n",
       "0            Добавить два новых канала привлечения трафика, что позволит привлекать на 30% больше пользователей   \n",
       "7              Добавить форму подписки на все основные страницы, чтобы собрать базу клиентов для email-рассылок   \n",
       "6          Показать на главной странице баннеры с актуальными акциями и распродажами, чтобы увеличить конверсию   \n",
       "2  Добавить блоки рекомендаций товаров на сайт интернет магазина, чтобы повысить конверсию и средний чек заказа   \n",
       "1                                     Запустить собственную службу доставки, что сократит срок доставки заказов   \n",
       "5                      Добавить страницу отзывов клиентов о магазине, что позволит увеличить количество заказов   \n",
       "3           Изменить структура категорий, что увеличит конверсию, т.к. пользователи быстрее найдут нужный товар   \n",
       "4                              Изменить цвет фона главной страницы, чтобы увеличить вовлеченность пользователей   \n",
       "\n",
       "         ICE  \n",
       "8  16.200000  \n",
       "0  13.333333  \n",
       "7  11.200000  \n",
       "6   8.000000  \n",
       "2   7.000000  \n",
       "1   2.000000  \n",
       "5   1.333333  \n",
       "3   1.125000  \n",
       "4   1.000000  "
      ]
     },
     "execution_count": 6,
     "metadata": {},
     "output_type": "execute_result"
    }
   ],
   "source": [
    "hypothesis['ICE'] = (hypothesis['impact']*hypothesis['confidence'])/hypothesis['efforts']\n",
    "ICE=hypothesis[['hypothesis','ICE']].sort_values(by='ICE', ascending=False)\n",
    "ICE"
   ]
  },
  {
   "cell_type": "code",
   "execution_count": 7,
   "metadata": {},
   "outputs": [
    {
     "data": {
      "text/html": [
       "<div>\n",
       "<style scoped>\n",
       "    .dataframe tbody tr th:only-of-type {\n",
       "        vertical-align: middle;\n",
       "    }\n",
       "\n",
       "    .dataframe tbody tr th {\n",
       "        vertical-align: top;\n",
       "    }\n",
       "\n",
       "    .dataframe thead th {\n",
       "        text-align: right;\n",
       "    }\n",
       "</style>\n",
       "<table border=\"1\" class=\"dataframe\">\n",
       "  <thead>\n",
       "    <tr style=\"text-align: right;\">\n",
       "      <th></th>\n",
       "      <th>hypothesis</th>\n",
       "      <th>RICE</th>\n",
       "    </tr>\n",
       "  </thead>\n",
       "  <tbody>\n",
       "    <tr>\n",
       "      <td>7</td>\n",
       "      <td>Добавить форму подписки на все основные страницы, чтобы собрать базу клиентов для email-рассылок</td>\n",
       "      <td>112.0</td>\n",
       "    </tr>\n",
       "    <tr>\n",
       "      <td>2</td>\n",
       "      <td>Добавить блоки рекомендаций товаров на сайт интернет магазина, чтобы повысить конверсию и средний чек заказа</td>\n",
       "      <td>56.0</td>\n",
       "    </tr>\n",
       "    <tr>\n",
       "      <td>0</td>\n",
       "      <td>Добавить два новых канала привлечения трафика, что позволит привлекать на 30% больше пользователей</td>\n",
       "      <td>40.0</td>\n",
       "    </tr>\n",
       "    <tr>\n",
       "      <td>6</td>\n",
       "      <td>Показать на главной странице баннеры с актуальными акциями и распродажами, чтобы увеличить конверсию</td>\n",
       "      <td>40.0</td>\n",
       "    </tr>\n",
       "    <tr>\n",
       "      <td>8</td>\n",
       "      <td>Запустить акцию, дающую скидку на товар в день рождения</td>\n",
       "      <td>16.2</td>\n",
       "    </tr>\n",
       "    <tr>\n",
       "      <td>3</td>\n",
       "      <td>Изменить структура категорий, что увеличит конверсию, т.к. пользователи быстрее найдут нужный товар</td>\n",
       "      <td>9.0</td>\n",
       "    </tr>\n",
       "    <tr>\n",
       "      <td>1</td>\n",
       "      <td>Запустить собственную службу доставки, что сократит срок доставки заказов</td>\n",
       "      <td>4.0</td>\n",
       "    </tr>\n",
       "    <tr>\n",
       "      <td>5</td>\n",
       "      <td>Добавить страницу отзывов клиентов о магазине, что позволит увеличить количество заказов</td>\n",
       "      <td>4.0</td>\n",
       "    </tr>\n",
       "    <tr>\n",
       "      <td>4</td>\n",
       "      <td>Изменить цвет фона главной страницы, чтобы увеличить вовлеченность пользователей</td>\n",
       "      <td>3.0</td>\n",
       "    </tr>\n",
       "  </tbody>\n",
       "</table>\n",
       "</div>"
      ],
      "text/plain": [
       "                                                                                                     hypothesis  \\\n",
       "7              Добавить форму подписки на все основные страницы, чтобы собрать базу клиентов для email-рассылок   \n",
       "2  Добавить блоки рекомендаций товаров на сайт интернет магазина, чтобы повысить конверсию и средний чек заказа   \n",
       "0            Добавить два новых канала привлечения трафика, что позволит привлекать на 30% больше пользователей   \n",
       "6          Показать на главной странице баннеры с актуальными акциями и распродажами, чтобы увеличить конверсию   \n",
       "8                                                       Запустить акцию, дающую скидку на товар в день рождения   \n",
       "3           Изменить структура категорий, что увеличит конверсию, т.к. пользователи быстрее найдут нужный товар   \n",
       "1                                     Запустить собственную службу доставки, что сократит срок доставки заказов   \n",
       "5                      Добавить страницу отзывов клиентов о магазине, что позволит увеличить количество заказов   \n",
       "4                              Изменить цвет фона главной страницы, чтобы увеличить вовлеченность пользователей   \n",
       "\n",
       "    RICE  \n",
       "7  112.0  \n",
       "2   56.0  \n",
       "0   40.0  \n",
       "6   40.0  \n",
       "8   16.2  \n",
       "3    9.0  \n",
       "1    4.0  \n",
       "5    4.0  \n",
       "4    3.0  "
      ]
     },
     "execution_count": 7,
     "metadata": {},
     "output_type": "execute_result"
    }
   ],
   "source": [
    "hypothesis['RICE']=(hypothesis['impact']*hypothesis['confidence']*hypothesis['reach'])/hypothesis['efforts']\n",
    "RICE =hypothesis[['hypothesis','RICE']].sort_values(by='RICE', ascending=False)\n",
    "RICE"
   ]
  },
  {
   "cell_type": "markdown",
   "metadata": {},
   "source": [
    " ### Вывод\n",
    " При подсчете ICE топ-3 гипотизами стали 8,0 и 7ая. Однако, по RICE порядок поменялся на следующий: 7,2 и 0ая. Это произошло, т.к. добавился такой криетрий, как Reach , то есть насколько скольких пользователей затронет изменение, которое вы хотите внести. Очевидно, что гипотезы №7,2 и 0 можно затронут больше пользователей."
   ]
  },
  {
   "cell_type": "markdown",
   "metadata": {},
   "source": [
    "## Анализ A/B-теста"
   ]
  },
  {
   "cell_type": "markdown",
   "metadata": {},
   "source": [
    "### Кумулятивные графики"
   ]
  },
  {
   "cell_type": "code",
   "execution_count": 8,
   "metadata": {},
   "outputs": [
    {
     "data": {
      "text/plain": [
       "visitorId    58\n",
       "group        58\n",
       "dtype: int64"
      ]
     },
     "execution_count": 8,
     "metadata": {},
     "output_type": "execute_result"
    }
   ],
   "source": [
    "orders_group=orders.groupby('visitorId')['group'].nunique().reset_index()\n",
    "orders_group.columns=['visitorId','group']\n",
    "orders_group_errors=orders_group[orders_group['group']>1]\n",
    "orders_group_errors.count()"
   ]
  },
  {
   "cell_type": "code",
   "execution_count": 9,
   "metadata": {},
   "outputs": [],
   "source": [
    "orders=orders.query('visitorId not in @orders_group_errors')"
   ]
  },
  {
   "cell_type": "code",
   "execution_count": 10,
   "metadata": {},
   "outputs": [],
   "source": [
    "# массив уникальных пар значений дат и групп теста\n",
    "datesGroups = orders[['date','group']].drop_duplicates() \n",
    "\n",
    "# кумулятивная сумму средних чеков\n",
    "ordersAggregated = datesGroups.apply(lambda x: orders[np.logical_and(orders['date'] <= x['date'], orders['group'] == x['group'])]\\\n",
    ".agg({'date' : 'max', 'group' : 'max', 'transactionId' : pd.Series.nunique, 'visitorId' : pd.Series.nunique, 'revenue' : 'sum'}), axis=1).sort_values(by=['date','group'])\n",
    "\n",
    "# кумулятивные по дням данные о посетителях \n",
    "visitorsAggregated = datesGroups.apply(lambda x: visitors[np.logical_and(visitors['date'] <= x['date'], visitors['group'] == x['group'])].agg({'date' : 'max', 'group' : 'max', 'visitors' : 'sum'}), axis=1).sort_values(by=['date','group'])\n",
    "\n",
    "# сводная таблицв по группе и дате\n",
    "cumulativeData = ordersAggregated.merge(visitorsAggregated, left_on=['date', 'group'], right_on=['date', 'group'])\n",
    "cumulativeData.columns = ['date', 'group', 'orders', 'buyers', 'revenue', 'visitors']"
   ]
  },
  {
   "cell_type": "markdown",
   "metadata": {},
   "source": [
    "В данных нет дубликатов, но при этом 58 пользователей попали в две грруппы."
   ]
  },
  {
   "cell_type": "markdown",
   "metadata": {},
   "source": [
    "#### График кумулятивной выручки по группам"
   ]
  },
  {
   "cell_type": "code",
   "execution_count": 11,
   "metadata": {},
   "outputs": [
    {
     "data": {
      "image/png": "[encoded data removed]",
      "text/plain": [
       "<Figure size 864x576 with 1 Axes>"
      ]
     },
     "metadata": {
      "needs_background": "light"
     },
     "output_type": "display_data"
    }
   ],
   "source": [
    "# датафрейм с кумулятивным количеством заказов и кумулятивной выручкой по дням в группе А\n",
    "cumulativeRevenueA = cumulativeData[cumulativeData['group']=='A'][['date','revenue', 'orders']]\n",
    "\n",
    "# датафрейм с кумулятивным количеством заказов и кумулятивной выручкой по дням в группе B\n",
    "cumulativeRevenueB = cumulativeData[cumulativeData['group']=='B'][['date','revenue', 'orders']]\n",
    "\n",
    "plt.figure(figsize=(12, 8))\n",
    "\n",
    "# график выручки группы А\n",
    "plt.plot(cumulativeRevenueA['date'], cumulativeRevenueA['revenue'], label='A')\n",
    "\n",
    "# график выручки группы B\n",
    "plt.plot(cumulativeRevenueB['date'], cumulativeRevenueB['revenue'], label='B')\n",
    "\n",
    "plt.xlabel(\"Дата\")\n",
    "plt.ylabel(\"Выручка, руб.\")\n",
    "plt.legend()\n",
    "plt.show()"
   ]
  },
  {
   "cell_type": "markdown",
   "metadata": {},
   "source": [
    "Выручка почти равномерно увеличивается в течение всего теста. Заметен резкий рост в группе B 19.08.2019г. Это может сигнализировать о всплесках числа заказов, либо о появлении очень дорогих заказов в выборке. "
   ]
  },
  {
   "cell_type": "markdown",
   "metadata": {},
   "source": [
    "#### График кумулятивного среднего чека по группам"
   ]
  },
  {
   "cell_type": "code",
   "execution_count": 12,
   "metadata": {},
   "outputs": [
    {
     "data": {
      "image/png": "[encoded data removed]",
      "text/plain": [
       "<Figure size 864x576 with 1 Axes>"
      ]
     },
     "metadata": {
      "needs_background": "light"
     },
     "output_type": "display_data"
    }
   ],
   "source": [
    "plt.figure(figsize=(12, 8))\n",
    "plt.plot(cumulativeRevenueA['date'], cumulativeRevenueA['revenue']/cumulativeRevenueA['orders'], label='A')\n",
    "plt.plot(cumulativeRevenueB['date'], cumulativeRevenueB['revenue']/cumulativeRevenueB['orders'], label='B')\n",
    "\n",
    "plt.xlabel(\"Дата\")\n",
    "plt.ylabel(\"Средний чек, руб.\")\n",
    "plt.legend()\n",
    "plt.show()"
   ]
  },
  {
   "cell_type": "markdown",
   "metadata": {},
   "source": [
    "С 19.08.2019г.средний чек становится более равномерным, но все еще данные недостаточно стабильны. Заметно, что в группу D попал крупный заказ как раз в этот день."
   ]
  },
  {
   "cell_type": "markdown",
   "metadata": {},
   "source": [
    "#### График относительного изменения кумулятивного среднего чека группы B к группе A"
   ]
  },
  {
   "cell_type": "code",
   "execution_count": 13,
   "metadata": {},
   "outputs": [
    {
     "data": {
      "image/png": "[encoded data removed]",
      "text/plain": [
       "<Figure size 864x576 with 1 Axes>"
      ]
     },
     "metadata": {
      "needs_background": "light"
     },
     "output_type": "display_data"
    }
   ],
   "source": [
    "# собираем данные в одном датафрейме\n",
    "mergedCumulativeRevenue = cumulativeRevenueA.merge(cumulativeRevenueB, left_on='date', right_on='date', how='left', suffixes=['A', 'B'])\n",
    "\n",
    "plt.figure(figsize=(12, 8))\n",
    "\n",
    "# cтроим отношение средних чеков\n",
    "plt.plot(mergedCumulativeRevenue['date'], (mergedCumulativeRevenue['revenueB']/mergedCumulativeRevenue['ordersB'])/(mergedCumulativeRevenue['revenueA']/mergedCumulativeRevenue['ordersA'])-1)\n",
    "\n",
    "# добавляем ось X\n",
    "plt.axhline(y=0, color='black', linestyle='--')\n",
    "\n",
    "plt.xlabel(\"Дата\")\n",
    "plt.ylabel(\"Относительного изменения кумулятивного среднего чека группы B к группе A\")\n",
    "plt.show()"
   ]
  },
  {
   "cell_type": "markdown",
   "metadata": {},
   "source": [
    "График сильно скачет, есть вбросы и крупные заказы."
   ]
  },
  {
   "cell_type": "markdown",
   "metadata": {},
   "source": [
    "#### График кумулятивной конверсии по группам"
   ]
  },
  {
   "cell_type": "code",
   "execution_count": 14,
   "metadata": {},
   "outputs": [
    {
     "data": {
      "image/png": "[encoded data removed]",
      "text/plain": [
       "<Figure size 864x576 with 1 Axes>"
      ]
     },
     "metadata": {
      "needs_background": "light"
     },
     "output_type": "display_data"
    }
   ],
   "source": [
    "#  кумулятивную конверсию\n",
    "cumulativeData['conversion'] = cumulativeData['orders']/cumulativeData['visitors']\n",
    "#  данные по группе A\n",
    "cumulativeDataA = cumulativeData[cumulativeData['group']=='A']\n",
    "\n",
    "#  данные по группе B\n",
    "cumulativeDataB = cumulativeData[cumulativeData['group']=='B']\n",
    "\n",
    "#  графики\n",
    "plt.figure(figsize=(12, 8))\n",
    "plt.plot(cumulativeDataA['date'], cumulativeDataA['conversion'], label='A')\n",
    "plt.plot(cumulativeDataB['date'], cumulativeDataB['conversion'], label='B')\n",
    "\n",
    "plt.xlabel(\"Дата\")\n",
    "plt.ylabel(\"Конверсия\")\n",
    "plt.legend()\n",
    "plt.show()"
   ]
  },
  {
   "cell_type": "markdown",
   "metadata": {},
   "source": [
    "Группы колебались до 06.08.2019г., после по конверсии группа В вырвалась вперед и лидировала все оставшееся время."
   ]
  },
  {
   "cell_type": "markdown",
   "metadata": {},
   "source": [
    "#### График относительного изменения кумулятивной конверсии группы B к группе A"
   ]
  },
  {
   "cell_type": "code",
   "execution_count": 15,
   "metadata": {},
   "outputs": [
    {
     "data": {
      "image/png": "[encoded data removed]",
      "text/plain": [
       "<Figure size 864x576 with 1 Axes>"
      ]
     },
     "metadata": {
      "needs_background": "light"
     },
     "output_type": "display_data"
    }
   ],
   "source": [
    "mergedCumulativeConversions = cumulativeDataA[['date','conversion']].merge(cumulativeDataB[['date','conversion']], left_on='date', right_on='date', how='left', suffixes=['A', 'B'])\n",
    "# графики\n",
    "plt.figure(figsize=(12, 8))\n",
    "plt.plot(mergedCumulativeConversions['date'], mergedCumulativeConversions['conversionB']/mergedCumulativeConversions['conversionA']-1, label=\"Относительный прирост конверсии группы B относительно группы A\")\n",
    "plt.legend()\n",
    "# масштаб осей\n",
    "plt.axhline(y=0, color='black', linestyle='--')\n",
    "plt.axhline(y=0.2, color='grey', linestyle='--')\n",
    "plt.xlabel(\"Дата\")\n",
    "plt.ylabel(\"Относительного изменения кумулятивной конверсии группы B к группе A\")\n",
    "plt.show()"
   ]
  },
  {
   "cell_type": "markdown",
   "metadata": {},
   "source": [
    "В начале теста показатели группы В была как больше, так и меньше, но после 06.08.2019 конверсия вырвалась вперед и 15.08.2019 была больше на 20%. После этого наблюдался спад, который, однако, не опустился ниже 10%."
   ]
  },
  {
   "cell_type": "markdown",
   "metadata": {},
   "source": [
    "### Перцентили и точечные графики"
   ]
  },
  {
   "cell_type": "markdown",
   "metadata": {},
   "source": [
    "#### Перцентили количества заказов на пользователя"
   ]
  },
  {
   "cell_type": "code",
   "execution_count": 16,
   "metadata": {},
   "outputs": [
    {
     "data": {
      "image/png": "[encoded data removed]",
      "text/plain": [
       "<Figure size 864x576 with 1 Axes>"
      ]
     },
     "metadata": {
      "needs_background": "light"
     },
     "output_type": "display_data"
    }
   ],
   "source": [
    "\n",
    "ordersByUsers = (\n",
    "    orders.drop(['group', 'revenue', 'date'], axis=1)\n",
    "    .groupby('visitorId', as_index=False)\n",
    "    .agg({'transactionId': pd.Series.nunique})\n",
    ")\n",
    "ordersByUsers.columns = ['visitorId', 'orders']\n",
    "\n",
    "plt.figure(figsize=(12, 8))\n",
    "plt.hist(ordersByUsers['orders'], bins =12) \n",
    "plt.show()"
   ]
  },
  {
   "cell_type": "code",
   "execution_count": 17,
   "metadata": {},
   "outputs": [
    {
     "data": {
      "image/png": "[encoded data removed]",
      "text/plain": [
       "<Figure size 864x576 with 1 Axes>"
      ]
     },
     "metadata": {
      "needs_background": "light"
     },
     "output_type": "display_data"
    }
   ],
   "source": [
    "x_values = pd.Series(range(0, len(ordersByUsers)))\n",
    "plt.figure(figsize=(12, 8))\n",
    "plt.scatter(x_values, ordersByUsers['orders'])\n",
    "plt.show()"
   ]
  },
  {
   "cell_type": "markdown",
   "metadata": {},
   "source": [
    "Большинство пользователей заказывали 1-3 раза."
   ]
  },
  {
   "cell_type": "code",
   "execution_count": 18,
   "metadata": {},
   "outputs": [
    {
     "data": {
      "text/plain": [
       "array([1., 2., 4.])"
      ]
     },
     "execution_count": 18,
     "metadata": {},
     "output_type": "execute_result"
    }
   ],
   "source": [
    "# перцентили количества заказов на одного пользователя\n",
    "np.percentile(ordersByUsers['orders'], [90, 95, 99])"
   ]
  },
  {
   "cell_type": "markdown",
   "metadata": {},
   "source": [
    "90% пользователей делают по 1му заказу и меньше. Только 5% пользователей делало больше 2х заказов, и только 1% - больше 4х. Возьмем 3 заказа за нижнюю границу числа заказов."
   ]
  },
  {
   "cell_type": "markdown",
   "metadata": {},
   "source": [
    "#### Перцентили стоимости заказов"
   ]
  },
  {
   "cell_type": "code",
   "execution_count": 19,
   "metadata": {},
   "outputs": [
    {
     "data": {
      "image/png": "[encoded data removed]",
      "text/plain": [
       "<Figure size 864x576 with 1 Axes>"
      ]
     },
     "metadata": {
      "needs_background": "light"
     },
     "output_type": "display_data"
    }
   ],
   "source": [
    "plt.figure(figsize=(12, 8))\n",
    "plt.hist(orders['revenue'], bins=200)\n",
    "plt.show()"
   ]
  },
  {
   "cell_type": "code",
   "execution_count": 20,
   "metadata": {},
   "outputs": [
    {
     "data": {
      "image/png": "[encoded data removed]",
      "text/plain": [
       "<Figure size 864x576 with 1 Axes>"
      ]
     },
     "metadata": {
      "needs_background": "light"
     },
     "output_type": "display_data"
    }
   ],
   "source": [
    "# разброс по сырым данным\n",
    "x_values = pd.Series(range(0, len(orders['revenue'])))\n",
    "plt.figure(figsize=(12, 8))\n",
    "plt.scatter(x_values, orders['revenue']) \n",
    "plt.show()"
   ]
  },
  {
   "cell_type": "markdown",
   "metadata": {},
   "source": [
    "Есть только 1 заказ на 1,2 млн. и 1 на 200000 руб."
   ]
  },
  {
   "cell_type": "code",
   "execution_count": 21,
   "metadata": {},
   "outputs": [
    {
     "data": {
      "text/plain": [
       "array([18168. , 28000. , 58233.2])"
      ]
     },
     "execution_count": 21,
     "metadata": {},
     "output_type": "execute_result"
    }
   ],
   "source": [
    "np.percentile(orders['revenue'], [90, 95, 99])"
   ]
  },
  {
   "cell_type": "code",
   "execution_count": 22,
   "metadata": {},
   "outputs": [
    {
     "data": {
      "image/png": "[encoded data removed]",
      "text/plain": [
       "<Figure size 864x576 with 1 Axes>"
      ]
     },
     "metadata": {
      "needs_background": "light"
     },
     "output_type": "display_data"
    }
   ],
   "source": [
    "plt.figure(figsize=(12, 8))\n",
    "plt.hist(orders['revenue'], bins=200, range=(0,200000))\n",
    "plt.show()"
   ]
  },
  {
   "cell_type": "markdown",
   "metadata": {},
   "source": [
    "У 10% пользователей стоимость заказа превышает 18168 руб., 5% покупают больше, чем на 28 тыс. руб. и только 1% - 58233 руб. Возьмем за нижнюю границу заказы до 30 тыс. руб."
   ]
  },
  {
   "cell_type": "markdown",
   "metadata": {},
   "source": [
    "### Анализ A/B-теста"
   ]
  },
  {
   "cell_type": "markdown",
   "metadata": {},
   "source": [
    " #### Анализ «сырых» даннных"
   ]
  },
  {
   "cell_type": "code",
   "execution_count": 23,
   "metadata": {},
   "outputs": [
    {
     "data": {
      "text/html": [
       "<div>\n",
       "<style scoped>\n",
       "    .dataframe tbody tr th:only-of-type {\n",
       "        vertical-align: middle;\n",
       "    }\n",
       "\n",
       "    .dataframe tbody tr th {\n",
       "        vertical-align: top;\n",
       "    }\n",
       "\n",
       "    .dataframe thead th {\n",
       "        text-align: right;\n",
       "    }\n",
       "</style>\n",
       "<table border=\"1\" class=\"dataframe\">\n",
       "  <thead>\n",
       "    <tr style=\"text-align: right;\">\n",
       "      <th></th>\n",
       "      <th>date</th>\n",
       "      <th>ordersPerDateA</th>\n",
       "      <th>revenuePerDateA</th>\n",
       "      <th>ordersPerDateB</th>\n",
       "      <th>revenuePerDateB</th>\n",
       "      <th>ordersCummulativeA</th>\n",
       "      <th>revenueCummulativeA</th>\n",
       "      <th>ordersCummulativeB</th>\n",
       "      <th>revenueCummulativeB</th>\n",
       "      <th>visitorsPerDateA</th>\n",
       "      <th>visitorsPerDateB</th>\n",
       "      <th>visitorsCummulativeA</th>\n",
       "      <th>visitorsCummulativeB</th>\n",
       "    </tr>\n",
       "  </thead>\n",
       "  <tbody>\n",
       "    <tr>\n",
       "      <td>0</td>\n",
       "      <td>2019-08-01</td>\n",
       "      <td>24</td>\n",
       "      <td>148579</td>\n",
       "      <td>21</td>\n",
       "      <td>101217</td>\n",
       "      <td>24</td>\n",
       "      <td>148579</td>\n",
       "      <td>21</td>\n",
       "      <td>101217</td>\n",
       "      <td>719</td>\n",
       "      <td>713</td>\n",
       "      <td>719</td>\n",
       "      <td>713</td>\n",
       "    </tr>\n",
       "    <tr>\n",
       "      <td>1</td>\n",
       "      <td>2019-08-02</td>\n",
       "      <td>20</td>\n",
       "      <td>93822</td>\n",
       "      <td>24</td>\n",
       "      <td>165531</td>\n",
       "      <td>44</td>\n",
       "      <td>242401</td>\n",
       "      <td>45</td>\n",
       "      <td>266748</td>\n",
       "      <td>619</td>\n",
       "      <td>581</td>\n",
       "      <td>1338</td>\n",
       "      <td>1294</td>\n",
       "    </tr>\n",
       "    <tr>\n",
       "      <td>2</td>\n",
       "      <td>2019-08-03</td>\n",
       "      <td>24</td>\n",
       "      <td>112473</td>\n",
       "      <td>16</td>\n",
       "      <td>114248</td>\n",
       "      <td>68</td>\n",
       "      <td>354874</td>\n",
       "      <td>61</td>\n",
       "      <td>380996</td>\n",
       "      <td>507</td>\n",
       "      <td>509</td>\n",
       "      <td>1845</td>\n",
       "      <td>1803</td>\n",
       "    </tr>\n",
       "    <tr>\n",
       "      <td>3</td>\n",
       "      <td>2019-08-04</td>\n",
       "      <td>16</td>\n",
       "      <td>70825</td>\n",
       "      <td>17</td>\n",
       "      <td>108571</td>\n",
       "      <td>84</td>\n",
       "      <td>425699</td>\n",
       "      <td>78</td>\n",
       "      <td>489567</td>\n",
       "      <td>717</td>\n",
       "      <td>770</td>\n",
       "      <td>2562</td>\n",
       "      <td>2573</td>\n",
       "    </tr>\n",
       "    <tr>\n",
       "      <td>4</td>\n",
       "      <td>2019-08-05</td>\n",
       "      <td>25</td>\n",
       "      <td>124218</td>\n",
       "      <td>23</td>\n",
       "      <td>92428</td>\n",
       "      <td>109</td>\n",
       "      <td>549917</td>\n",
       "      <td>101</td>\n",
       "      <td>581995</td>\n",
       "      <td>756</td>\n",
       "      <td>707</td>\n",
       "      <td>3318</td>\n",
       "      <td>3280</td>\n",
       "    </tr>\n",
       "  </tbody>\n",
       "</table>\n",
       "</div>"
      ],
      "text/plain": [
       "        date  ordersPerDateA  revenuePerDateA  ordersPerDateB  \\\n",
       "0 2019-08-01              24           148579              21   \n",
       "1 2019-08-02              20            93822              24   \n",
       "2 2019-08-03              24           112473              16   \n",
       "3 2019-08-04              16            70825              17   \n",
       "4 2019-08-05              25           124218              23   \n",
       "\n",
       "   revenuePerDateB  ordersCummulativeA  revenueCummulativeA  \\\n",
       "0           101217                  24               148579   \n",
       "1           165531                  44               242401   \n",
       "2           114248                  68               354874   \n",
       "3           108571                  84               425699   \n",
       "4            92428                 109               549917   \n",
       "\n",
       "   ordersCummulativeB  revenueCummulativeB  visitorsPerDateA  \\\n",
       "0                  21               101217               719   \n",
       "1                  45               266748               619   \n",
       "2                  61               380996               507   \n",
       "3                  78               489567               717   \n",
       "4                 101               581995               756   \n",
       "\n",
       "   visitorsPerDateB  visitorsCummulativeA  visitorsCummulativeB  \n",
       "0               713                   719                   713  \n",
       "1               581                  1338                  1294  \n",
       "2               509                  1845                  1803  \n",
       "3               770                  2562                  2573  \n",
       "4               707                  3318                  3280  "
      ]
     },
     "metadata": {},
     "output_type": "display_data"
    }
   ],
   "source": [
    "#подготовки данных\n",
    "visitorsADaily = visitors[visitors['group'] == 'A'][['date', 'visitors']]\n",
    "visitorsADaily.columns = ['date', 'visitorsPerDateA']\n",
    "\n",
    "visitorsACummulative = visitorsADaily.apply(\n",
    "    lambda x: visitorsADaily[visitorsADaily['date'] <= x['date']].agg(\n",
    "        {'date': 'max', 'visitorsPerDateA': 'sum'}\n",
    "    ),\n",
    "    axis=1,\n",
    ")\n",
    "visitorsACummulative.columns = ['date', 'visitorsCummulativeA']\n",
    "\n",
    "visitorsBDaily = visitors[visitors['group'] == 'B'][['date', 'visitors']]\n",
    "visitorsBDaily.columns = ['date', 'visitorsPerDateB']\n",
    "\n",
    "visitorsBCummulative = visitorsBDaily.apply(\n",
    "    lambda x: visitorsBDaily[visitorsBDaily['date'] <= x['date']].agg(\n",
    "        {'date': 'max', 'visitorsPerDateB': 'sum'}\n",
    "    ),\n",
    "    axis=1,\n",
    ")\n",
    "visitorsBCummulative.columns = ['date', 'visitorsCummulativeB']\n",
    "\n",
    "ordersADaily = (\n",
    "    orders[orders['group'] == 'A'][['date', 'transactionId', 'visitorId', 'revenue']]\n",
    "    .groupby('date', as_index=False)\n",
    "    .agg({'transactionId': pd.Series.nunique, 'revenue': 'sum'})\n",
    ")\n",
    "ordersADaily.columns = ['date', 'ordersPerDateA', 'revenuePerDateA']\n",
    "\n",
    "ordersACummulative = ordersADaily.apply(\n",
    "    lambda x: ordersADaily[ordersADaily['date'] <= x['date']].agg(\n",
    "        {'date': 'max', 'ordersPerDateA': 'sum', 'revenuePerDateA': 'sum'}\n",
    "    ),\n",
    "    axis=1,\n",
    ").sort_values(by=['date'])\n",
    "ordersACummulative.columns = [\n",
    "    'date',\n",
    "    'ordersCummulativeA',\n",
    "    'revenueCummulativeA',\n",
    "]\n",
    "\n",
    "ordersBDaily = (\n",
    "    orders[orders['group'] == 'B'][['date', 'transactionId', 'visitorId', 'revenue']]\n",
    "    .groupby('date', as_index=False)\n",
    "    .agg({'transactionId': pd.Series.nunique, 'revenue': 'sum'})\n",
    ")\n",
    "ordersBDaily.columns = ['date', 'ordersPerDateB', 'revenuePerDateB']\n",
    "\n",
    "ordersBCummulative = ordersBDaily.apply(\n",
    "    lambda x: ordersBDaily[ordersBDaily['date'] <= x['date']].agg(\n",
    "        {'date': 'max', 'ordersPerDateB': 'sum', 'revenuePerDateB': 'sum'}\n",
    "    ),\n",
    "    axis=1,\n",
    ").sort_values(by=['date'])\n",
    "ordersBCummulative.columns = [\n",
    "    'date',\n",
    "    'ordersCummulativeB',\n",
    "    'revenueCummulativeB',\n",
    "]\n",
    "\n",
    "data = (\n",
    "    ordersADaily.merge(\n",
    "        ordersBDaily, left_on='date', right_on='date', how='left'\n",
    "    )\n",
    "    .merge(ordersACummulative, left_on='date', right_on='date', how='left')\n",
    "    .merge(ordersBCummulative, left_on='date', right_on='date', how='left')\n",
    "    .merge(visitorsADaily, left_on='date', right_on='date', how='left')\n",
    "    .merge(visitorsBDaily, left_on='date', right_on='date', how='left')\n",
    "    .merge(visitorsACummulative, left_on='date', right_on='date', how='left')\n",
    "    .merge(visitorsBCummulative, left_on='date', right_on='date', how='left')\n",
    ")\n",
    "\n",
    "display(data.head(5))"
   ]
  },
  {
   "cell_type": "code",
   "execution_count": 24,
   "metadata": {},
   "outputs": [],
   "source": [
    "# пользователb, которые заказывали хотя бы 1 раз +  число совершённых заказов\n",
    "ordersByUsersA = (\n",
    "    orders[orders['group'] == 'A']\n",
    "    .groupby('visitorId', as_index=False)\n",
    "    .agg({'transactionId': pd.Series.nunique})\n",
    ")\n",
    "ordersByUsersA.columns = ['visitorId', 'orders']\n",
    "\n",
    "ordersByUsersB = (\n",
    "    orders[orders['group'] == 'B']\n",
    "    .groupby('visitorId', as_index=False)\n",
    "    .agg({'transactionId': pd.Series.nunique})\n",
    ")\n",
    "ordersByUsersB.columns = ['visitorId', 'orders']"
   ]
  },
  {
   "cell_type": "code",
   "execution_count": 25,
   "metadata": {},
   "outputs": [],
   "source": [
    "# df, где пользователям из разных групп соответствуют количество заказов\n",
    "sampleA = pd.concat([ordersByUsersA['orders'],pd.Series(0, index=np.arange(data['visitorsPerDateA'].sum() - len(ordersByUsersA['orders'])), name='orders')],axis=0)\n",
    "\n",
    "sampleB = pd.concat([ordersByUsersB['orders'],pd.Series(0, index=np.arange(data['visitorsPerDateB'].sum() - len(ordersByUsersB['orders'])), name='orders')],axis=0)"
   ]
  },
  {
   "cell_type": "markdown",
   "metadata": {},
   "source": [
    "##### Гипотизы\n",
    "H0: Нет статистически значимых различий в конверсии между группами А и В.\n",
    "\n",
    "H1: Есть статистически значимые различия в конверсии между группами А и В."
   ]
  },
  {
   "cell_type": "code",
   "execution_count": 26,
   "metadata": {},
   "outputs": [
    {
     "name": "stdout",
     "output_type": "stream",
     "text": [
      "0.008\n",
      "0.138\n"
     ]
    }
   ],
   "source": [
    "# критерий p-value (конверсия)\n",
    "print(\"{0:.3f}\".format(stats.mannwhitneyu(sampleA, sampleB)[1]))\n",
    "#  относительный прирост конверсии группы B\n",
    "print(\"{0:.3f}\".format(sampleB.mean() / sampleA.mean() - 1))"
   ]
  },
  {
   "cell_type": "markdown",
   "metadata": {},
   "source": [
    "Т.к. 0,008 меньше 0,05, то мы можем отвергнуть нулевую гипотезу о том, что статистически значимых различий в конверсии между группами нет. Конверися группы В больше на 13,8%."
   ]
  },
  {
   "cell_type": "markdown",
   "metadata": {},
   "source": [
    "##### Гипотизы\n",
    "H0: Нет статистически значимых различий среднего чека между группами А и В.\n",
    "\n",
    "H1: Есть статистически значимые различия среднего чека между группами А и В."
   ]
  },
  {
   "cell_type": "code",
   "execution_count": 27,
   "metadata": {},
   "outputs": [
    {
     "name": "stdout",
     "output_type": "stream",
     "text": [
      "0.365\n",
      "0.259\n"
     ]
    }
   ],
   "source": [
    "# критерий p-value (ср. чек)\n",
    "print('{0:.3f}'.format(stats.mannwhitneyu(orders[orders['group']=='A']['revenue'], orders[orders['group']=='B']['revenue'])[1]))\n",
    "# относительные различия в среднем чеке между группами\n",
    "print('{0:.3f}'.format(orders[orders['group']=='B']['revenue'].mean()/orders[orders['group']=='A']['revenue'].mean()-1))"
   ]
  },
  {
   "cell_type": "markdown",
   "metadata": {},
   "source": [
    "P-value (0,365) больше 0,05, это значит, что причин отвергать нулевую гипотезу и считать, что в среднем чеке есть различия, нет. При этом ср. чек группы В больше на 25,9%."
   ]
  },
  {
   "cell_type": "markdown",
   "metadata": {},
   "source": [
    "#### Анализ «очищенных» данных"
   ]
  },
  {
   "cell_type": "code",
   "execution_count": 28,
   "metadata": {},
   "outputs": [
    {
     "name": "stdout",
     "output_type": "stream",
     "text": [
      "1099    148427295\n",
      "18      199603092\n",
      "928     204675465\n",
      "23      237748145\n",
      "684     358944393\n",
      "Name: visitorId, dtype: int64\n",
      "(57,)\n"
     ]
    }
   ],
   "source": [
    "# срезы пользователей по заказам\n",
    "usersWithManyOrders = pd.concat(\n",
    "    [\n",
    "        ordersByUsersA[ordersByUsersA['orders'] > 3]['visitorId'],\n",
    "        ordersByUsersB[ordersByUsersB['orders'] > 3]['visitorId'],\n",
    "    ],\n",
    "    axis=0,\n",
    ")\n",
    "# срез пользователй по сумме заказа\n",
    "usersWithExpensiveOrders = orders[orders['revenue'] > 30000]['visitorId']\n",
    "# объединение в таблицу\n",
    "abnormalUsers = (\n",
    "    pd.concat([usersWithManyOrders, usersWithExpensiveOrders], axis=0)\n",
    "    .drop_duplicates()\n",
    "    .sort_values()\n",
    ")\n",
    "print(abnormalUsers.head(5))\n",
    "print(abnormalUsers.shape)"
   ]
  },
  {
   "cell_type": "markdown",
   "metadata": {},
   "source": [
    "##### Гипотизы\n",
    "H0: Нет статистически значимых различий в конверсии между группами А и В.\n",
    "\n",
    "H1: Есть статистически значимые различия в конверсии между группами А и В."
   ]
  },
  {
   "cell_type": "code",
   "execution_count": 29,
   "metadata": {},
   "outputs": [
    {
     "name": "stdout",
     "output_type": "stream",
     "text": [
      "0.009\n",
      "0.148\n"
     ]
    }
   ],
   "source": [
    "# подготовка выборки количества заказов по пользователям по группам теста:\n",
    "sampleAFiltered = pd.concat(\n",
    "    [\n",
    "        ordersByUsersA[\n",
    "            np.logical_not(ordersByUsersA['visitorId'].isin(abnormalUsers))\n",
    "        ]['orders'],\n",
    "        pd.Series(\n",
    "            0,\n",
    "            index=np.arange(\n",
    "                data['visitorsPerDateA'].sum() - len(ordersByUsersA['orders'])\n",
    "            ),\n",
    "            name='orders',\n",
    "        ),\n",
    "    ],\n",
    "    axis=0,\n",
    ")\n",
    "\n",
    "sampleBFiltered = pd.concat(\n",
    "    [\n",
    "        ordersByUsersB[\n",
    "            np.logical_not(ordersByUsersB['visitorId'].isin(abnormalUsers))\n",
    "        ]['orders'],\n",
    "        pd.Series(\n",
    "            0,\n",
    "            index=np.arange(\n",
    "                data['visitorsPerDateB'].sum() - len(ordersByUsersB['orders'])\n",
    "            ),\n",
    "            name='orders',\n",
    "        ),\n",
    "    ],\n",
    "    axis=0,\n",
    ")\n",
    "# критерий p-value (конверсия)\n",
    "print('{0:.3f}'.format(stats.mannwhitneyu(sampleAFiltered, sampleBFiltered)[1]))\n",
    "#  относительный прирост конверсии группы B\n",
    "print('{0:.3f}'.format(sampleBFiltered.mean()/sampleAFiltered.mean()-1))"
   ]
  },
  {
   "cell_type": "markdown",
   "metadata": {},
   "source": [
    "По отчищенным данным результат остается тем же: 0,009 < 0,005, можем отвергнуть гипотезу о том, что статистически значимых различий в конверсии между группами нет. Конверися группы В стала еще больше по сравнению с конверсии группы А (14,8%)."
   ]
  },
  {
   "cell_type": "markdown",
   "metadata": {},
   "source": [
    "##### Гипотизы\n",
    "H0: Нет статистически значимых различий среднего чека между группами А и В.\n",
    "\n",
    "H1: Есть статистически значимые различия среднего чека между группами А и В."
   ]
  },
  {
   "cell_type": "code",
   "execution_count": 30,
   "metadata": {},
   "outputs": [
    {
     "name": "stdout",
     "output_type": "stream",
     "text": [
      "0.479\n",
      "-0.020\n"
     ]
    }
   ],
   "source": [
    "# критерий p-value (ср. чек)\n",
    "print(\n",
    "    '{0:.3f}'.format(\n",
    "        stats.mannwhitneyu(\n",
    "            orders[\n",
    "                np.logical_and(\n",
    "                    orders['group'] == 'A',\n",
    "                    np.logical_not(orders['visitorId'].isin(abnormalUsers)),\n",
    "                )\n",
    "            ]['revenue'],\n",
    "            orders[\n",
    "                np.logical_and(\n",
    "                    orders['group'] == 'B',\n",
    "                    np.logical_not(orders['visitorId'].isin(abnormalUsers)),\n",
    "                )\n",
    "            ]['revenue'],\n",
    "        )[1]\n",
    "    )\n",
    ")\n",
    "\n",
    "# относительные различия в среднем чеке между группами\n",
    "print(\n",
    "    \"{0:.3f}\".format(\n",
    "        orders[\n",
    "            np.logical_and(\n",
    "                orders['group'] == 'B',\n",
    "                np.logical_not(orders['visitorId'].isin(abnormalUsers)),\n",
    "            )\n",
    "        ]['revenue'].mean()\n",
    "        / orders[\n",
    "            np.logical_and(\n",
    "                orders['group'] == 'A',\n",
    "                np.logical_not(orders['visitorId'].isin(abnormalUsers)),\n",
    "            )\n",
    "        ]['revenue'].mean()\n",
    "        - 1\n",
    "    )\n",
    ")"
   ]
  },
  {
   "cell_type": "markdown",
   "metadata": {},
   "source": [
    "P-value увеличился еще сильнее, но при этом ср. чек группы В стал меньше чека группы В на 2%."
   ]
  },
  {
   "cell_type": "markdown",
   "metadata": {},
   "source": [
    "### Вывод \n",
    " - Есть статистически значимое различие по конверсии между группами и по «сырым», и по данным после фильтрации аномалий;\n",
    " - Нет статистически значимого различия по среднему чеку между группами ни по «сырым», ни по данным после фильтрации аномалий;\n",
    " - График различия конверсии между группами сообщает, что результаты группы B лучше группы A и имеется тенденция к улучшению.\n",
    " - График кумулятивной конверсии по группам показаывает колебания  в обеих группах.\n",
    " - График различия среднего чека говорит о том, что результаты группы B улучшаются день ото дня и сейчас почти на 30% лучше. При этом данные недостаточно стабильны.\n",
    " \n",
    "Исходя из обнаруженных фактов, тест следует остановить и признать неуспешным."
   ]
  }
 ],
 "metadata": {
  "ExecuteTimeLog": [
   {
    "duration": 1234,
    "start_time": "2021-11-21T11:37:11.908Z"
   },
   {
    "duration": 1492,
    "start_time": "2021-11-21T11:40:51.742Z"
   },
   {
    "duration": 77,
    "start_time": "2021-11-21T11:41:19.631Z"
   },
   {
    "duration": 9,
    "start_time": "2021-11-21T11:41:29.842Z"
   },
   {
    "duration": 77,
    "start_time": "2021-11-21T11:41:38.756Z"
   },
   {
    "duration": 309,
    "start_time": "2021-11-21T11:41:39.913Z"
   },
   {
    "duration": 74,
    "start_time": "2021-11-21T11:41:57.209Z"
   },
   {
    "duration": 10,
    "start_time": "2021-11-21T11:41:58.383Z"
   },
   {
    "duration": 22,
    "start_time": "2021-11-21T11:42:11.970Z"
   },
   {
    "duration": 17,
    "start_time": "2021-11-21T11:42:33.272Z"
   },
   {
    "duration": 17,
    "start_time": "2021-11-21T11:43:03.428Z"
   },
   {
    "duration": 742,
    "start_time": "2021-11-21T11:45:21.899Z"
   },
   {
    "duration": 11,
    "start_time": "2021-11-21T11:45:45.593Z"
   },
   {
    "duration": 11,
    "start_time": "2021-11-21T11:46:14.264Z"
   },
   {
    "duration": 12,
    "start_time": "2021-11-21T11:46:18.598Z"
   },
   {
    "duration": 11,
    "start_time": "2021-11-21T11:46:25.471Z"
   },
   {
    "duration": 15,
    "start_time": "2021-11-21T11:46:51.806Z"
   },
   {
    "duration": 391,
    "start_time": "2021-11-21T11:47:58.763Z"
   },
   {
    "duration": 388,
    "start_time": "2021-11-21T11:48:01.880Z"
   },
   {
    "duration": 15,
    "start_time": "2021-11-21T11:48:12.775Z"
   },
   {
    "duration": 13,
    "start_time": "2021-11-21T11:48:25.291Z"
   },
   {
    "duration": 14,
    "start_time": "2021-11-21T11:48:30.118Z"
   },
   {
    "duration": 515,
    "start_time": "2021-11-22T09:01:25.587Z"
   },
   {
    "duration": 747,
    "start_time": "2021-11-22T09:02:14.960Z"
   },
   {
    "duration": 1206,
    "start_time": "2021-11-22T09:02:24.276Z"
   },
   {
    "duration": 80,
    "start_time": "2021-11-22T09:02:25.485Z"
   },
   {
    "duration": 20,
    "start_time": "2021-11-22T09:02:25.568Z"
   },
   {
    "duration": 18,
    "start_time": "2021-11-22T09:02:25.591Z"
   },
   {
    "duration": 15,
    "start_time": "2021-11-22T09:02:25.612Z"
   },
   {
    "duration": 16,
    "start_time": "2021-11-22T09:02:25.659Z"
   },
   {
    "duration": 15,
    "start_time": "2021-11-22T09:02:25.677Z"
   },
   {
    "duration": 10365,
    "start_time": "2021-11-22T09:02:25.694Z"
   },
   {
    "duration": 577,
    "start_time": "2021-11-22T09:04:39.238Z"
   },
   {
    "duration": 234,
    "start_time": "2021-11-22T09:06:04.932Z"
   },
   {
    "duration": 330,
    "start_time": "2021-11-22T09:06:09.103Z"
   },
   {
    "duration": 671,
    "start_time": "2021-11-22T09:06:34.505Z"
   },
   {
    "duration": 459,
    "start_time": "2021-11-22T09:06:52.948Z"
   },
   {
    "duration": 432,
    "start_time": "2021-11-22T09:08:38.394Z"
   },
   {
    "duration": 425,
    "start_time": "2021-11-22T09:08:48.722Z"
   },
   {
    "duration": 412,
    "start_time": "2021-11-22T09:09:20.344Z"
   },
   {
    "duration": 529,
    "start_time": "2021-11-22T09:10:03.689Z"
   },
   {
    "duration": 525,
    "start_time": "2021-11-22T09:10:12.609Z"
   },
   {
    "duration": 326,
    "start_time": "2021-11-22T09:11:21.157Z"
   },
   {
    "duration": 520,
    "start_time": "2021-11-22T09:11:59.888Z"
   },
   {
    "duration": 431,
    "start_time": "2021-11-22T09:13:15.786Z"
   },
   {
    "duration": 566,
    "start_time": "2021-11-22T09:14:06.560Z"
   },
   {
    "duration": 464,
    "start_time": "2021-11-22T09:32:26.480Z"
   },
   {
    "duration": 430,
    "start_time": "2021-11-22T09:32:35.043Z"
   },
   {
    "duration": 344,
    "start_time": "2021-11-22T09:32:55.404Z"
   },
   {
    "duration": 7,
    "start_time": "2021-11-22T09:33:12.955Z"
   },
   {
    "duration": 593,
    "start_time": "2021-11-22T09:33:49.646Z"
   },
   {
    "duration": 277,
    "start_time": "2021-11-22T09:34:05.178Z"
   },
   {
    "duration": 402,
    "start_time": "2021-11-22T09:34:28.596Z"
   },
   {
    "duration": 400,
    "start_time": "2021-11-22T09:34:34.509Z"
   },
   {
    "duration": 397,
    "start_time": "2021-11-22T09:34:41.344Z"
   },
   {
    "duration": 410,
    "start_time": "2021-11-22T09:35:00.109Z"
   },
   {
    "duration": 7,
    "start_time": "2021-11-22T09:35:04.353Z"
   },
   {
    "duration": -2331,
    "start_time": "2021-11-22T09:42:08.723Z"
   },
   {
    "duration": 11900,
    "start_time": "2021-11-22T09:42:12.117Z"
   },
   {
    "duration": 444,
    "start_time": "2021-11-22T09:43:05.445Z"
   },
   {
    "duration": 269,
    "start_time": "2021-11-22T09:45:27.783Z"
   },
   {
    "duration": 8,
    "start_time": "2021-11-22T09:46:24.379Z"
   },
   {
    "duration": 11,
    "start_time": "2021-11-22T09:47:21.367Z"
   },
   {
    "duration": 20,
    "start_time": "2021-11-22T09:48:13.952Z"
   },
   {
    "duration": 131,
    "start_time": "2021-11-22T09:53:39.104Z"
   },
   {
    "duration": 128,
    "start_time": "2021-11-22T09:54:00.274Z"
   },
   {
    "duration": 14,
    "start_time": "2021-11-22T09:54:20.153Z"
   },
   {
    "duration": 20,
    "start_time": "2021-11-22T09:55:58.686Z"
   },
   {
    "duration": 20,
    "start_time": "2021-11-22T09:57:38.834Z"
   },
   {
    "duration": 1904,
    "start_time": "2021-11-23T10:19:59.486Z"
   },
   {
    "duration": 77,
    "start_time": "2021-11-23T10:20:01.393Z"
   },
   {
    "duration": 20,
    "start_time": "2021-11-23T10:20:01.473Z"
   },
   {
    "duration": 32,
    "start_time": "2021-11-23T10:20:01.496Z"
   },
   {
    "duration": 22,
    "start_time": "2021-11-23T10:20:01.531Z"
   },
   {
    "duration": 23,
    "start_time": "2021-11-23T10:20:01.557Z"
   },
   {
    "duration": 48,
    "start_time": "2021-11-23T10:20:01.583Z"
   },
   {
    "duration": 683,
    "start_time": "2021-11-23T10:20:01.635Z"
   },
   {
    "duration": 84,
    "start_time": "2021-11-23T10:20:02.321Z"
   },
   {
    "duration": -13,
    "start_time": "2021-11-23T10:20:02.421Z"
   },
   {
    "duration": -14,
    "start_time": "2021-11-23T10:20:02.423Z"
   },
   {
    "duration": -17,
    "start_time": "2021-11-23T10:20:02.428Z"
   },
   {
    "duration": -17,
    "start_time": "2021-11-23T10:20:02.430Z"
   },
   {
    "duration": -19,
    "start_time": "2021-11-23T10:20:02.433Z"
   },
   {
    "duration": -18,
    "start_time": "2021-11-23T10:20:02.434Z"
   },
   {
    "duration": -22,
    "start_time": "2021-11-23T10:20:02.439Z"
   },
   {
    "duration": -22,
    "start_time": "2021-11-23T10:20:02.441Z"
   },
   {
    "duration": -24,
    "start_time": "2021-11-23T10:20:02.444Z"
   },
   {
    "duration": -23,
    "start_time": "2021-11-23T10:20:02.446Z"
   },
   {
    "duration": -24,
    "start_time": "2021-11-23T10:20:02.449Z"
   },
   {
    "duration": -25,
    "start_time": "2021-11-23T10:20:02.451Z"
   },
   {
    "duration": -27,
    "start_time": "2021-11-23T10:20:02.454Z"
   },
   {
    "duration": -30,
    "start_time": "2021-11-23T10:20:02.459Z"
   },
   {
    "duration": -33,
    "start_time": "2021-11-23T10:20:02.463Z"
   },
   {
    "duration": -34,
    "start_time": "2021-11-23T10:20:02.465Z"
   },
   {
    "duration": -34,
    "start_time": "2021-11-23T10:20:02.467Z"
   },
   {
    "duration": -34,
    "start_time": "2021-11-23T10:20:02.468Z"
   },
   {
    "duration": 520,
    "start_time": "2021-11-23T10:22:10.949Z"
   },
   {
    "duration": 900,
    "start_time": "2021-11-23T10:22:33.138Z"
   },
   {
    "duration": 378,
    "start_time": "2021-11-23T10:26:10.354Z"
   },
   {
    "duration": 271,
    "start_time": "2021-11-23T10:33:29.642Z"
   },
   {
    "duration": 317,
    "start_time": "2021-11-23T10:33:47.946Z"
   },
   {
    "duration": 851,
    "start_time": "2021-11-23T10:33:57.451Z"
   },
   {
    "duration": 1778,
    "start_time": "2021-11-23T10:34:26.478Z"
   },
   {
    "duration": 75,
    "start_time": "2021-11-23T10:34:28.258Z"
   },
   {
    "duration": 17,
    "start_time": "2021-11-23T10:34:28.335Z"
   },
   {
    "duration": 35,
    "start_time": "2021-11-23T10:34:28.356Z"
   },
   {
    "duration": 36,
    "start_time": "2021-11-23T10:34:28.394Z"
   },
   {
    "duration": 37,
    "start_time": "2021-11-23T10:34:28.432Z"
   },
   {
    "duration": 19,
    "start_time": "2021-11-23T10:34:28.471Z"
   },
   {
    "duration": 594,
    "start_time": "2021-11-23T10:34:28.494Z"
   },
   {
    "duration": 472,
    "start_time": "2021-11-23T10:34:29.091Z"
   },
   {
    "duration": 430,
    "start_time": "2021-11-23T10:34:29.565Z"
   },
   {
    "duration": 558,
    "start_time": "2021-11-23T10:34:29.997Z"
   },
   {
    "duration": 490,
    "start_time": "2021-11-23T10:34:30.557Z"
   },
   {
    "duration": 546,
    "start_time": "2021-11-23T10:34:31.050Z"
   },
   {
    "duration": 467,
    "start_time": "2021-11-23T10:34:31.598Z"
   },
   {
    "duration": 362,
    "start_time": "2021-11-23T10:34:32.067Z"
   },
   {
    "duration": 7,
    "start_time": "2021-11-23T10:34:32.431Z"
   },
   {
    "duration": 306,
    "start_time": "2021-11-23T10:34:32.441Z"
   },
   {
    "duration": 486,
    "start_time": "2021-11-23T10:34:32.749Z"
   },
   {
    "duration": 9,
    "start_time": "2021-11-23T10:34:33.238Z"
   },
   {
    "duration": 470,
    "start_time": "2021-11-23T10:34:33.250Z"
   },
   {
    "duration": 243,
    "start_time": "2021-11-23T10:34:33.723Z"
   },
   {
    "duration": 8,
    "start_time": "2021-11-23T10:34:33.968Z"
   },
   {
    "duration": 57,
    "start_time": "2021-11-23T10:34:33.981Z"
   },
   {
    "duration": 38,
    "start_time": "2021-11-23T10:34:34.041Z"
   },
   {
    "duration": 31,
    "start_time": "2021-11-23T10:34:34.082Z"
   },
   {
    "duration": 63,
    "start_time": "2021-11-23T10:34:34.115Z"
   },
   {
    "duration": 48,
    "start_time": "2021-11-23T10:34:34.181Z"
   },
   {
    "duration": 1954,
    "start_time": "2021-11-23T11:29:45.372Z"
   },
   {
    "duration": 75,
    "start_time": "2021-11-23T11:29:47.330Z"
   },
   {
    "duration": 27,
    "start_time": "2021-11-23T11:29:47.409Z"
   },
   {
    "duration": 26,
    "start_time": "2021-11-23T11:29:47.440Z"
   },
   {
    "duration": 18,
    "start_time": "2021-11-23T11:29:47.469Z"
   },
   {
    "duration": 61,
    "start_time": "2021-11-23T11:29:47.490Z"
   },
   {
    "duration": 24,
    "start_time": "2021-11-23T11:29:47.554Z"
   },
   {
    "duration": 1006,
    "start_time": "2021-11-23T11:29:47.584Z"
   },
   {
    "duration": 582,
    "start_time": "2021-11-23T11:29:48.594Z"
   },
   {
    "duration": 536,
    "start_time": "2021-11-23T11:29:49.178Z"
   },
   {
    "duration": 552,
    "start_time": "2021-11-23T11:29:49.717Z"
   },
   {
    "duration": 473,
    "start_time": "2021-11-23T11:29:50.271Z"
   },
   {
    "duration": 546,
    "start_time": "2021-11-23T11:29:50.747Z"
   },
   {
    "duration": 569,
    "start_time": "2021-11-23T11:29:51.296Z"
   },
   {
    "duration": 357,
    "start_time": "2021-11-23T11:29:51.867Z"
   },
   {
    "duration": 7,
    "start_time": "2021-11-23T11:29:52.229Z"
   },
   {
    "duration": 310,
    "start_time": "2021-11-23T11:29:52.238Z"
   },
   {
    "duration": 479,
    "start_time": "2021-11-23T11:29:52.550Z"
   },
   {
    "duration": 7,
    "start_time": "2021-11-23T11:29:53.031Z"
   },
   {
    "duration": 536,
    "start_time": "2021-11-23T11:29:53.041Z"
   },
   {
    "duration": 272,
    "start_time": "2021-11-23T11:29:53.580Z"
   },
   {
    "duration": 12,
    "start_time": "2021-11-23T11:29:53.855Z"
   },
   {
    "duration": 28,
    "start_time": "2021-11-23T11:29:53.874Z"
   },
   {
    "duration": 28,
    "start_time": "2021-11-23T11:29:53.906Z"
   },
   {
    "duration": 28,
    "start_time": "2021-11-23T11:29:53.937Z"
   },
   {
    "duration": 34,
    "start_time": "2021-11-23T11:29:53.968Z"
   },
   {
    "duration": 30,
    "start_time": "2021-11-23T11:29:54.005Z"
   },
   {
    "duration": 392,
    "start_time": "2021-11-24T07:56:57.912Z"
   },
   {
    "duration": 1118,
    "start_time": "2021-11-24T09:00:07.165Z"
   },
   {
    "duration": 127,
    "start_time": "2021-11-24T09:00:08.286Z"
   },
   {
    "duration": 12,
    "start_time": "2021-11-24T09:00:08.418Z"
   },
   {
    "duration": 17,
    "start_time": "2021-11-24T09:00:08.432Z"
   },
   {
    "duration": 13,
    "start_time": "2021-11-24T09:00:08.451Z"
   },
   {
    "duration": 18,
    "start_time": "2021-11-24T09:00:08.465Z"
   },
   {
    "duration": 12,
    "start_time": "2021-11-24T09:00:08.507Z"
   },
   {
    "duration": 368,
    "start_time": "2021-11-24T09:00:08.521Z"
   },
   {
    "duration": 295,
    "start_time": "2021-11-24T09:00:08.891Z"
   },
   {
    "duration": 271,
    "start_time": "2021-11-24T09:00:09.188Z"
   },
   {
    "duration": 368,
    "start_time": "2021-11-24T09:00:09.461Z"
   },
   {
    "duration": 282,
    "start_time": "2021-11-24T09:00:09.831Z"
   },
   {
    "duration": 385,
    "start_time": "2021-11-24T09:00:10.114Z"
   },
   {
    "duration": 292,
    "start_time": "2021-11-24T09:00:10.501Z"
   },
   {
    "duration": 288,
    "start_time": "2021-11-24T09:00:10.795Z"
   },
   {
    "duration": 5,
    "start_time": "2021-11-24T09:00:11.084Z"
   },
   {
    "duration": 174,
    "start_time": "2021-11-24T09:00:11.107Z"
   },
   {
    "duration": 335,
    "start_time": "2021-11-24T09:00:11.282Z"
   },
   {
    "duration": 4,
    "start_time": "2021-11-24T09:00:11.619Z"
   },
   {
    "duration": 281,
    "start_time": "2021-11-24T09:00:11.625Z"
   },
   {
    "duration": 120,
    "start_time": "2021-11-24T09:00:11.908Z"
   },
   {
    "duration": 5,
    "start_time": "2021-11-24T09:00:12.031Z"
   },
   {
    "duration": 13,
    "start_time": "2021-11-24T09:00:12.038Z"
   },
   {
    "duration": 11,
    "start_time": "2021-11-24T09:00:12.053Z"
   },
   {
    "duration": 8,
    "start_time": "2021-11-24T09:00:12.065Z"
   },
   {
    "duration": 14,
    "start_time": "2021-11-24T09:00:12.075Z"
   },
   {
    "duration": 17,
    "start_time": "2021-11-24T09:00:12.106Z"
   },
   {
    "duration": 1009,
    "start_time": "2021-11-24T09:01:33.543Z"
   },
   {
    "duration": 96,
    "start_time": "2021-11-24T09:01:34.553Z"
   },
   {
    "duration": 11,
    "start_time": "2021-11-24T09:01:34.651Z"
   },
   {
    "duration": 35,
    "start_time": "2021-11-24T09:01:34.664Z"
   },
   {
    "duration": 9,
    "start_time": "2021-11-24T09:01:34.700Z"
   },
   {
    "duration": 17,
    "start_time": "2021-11-24T09:01:34.711Z"
   },
   {
    "duration": 11,
    "start_time": "2021-11-24T09:01:34.730Z"
   },
   {
    "duration": 362,
    "start_time": "2021-11-24T09:01:34.744Z"
   },
   {
    "duration": 278,
    "start_time": "2021-11-24T09:01:35.108Z"
   },
   {
    "duration": 260,
    "start_time": "2021-11-24T09:01:35.388Z"
   },
   {
    "duration": 341,
    "start_time": "2021-11-24T09:01:35.650Z"
   },
   {
    "duration": 283,
    "start_time": "2021-11-24T09:01:35.993Z"
   },
   {
    "duration": 397,
    "start_time": "2021-11-24T09:01:36.278Z"
   },
   {
    "duration": 268,
    "start_time": "2021-11-24T09:01:36.677Z"
   },
   {
    "duration": 246,
    "start_time": "2021-11-24T09:01:36.947Z"
   },
   {
    "duration": 12,
    "start_time": "2021-11-24T09:01:37.195Z"
   },
   {
    "duration": 168,
    "start_time": "2021-11-24T09:01:37.209Z"
   },
   {
    "duration": 327,
    "start_time": "2021-11-24T09:01:37.379Z"
   },
   {
    "duration": 4,
    "start_time": "2021-11-24T09:01:37.708Z"
   },
   {
    "duration": 276,
    "start_time": "2021-11-24T09:01:37.714Z"
   },
   {
    "duration": 148,
    "start_time": "2021-11-24T09:01:37.992Z"
   },
   {
    "duration": 6,
    "start_time": "2021-11-24T09:01:38.141Z"
   },
   {
    "duration": 16,
    "start_time": "2021-11-24T09:01:38.149Z"
   },
   {
    "duration": 13,
    "start_time": "2021-11-24T09:01:38.167Z"
   },
   {
    "duration": 9,
    "start_time": "2021-11-24T09:01:38.181Z"
   },
   {
    "duration": 13,
    "start_time": "2021-11-24T09:01:38.207Z"
   },
   {
    "duration": 16,
    "start_time": "2021-11-24T09:01:38.222Z"
   },
   {
    "duration": 1208,
    "start_time": "2021-11-24T11:46:59.995Z"
   },
   {
    "duration": 92,
    "start_time": "2021-11-24T11:47:01.205Z"
   },
   {
    "duration": 13,
    "start_time": "2021-11-24T11:47:01.299Z"
   },
   {
    "duration": 31,
    "start_time": "2021-11-24T11:47:01.314Z"
   },
   {
    "duration": 21,
    "start_time": "2021-11-24T11:47:01.346Z"
   },
   {
    "duration": 24,
    "start_time": "2021-11-24T11:47:01.369Z"
   },
   {
    "duration": 19,
    "start_time": "2021-11-24T11:47:01.395Z"
   },
   {
    "duration": 604,
    "start_time": "2021-11-24T11:47:01.417Z"
   },
   {
    "duration": 310,
    "start_time": "2021-11-24T11:47:02.024Z"
   },
   {
    "duration": 285,
    "start_time": "2021-11-24T11:47:02.336Z"
   },
   {
    "duration": 394,
    "start_time": "2021-11-24T11:47:02.623Z"
   },
   {
    "duration": 317,
    "start_time": "2021-11-24T11:47:03.019Z"
   },
   {
    "duration": 409,
    "start_time": "2021-11-24T11:47:03.338Z"
   },
   {
    "duration": 331,
    "start_time": "2021-11-24T11:47:03.749Z"
   },
   {
    "duration": 344,
    "start_time": "2021-11-24T11:47:04.082Z"
   },
   {
    "duration": 6,
    "start_time": "2021-11-24T11:47:04.427Z"
   },
   {
    "duration": 234,
    "start_time": "2021-11-24T11:47:04.434Z"
   },
   {
    "duration": 376,
    "start_time": "2021-11-24T11:47:04.671Z"
   },
   {
    "duration": 6,
    "start_time": "2021-11-24T11:47:05.049Z"
   },
   {
    "duration": 300,
    "start_time": "2021-11-24T11:47:05.057Z"
   },
   {
    "duration": 117,
    "start_time": "2021-11-24T11:47:05.359Z"
   },
   {
    "duration": 6,
    "start_time": "2021-11-24T11:47:05.478Z"
   },
   {
    "duration": 24,
    "start_time": "2021-11-24T11:47:05.488Z"
   },
   {
    "duration": 30,
    "start_time": "2021-11-24T11:47:05.514Z"
   },
   {
    "duration": 11,
    "start_time": "2021-11-24T11:47:05.546Z"
   },
   {
    "duration": 28,
    "start_time": "2021-11-24T11:47:05.558Z"
   },
   {
    "duration": 15,
    "start_time": "2021-11-24T11:47:05.588Z"
   },
   {
    "duration": 1175,
    "start_time": "2021-11-24T11:48:37.498Z"
   },
   {
    "duration": 97,
    "start_time": "2021-11-24T11:48:38.675Z"
   },
   {
    "duration": 11,
    "start_time": "2021-11-24T11:48:38.774Z"
   },
   {
    "duration": 33,
    "start_time": "2021-11-24T11:48:38.787Z"
   },
   {
    "duration": 26,
    "start_time": "2021-11-24T11:48:38.822Z"
   },
   {
    "duration": 23,
    "start_time": "2021-11-24T11:48:38.850Z"
   },
   {
    "duration": 37,
    "start_time": "2021-11-24T11:48:38.875Z"
   },
   {
    "duration": 454,
    "start_time": "2021-11-24T11:48:38.914Z"
   },
   {
    "duration": 300,
    "start_time": "2021-11-24T11:48:39.372Z"
   },
   {
    "duration": 324,
    "start_time": "2021-11-24T11:48:39.675Z"
   },
   {
    "duration": 514,
    "start_time": "2021-11-24T11:48:40.005Z"
   },
   {
    "duration": 436,
    "start_time": "2021-11-24T11:48:40.521Z"
   },
   {
    "duration": 409,
    "start_time": "2021-11-24T11:48:40.959Z"
   },
   {
    "duration": 319,
    "start_time": "2021-11-24T11:48:41.370Z"
   },
   {
    "duration": 315,
    "start_time": "2021-11-24T11:48:41.691Z"
   },
   {
    "duration": 6,
    "start_time": "2021-11-24T11:48:42.008Z"
   },
   {
    "duration": 191,
    "start_time": "2021-11-24T11:48:42.016Z"
   },
   {
    "duration": 391,
    "start_time": "2021-11-24T11:48:42.209Z"
   },
   {
    "duration": 6,
    "start_time": "2021-11-24T11:48:42.606Z"
   },
   {
    "duration": 339,
    "start_time": "2021-11-24T11:48:42.614Z"
   },
   {
    "duration": 153,
    "start_time": "2021-11-24T11:48:42.955Z"
   },
   {
    "duration": 6,
    "start_time": "2021-11-24T11:48:43.110Z"
   },
   {
    "duration": 33,
    "start_time": "2021-11-24T11:48:43.119Z"
   },
   {
    "duration": 18,
    "start_time": "2021-11-24T11:48:43.154Z"
   },
   {
    "duration": 26,
    "start_time": "2021-11-24T11:48:43.174Z"
   },
   {
    "duration": 21,
    "start_time": "2021-11-24T11:48:43.203Z"
   },
   {
    "duration": 16,
    "start_time": "2021-11-24T11:48:43.228Z"
   },
   {
    "duration": 1410,
    "start_time": "2021-11-24T14:34:34.292Z"
   },
   {
    "duration": 112,
    "start_time": "2021-11-24T14:34:35.705Z"
   },
   {
    "duration": 18,
    "start_time": "2021-11-24T14:34:35.820Z"
   },
   {
    "duration": 23,
    "start_time": "2021-11-24T14:34:35.841Z"
   },
   {
    "duration": 16,
    "start_time": "2021-11-24T14:34:35.882Z"
   },
   {
    "duration": 19,
    "start_time": "2021-11-24T14:34:35.901Z"
   },
   {
    "duration": 15,
    "start_time": "2021-11-24T14:34:35.923Z"
   },
   {
    "duration": 645,
    "start_time": "2021-11-24T14:34:35.940Z"
   },
   {
    "duration": 466,
    "start_time": "2021-11-24T14:34:36.591Z"
   },
   {
    "duration": 506,
    "start_time": "2021-11-24T14:34:37.060Z"
   },
   {
    "duration": 532,
    "start_time": "2021-11-24T14:34:37.569Z"
   },
   {
    "duration": 655,
    "start_time": "2021-11-24T14:34:38.104Z"
   },
   {
    "duration": 684,
    "start_time": "2021-11-24T14:34:38.762Z"
   },
   {
    "duration": 691,
    "start_time": "2021-11-24T14:34:39.449Z"
   },
   {
    "duration": 508,
    "start_time": "2021-11-24T14:34:40.143Z"
   },
   {
    "duration": 7,
    "start_time": "2021-11-24T14:34:40.654Z"
   },
   {
    "duration": 403,
    "start_time": "2021-11-24T14:34:40.664Z"
   },
   {
    "duration": 628,
    "start_time": "2021-11-24T14:34:41.069Z"
   },
   {
    "duration": 7,
    "start_time": "2021-11-24T14:34:41.699Z"
   },
   {
    "duration": 467,
    "start_time": "2021-11-24T14:34:41.709Z"
   },
   {
    "duration": 222,
    "start_time": "2021-11-24T14:34:42.182Z"
   },
   {
    "duration": 8,
    "start_time": "2021-11-24T14:34:42.406Z"
   },
   {
    "duration": 20,
    "start_time": "2021-11-24T14:34:42.416Z"
   },
   {
    "duration": 14,
    "start_time": "2021-11-24T14:34:42.438Z"
   },
   {
    "duration": 34,
    "start_time": "2021-11-24T14:34:42.454Z"
   },
   {
    "duration": 23,
    "start_time": "2021-11-24T14:34:42.491Z"
   },
   {
    "duration": 19,
    "start_time": "2021-11-24T14:34:42.519Z"
   },
   {
    "duration": 5,
    "start_time": "2021-11-24T14:35:20.126Z"
   },
   {
    "duration": 97,
    "start_time": "2021-11-24T14:35:20.133Z"
   },
   {
    "duration": 12,
    "start_time": "2021-11-24T14:35:20.233Z"
   },
   {
    "duration": 20,
    "start_time": "2021-11-24T14:35:20.248Z"
   },
   {
    "duration": 15,
    "start_time": "2021-11-24T14:35:20.270Z"
   },
   {
    "duration": 17,
    "start_time": "2021-11-24T14:35:20.287Z"
   },
   {
    "duration": 18,
    "start_time": "2021-11-24T14:35:20.307Z"
   },
   {
    "duration": 620,
    "start_time": "2021-11-24T14:35:20.330Z"
   },
   {
    "duration": 452,
    "start_time": "2021-11-24T14:35:20.953Z"
   },
   {
    "duration": 438,
    "start_time": "2021-11-24T14:35:21.408Z"
   },
   {
    "duration": 549,
    "start_time": "2021-11-24T14:35:21.850Z"
   },
   {
    "duration": 489,
    "start_time": "2021-11-24T14:35:22.401Z"
   },
   {
    "duration": 541,
    "start_time": "2021-11-24T14:35:22.892Z"
   },
   {
    "duration": 438,
    "start_time": "2021-11-24T14:35:23.435Z"
   },
   {
    "duration": 363,
    "start_time": "2021-11-24T14:35:23.881Z"
   },
   {
    "duration": 6,
    "start_time": "2021-11-24T14:35:24.247Z"
   },
   {
    "duration": 429,
    "start_time": "2021-11-24T14:35:24.257Z"
   },
   {
    "duration": 406,
    "start_time": "2021-11-24T14:35:24.689Z"
   },
   {
    "duration": 7,
    "start_time": "2021-11-24T14:35:25.098Z"
   },
   {
    "duration": 552,
    "start_time": "2021-11-24T14:35:25.108Z"
   },
   {
    "duration": 263,
    "start_time": "2021-11-24T14:35:25.662Z"
   },
   {
    "duration": 7,
    "start_time": "2021-11-24T14:35:25.928Z"
   },
   {
    "duration": 14,
    "start_time": "2021-11-24T14:35:25.940Z"
   },
   {
    "duration": 34,
    "start_time": "2021-11-24T14:35:25.956Z"
   },
   {
    "duration": 18,
    "start_time": "2021-11-24T14:35:25.992Z"
   },
   {
    "duration": 18,
    "start_time": "2021-11-24T14:35:26.012Z"
   },
   {
    "duration": 58,
    "start_time": "2021-11-24T14:35:26.032Z"
   },
   {
    "duration": 219,
    "start_time": "2021-11-24T14:58:50.205Z"
   },
   {
    "duration": 966,
    "start_time": "2021-11-24T14:58:54.870Z"
   },
   {
    "duration": 203,
    "start_time": "2021-11-24T14:58:55.838Z"
   },
   {
    "duration": 6,
    "start_time": "2021-11-24T14:58:56.043Z"
   },
   {
    "duration": 16,
    "start_time": "2021-11-24T14:58:56.051Z"
   },
   {
    "duration": 10,
    "start_time": "2021-11-24T14:58:56.069Z"
   },
   {
    "duration": 11,
    "start_time": "2021-11-24T14:58:56.080Z"
   },
   {
    "duration": 9,
    "start_time": "2021-11-24T14:58:56.093Z"
   },
   {
    "duration": 346,
    "start_time": "2021-11-24T14:58:56.104Z"
   },
   {
    "duration": 273,
    "start_time": "2021-11-24T14:58:56.453Z"
   },
   {
    "duration": 263,
    "start_time": "2021-11-24T14:58:56.728Z"
   },
   {
    "duration": 390,
    "start_time": "2021-11-24T14:58:56.993Z"
   },
   {
    "duration": 282,
    "start_time": "2021-11-24T14:58:57.385Z"
   },
   {
    "duration": 405,
    "start_time": "2021-11-24T14:58:57.668Z"
   },
   {
    "duration": 272,
    "start_time": "2021-11-24T14:58:58.075Z"
   },
   {
    "duration": 250,
    "start_time": "2021-11-24T14:58:58.349Z"
   },
   {
    "duration": 5,
    "start_time": "2021-11-24T14:58:58.600Z"
   },
   {
    "duration": 178,
    "start_time": "2021-11-24T14:58:58.606Z"
   },
   {
    "duration": 320,
    "start_time": "2021-11-24T14:58:58.786Z"
   },
   {
    "duration": 5,
    "start_time": "2021-11-24T14:58:59.107Z"
   },
   {
    "duration": 249,
    "start_time": "2021-11-24T14:58:59.114Z"
   },
   {
    "duration": 108,
    "start_time": "2021-11-24T14:58:59.365Z"
   },
   {
    "duration": 6,
    "start_time": "2021-11-24T14:58:59.475Z"
   },
   {
    "duration": 13,
    "start_time": "2021-11-24T14:58:59.483Z"
   },
   {
    "duration": 10,
    "start_time": "2021-11-24T14:58:59.498Z"
   },
   {
    "duration": 9,
    "start_time": "2021-11-24T14:58:59.510Z"
   },
   {
    "duration": 12,
    "start_time": "2021-11-24T14:58:59.521Z"
   },
   {
    "duration": 12,
    "start_time": "2021-11-24T14:58:59.537Z"
   },
   {
    "duration": 3,
    "start_time": "2021-11-24T15:00:26.121Z"
   },
   {
    "duration": 10,
    "start_time": "2021-11-24T15:00:36.873Z"
   },
   {
    "duration": 1020,
    "start_time": "2021-11-24T15:00:45.566Z"
   },
   {
    "duration": 79,
    "start_time": "2021-11-24T15:00:46.588Z"
   },
   {
    "duration": 11,
    "start_time": "2021-11-24T15:00:46.671Z"
   },
   {
    "duration": 14,
    "start_time": "2021-11-24T15:00:46.683Z"
   },
   {
    "duration": 10,
    "start_time": "2021-11-24T15:00:46.698Z"
   },
   {
    "duration": 11,
    "start_time": "2021-11-24T15:00:46.710Z"
   },
   {
    "duration": 11,
    "start_time": "2021-11-24T15:00:46.723Z"
   },
   {
    "duration": 385,
    "start_time": "2021-11-24T15:00:46.736Z"
   },
   {
    "duration": 302,
    "start_time": "2021-11-24T15:00:47.123Z"
   },
   {
    "duration": 284,
    "start_time": "2021-11-24T15:00:47.427Z"
   },
   {
    "duration": 378,
    "start_time": "2021-11-24T15:00:47.713Z"
   },
   {
    "duration": 288,
    "start_time": "2021-11-24T15:00:48.093Z"
   },
   {
    "duration": 391,
    "start_time": "2021-11-24T15:00:48.383Z"
   },
   {
    "duration": 275,
    "start_time": "2021-11-24T15:00:48.775Z"
   },
   {
    "duration": 250,
    "start_time": "2021-11-24T15:00:49.051Z"
   },
   {
    "duration": 5,
    "start_time": "2021-11-24T15:00:49.303Z"
   },
   {
    "duration": 183,
    "start_time": "2021-11-24T15:00:49.309Z"
   },
   {
    "duration": 326,
    "start_time": "2021-11-24T15:00:49.494Z"
   },
   {
    "duration": 5,
    "start_time": "2021-11-24T15:00:49.821Z"
   },
   {
    "duration": 292,
    "start_time": "2021-11-24T15:00:49.828Z"
   },
   {
    "duration": 121,
    "start_time": "2021-11-24T15:00:50.122Z"
   },
   {
    "duration": 6,
    "start_time": "2021-11-24T15:00:50.246Z"
   },
   {
    "duration": 24,
    "start_time": "2021-11-24T15:00:50.254Z"
   },
   {
    "duration": 16,
    "start_time": "2021-11-24T15:00:50.281Z"
   },
   {
    "duration": 29,
    "start_time": "2021-11-24T15:00:50.298Z"
   },
   {
    "duration": 19,
    "start_time": "2021-11-24T15:00:50.329Z"
   },
   {
    "duration": 16,
    "start_time": "2021-11-24T15:00:50.350Z"
   },
   {
    "duration": 6,
    "start_time": "2021-11-24T15:04:08.947Z"
   },
   {
    "duration": 13,
    "start_time": "2021-11-24T15:11:37.919Z"
   },
   {
    "duration": 16,
    "start_time": "2021-11-24T15:12:38.598Z"
   },
   {
    "duration": 4,
    "start_time": "2021-11-24T15:13:47.893Z"
   },
   {
    "duration": 3,
    "start_time": "2021-11-24T15:14:01.301Z"
   },
   {
    "duration": 4,
    "start_time": "2021-11-24T15:14:04.334Z"
   },
   {
    "duration": 4,
    "start_time": "2021-11-24T15:15:58.928Z"
   },
   {
    "duration": 276,
    "start_time": "2021-11-24T15:16:04.981Z"
   },
   {
    "duration": 182,
    "start_time": "2021-11-24T15:16:21.977Z"
   },
   {
    "duration": 206,
    "start_time": "2021-11-24T15:16:38.432Z"
   },
   {
    "duration": 4,
    "start_time": "2021-11-24T15:17:37.896Z"
   },
   {
    "duration": 6,
    "start_time": "2021-11-24T15:17:41.544Z"
   },
   {
    "duration": 2409,
    "start_time": "2021-11-24T15:19:37.937Z"
   },
   {
    "duration": 2528,
    "start_time": "2021-11-24T15:20:33.689Z"
   },
   {
    "duration": 65,
    "start_time": "2021-11-24T15:21:39.145Z"
   },
   {
    "duration": 2305,
    "start_time": "2021-11-24T15:22:54.770Z"
   },
   {
    "duration": 2375,
    "start_time": "2021-11-24T15:23:18.106Z"
   },
   {
    "duration": 10,
    "start_time": "2021-11-24T15:23:36.217Z"
   },
   {
    "duration": 10,
    "start_time": "2021-11-24T15:29:38.850Z"
   },
   {
    "duration": 474,
    "start_time": "2021-11-24T15:29:48.161Z"
   },
   {
    "duration": 6,
    "start_time": "2021-11-24T15:30:06.329Z"
   },
   {
    "duration": 1003,
    "start_time": "2021-11-24T15:30:11.325Z"
   },
   {
    "duration": 76,
    "start_time": "2021-11-24T15:30:12.330Z"
   },
   {
    "duration": 12,
    "start_time": "2021-11-24T15:30:12.408Z"
   },
   {
    "duration": 12,
    "start_time": "2021-11-24T15:30:12.422Z"
   },
   {
    "duration": 9,
    "start_time": "2021-11-24T15:30:12.435Z"
   },
   {
    "duration": 12,
    "start_time": "2021-11-24T15:30:12.446Z"
   },
   {
    "duration": 12,
    "start_time": "2021-11-24T15:30:12.459Z"
   },
   {
    "duration": 9,
    "start_time": "2021-11-24T15:30:12.493Z"
   },
   {
    "duration": 10,
    "start_time": "2021-11-24T15:30:12.504Z"
   },
   {
    "duration": 349,
    "start_time": "2021-11-24T15:30:12.515Z"
   },
   {
    "duration": 283,
    "start_time": "2021-11-24T15:30:12.866Z"
   },
   {
    "duration": 264,
    "start_time": "2021-11-24T15:30:13.151Z"
   },
   {
    "duration": 356,
    "start_time": "2021-11-24T15:30:13.416Z"
   },
   {
    "duration": 276,
    "start_time": "2021-11-24T15:30:13.773Z"
   },
   {
    "duration": 421,
    "start_time": "2021-11-24T15:30:14.050Z"
   },
   {
    "duration": 286,
    "start_time": "2021-11-24T15:30:14.473Z"
   },
   {
    "duration": 269,
    "start_time": "2021-11-24T15:30:14.761Z"
   },
   {
    "duration": 5,
    "start_time": "2021-11-24T15:30:15.032Z"
   },
   {
    "duration": 183,
    "start_time": "2021-11-24T15:30:15.039Z"
   },
   {
    "duration": 361,
    "start_time": "2021-11-24T15:30:15.224Z"
   },
   {
    "duration": 6,
    "start_time": "2021-11-24T15:30:15.591Z"
   },
   {
    "duration": 267,
    "start_time": "2021-11-24T15:30:15.598Z"
   },
   {
    "duration": 111,
    "start_time": "2021-11-24T15:30:15.868Z"
   },
   {
    "duration": 13,
    "start_time": "2021-11-24T15:30:15.981Z"
   },
   {
    "duration": 10,
    "start_time": "2021-11-24T15:30:15.996Z"
   },
   {
    "duration": 9,
    "start_time": "2021-11-24T15:30:16.007Z"
   },
   {
    "duration": 16,
    "start_time": "2021-11-24T15:30:16.018Z"
   },
   {
    "duration": 12,
    "start_time": "2021-11-24T15:30:16.035Z"
   },
   {
    "duration": 12,
    "start_time": "2021-11-24T15:30:16.048Z"
   },
   {
    "duration": 276,
    "start_time": "2021-11-24T15:34:19.327Z"
   },
   {
    "duration": 273,
    "start_time": "2021-11-24T15:34:58.101Z"
   },
   {
    "duration": 333,
    "start_time": "2021-11-24T15:35:36.334Z"
   },
   {
    "duration": 359,
    "start_time": "2021-11-24T15:35:45.662Z"
   },
   {
    "duration": 273,
    "start_time": "2021-11-24T15:36:32.811Z"
   },
   {
    "duration": 430,
    "start_time": "2021-11-24T15:36:51.175Z"
   },
   {
    "duration": 535,
    "start_time": "2021-11-24T15:47:16.973Z"
   },
   {
    "duration": 246,
    "start_time": "2021-11-24T15:48:08.962Z"
   },
   {
    "duration": 323,
    "start_time": "2021-11-24T15:48:14.920Z"
   },
   {
    "duration": 404,
    "start_time": "2021-11-24T15:49:04.372Z"
   },
   {
    "duration": 271,
    "start_time": "2021-11-24T15:52:29.564Z"
   },
   {
    "duration": 1370,
    "start_time": "2021-11-25T09:13:50.284Z"
   },
   {
    "duration": 82,
    "start_time": "2021-11-25T09:13:51.657Z"
   },
   {
    "duration": 17,
    "start_time": "2021-11-25T09:13:51.742Z"
   },
   {
    "duration": 16,
    "start_time": "2021-11-25T09:13:51.762Z"
   },
   {
    "duration": 16,
    "start_time": "2021-11-25T09:13:51.781Z"
   },
   {
    "duration": 21,
    "start_time": "2021-11-25T09:13:51.800Z"
   },
   {
    "duration": 17,
    "start_time": "2021-11-25T09:13:51.825Z"
   },
   {
    "duration": 47,
    "start_time": "2021-11-25T09:13:51.847Z"
   },
   {
    "duration": 7,
    "start_time": "2021-11-25T09:13:51.897Z"
   },
   {
    "duration": 602,
    "start_time": "2021-11-25T09:13:51.907Z"
   },
   {
    "duration": 670,
    "start_time": "2021-11-25T09:13:52.512Z"
   },
   {
    "duration": 621,
    "start_time": "2021-11-25T09:13:53.185Z"
   },
   {
    "duration": 718,
    "start_time": "2021-11-25T09:13:53.809Z"
   },
   {
    "duration": 686,
    "start_time": "2021-11-25T09:13:54.530Z"
   },
   {
    "duration": 554,
    "start_time": "2021-11-25T09:13:55.219Z"
   },
   {
    "duration": 507,
    "start_time": "2021-11-25T09:13:55.775Z"
   },
   {
    "duration": 358,
    "start_time": "2021-11-25T09:13:56.284Z"
   },
   {
    "duration": 6,
    "start_time": "2021-11-25T09:13:56.645Z"
   },
   {
    "duration": 593,
    "start_time": "2021-11-25T09:13:56.653Z"
   },
   {
    "duration": 412,
    "start_time": "2021-11-25T09:13:57.249Z"
   },
   {
    "duration": 6,
    "start_time": "2021-11-25T09:13:57.663Z"
   },
   {
    "duration": 393,
    "start_time": "2021-11-25T09:13:57.682Z"
   },
   {
    "duration": 462,
    "start_time": "2021-11-25T09:13:58.080Z"
   },
   {
    "duration": 250,
    "start_time": "2021-11-25T09:13:58.545Z"
   },
   {
    "duration": 8,
    "start_time": "2021-11-25T09:13:58.798Z"
   },
   {
    "duration": 15,
    "start_time": "2021-11-25T09:13:58.808Z"
   },
   {
    "duration": 14,
    "start_time": "2021-11-25T09:13:58.825Z"
   },
   {
    "duration": 43,
    "start_time": "2021-11-25T09:13:58.842Z"
   },
   {
    "duration": 38,
    "start_time": "2021-11-25T09:13:58.888Z"
   },
   {
    "duration": 25,
    "start_time": "2021-11-25T09:13:58.929Z"
   },
   {
    "duration": 1325,
    "start_time": "2021-11-25T09:29:47.316Z"
   },
   {
    "duration": 91,
    "start_time": "2021-11-25T09:29:48.644Z"
   },
   {
    "duration": 16,
    "start_time": "2021-11-25T09:29:48.739Z"
   },
   {
    "duration": 20,
    "start_time": "2021-11-25T09:29:48.758Z"
   },
   {
    "duration": 15,
    "start_time": "2021-11-25T09:29:48.781Z"
   },
   {
    "duration": 16,
    "start_time": "2021-11-25T09:29:48.798Z"
   },
   {
    "duration": 15,
    "start_time": "2021-11-25T09:29:48.816Z"
   },
   {
    "duration": 54,
    "start_time": "2021-11-25T09:29:48.833Z"
   },
   {
    "duration": 8,
    "start_time": "2021-11-25T09:29:48.891Z"
   },
   {
    "duration": 616,
    "start_time": "2021-11-25T09:29:48.902Z"
   },
   {
    "duration": 464,
    "start_time": "2021-11-25T09:29:49.520Z"
   },
   {
    "duration": 450,
    "start_time": "2021-11-25T09:29:49.987Z"
   },
   {
    "duration": 608,
    "start_time": "2021-11-25T09:29:50.439Z"
   },
   {
    "duration": 469,
    "start_time": "2021-11-25T09:29:51.049Z"
   },
   {
    "duration": 631,
    "start_time": "2021-11-25T09:29:51.521Z"
   },
   {
    "duration": 466,
    "start_time": "2021-11-25T09:29:52.154Z"
   },
   {
    "duration": 347,
    "start_time": "2021-11-25T09:29:52.622Z"
   },
   {
    "duration": 11,
    "start_time": "2021-11-25T09:29:52.971Z"
   },
   {
    "duration": 597,
    "start_time": "2021-11-25T09:29:52.984Z"
   },
   {
    "duration": 384,
    "start_time": "2021-11-25T09:29:53.584Z"
   },
   {
    "duration": 11,
    "start_time": "2021-11-25T09:29:53.972Z"
   },
   {
    "duration": 385,
    "start_time": "2021-11-25T09:29:53.987Z"
   },
   {
    "duration": 454,
    "start_time": "2021-11-25T09:29:54.375Z"
   },
   {
    "duration": 216,
    "start_time": "2021-11-25T09:29:54.832Z"
   },
   {
    "duration": 10,
    "start_time": "2021-11-25T09:29:55.050Z"
   },
   {
    "duration": 24,
    "start_time": "2021-11-25T09:29:55.063Z"
   },
   {
    "duration": 15,
    "start_time": "2021-11-25T09:29:55.093Z"
   },
   {
    "duration": 13,
    "start_time": "2021-11-25T09:29:55.111Z"
   },
   {
    "duration": 64,
    "start_time": "2021-11-25T09:29:55.127Z"
   },
   {
    "duration": 21,
    "start_time": "2021-11-25T09:29:55.193Z"
   },
   {
    "duration": 633,
    "start_time": "2021-11-25T09:31:06.876Z"
   },
   {
    "duration": 719,
    "start_time": "2021-11-25T09:31:13.653Z"
   },
   {
    "duration": 1271,
    "start_time": "2021-11-25T09:33:06.699Z"
   },
   {
    "duration": 683,
    "start_time": "2021-11-25T09:33:13.654Z"
   },
   {
    "duration": 575,
    "start_time": "2021-11-25T09:33:24.490Z"
   },
   {
    "duration": 3139,
    "start_time": "2021-11-25T09:33:40.083Z"
   },
   {
    "duration": 1764,
    "start_time": "2021-11-25T09:33:49.060Z"
   },
   {
    "duration": 989,
    "start_time": "2021-11-25T09:33:56.457Z"
   },
   {
    "duration": 684,
    "start_time": "2021-11-25T09:35:53.707Z"
   },
   {
    "duration": 889,
    "start_time": "2021-11-25T09:36:38.771Z"
   },
   {
    "duration": 1389,
    "start_time": "2021-11-25T09:36:57.404Z"
   },
   {
    "duration": 95,
    "start_time": "2021-11-25T09:36:58.796Z"
   },
   {
    "duration": 15,
    "start_time": "2021-11-25T09:36:58.894Z"
   },
   {
    "duration": 22,
    "start_time": "2021-11-25T09:36:58.912Z"
   },
   {
    "duration": 15,
    "start_time": "2021-11-25T09:36:58.937Z"
   },
   {
    "duration": 40,
    "start_time": "2021-11-25T09:36:58.955Z"
   },
   {
    "duration": 16,
    "start_time": "2021-11-25T09:36:58.997Z"
   },
   {
    "duration": 20,
    "start_time": "2021-11-25T09:36:59.016Z"
   },
   {
    "duration": 8,
    "start_time": "2021-11-25T09:36:59.039Z"
   },
   {
    "duration": 602,
    "start_time": "2021-11-25T09:36:59.049Z"
   },
   {
    "duration": 466,
    "start_time": "2021-11-25T09:36:59.654Z"
   },
   {
    "duration": 458,
    "start_time": "2021-11-25T09:37:00.123Z"
   },
   {
    "duration": 540,
    "start_time": "2021-11-25T09:37:00.584Z"
   },
   {
    "duration": 562,
    "start_time": "2021-11-25T09:37:01.126Z"
   },
   {
    "duration": 569,
    "start_time": "2021-11-25T09:37:01.691Z"
   },
   {
    "duration": 601,
    "start_time": "2021-11-25T09:37:02.263Z"
   },
   {
    "duration": 400,
    "start_time": "2021-11-25T09:37:02.867Z"
   },
   {
    "duration": 12,
    "start_time": "2021-11-25T09:37:03.269Z"
   },
   {
    "duration": 956,
    "start_time": "2021-11-25T09:37:03.284Z"
   },
   {
    "duration": 408,
    "start_time": "2021-11-25T09:37:04.242Z"
   },
   {
    "duration": 6,
    "start_time": "2021-11-25T09:37:04.652Z"
   },
   {
    "duration": 893,
    "start_time": "2021-11-25T09:37:04.661Z"
   },
   {
    "duration": 463,
    "start_time": "2021-11-25T09:37:05.558Z"
   },
   {
    "duration": 225,
    "start_time": "2021-11-25T09:37:06.024Z"
   },
   {
    "duration": 7,
    "start_time": "2021-11-25T09:37:06.251Z"
   },
   {
    "duration": 26,
    "start_time": "2021-11-25T09:37:06.261Z"
   },
   {
    "duration": 19,
    "start_time": "2021-11-25T09:37:06.290Z"
   },
   {
    "duration": 19,
    "start_time": "2021-11-25T09:37:06.312Z"
   },
   {
    "duration": 52,
    "start_time": "2021-11-25T09:37:06.334Z"
   },
   {
    "duration": 22,
    "start_time": "2021-11-25T09:37:06.390Z"
   },
   {
    "duration": 1056,
    "start_time": "2022-03-03T13:59:59.257Z"
   },
   {
    "duration": 56,
    "start_time": "2022-03-03T14:00:00.315Z"
   },
   {
    "duration": 12,
    "start_time": "2022-03-03T14:00:00.373Z"
   },
   {
    "duration": 12,
    "start_time": "2022-03-03T14:00:00.388Z"
   },
   {
    "duration": 12,
    "start_time": "2022-03-03T14:00:00.402Z"
   },
   {
    "duration": 22,
    "start_time": "2022-03-03T14:00:00.416Z"
   },
   {
    "duration": 24,
    "start_time": "2022-03-03T14:00:00.440Z"
   },
   {
    "duration": 11,
    "start_time": "2022-03-03T14:00:00.468Z"
   },
   {
    "duration": 18,
    "start_time": "2022-03-03T14:00:00.481Z"
   },
   {
    "duration": 355,
    "start_time": "2022-03-03T14:00:00.500Z"
   },
   {
    "duration": 289,
    "start_time": "2022-03-03T14:00:00.856Z"
   },
   {
    "duration": 279,
    "start_time": "2022-03-03T14:00:01.147Z"
   },
   {
    "duration": 407,
    "start_time": "2022-03-03T14:00:01.429Z"
   },
   {
    "duration": 291,
    "start_time": "2022-03-03T14:00:01.839Z"
   },
   {
    "duration": 450,
    "start_time": "2022-03-03T14:00:02.133Z"
   },
   {
    "duration": 315,
    "start_time": "2022-03-03T14:00:02.585Z"
   },
   {
    "duration": 340,
    "start_time": "2022-03-03T14:00:02.902Z"
   },
   {
    "duration": 5,
    "start_time": "2022-03-03T14:00:03.246Z"
   },
   {
    "duration": 689,
    "start_time": "2022-03-03T14:00:03.253Z"
   },
   {
    "duration": 375,
    "start_time": "2022-03-03T14:00:03.944Z"
   },
   {
    "duration": 6,
    "start_time": "2022-03-03T14:00:04.321Z"
   },
   {
    "duration": 522,
    "start_time": "2022-03-03T14:00:04.328Z"
   },
   {
    "duration": 262,
    "start_time": "2022-03-03T14:00:04.862Z"
   },
   {
    "duration": 123,
    "start_time": "2022-03-03T14:00:05.126Z"
   },
   {
    "duration": 15,
    "start_time": "2022-03-03T14:00:05.250Z"
   },
   {
    "duration": 15,
    "start_time": "2022-03-03T14:00:05.267Z"
   },
   {
    "duration": 10,
    "start_time": "2022-03-03T14:00:05.284Z"
   },
   {
    "duration": 19,
    "start_time": "2022-03-03T14:00:05.296Z"
   },
   {
    "duration": 14,
    "start_time": "2022-03-03T14:00:05.316Z"
   },
   {
    "duration": 14,
    "start_time": "2022-03-03T14:00:05.332Z"
   }
  ],
  "kernelspec": {
   "display_name": "Python 3",
   "language": "python",
   "name": "python3"
  },
  "language_info": {
   "codemirror_mode": {
    "name": "ipython",
    "version": 3
   },
   "file_extension": ".py",
   "mimetype": "text/x-python",
   "name": "python",
   "nbconvert_exporter": "python",
   "pygments_lexer": "ipython3",
   "version": "3.7.8"
  },
  "toc": {
   "base_numbering": 1,
   "nav_menu": {},
   "number_sections": true,
   "sideBar": true,
   "skip_h1_title": true,
   "title_cell": "Table of Contents",
   "title_sidebar": "Contents",
   "toc_cell": false,
   "toc_position": {},
   "toc_section_display": true,
   "toc_window_display": false
  }
 },
 "nbformat": 4,
 "nbformat_minor": 2
}
